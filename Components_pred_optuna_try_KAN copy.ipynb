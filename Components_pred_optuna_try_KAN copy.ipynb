{
 "cells": [
  {
   "cell_type": "code",
   "execution_count": 1,
   "metadata": {
    "collapsed": false
   },
   "outputs": [],
   "source": [
    "import importlib\n",
    "import optuna\n",
    "import numpy as np\n",
    "import pandas as pd\n",
    "import matplotlib.pyplot as plt\n",
    "import seaborn as sns\n",
    "import os\n",
    "import sys"
   ]
  },
  {
   "cell_type": "code",
   "execution_count": 2,
   "metadata": {
    "collapsed": false
   },
   "outputs": [],
   "source": [
    "from analysis_functions import *"
   ]
  },
  {
   "cell_type": "code",
   "execution_count": 3,
   "metadata": {
    "collapsed": false
   },
   "outputs": [],
   "source": [
    "importlib.reload(sys.modules['analysis_functions'])\n",
    "from analysis_functions import *"
   ]
  },
  {
   "cell_type": "code",
   "execution_count": 4,
   "metadata": {
    "colab": {
     "base_uri": "https://localhost:8080/"
    },
    "id": "NJMogF0Hsiyy",
    "outputId": "656acbe6-f02e-4395-b1f7-e0833f801402"
   },
   "outputs": [
    {
     "name": "stdout",
     "output_type": "stream",
     "text": [
      "./resourses//X_stress_components_new.pkl\n",
      "./resourses//X_strain_components_new.pkl\n",
      "./resourses//y_stress_components_new.pkl\n",
      "./resourses//y_strain_components_new.pkl\n"
     ]
    }
   ],
   "source": [
    "X_stress_components_new = opener('X_stress_components_new', path_import='./resourses/')\n",
    "X_strain_components_new = opener('X_strain_components_new', path_import='./resourses/')\n",
    "y_stress_components_new = opener('y_stress_components_new', path_import='./resourses/')\n",
    "y_strain_components_new = opener('y_strain_components_new', path_import='./resourses/')\n",
    "# X_stress_components_other = opener('X_stress_components_other')\n",
    "# X_strain_components_other = opener('X_strain_components_other')\n",
    "# y_stress_components_other = opener('y_stress_components_other')\n",
    "# y_strain_components_other = opener('y_strain_components_other')"
   ]
  },
  {
   "cell_type": "code",
   "execution_count": 5,
   "metadata": {
    "id": "wGPCYJtwyxi_"
   },
   "outputs": [
    {
     "data": {
      "text/plain": [
       "(3, 2678, 5)"
      ]
     },
     "execution_count": 5,
     "metadata": {},
     "output_type": "execute_result"
    }
   ],
   "source": [
    "X_stress_components_new.shape"
   ]
  },
  {
   "cell_type": "code",
   "execution_count": 6,
   "metadata": {
    "collapsed": false
   },
   "outputs": [],
   "source": [
    "component_num = 1\n",
    "n_trials = 200"
   ]
  },
  {
   "cell_type": "code",
   "execution_count": 7,
   "metadata": {},
   "outputs": [],
   "source": [
    "import seaborn as sns\n",
    "import matplotlib.pyplot as plt\n",
    "sns.set_style('whitegrid')"
   ]
  },
  {
   "cell_type": "code",
   "execution_count": 8,
   "metadata": {},
   "outputs": [],
   "source": [
    "import shutil\n",
    "import numpy as np\n",
    "from sklearn.metrics import mean_squared_error\n",
    "\n",
    "def plot_results(x, y, model_name, do_zip=False, dpi=500, delete_and_rewrite=True):\n",
    "    cur_X_test, cur_y_test, *_ = get_train_test(x, y)\n",
    "\n",
    "    model = opener(model_name)\n",
    "    cur_prediction = model.predict(cur_X_test)\n",
    "    print('rmse = ', np.sqrt(mean_squared_error(cur_y_test, cur_prediction)))\n",
    "    \n",
    "    if delete_and_rewrite:\n",
    "        os.makedirs(model_name, exist_ok=True)\n",
    "    \n",
    "    for i, item in enumerate(cur_X_test[::20]):\n",
    "        fig = plt.figure(figsize=(5, 4))\n",
    "        plt.plot(\n",
    "            cur_X_test[i*20:(i+1)*20, -1],\n",
    "            cur_prediction[i*20:(i+1)*20],\n",
    "            '-o',\n",
    "            label='predicted'\n",
    "        )\n",
    "        plt.plot(\n",
    "            cur_X_test[i*20:(i+1)*20, -1],\n",
    "            cur_y_test[i*20:(i+1)*20],\n",
    "            '-o',\n",
    "            label='real'\n",
    "        )\n",
    "        title = f'red {item[0]}, cal {item[1]}, alpha {int(item[2])}, fric {item[3]}'\n",
    "        plt.title(title)\n",
    "        plt.legend(loc='best')\n",
    "        plt.xlabel('r, -')\n",
    "        plt.ylabel('$\\sigma$, MPa')\n",
    "        # plt.show()\n",
    "        plt.savefig(''.join((model_name, '/', title, '.png')), format='png', dpi=dpi)\n",
    "        plt.close()\n",
    "        # break\n",
    "    if do_zip: shutil.make_archive(model_name, 'zip', model_name)"
   ]
  },
  {
   "cell_type": "code",
   "execution_count": 9,
   "metadata": {},
   "outputs": [
    {
     "data": {
      "text/plain": [
       "array([ 0.25,  1.  , 20.  ,  0.1 , 40.  ])"
      ]
     },
     "execution_count": 9,
     "metadata": {},
     "output_type": "execute_result"
    }
   ],
   "source": [
    "X_stress_components_new[0].max(axis=0)"
   ]
  },
  {
   "cell_type": "markdown",
   "metadata": {},
   "source": [
    "# KAN "
   ]
  },
  {
   "cell_type": "code",
   "execution_count": 10,
   "metadata": {},
   "outputs": [],
   "source": [
    "import importlib\n",
    "import sys\n",
    "\n",
    "KANModelTrainTest = importlib.reload(sys.modules[\"analysis_functions\"]).KANModelTrainTest"
   ]
  },
  {
   "cell_type": "code",
   "execution_count": 11,
   "metadata": {},
   "outputs": [],
   "source": [
    "kan_model:KANModelTrainTest = KANModelTrainTest() # type: ignore"
   ]
  },
  {
   "cell_type": "code",
   "execution_count": 12,
   "metadata": {},
   "outputs": [],
   "source": [
    "kan_model.create_train_val_test(X=X_stress_components_new[0], y=y_stress_components_new[0])"
   ]
  },
  {
   "cell_type": "code",
   "execution_count": 13,
   "metadata": {},
   "outputs": [
    {
     "name": "stderr",
     "output_type": "stream",
     "text": [
      "[I 2025-03-25 23:51:48,752] A new study created in memory with name: no-name-b9f4ec52-279d-41d0-ad3e-5071f6585849\n",
      "2025-03-25 23:51:48,761 - INFO - width = [6, 1, 2, 1]\n"
     ]
    },
    {
     "name": "stdout",
     "output_type": "stream",
     "text": [
      "checkpoint directory created: ./model\n",
      "saving model version 0.0\n"
     ]
    },
    {
     "name": "stderr",
     "output_type": "stream",
     "text": [
      "description:   0%|                                                          | 0/158 [01:42<?, ?it/s]\n",
      "2025-03-25 23:53:39,419 - ERROR - Error during training: [enforce fail at alloc_cpu.cpp:115] data. DefaultCPUAllocator: not enough memory: you tried to allocate 5619001600 bytes.\n",
      "[I 2025-03-25 23:53:49,282] Trial 0 finished with value: 1000000.0 and parameters: {'n_layers': 2, 'opt': 'Adam', 'steps': 158, 'n_units_0': 1, 'n_units_1': 2}. Best is trial 0 with value: 1000000.0.\n",
      "2025-03-25 23:53:49,535 - INFO - width = [6, 5, 1]\n"
     ]
    },
    {
     "name": "stdout",
     "output_type": "stream",
     "text": [
      "checkpoint directory created: ./model\n",
      "saving model version 0.0\n"
     ]
    },
    {
     "name": "stderr",
     "output_type": "stream",
     "text": [
      "description:   0%|                                                           | 0/12 [02:34<?, ?it/s]\n",
      "2025-03-25 23:56:40,060 - ERROR - Error during training: [enforce fail at alloc_cpu.cpp:115] data. DefaultCPUAllocator: not enough memory: you tried to allocate 5619001600 bytes.\n",
      "[I 2025-03-25 23:56:53,488] Trial 1 finished with value: 1000000.0 and parameters: {'n_layers': 1, 'opt': 'LBFGS', 'steps': 12, 'n_units_0': 5}. Best is trial 0 with value: 1000000.0.\n",
      "2025-03-25 23:56:53,721 - INFO - width = [6, 1, 4, 5, 2, 1]\n"
     ]
    },
    {
     "name": "stdout",
     "output_type": "stream",
     "text": [
      "checkpoint directory created: ./model\n",
      "saving model version 0.0\n"
     ]
    },
    {
     "name": "stderr",
     "output_type": "stream",
     "text": [
      "description:   0%|                                                          | 0/207 [03:00<?, ?it/s]\n",
      "2025-03-26 00:00:00,231 - ERROR - Error during training: [enforce fail at alloc_cpu.cpp:115] data. DefaultCPUAllocator: not enough memory: you tried to allocate 5619001600 bytes.\n",
      "[I 2025-03-26 00:00:05,380] Trial 2 finished with value: 1000000.0 and parameters: {'n_layers': 4, 'opt': 'LBFGS', 'steps': 207, 'n_units_0': 1, 'n_units_1': 4, 'n_units_2': 5, 'n_units_3': 2}. Best is trial 0 with value: 1000000.0.\n",
      "2025-03-26 00:00:05,443 - INFO - width = [6, 4, 3, 1]\n"
     ]
    },
    {
     "name": "stdout",
     "output_type": "stream",
     "text": [
      "checkpoint directory created: ./model\n",
      "saving model version 0.0\n"
     ]
    },
    {
     "name": "stderr",
     "output_type": "stream",
     "text": [
      "description:   0%|                                                          | 0/258 [02:53<?, ?it/s]\n",
      "2025-03-26 00:03:08,438 - ERROR - Error during training: [enforce fail at alloc_cpu.cpp:115] data. DefaultCPUAllocator: not enough memory: you tried to allocate 5619001600 bytes.\n",
      "[I 2025-03-26 00:03:18,222] Trial 3 finished with value: 1000000.0 and parameters: {'n_layers': 2, 'opt': 'LBFGS', 'steps': 258, 'n_units_0': 4, 'n_units_1': 3}. Best is trial 0 with value: 1000000.0.\n",
      "2025-03-26 00:03:18,349 - INFO - width = [6, 2, 1]\n"
     ]
    },
    {
     "name": "stdout",
     "output_type": "stream",
     "text": [
      "checkpoint directory created: ./model\n",
      "saving model version 0.0\n"
     ]
    },
    {
     "name": "stderr",
     "output_type": "stream",
     "text": [
      "description:   0%|                                                           | 0/48 [03:04<?, ?it/s]\n",
      "2025-03-26 00:06:26,549 - ERROR - Error during training: [enforce fail at alloc_cpu.cpp:115] data. DefaultCPUAllocator: not enough memory: you tried to allocate 5619001600 bytes.\n",
      "[I 2025-03-26 00:06:28,688] Trial 4 finished with value: 1000000.0 and parameters: {'n_layers': 1, 'opt': 'LBFGS', 'steps': 48, 'n_units_0': 2}. Best is trial 0 with value: 1000000.0.\n",
      "2025-03-26 00:06:28,767 - INFO - width = [6, 4, 5, 1, 3, 1]\n"
     ]
    },
    {
     "name": "stdout",
     "output_type": "stream",
     "text": [
      "checkpoint directory created: ./model\n",
      "saving model version 0.0\n"
     ]
    },
    {
     "name": "stderr",
     "output_type": "stream",
     "text": [
      "description:   0%|                                                           | 0/70 [02:37<?, ?it/s]\n",
      "2025-03-26 00:09:19,123 - ERROR - Error during training: [enforce fail at alloc_cpu.cpp:115] data. DefaultCPUAllocator: not enough memory: you tried to allocate 5619001600 bytes.\n",
      "[I 2025-03-26 00:09:26,156] Trial 5 finished with value: 1000000.0 and parameters: {'n_layers': 4, 'opt': 'Adam', 'steps': 70, 'n_units_0': 4, 'n_units_1': 5, 'n_units_2': 1, 'n_units_3': 3}. Best is trial 0 with value: 1000000.0.\n",
      "2025-03-26 00:09:26,288 - INFO - width = [6, 4, 3, 1]\n"
     ]
    },
    {
     "name": "stdout",
     "output_type": "stream",
     "text": [
      "checkpoint directory created: ./model\n",
      "saving model version 0.0\n"
     ]
    },
    {
     "name": "stderr",
     "output_type": "stream",
     "text": [
      "description:   0%|                                                          | 0/278 [02:37<?, ?it/s]\n",
      "2025-03-26 00:12:11,606 - ERROR - Error during training: [enforce fail at alloc_cpu.cpp:115] data. DefaultCPUAllocator: not enough memory: you tried to allocate 5619001600 bytes.\n",
      "[I 2025-03-26 00:12:16,807] Trial 6 finished with value: 1000000.0 and parameters: {'n_layers': 2, 'opt': 'LBFGS', 'steps': 278, 'n_units_0': 4, 'n_units_1': 3}. Best is trial 0 with value: 1000000.0.\n",
      "2025-03-26 00:12:16,957 - INFO - width = [6, 1, 5, 1]\n"
     ]
    },
    {
     "name": "stdout",
     "output_type": "stream",
     "text": [
      "checkpoint directory created: ./model\n",
      "saving model version 0.0\n"
     ]
    },
    {
     "name": "stderr",
     "output_type": "stream",
     "text": [
      "description:   0%|                                                           | 0/64 [02:32<?, ?it/s]\n",
      "2025-03-26 00:14:54,180 - ERROR - Error during training: [enforce fail at alloc_cpu.cpp:115] data. DefaultCPUAllocator: not enough memory: you tried to allocate 5619001600 bytes.\n",
      "[I 2025-03-26 00:15:01,474] Trial 7 finished with value: 1000000.0 and parameters: {'n_layers': 2, 'opt': 'Adam', 'steps': 64, 'n_units_0': 1, 'n_units_1': 5}. Best is trial 0 with value: 1000000.0.\n",
      "2025-03-26 00:15:01,574 - INFO - width = [6, 1, 3, 2, 1, 1]\n"
     ]
    },
    {
     "name": "stdout",
     "output_type": "stream",
     "text": [
      "checkpoint directory created: ./model\n",
      "saving model version 0.0\n"
     ]
    },
    {
     "name": "stderr",
     "output_type": "stream",
     "text": [
      "description:   0%|                                                           | 0/36 [02:19<?, ?it/s]\n",
      "2025-03-26 00:17:24,864 - ERROR - Error during training: [enforce fail at alloc_cpu.cpp:115] data. DefaultCPUAllocator: not enough memory: you tried to allocate 5619001600 bytes.\n",
      "[I 2025-03-26 00:17:28,941] Trial 8 finished with value: 1000000.0 and parameters: {'n_layers': 4, 'opt': 'Adam', 'steps': 36, 'n_units_0': 1, 'n_units_1': 3, 'n_units_2': 2, 'n_units_3': 1}. Best is trial 0 with value: 1000000.0.\n",
      "2025-03-26 00:17:29,061 - INFO - width = [6, 2, 2, 4, 2, 1]\n"
     ]
    },
    {
     "name": "stdout",
     "output_type": "stream",
     "text": [
      "checkpoint directory created: ./model\n",
      "saving model version 0.0\n"
     ]
    },
    {
     "name": "stderr",
     "output_type": "stream",
     "text": [
      "description:   0%|                                                           | 0/53 [02:29<?, ?it/s]\n",
      "2025-03-26 00:20:04,330 - ERROR - Error during training: [enforce fail at alloc_cpu.cpp:115] data. DefaultCPUAllocator: not enough memory: you tried to allocate 5619001600 bytes.\n",
      "[I 2025-03-26 00:20:10,241] Trial 9 finished with value: 1000000.0 and parameters: {'n_layers': 4, 'opt': 'LBFGS', 'steps': 53, 'n_units_0': 2, 'n_units_1': 2, 'n_units_2': 4, 'n_units_3': 2}. Best is trial 0 with value: 1000000.0.\n",
      "2025-03-26 00:20:10,569 - INFO - width = [6, 2, 1, 3, 1]\n"
     ]
    },
    {
     "name": "stdout",
     "output_type": "stream",
     "text": [
      "checkpoint directory created: ./model\n",
      "saving model version 0.0\n"
     ]
    },
    {
     "name": "stderr",
     "output_type": "stream",
     "text": [
      "description:   0%|                                                          | 0/145 [02:53<?, ?it/s]\n",
      "2025-03-26 00:23:08,213 - ERROR - Error during training: [enforce fail at alloc_cpu.cpp:115] data. DefaultCPUAllocator: not enough memory: you tried to allocate 5619001600 bytes.\n",
      "[I 2025-03-26 00:23:13,120] Trial 10 finished with value: 1000000.0 and parameters: {'n_layers': 3, 'opt': 'Adam', 'steps': 145, 'n_units_0': 2, 'n_units_1': 1, 'n_units_2': 3}. Best is trial 0 with value: 1000000.0.\n",
      "2025-03-26 00:23:13,560 - INFO - width = [6, 5, 1]\n"
     ]
    },
    {
     "name": "stdout",
     "output_type": "stream",
     "text": [
      "checkpoint directory created: ./model\n",
      "saving model version 0.0\n"
     ]
    },
    {
     "name": "stderr",
     "output_type": "stream",
     "text": [
      "description:   0%|                                                          | 0/137 [02:43<?, ?it/s]\n",
      "2025-03-26 00:26:02,202 - ERROR - Error during training: [enforce fail at alloc_cpu.cpp:115] data. DefaultCPUAllocator: not enough memory: you tried to allocate 5619001600 bytes.\n",
      "[I 2025-03-26 00:26:05,556] Trial 11 finished with value: 1000000.0 and parameters: {'n_layers': 1, 'opt': 'Adam', 'steps': 137, 'n_units_0': 5}. Best is trial 0 with value: 1000000.0.\n",
      "2025-03-26 00:26:05,826 - INFO - width = [6, 5, 1]\n"
     ]
    },
    {
     "name": "stdout",
     "output_type": "stream",
     "text": [
      "checkpoint directory created: ./model\n",
      "saving model version 0.0\n"
     ]
    },
    {
     "name": "stderr",
     "output_type": "stream",
     "text": [
      "description:   0%|                                                          | 0/111 [02:51<?, ?it/s]\n",
      "2025-03-26 00:29:03,226 - ERROR - Error during training: [enforce fail at alloc_cpu.cpp:115] data. DefaultCPUAllocator: not enough memory: you tried to allocate 5619001600 bytes.\n",
      "[I 2025-03-26 00:29:07,643] Trial 12 finished with value: 1000000.0 and parameters: {'n_layers': 1, 'opt': 'LBFGS', 'steps': 111, 'n_units_0': 5}. Best is trial 0 with value: 1000000.0.\n",
      "2025-03-26 00:29:07,909 - INFO - width = [6, 3, 1, 1, 1]\n"
     ]
    },
    {
     "name": "stdout",
     "output_type": "stream",
     "text": [
      "checkpoint directory created: ./model\n",
      "saving model version 0.0\n"
     ]
    },
    {
     "name": "stderr",
     "output_type": "stream",
     "text": [
      "description:   0%|                                                          | 0/203 [02:18<?, ?it/s]\n",
      "2025-03-26 00:31:31,524 - ERROR - Error during training: [enforce fail at alloc_cpu.cpp:115] data. DefaultCPUAllocator: not enough memory: you tried to allocate 5619001600 bytes.\n",
      "[I 2025-03-26 00:31:36,163] Trial 13 finished with value: 1000000.0 and parameters: {'n_layers': 3, 'opt': 'Adam', 'steps': 203, 'n_units_0': 3, 'n_units_1': 1, 'n_units_2': 1}. Best is trial 0 with value: 1000000.0.\n",
      "2025-03-26 00:31:36,507 - INFO - width = [6, 3, 1]\n"
     ]
    },
    {
     "name": "stdout",
     "output_type": "stream",
     "text": [
      "checkpoint directory created: ./model\n",
      "saving model version 0.0\n"
     ]
    },
    {
     "name": "stderr",
     "output_type": "stream",
     "text": [
      "description:   0%|                                                          | 0/195 [02:07<?, ?it/s]\n",
      "2025-03-26 00:33:49,094 - ERROR - Error during training: [enforce fail at alloc_cpu.cpp:115] data. DefaultCPUAllocator: not enough memory: you tried to allocate 5619001600 bytes.\n",
      "[I 2025-03-26 00:33:51,484] Trial 14 finished with value: 1000000.0 and parameters: {'n_layers': 1, 'opt': 'LBFGS', 'steps': 195, 'n_units_0': 3}. Best is trial 0 with value: 1000000.0.\n",
      "2025-03-26 00:33:51,826 - INFO - width = [6, 3, 2, 1]\n"
     ]
    },
    {
     "name": "stdout",
     "output_type": "stream",
     "text": [
      "checkpoint directory created: ./model\n",
      "saving model version 0.0\n"
     ]
    },
    {
     "name": "stderr",
     "output_type": "stream",
     "text": [
      "description:   0%|                                                           | 0/13 [02:15<?, ?it/s]\n",
      "2025-03-26 00:36:12,010 - ERROR - Error during training: [enforce fail at alloc_cpu.cpp:115] data. DefaultCPUAllocator: not enough memory: you tried to allocate 5619001600 bytes.\n",
      "[I 2025-03-26 00:36:15,566] Trial 15 finished with value: 1000000.0 and parameters: {'n_layers': 2, 'opt': 'Adam', 'steps': 13, 'n_units_0': 3, 'n_units_1': 2}. Best is trial 0 with value: 1000000.0.\n",
      "2025-03-26 00:36:15,835 - INFO - width = [6, 5, 2, 5, 1]\n"
     ]
    },
    {
     "name": "stdout",
     "output_type": "stream",
     "text": [
      "checkpoint directory created: ./model\n",
      "saving model version 0.0\n"
     ]
    },
    {
     "name": "stderr",
     "output_type": "stream",
     "text": [
      "description:   0%|                                                          | 0/110 [02:17<?, ?it/s]\n",
      "2025-03-26 00:38:39,078 - ERROR - Error during training: [enforce fail at alloc_cpu.cpp:115] data. DefaultCPUAllocator: not enough memory: you tried to allocate 5619001600 bytes.\n",
      "[I 2025-03-26 00:38:43,676] Trial 16 finished with value: 1000000.0 and parameters: {'n_layers': 3, 'opt': 'Adam', 'steps': 110, 'n_units_0': 5, 'n_units_1': 2, 'n_units_2': 5}. Best is trial 0 with value: 1000000.0.\n",
      "2025-03-26 00:38:44,218 - INFO - width = [6, 4, 1]\n"
     ]
    },
    {
     "name": "stdout",
     "output_type": "stream",
     "text": [
      "checkpoint directory created: ./model\n",
      "saving model version 0.0\n"
     ]
    },
    {
     "name": "stderr",
     "output_type": "stream",
     "text": [
      "description:   0%|                                                          | 0/173 [02:14<?, ?it/s]\n",
      "2025-03-26 00:41:01,714 - ERROR - Error during training: [enforce fail at alloc_cpu.cpp:115] data. DefaultCPUAllocator: not enough memory: you tried to allocate 5619001600 bytes.\n",
      "[I 2025-03-26 00:41:03,864] Trial 17 finished with value: 1000000.0 and parameters: {'n_layers': 1, 'opt': 'LBFGS', 'steps': 173, 'n_units_0': 4}. Best is trial 0 with value: 1000000.0.\n",
      "2025-03-26 00:41:04,183 - INFO - width = [6, 2, 4, 1]\n"
     ]
    },
    {
     "name": "stdout",
     "output_type": "stream",
     "text": [
      "checkpoint directory created: ./model\n",
      "saving model version 0.0\n"
     ]
    },
    {
     "name": "stderr",
     "output_type": "stream",
     "text": [
      "description:   0%|                                                          | 0/101 [02:02<?, ?it/s]\n",
      "2025-03-26 00:43:11,676 - ERROR - Error during training: [enforce fail at alloc_cpu.cpp:115] data. DefaultCPUAllocator: not enough memory: you tried to allocate 5619001600 bytes.\n",
      "[I 2025-03-26 00:43:16,121] Trial 18 finished with value: 1000000.0 and parameters: {'n_layers': 2, 'opt': 'LBFGS', 'steps': 101, 'n_units_0': 2, 'n_units_1': 4}. Best is trial 0 with value: 1000000.0.\n",
      "2025-03-26 00:43:17,036 - INFO - width = [6, 5, 1]\n"
     ]
    },
    {
     "name": "stdout",
     "output_type": "stream",
     "text": [
      "checkpoint directory created: ./model\n",
      "saving model version 0.0\n"
     ]
    },
    {
     "name": "stderr",
     "output_type": "stream",
     "text": [
      "description:   0%|                                                          | 0/240 [02:40<?, ?it/s]\n",
      "2025-03-26 00:46:03,646 - ERROR - Error during training: [enforce fail at alloc_cpu.cpp:115] data. DefaultCPUAllocator: not enough memory: you tried to allocate 5619001600 bytes.\n",
      "[I 2025-03-26 00:46:09,194] Trial 19 finished with value: 1000000.0 and parameters: {'n_layers': 1, 'opt': 'Adam', 'steps': 240, 'n_units_0': 5}. Best is trial 0 with value: 1000000.0.\n",
      "2025-03-26 00:46:09,746 - INFO - width = [6, 1, 1, 1]\n"
     ]
    },
    {
     "name": "stdout",
     "output_type": "stream",
     "text": [
      "checkpoint directory created: ./model\n",
      "saving model version 0.0\n"
     ]
    },
    {
     "name": "stderr",
     "output_type": "stream",
     "text": [
      "description:   0%|                                                          | 0/160 [02:22<?, ?it/s]\n",
      "2025-03-26 00:48:39,570 - ERROR - Error during training: [enforce fail at alloc_cpu.cpp:115] data. DefaultCPUAllocator: not enough memory: you tried to allocate 5619001600 bytes.\n",
      "[I 2025-03-26 00:48:43,891] Trial 20 finished with value: 1000000.0 and parameters: {'n_layers': 2, 'opt': 'Adam', 'steps': 160, 'n_units_0': 1, 'n_units_1': 1}. Best is trial 0 with value: 1000000.0.\n",
      "2025-03-26 00:48:44,279 - INFO - width = [6, 1, 4, 5, 1]\n"
     ]
    },
    {
     "name": "stdout",
     "output_type": "stream",
     "text": [
      "checkpoint directory created: ./model\n",
      "saving model version 0.0\n"
     ]
    },
    {
     "name": "stderr",
     "output_type": "stream",
     "text": [
      "description:   0%|                                                          | 0/220 [02:26<?, ?it/s]\n",
      "2025-03-26 00:51:16,145 - ERROR - Error during training: [enforce fail at alloc_cpu.cpp:115] data. DefaultCPUAllocator: not enough memory: you tried to allocate 5619001600 bytes.\n",
      "[I 2025-03-26 00:51:18,139] Trial 21 finished with value: 1000000.0 and parameters: {'n_layers': 3, 'opt': 'LBFGS', 'steps': 220, 'n_units_0': 1, 'n_units_1': 4, 'n_units_2': 5}. Best is trial 0 with value: 1000000.0.\n",
      "2025-03-26 00:51:18,409 - INFO - width = [6, 1, 4, 4, 1]\n"
     ]
    },
    {
     "name": "stdout",
     "output_type": "stream",
     "text": [
      "checkpoint directory created: ./model\n",
      "saving model version 0.0\n"
     ]
    },
    {
     "name": "stderr",
     "output_type": "stream",
     "text": [
      "description:   0%|                                                          | 0/186 [02:25<?, ?it/s]\n",
      "2025-03-26 00:53:49,536 - ERROR - Error during training: [enforce fail at alloc_cpu.cpp:115] data. DefaultCPUAllocator: not enough memory: you tried to allocate 5619001600 bytes.\n",
      "[I 2025-03-26 00:53:53,369] Trial 22 finished with value: 1000000.0 and parameters: {'n_layers': 3, 'opt': 'LBFGS', 'steps': 186, 'n_units_0': 1, 'n_units_1': 4, 'n_units_2': 4}. Best is trial 0 with value: 1000000.0.\n",
      "2025-03-26 00:53:54,119 - INFO - width = [6, 2, 4, 3, 5, 1]\n"
     ]
    },
    {
     "name": "stdout",
     "output_type": "stream",
     "text": [
      "checkpoint directory created: ./model\n",
      "saving model version 0.0\n"
     ]
    },
    {
     "name": "stderr",
     "output_type": "stream",
     "text": [
      "description:   0%|                                                          | 0/236 [02:23<?, ?it/s]\n",
      "2025-03-26 00:56:23,635 - ERROR - Error during training: [enforce fail at alloc_cpu.cpp:115] data. DefaultCPUAllocator: not enough memory: you tried to allocate 5619001600 bytes.\n",
      "[I 2025-03-26 00:56:28,071] Trial 23 finished with value: 1000000.0 and parameters: {'n_layers': 4, 'opt': 'LBFGS', 'steps': 236, 'n_units_0': 2, 'n_units_1': 4, 'n_units_2': 3, 'n_units_3': 5}. Best is trial 0 with value: 1000000.0.\n",
      "2025-03-26 00:56:28,453 - INFO - width = [6, 3, 2, 1]\n"
     ]
    },
    {
     "name": "stdout",
     "output_type": "stream",
     "text": [
      "checkpoint directory created: ./model\n",
      "saving model version 0.0\n"
     ]
    },
    {
     "name": "stderr",
     "output_type": "stream",
     "text": [
      "description:   0%|                                                          | 0/129 [02:22<?, ?it/s]\n",
      "2025-03-26 00:58:56,037 - ERROR - Error during training: [enforce fail at alloc_cpu.cpp:115] data. DefaultCPUAllocator: not enough memory: you tried to allocate 5619001600 bytes.\n",
      "[I 2025-03-26 00:59:03,788] Trial 24 finished with value: 1000000.0 and parameters: {'n_layers': 2, 'opt': 'LBFGS', 'steps': 129, 'n_units_0': 3, 'n_units_1': 2}. Best is trial 0 with value: 1000000.0.\n",
      "2025-03-26 00:59:04,546 - INFO - width = [6, 1, 5, 4, 1]\n"
     ]
    },
    {
     "name": "stdout",
     "output_type": "stream",
     "text": [
      "checkpoint directory created: ./model\n",
      "saving model version 0.0\n"
     ]
    },
    {
     "name": "stderr",
     "output_type": "stream",
     "text": [
      "description:   0%|                                                          | 0/162 [02:39<?, ?it/s]\n",
      "2025-03-26 01:01:49,307 - ERROR - Error during training: [enforce fail at alloc_cpu.cpp:115] data. DefaultCPUAllocator: not enough memory: you tried to allocate 5619001600 bytes.\n",
      "[I 2025-03-26 01:01:54,705] Trial 25 finished with value: 1000000.0 and parameters: {'n_layers': 3, 'opt': 'LBFGS', 'steps': 162, 'n_units_0': 1, 'n_units_1': 5, 'n_units_2': 4}. Best is trial 0 with value: 1000000.0.\n",
      "2025-03-26 01:01:55,097 - INFO - width = [6, 2, 1]\n"
     ]
    },
    {
     "name": "stdout",
     "output_type": "stream",
     "text": [
      "checkpoint directory created: ./model\n",
      "saving model version 0.0\n"
     ]
    },
    {
     "name": "stderr",
     "output_type": "stream",
     "text": [
      "description:   0%|                                                          | 0/294 [02:18<?, ?it/s]\n",
      "2025-03-26 01:04:19,266 - ERROR - Error during training: [enforce fail at alloc_cpu.cpp:115] data. DefaultCPUAllocator: not enough memory: you tried to allocate 5619001600 bytes.\n",
      "[I 2025-03-26 01:04:23,160] Trial 26 finished with value: 1000000.0 and parameters: {'n_layers': 1, 'opt': 'LBFGS', 'steps': 294, 'n_units_0': 2}. Best is trial 0 with value: 1000000.0.\n",
      "2025-03-26 01:04:24,165 - INFO - width = [6, 1, 3, 5, 4, 1]\n"
     ]
    },
    {
     "name": "stdout",
     "output_type": "stream",
     "text": [
      "checkpoint directory created: ./model\n",
      "saving model version 0.0\n"
     ]
    },
    {
     "name": "stderr",
     "output_type": "stream",
     "text": [
      "description:   0%|                                                           | 0/81 [02:36<?, ?it/s]\n",
      "2025-03-26 01:07:04,038 - ERROR - Error during training: [enforce fail at alloc_cpu.cpp:115] data. DefaultCPUAllocator: not enough memory: you tried to allocate 5619001600 bytes.\n",
      "[I 2025-03-26 01:07:09,398] Trial 27 finished with value: 1000000.0 and parameters: {'n_layers': 4, 'opt': 'LBFGS', 'steps': 81, 'n_units_0': 1, 'n_units_1': 3, 'n_units_2': 5, 'n_units_3': 4}. Best is trial 0 with value: 1000000.0.\n",
      "2025-03-26 01:07:10,618 - INFO - width = [6, 3, 3, 1]\n"
     ]
    },
    {
     "name": "stdout",
     "output_type": "stream",
     "text": [
      "checkpoint directory created: ./model\n",
      "saving model version 0.0\n"
     ]
    },
    {
     "name": "stderr",
     "output_type": "stream",
     "text": [
      "description:   0%|                                                          | 0/219 [02:17<?, ?it/s]\n",
      "2025-03-26 01:09:43,094 - ERROR - Error during training: [enforce fail at alloc_cpu.cpp:115] data. DefaultCPUAllocator: not enough memory: you tried to allocate 5619001600 bytes.\n",
      "[I 2025-03-26 01:09:48,534] Trial 28 finished with value: 1000000.0 and parameters: {'n_layers': 2, 'opt': 'Adam', 'steps': 219, 'n_units_0': 3, 'n_units_1': 3}. Best is trial 0 with value: 1000000.0.\n",
      "2025-03-26 01:09:49,624 - INFO - width = [6, 4, 1]\n"
     ]
    },
    {
     "name": "stdout",
     "output_type": "stream",
     "text": [
      "checkpoint directory created: ./model\n",
      "saving model version 0.0\n"
     ]
    },
    {
     "name": "stderr",
     "output_type": "stream",
     "text": [
      "description:   0%|                                                          | 0/176 [02:33<?, ?it/s]\n",
      "2025-03-26 01:12:37,856 - ERROR - Error during training: [enforce fail at alloc_cpu.cpp:115] data. DefaultCPUAllocator: not enough memory: you tried to allocate 5619001600 bytes.\n",
      "[I 2025-03-26 01:12:44,743] Trial 29 finished with value: 1000000.0 and parameters: {'n_layers': 1, 'opt': 'LBFGS', 'steps': 176, 'n_units_0': 4}. Best is trial 0 with value: 1000000.0.\n",
      "2025-03-26 01:12:44,949 - INFO - width = [6, 2, 2, 1]\n"
     ]
    },
    {
     "name": "stdout",
     "output_type": "stream",
     "text": [
      "checkpoint directory created: ./model\n",
      "saving model version 0.0\n"
     ]
    },
    {
     "name": "stderr",
     "output_type": "stream",
     "text": [
      "description:   0%|                                                          | 0/257 [02:10<?, ?it/s]\n",
      "2025-03-26 01:14:59,581 - ERROR - Error during training: [enforce fail at alloc_cpu.cpp:115] data. DefaultCPUAllocator: not enough memory: you tried to allocate 5619001600 bytes.\n",
      "[I 2025-03-26 01:15:03,571] Trial 30 finished with value: 1000000.0 and parameters: {'n_layers': 2, 'opt': 'LBFGS', 'steps': 257, 'n_units_0': 2, 'n_units_1': 2}. Best is trial 0 with value: 1000000.0.\n",
      "2025-03-26 01:15:04,224 - INFO - width = [6, 4, 4, 1]\n"
     ]
    },
    {
     "name": "stdout",
     "output_type": "stream",
     "text": [
      "checkpoint directory created: ./model\n",
      "saving model version 0.0\n"
     ]
    },
    {
     "name": "stderr",
     "output_type": "stream",
     "text": [
      "description:   0%|                                                          | 0/260 [02:06<?, ?it/s]\n",
      "2025-03-26 01:17:14,624 - ERROR - Error during training: [enforce fail at alloc_cpu.cpp:115] data. DefaultCPUAllocator: not enough memory: you tried to allocate 5619001600 bytes.\n",
      "[I 2025-03-26 01:17:17,246] Trial 31 finished with value: 1000000.0 and parameters: {'n_layers': 2, 'opt': 'LBFGS', 'steps': 260, 'n_units_0': 4, 'n_units_1': 4}. Best is trial 0 with value: 1000000.0.\n",
      "2025-03-26 01:17:17,639 - INFO - width = [6, 5, 3, 1]\n"
     ]
    },
    {
     "name": "stdout",
     "output_type": "stream",
     "text": [
      "checkpoint directory created: ./model\n",
      "saving model version 0.0\n"
     ]
    },
    {
     "name": "stderr",
     "output_type": "stream",
     "text": [
      "description:   0%|                                                          | 0/215 [02:18<?, ?it/s]\n",
      "2025-03-26 01:19:46,873 - ERROR - Error during training: [enforce fail at alloc_cpu.cpp:115] data. DefaultCPUAllocator: not enough memory: you tried to allocate 5619001600 bytes.\n",
      "[I 2025-03-26 01:19:59,154] Trial 32 finished with value: 1000000.0 and parameters: {'n_layers': 2, 'opt': 'LBFGS', 'steps': 215, 'n_units_0': 5, 'n_units_1': 3}. Best is trial 0 with value: 1000000.0.\n",
      "2025-03-26 01:19:59,890 - INFO - width = [6, 4, 3, 3, 1]\n"
     ]
    },
    {
     "name": "stdout",
     "output_type": "stream",
     "text": [
      "checkpoint directory created: ./model\n",
      "saving model version 0.0\n"
     ]
    },
    {
     "name": "stderr",
     "output_type": "stream",
     "text": [
      "description:   0%|                                                          | 0/275 [02:09<?, ?it/s]\n",
      "2025-03-26 01:22:16,306 - ERROR - Error during training: [enforce fail at alloc_cpu.cpp:115] data. DefaultCPUAllocator: not enough memory: you tried to allocate 5619001600 bytes.\n",
      "[I 2025-03-26 01:22:24,833] Trial 33 finished with value: 1000000.0 and parameters: {'n_layers': 3, 'opt': 'LBFGS', 'steps': 275, 'n_units_0': 4, 'n_units_1': 3, 'n_units_2': 3}. Best is trial 0 with value: 1000000.0.\n",
      "2025-03-26 01:22:25,419 - INFO - width = [6, 4, 4, 1]\n"
     ]
    },
    {
     "name": "stdout",
     "output_type": "stream",
     "text": [
      "checkpoint directory created: ./model\n",
      "saving model version 0.0\n"
     ]
    },
    {
     "name": "stderr",
     "output_type": "stream",
     "text": [
      "description:   0%|                                                           | 0/86 [02:37<?, ?it/s]\n",
      "2025-03-26 01:25:06,902 - ERROR - Error during training: [enforce fail at alloc_cpu.cpp:115] data. DefaultCPUAllocator: not enough memory: you tried to allocate 5619001600 bytes.\n",
      "[I 2025-03-26 01:25:10,860] Trial 34 finished with value: 1000000.0 and parameters: {'n_layers': 2, 'opt': 'LBFGS', 'steps': 86, 'n_units_0': 4, 'n_units_1': 4}. Best is trial 0 with value: 1000000.0.\n",
      "2025-03-26 01:25:11,553 - INFO - width = [6, 5, 1]\n"
     ]
    },
    {
     "name": "stdout",
     "output_type": "stream",
     "text": [
      "checkpoint directory created: ./model\n",
      "saving model version 0.0\n"
     ]
    },
    {
     "name": "stderr",
     "output_type": "stream",
     "text": [
      "description:   0%|                                                          | 0/300 [02:26<?, ?it/s]\n",
      "2025-03-26 01:27:42,007 - ERROR - Error during training: [enforce fail at alloc_cpu.cpp:115] data. DefaultCPUAllocator: not enough memory: you tried to allocate 5619001600 bytes.\n",
      "[I 2025-03-26 01:27:48,431] Trial 35 finished with value: 1000000.0 and parameters: {'n_layers': 1, 'opt': 'LBFGS', 'steps': 300, 'n_units_0': 5}. Best is trial 0 with value: 1000000.0.\n",
      "2025-03-26 01:27:48,918 - INFO - width = [6, 4, 2, 2, 1, 1]\n"
     ]
    },
    {
     "name": "stdout",
     "output_type": "stream",
     "text": [
      "checkpoint directory created: ./model\n",
      "saving model version 0.0\n"
     ]
    },
    {
     "name": "stderr",
     "output_type": "stream",
     "text": [
      "description:   0%|                                                          | 0/237 [02:11<?, ?it/s]\n",
      "2025-03-26 01:30:03,773 - ERROR - Error during training: [enforce fail at alloc_cpu.cpp:115] data. DefaultCPUAllocator: not enough memory: you tried to allocate 5619001600 bytes.\n",
      "[I 2025-03-26 01:30:07,963] Trial 36 finished with value: 1000000.0 and parameters: {'n_layers': 4, 'opt': 'Adam', 'steps': 237, 'n_units_0': 4, 'n_units_1': 2, 'n_units_2': 2, 'n_units_3': 1}. Best is trial 0 with value: 1000000.0.\n",
      "2025-03-26 01:30:08,514 - INFO - width = [6, 1, 3, 1]\n"
     ]
    },
    {
     "name": "stdout",
     "output_type": "stream",
     "text": [
      "checkpoint directory created: ./model\n",
      "saving model version 0.0\n"
     ]
    },
    {
     "name": "stderr",
     "output_type": "stream",
     "text": [
      "description:   0%|                                                           | 0/33 [02:13<?, ?it/s]\n",
      "2025-03-26 01:32:31,481 - ERROR - Error during training: [enforce fail at alloc_cpu.cpp:115] data. DefaultCPUAllocator: not enough memory: you tried to allocate 5619001600 bytes.\n",
      "[I 2025-03-26 01:32:36,194] Trial 37 finished with value: 1000000.0 and parameters: {'n_layers': 2, 'opt': 'LBFGS', 'steps': 33, 'n_units_0': 1, 'n_units_1': 3}. Best is trial 0 with value: 1000000.0.\n",
      "2025-03-26 01:32:36,935 - INFO - width = [6, 5, 4, 4, 1]\n"
     ]
    },
    {
     "name": "stdout",
     "output_type": "stream",
     "text": [
      "checkpoint directory created: ./model\n",
      "saving model version 0.0\n"
     ]
    },
    {
     "name": "stderr",
     "output_type": "stream",
     "text": [
      "description:   0%|                                                          | 0/252 [02:28<?, ?it/s]\n",
      "2025-03-26 01:35:09,805 - ERROR - Error during training: [enforce fail at alloc_cpu.cpp:115] data. DefaultCPUAllocator: not enough memory: you tried to allocate 5619001600 bytes.\n",
      "[I 2025-03-26 01:35:13,800] Trial 38 finished with value: 1000000.0 and parameters: {'n_layers': 3, 'opt': 'Adam', 'steps': 252, 'n_units_0': 5, 'n_units_1': 4, 'n_units_2': 4}. Best is trial 0 with value: 1000000.0.\n",
      "2025-03-26 01:35:14,896 - INFO - width = [6, 2, 1]\n"
     ]
    },
    {
     "name": "stdout",
     "output_type": "stream",
     "text": [
      "checkpoint directory created: ./model\n",
      "saving model version 0.0\n"
     ]
    },
    {
     "name": "stderr",
     "output_type": "stream",
     "text": [
      "description:   0%|                                                          | 0/150 [02:38<?, ?it/s]\n",
      "2025-03-26 01:37:57,563 - ERROR - Error during training: [enforce fail at alloc_cpu.cpp:115] data. DefaultCPUAllocator: not enough memory: you tried to allocate 5619001600 bytes.\n",
      "[I 2025-03-26 01:38:02,061] Trial 39 finished with value: 1000000.0 and parameters: {'n_layers': 1, 'opt': 'LBFGS', 'steps': 150, 'n_units_0': 2}. Best is trial 0 with value: 1000000.0.\n",
      "2025-03-26 01:38:02,497 - INFO - width = [6, 1, 5, 5, 3, 1]\n"
     ]
    },
    {
     "name": "stdout",
     "output_type": "stream",
     "text": [
      "checkpoint directory created: ./model\n",
      "saving model version 0.0\n"
     ]
    },
    {
     "name": "stderr",
     "output_type": "stream",
     "text": [
      "description:   0%|                                                          | 0/122 [02:58<?, ?it/s]\n",
      "2025-03-26 01:41:06,861 - ERROR - Error during training: [enforce fail at alloc_cpu.cpp:115] data. DefaultCPUAllocator: not enough memory: you tried to allocate 5619001600 bytes.\n",
      "[I 2025-03-26 01:41:11,374] Trial 40 finished with value: 1000000.0 and parameters: {'n_layers': 4, 'opt': 'Adam', 'steps': 122, 'n_units_0': 1, 'n_units_1': 5, 'n_units_2': 5, 'n_units_3': 3}. Best is trial 0 with value: 1000000.0.\n",
      "2025-03-26 01:41:12,392 - INFO - width = [6, 1, 1]\n"
     ]
    },
    {
     "name": "stdout",
     "output_type": "stream",
     "text": [
      "checkpoint directory created: ./model\n",
      "saving model version 0.0\n"
     ]
    },
    {
     "name": "stderr",
     "output_type": "stream",
     "text": [
      "description:   0%|                                                           | 0/52 [02:21<?, ?it/s]\n",
      "2025-03-26 01:43:40,983 - ERROR - Error during training: [enforce fail at alloc_cpu.cpp:115] data. DefaultCPUAllocator: not enough memory: you tried to allocate 5619001600 bytes.\n",
      "[I 2025-03-26 01:43:46,230] Trial 41 finished with value: 1000000.0 and parameters: {'n_layers': 1, 'opt': 'LBFGS', 'steps': 52, 'n_units_0': 1}. Best is trial 0 with value: 1000000.0.\n",
      "2025-03-26 01:43:46,738 - INFO - width = [6, 2, 1]\n"
     ]
    },
    {
     "name": "stdout",
     "output_type": "stream",
     "text": [
      "checkpoint directory created: ./model\n",
      "saving model version 0.0\n"
     ]
    },
    {
     "name": "stderr",
     "output_type": "stream",
     "text": [
      "description:   0%|                                                           | 0/23 [02:37<?, ?it/s]\n",
      "2025-03-26 01:46:29,235 - ERROR - Error during training: [enforce fail at alloc_cpu.cpp:115] data. DefaultCPUAllocator: not enough memory: you tried to allocate 5619001600 bytes.\n",
      "[I 2025-03-26 01:46:32,018] Trial 42 finished with value: 1000000.0 and parameters: {'n_layers': 1, 'opt': 'LBFGS', 'steps': 23, 'n_units_0': 2}. Best is trial 0 with value: 1000000.0.\n",
      "2025-03-26 01:46:32,716 - INFO - width = [6, 2, 1]\n"
     ]
    },
    {
     "name": "stdout",
     "output_type": "stream",
     "text": [
      "checkpoint directory created: ./model\n",
      "saving model version 0.0\n"
     ]
    },
    {
     "name": "stderr",
     "output_type": "stream",
     "text": [
      "description:   0%|                                                           | 0/47 [02:05<?, ?it/s]\n",
      "2025-03-26 01:48:45,165 - ERROR - Error during training: [enforce fail at alloc_cpu.cpp:115] data. DefaultCPUAllocator: not enough memory: you tried to allocate 5619001600 bytes.\n",
      "[I 2025-03-26 01:48:48,431] Trial 43 finished with value: 1000000.0 and parameters: {'n_layers': 1, 'opt': 'LBFGS', 'steps': 47, 'n_units_0': 2}. Best is trial 0 with value: 1000000.0.\n",
      "2025-03-26 01:48:48,735 - INFO - width = [6, 1, 2, 1]\n"
     ]
    },
    {
     "name": "stdout",
     "output_type": "stream",
     "text": [
      "checkpoint directory created: ./model\n",
      "saving model version 0.0\n"
     ]
    },
    {
     "name": "stderr",
     "output_type": "stream",
     "text": [
      "description:   0%|                                                           | 0/28 [02:10<?, ?it/s]\n",
      "2025-03-26 01:51:05,645 - ERROR - Error during training: [enforce fail at alloc_cpu.cpp:115] data. DefaultCPUAllocator: not enough memory: you tried to allocate 5619001600 bytes.\n",
      "[I 2025-03-26 01:51:10,787] Trial 44 finished with value: 1000000.0 and parameters: {'n_layers': 2, 'opt': 'LBFGS', 'steps': 28, 'n_units_0': 1, 'n_units_1': 2}. Best is trial 0 with value: 1000000.0.\n",
      "2025-03-26 01:51:11,286 - INFO - width = [6, 3, 1]\n"
     ]
    },
    {
     "name": "stdout",
     "output_type": "stream",
     "text": [
      "checkpoint directory created: ./model\n",
      "saving model version 0.0\n"
     ]
    },
    {
     "name": "stderr",
     "output_type": "stream",
     "text": [
      "description:   0%|                                                          | 0/200 [02:13<?, ?it/s]\n",
      "2025-03-26 01:53:28,437 - ERROR - Error during training: [enforce fail at alloc_cpu.cpp:115] data. DefaultCPUAllocator: not enough memory: you tried to allocate 5619001600 bytes.\n",
      "[I 2025-03-26 01:53:35,531] Trial 45 finished with value: 1000000.0 and parameters: {'n_layers': 1, 'opt': 'Adam', 'steps': 200, 'n_units_0': 3}. Best is trial 0 with value: 1000000.0.\n",
      "2025-03-26 01:53:36,123 - INFO - width = [6, 2, 3, 1]\n"
     ]
    },
    {
     "name": "stdout",
     "output_type": "stream",
     "text": [
      "checkpoint directory created: ./model\n",
      "saving model version 0.0\n"
     ]
    },
    {
     "name": "stderr",
     "output_type": "stream",
     "text": [
      "description:   0%|                                                           | 0/11 [02:25<?, ?it/s]\n",
      "2025-03-26 01:56:05,891 - ERROR - Error during training: [enforce fail at alloc_cpu.cpp:115] data. DefaultCPUAllocator: not enough memory: you tried to allocate 5619001600 bytes.\n",
      "[I 2025-03-26 01:56:12,257] Trial 46 finished with value: 1000000.0 and parameters: {'n_layers': 2, 'opt': 'LBFGS', 'steps': 11, 'n_units_0': 2, 'n_units_1': 3}. Best is trial 0 with value: 1000000.0.\n",
      "2025-03-26 01:56:12,859 - INFO - width = [6, 3, 1]\n"
     ]
    },
    {
     "name": "stdout",
     "output_type": "stream",
     "text": [
      "checkpoint directory created: ./model\n",
      "saving model version 0.0\n"
     ]
    },
    {
     "name": "stderr",
     "output_type": "stream",
     "text": [
      "description:   0%|                                                           | 0/68 [02:24<?, ?it/s]\n",
      "2025-03-26 01:58:44,590 - ERROR - Error during training: [enforce fail at alloc_cpu.cpp:115] data. DefaultCPUAllocator: not enough memory: you tried to allocate 5619001600 bytes.\n",
      "[I 2025-03-26 01:58:50,948] Trial 47 finished with value: 1000000.0 and parameters: {'n_layers': 1, 'opt': 'Adam', 'steps': 68, 'n_units_0': 3}. Best is trial 0 with value: 1000000.0.\n",
      "2025-03-26 01:58:51,549 - INFO - width = [6, 1, 5, 2, 1]\n"
     ]
    },
    {
     "name": "stdout",
     "output_type": "stream",
     "text": [
      "checkpoint directory created: ./model\n",
      "saving model version 0.0\n"
     ]
    },
    {
     "name": "stderr",
     "output_type": "stream",
     "text": [
      "description:   0%|                                                           | 0/45 [02:15<?, ?it/s]\n",
      "2025-03-26 02:01:11,931 - ERROR - Error during training: [enforce fail at alloc_cpu.cpp:115] data. DefaultCPUAllocator: not enough memory: you tried to allocate 5619001600 bytes.\n",
      "[I 2025-03-26 02:01:23,682] Trial 48 finished with value: 1000000.0 and parameters: {'n_layers': 3, 'opt': 'LBFGS', 'steps': 45, 'n_units_0': 1, 'n_units_1': 5, 'n_units_2': 2}. Best is trial 0 with value: 1000000.0.\n",
      "2025-03-26 02:01:24,190 - INFO - width = [6, 4, 1]\n"
     ]
    },
    {
     "name": "stdout",
     "output_type": "stream",
     "text": [
      "checkpoint directory created: ./model\n",
      "saving model version 0.0\n"
     ]
    },
    {
     "name": "stderr",
     "output_type": "stream",
     "text": [
      "description:   0%|                                                          | 0/277 [01:41<?, ?it/s]\n",
      "2025-03-26 02:03:08,927 - ERROR - Error during training: [enforce fail at alloc_cpu.cpp:115] data. DefaultCPUAllocator: not enough memory: you tried to allocate 5619001600 bytes.\n",
      "[I 2025-03-26 02:03:12,738] Trial 49 finished with value: 1000000.0 and parameters: {'n_layers': 1, 'opt': 'Adam', 'steps': 277, 'n_units_0': 4}. Best is trial 0 with value: 1000000.0.\n",
      "2025-03-26 02:03:13,230 - INFO - width = [6, 5, 1, 1]\n"
     ]
    },
    {
     "name": "stdout",
     "output_type": "stream",
     "text": [
      "checkpoint directory created: ./model\n",
      "saving model version 0.0\n"
     ]
    },
    {
     "name": "stderr",
     "output_type": "stream",
     "text": [
      "description:   0%|                                                          | 0/141 [01:45<?, ?it/s]\n",
      "2025-03-26 02:05:05,293 - ERROR - Error during training: [enforce fail at alloc_cpu.cpp:115] data. DefaultCPUAllocator: not enough memory: you tried to allocate 5619001600 bytes.\n",
      "[I 2025-03-26 02:05:09,226] Trial 50 finished with value: 1000000.0 and parameters: {'n_layers': 2, 'opt': 'LBFGS', 'steps': 141, 'n_units_0': 5, 'n_units_1': 1}. Best is trial 0 with value: 1000000.0.\n",
      "2025-03-26 02:05:09,490 - INFO - width = [6, 4, 5, 1, 3, 1]\n"
     ]
    },
    {
     "name": "stdout",
     "output_type": "stream",
     "text": [
      "checkpoint directory created: ./model\n",
      "saving model version 0.0\n"
     ]
    },
    {
     "name": "stderr",
     "output_type": "stream",
     "text": [
      "description:   0%|                                                           | 0/72 [02:23<?, ?it/s]\n",
      "2025-03-26 02:07:37,426 - ERROR - Error during training: [enforce fail at alloc_cpu.cpp:115] data. DefaultCPUAllocator: not enough memory: you tried to allocate 5619001600 bytes.\n",
      "[I 2025-03-26 02:07:40,088] Trial 51 finished with value: 1000000.0 and parameters: {'n_layers': 4, 'opt': 'Adam', 'steps': 72, 'n_units_0': 4, 'n_units_1': 5, 'n_units_2': 1, 'n_units_3': 3}. Best is trial 0 with value: 1000000.0.\n",
      "2025-03-26 02:07:40,428 - INFO - width = [6, 3, 5, 1, 2, 1]\n"
     ]
    },
    {
     "name": "stdout",
     "output_type": "stream",
     "text": [
      "checkpoint directory created: ./model\n",
      "saving model version 0.0\n"
     ]
    },
    {
     "name": "stderr",
     "output_type": "stream",
     "text": [
      "description:   0%|                                                           | 0/59 [02:18<?, ?it/s]\n",
      "2025-03-26 02:10:03,116 - ERROR - Error during training: [enforce fail at alloc_cpu.cpp:115] data. DefaultCPUAllocator: not enough memory: you tried to allocate 5619001600 bytes.\n",
      "[I 2025-03-26 02:10:06,595] Trial 52 finished with value: 1000000.0 and parameters: {'n_layers': 4, 'opt': 'Adam', 'steps': 59, 'n_units_0': 3, 'n_units_1': 5, 'n_units_2': 1, 'n_units_3': 2}. Best is trial 0 with value: 1000000.0.\n",
      "2025-03-26 02:10:06,870 - INFO - width = [6, 5, 5, 2, 2, 1]\n"
     ]
    },
    {
     "name": "stdout",
     "output_type": "stream",
     "text": [
      "checkpoint directory created: ./model\n",
      "saving model version 0.0\n"
     ]
    },
    {
     "name": "stderr",
     "output_type": "stream",
     "text": [
      "description:   0%|                                                           | 0/97 [01:58<?, ?it/s]\n",
      "2025-03-26 02:12:09,710 - ERROR - Error during training: [enforce fail at alloc_cpu.cpp:115] data. DefaultCPUAllocator: not enough memory: you tried to allocate 5619001600 bytes.\n",
      "[I 2025-03-26 02:12:13,368] Trial 53 finished with value: 1000000.0 and parameters: {'n_layers': 4, 'opt': 'Adam', 'steps': 97, 'n_units_0': 5, 'n_units_1': 5, 'n_units_2': 2, 'n_units_3': 2}. Best is trial 0 with value: 1000000.0.\n",
      "2025-03-26 02:12:13,825 - INFO - width = [6, 4, 4, 3, 3, 1]\n"
     ]
    },
    {
     "name": "stdout",
     "output_type": "stream",
     "text": [
      "checkpoint directory created: ./model\n",
      "saving model version 0.0\n"
     ]
    },
    {
     "name": "stderr",
     "output_type": "stream",
     "text": [
      "description:   0%|                                                           | 0/16 [02:04<?, ?it/s]\n",
      "2025-03-26 02:14:24,697 - ERROR - Error during training: [enforce fail at alloc_cpu.cpp:115] data. DefaultCPUAllocator: not enough memory: you tried to allocate 5619001600 bytes.\n",
      "[I 2025-03-26 02:14:28,209] Trial 54 finished with value: 1000000.0 and parameters: {'n_layers': 4, 'opt': 'Adam', 'steps': 16, 'n_units_0': 4, 'n_units_1': 4, 'n_units_2': 3, 'n_units_3': 3}. Best is trial 0 with value: 1000000.0.\n",
      "2025-03-26 02:14:29,102 - INFO - width = [6, 1, 3, 1, 1]\n"
     ]
    },
    {
     "name": "stdout",
     "output_type": "stream",
     "text": [
      "checkpoint directory created: ./model\n",
      "saving model version 0.0\n"
     ]
    },
    {
     "name": "stderr",
     "output_type": "stream",
     "text": [
      "description:   0%|                                                           | 0/41 [01:52<?, ?it/s]\n",
      "2025-03-26 02:16:26,949 - ERROR - Error during training: [enforce fail at alloc_cpu.cpp:115] data. DefaultCPUAllocator: not enough memory: you tried to allocate 5619001600 bytes.\n",
      "[I 2025-03-26 02:16:30,391] Trial 55 finished with value: 1000000.0 and parameters: {'n_layers': 3, 'opt': 'Adam', 'steps': 41, 'n_units_0': 1, 'n_units_1': 3, 'n_units_2': 1}. Best is trial 0 with value: 1000000.0.\n",
      "2025-03-26 02:16:30,925 - INFO - width = [6, 3, 5, 4, 4, 1]\n"
     ]
    },
    {
     "name": "stdout",
     "output_type": "stream",
     "text": [
      "checkpoint directory created: ./model\n",
      "saving model version 0.0\n"
     ]
    },
    {
     "name": "stderr",
     "output_type": "stream",
     "text": [
      "description:   0%|                                                          | 0/191 [02:00<?, ?it/s]\n",
      "2025-03-26 02:18:35,562 - ERROR - Error during training: [enforce fail at alloc_cpu.cpp:115] data. DefaultCPUAllocator: not enough memory: you tried to allocate 5619001600 bytes.\n",
      "[I 2025-03-26 02:18:38,917] Trial 56 finished with value: 1000000.0 and parameters: {'n_layers': 4, 'opt': 'LBFGS', 'steps': 191, 'n_units_0': 3, 'n_units_1': 5, 'n_units_2': 4, 'n_units_3': 4}. Best is trial 0 with value: 1000000.0.\n",
      "2025-03-26 02:18:39,432 - INFO - width = [6, 5, 4, 2, 1]\n"
     ]
    },
    {
     "name": "stdout",
     "output_type": "stream",
     "text": [
      "checkpoint directory created: ./model\n",
      "saving model version 0.0\n"
     ]
    },
    {
     "name": "stderr",
     "output_type": "stream",
     "text": [
      "description:   0%|                                                          | 0/209 [01:57<?, ?it/s]\n",
      "2025-03-26 02:20:43,794 - ERROR - Error during training: [enforce fail at alloc_cpu.cpp:115] data. DefaultCPUAllocator: not enough memory: you tried to allocate 5619001600 bytes.\n",
      "[I 2025-03-26 02:20:47,969] Trial 57 finished with value: 1000000.0 and parameters: {'n_layers': 3, 'opt': 'LBFGS', 'steps': 209, 'n_units_0': 5, 'n_units_1': 4, 'n_units_2': 2}. Best is trial 0 with value: 1000000.0.\n",
      "2025-03-26 02:20:48,614 - INFO - width = [6, 2, 1]\n"
     ]
    },
    {
     "name": "stdout",
     "output_type": "stream",
     "text": [
      "checkpoint directory created: ./model\n",
      "saving model version 0.0\n"
     ]
    },
    {
     "name": "stderr",
     "output_type": "stream",
     "text": [
      "description:   0%|                                                          | 0/175 [02:27<?, ?it/s]\n",
      "2025-03-26 02:23:25,697 - ERROR - Error during training: [enforce fail at alloc_cpu.cpp:115] data. DefaultCPUAllocator: not enough memory: you tried to allocate 5619001600 bytes.\n",
      "[I 2025-03-26 02:23:29,696] Trial 58 finished with value: 1000000.0 and parameters: {'n_layers': 1, 'opt': 'Adam', 'steps': 175, 'n_units_0': 2}. Best is trial 0 with value: 1000000.0.\n",
      "2025-03-26 02:23:30,015 - INFO - width = [6, 4, 1, 1]\n"
     ]
    },
    {
     "name": "stdout",
     "output_type": "stream",
     "text": [
      "checkpoint directory created: ./model\n",
      "saving model version 0.0\n"
     ]
    },
    {
     "name": "stderr",
     "output_type": "stream",
     "text": [
      "description:   0%|                                                          | 0/227 [01:54<?, ?it/s]\n",
      "2025-03-26 02:25:29,399 - ERROR - Error during training: [enforce fail at alloc_cpu.cpp:115] data. DefaultCPUAllocator: not enough memory: you tried to allocate 5619001600 bytes.\n",
      "[I 2025-03-26 02:25:33,467] Trial 59 finished with value: 1000000.0 and parameters: {'n_layers': 2, 'opt': 'LBFGS', 'steps': 227, 'n_units_0': 4, 'n_units_1': 1}. Best is trial 0 with value: 1000000.0.\n",
      "2025-03-26 02:25:33,704 - INFO - width = [6, 1, 2, 1]\n"
     ]
    },
    {
     "name": "stdout",
     "output_type": "stream",
     "text": [
      "checkpoint directory created: ./model\n",
      "saving model version 0.0\n"
     ]
    },
    {
     "name": "stderr",
     "output_type": "stream",
     "text": [
      "description:   0%|                                                          | 0/115 [02:01<?, ?it/s]\n",
      "2025-03-26 02:27:39,503 - ERROR - Error during training: [enforce fail at alloc_cpu.cpp:115] data. DefaultCPUAllocator: not enough memory: you tried to allocate 5619001600 bytes.\n",
      "[I 2025-03-26 02:27:48,805] Trial 60 finished with value: 1000000.0 and parameters: {'n_layers': 2, 'opt': 'LBFGS', 'steps': 115, 'n_units_0': 1, 'n_units_1': 2}. Best is trial 0 with value: 1000000.0.\n",
      "2025-03-26 02:27:49,133 - INFO - width = [6, 4, 3, 1]\n"
     ]
    },
    {
     "name": "stdout",
     "output_type": "stream",
     "text": [
      "checkpoint directory created: ./model\n",
      "saving model version 0.0\n"
     ]
    },
    {
     "name": "stderr",
     "output_type": "stream",
     "text": [
      "description:   0%|                                                          | 0/268 [01:55<?, ?it/s]\n",
      "2025-03-26 02:29:48,803 - ERROR - Error during training: [enforce fail at alloc_cpu.cpp:115] data. DefaultCPUAllocator: not enough memory: you tried to allocate 5619001600 bytes.\n",
      "[I 2025-03-26 02:29:51,960] Trial 61 finished with value: 1000000.0 and parameters: {'n_layers': 2, 'opt': 'LBFGS', 'steps': 268, 'n_units_0': 4, 'n_units_1': 3}. Best is trial 0 with value: 1000000.0.\n",
      "2025-03-26 02:29:52,369 - INFO - width = [6, 4, 2, 1]\n"
     ]
    },
    {
     "name": "stdout",
     "output_type": "stream",
     "text": [
      "checkpoint directory created: ./model\n",
      "saving model version 0.0\n"
     ]
    },
    {
     "name": "stderr",
     "output_type": "stream",
     "text": [
      "description:   0%|                                                          | 0/284 [01:56<?, ?it/s]\n",
      "2025-03-26 02:31:50,978 - ERROR - Error during training: [enforce fail at alloc_cpu.cpp:115] data. DefaultCPUAllocator: not enough memory: you tried to allocate 5619001600 bytes.\n",
      "[I 2025-03-26 02:31:54,202] Trial 62 finished with value: 1000000.0 and parameters: {'n_layers': 2, 'opt': 'LBFGS', 'steps': 284, 'n_units_0': 4, 'n_units_1': 2}. Best is trial 0 with value: 1000000.0.\n",
      "2025-03-26 02:31:54,735 - INFO - width = [6, 4, 4, 1]\n"
     ]
    },
    {
     "name": "stdout",
     "output_type": "stream",
     "text": [
      "checkpoint directory created: ./model\n",
      "saving model version 0.0\n"
     ]
    },
    {
     "name": "stderr",
     "output_type": "stream",
     "text": [
      "description:   0%|                                                          | 0/248 [01:53<?, ?it/s]\n",
      "2025-03-26 02:33:57,410 - ERROR - Error during training: [enforce fail at alloc_cpu.cpp:115] data. DefaultCPUAllocator: not enough memory: you tried to allocate 5619001600 bytes.\n",
      "[I 2025-03-26 02:33:59,736] Trial 63 finished with value: 1000000.0 and parameters: {'n_layers': 2, 'opt': 'LBFGS', 'steps': 248, 'n_units_0': 4, 'n_units_1': 4}. Best is trial 0 with value: 1000000.0.\n",
      "2025-03-26 02:34:00,324 - INFO - width = [6, 5, 4, 3, 1]\n"
     ]
    },
    {
     "name": "stdout",
     "output_type": "stream",
     "text": [
      "checkpoint directory created: ./model\n",
      "saving model version 0.0\n"
     ]
    },
    {
     "name": "stderr",
     "output_type": "stream",
     "text": [
      "description:   0%|                                                          | 0/185 [01:33<?, ?it/s]\n",
      "2025-03-26 02:35:39,269 - ERROR - Error during training: [enforce fail at alloc_cpu.cpp:115] data. DefaultCPUAllocator: not enough memory: you tried to allocate 5619001600 bytes.\n",
      "[I 2025-03-26 02:35:42,195] Trial 64 finished with value: 1000000.0 and parameters: {'n_layers': 3, 'opt': 'LBFGS', 'steps': 185, 'n_units_0': 5, 'n_units_1': 4, 'n_units_2': 3}. Best is trial 0 with value: 1000000.0.\n",
      "2025-03-26 02:35:43,765 - INFO - width = [6, 3, 1]\n"
     ]
    },
    {
     "name": "stdout",
     "output_type": "stream",
     "text": [
      "checkpoint directory created: ./model\n",
      "saving model version 0.0\n"
     ]
    },
    {
     "name": "stderr",
     "output_type": "stream",
     "text": [
      "description:   0%|                                                          | 0/286 [01:48<?, ?it/s]\n",
      "2025-03-26 02:37:36,435 - ERROR - Error during training: [enforce fail at alloc_cpu.cpp:115] data. DefaultCPUAllocator: not enough memory: you tried to allocate 5619001600 bytes.\n",
      "[I 2025-03-26 02:37:40,078] Trial 65 finished with value: 1000000.0 and parameters: {'n_layers': 1, 'opt': 'LBFGS', 'steps': 286, 'n_units_0': 3}. Best is trial 0 with value: 1000000.0.\n",
      "2025-03-26 02:37:40,690 - INFO - width = [6, 3, 3, 1]\n"
     ]
    },
    {
     "name": "stdout",
     "output_type": "stream",
     "text": [
      "checkpoint directory created: ./model\n",
      "saving model version 0.0\n"
     ]
    },
    {
     "name": "stderr",
     "output_type": "stream",
     "text": [
      "description:   0%|                                                           | 0/96 [01:43<?, ?it/s]\n",
      "2025-03-26 02:39:28,265 - ERROR - Error during training: [enforce fail at alloc_cpu.cpp:115] data. DefaultCPUAllocator: not enough memory: you tried to allocate 5619001600 bytes.\n",
      "[I 2025-03-26 02:39:32,169] Trial 66 finished with value: 1000000.0 and parameters: {'n_layers': 2, 'opt': 'Adam', 'steps': 96, 'n_units_0': 3, 'n_units_1': 3}. Best is trial 0 with value: 1000000.0.\n",
      "2025-03-26 02:39:32,583 - INFO - width = [6, 4, 1, 1, 4, 1]\n"
     ]
    },
    {
     "name": "stdout",
     "output_type": "stream",
     "text": [
      "checkpoint directory created: ./model\n",
      "saving model version 0.0\n"
     ]
    },
    {
     "name": "stderr",
     "output_type": "stream",
     "text": [
      "description:   0%|                                                          | 0/264 [02:09<?, ?it/s]\n",
      "2025-03-26 02:41:45,541 - ERROR - Error during training: [enforce fail at alloc_cpu.cpp:115] data. DefaultCPUAllocator: not enough memory: you tried to allocate 5619001600 bytes.\n",
      "[I 2025-03-26 02:41:49,800] Trial 67 finished with value: 1000000.0 and parameters: {'n_layers': 4, 'opt': 'LBFGS', 'steps': 264, 'n_units_0': 4, 'n_units_1': 1, 'n_units_2': 1, 'n_units_3': 4}. Best is trial 0 with value: 1000000.0.\n",
      "2025-03-26 02:41:50,407 - INFO - width = [6, 1, 3, 1]\n"
     ]
    },
    {
     "name": "stdout",
     "output_type": "stream",
     "text": [
      "checkpoint directory created: ./model\n",
      "saving model version 0.0\n"
     ]
    },
    {
     "name": "stderr",
     "output_type": "stream",
     "text": [
      "description:   0%|                                                          | 0/164 [01:41<?, ?it/s]\n",
      "2025-03-26 02:43:39,805 - ERROR - Error during training: [enforce fail at alloc_cpu.cpp:115] data. DefaultCPUAllocator: not enough memory: you tried to allocate 5619001600 bytes.\n",
      "[I 2025-03-26 02:43:42,986] Trial 68 finished with value: 1000000.0 and parameters: {'n_layers': 2, 'opt': 'LBFGS', 'steps': 164, 'n_units_0': 1, 'n_units_1': 3}. Best is trial 0 with value: 1000000.0.\n",
      "2025-03-26 02:43:43,276 - INFO - width = [6, 4, 1]\n"
     ]
    },
    {
     "name": "stdout",
     "output_type": "stream",
     "text": [
      "checkpoint directory created: ./model\n",
      "saving model version 0.0\n"
     ]
    },
    {
     "name": "stderr",
     "output_type": "stream",
     "text": [
      "description:   0%|                                                          | 0/135 [01:49<?, ?it/s]\n",
      "2025-03-26 02:45:37,471 - ERROR - Error during training: [enforce fail at alloc_cpu.cpp:115] data. DefaultCPUAllocator: not enough memory: you tried to allocate 5619001600 bytes.\n",
      "[I 2025-03-26 02:45:41,921] Trial 69 finished with value: 1000000.0 and parameters: {'n_layers': 1, 'opt': 'Adam', 'steps': 135, 'n_units_0': 4}. Best is trial 0 with value: 1000000.0.\n",
      "2025-03-26 02:45:42,334 - INFO - width = [6, 5, 4, 5, 1]\n"
     ]
    },
    {
     "name": "stdout",
     "output_type": "stream",
     "text": [
      "checkpoint directory created: ./model\n",
      "saving model version 0.0\n"
     ]
    },
    {
     "name": "stderr",
     "output_type": "stream",
     "text": [
      "description:   0%|                                                          | 0/227 [01:52<?, ?it/s]\n",
      "2025-03-26 02:47:38,251 - ERROR - Error during training: [enforce fail at alloc_cpu.cpp:115] data. DefaultCPUAllocator: not enough memory: you tried to allocate 5619001600 bytes.\n",
      "[I 2025-03-26 02:47:42,996] Trial 70 finished with value: 1000000.0 and parameters: {'n_layers': 3, 'opt': 'LBFGS', 'steps': 227, 'n_units_0': 5, 'n_units_1': 4, 'n_units_2': 5}. Best is trial 0 with value: 1000000.0.\n",
      "2025-03-26 02:47:43,543 - INFO - width = [6, 1, 5, 1]\n"
     ]
    },
    {
     "name": "stdout",
     "output_type": "stream",
     "text": [
      "checkpoint directory created: ./model\n",
      "saving model version 0.0\n"
     ]
    },
    {
     "name": "stderr",
     "output_type": "stream",
     "text": [
      "description:   0%|                                                           | 0/34 [01:42<?, ?it/s]\n",
      "2025-03-26 02:49:32,458 - ERROR - Error during training: [enforce fail at alloc_cpu.cpp:115] data. DefaultCPUAllocator: not enough memory: you tried to allocate 5619001600 bytes.\n",
      "[I 2025-03-26 02:49:35,466] Trial 71 finished with value: 1000000.0 and parameters: {'n_layers': 2, 'opt': 'Adam', 'steps': 34, 'n_units_0': 1, 'n_units_1': 5}. Best is trial 0 with value: 1000000.0.\n",
      "2025-03-26 02:49:35,946 - INFO - width = [6, 1, 5, 1]\n"
     ]
    },
    {
     "name": "stdout",
     "output_type": "stream",
     "text": [
      "checkpoint directory created: ./model\n",
      "saving model version 0.0\n"
     ]
    },
    {
     "name": "stderr",
     "output_type": "stream",
     "text": [
      "description:   0%|                                                           | 0/67 [01:37<?, ?it/s]\n",
      "2025-03-26 02:51:16,521 - ERROR - Error during training: [enforce fail at alloc_cpu.cpp:115] data. DefaultCPUAllocator: not enough memory: you tried to allocate 5619001600 bytes.\n",
      "[I 2025-03-26 02:51:18,822] Trial 72 finished with value: 1000000.0 and parameters: {'n_layers': 2, 'opt': 'Adam', 'steps': 67, 'n_units_0': 1, 'n_units_1': 5}. Best is trial 0 with value: 1000000.0.\n",
      "2025-03-26 02:51:19,022 - INFO - width = [6, 1, 5, 1]\n"
     ]
    },
    {
     "name": "stdout",
     "output_type": "stream",
     "text": [
      "checkpoint directory created: ./model\n",
      "saving model version 0.0\n"
     ]
    },
    {
     "name": "stderr",
     "output_type": "stream",
     "text": [
      "description:   0%|                                                           | 0/57 [01:36<?, ?it/s]\n",
      "2025-03-26 02:53:01,284 - ERROR - Error during training: [enforce fail at alloc_cpu.cpp:115] data. DefaultCPUAllocator: not enough memory: you tried to allocate 5619001600 bytes.\n",
      "[I 2025-03-26 02:53:05,742] Trial 73 finished with value: 1000000.0 and parameters: {'n_layers': 2, 'opt': 'Adam', 'steps': 57, 'n_units_0': 1, 'n_units_1': 5}. Best is trial 0 with value: 1000000.0.\n",
      "2025-03-26 02:53:06,163 - INFO - width = [6, 1, 4, 1]\n"
     ]
    },
    {
     "name": "stdout",
     "output_type": "stream",
     "text": [
      "checkpoint directory created: ./model\n",
      "saving model version 0.0\n"
     ]
    },
    {
     "name": "stderr",
     "output_type": "stream",
     "text": [
      "description:   0%|                                                           | 0/76 [01:53<?, ?it/s]\n",
      "2025-03-26 02:55:03,152 - ERROR - Error during training: [enforce fail at alloc_cpu.cpp:115] data. DefaultCPUAllocator: not enough memory: you tried to allocate 5619001600 bytes.\n",
      "[I 2025-03-26 02:55:08,527] Trial 74 finished with value: 1000000.0 and parameters: {'n_layers': 2, 'opt': 'Adam', 'steps': 76, 'n_units_0': 1, 'n_units_1': 4}. Best is trial 0 with value: 1000000.0.\n",
      "2025-03-26 02:55:08,877 - INFO - width = [6, 2, 1]\n"
     ]
    },
    {
     "name": "stdout",
     "output_type": "stream",
     "text": [
      "checkpoint directory created: ./model\n",
      "saving model version 0.0\n"
     ]
    },
    {
     "name": "stderr",
     "output_type": "stream",
     "text": [
      "description:   0%|                                                           | 0/21 [01:40<?, ?it/s]\n",
      "2025-03-26 02:56:53,601 - ERROR - Error during training: [enforce fail at alloc_cpu.cpp:115] data. DefaultCPUAllocator: not enough memory: you tried to allocate 5619001600 bytes.\n",
      "[I 2025-03-26 02:56:57,102] Trial 75 finished with value: 1000000.0 and parameters: {'n_layers': 1, 'opt': 'LBFGS', 'steps': 21, 'n_units_0': 2}. Best is trial 0 with value: 1000000.0.\n",
      "2025-03-26 02:56:57,578 - INFO - width = [6, 2, 2, 1]\n"
     ]
    },
    {
     "name": "stdout",
     "output_type": "stream",
     "text": [
      "checkpoint directory created: ./model\n",
      "saving model version 0.0\n"
     ]
    },
    {
     "name": "stderr",
     "output_type": "stream",
     "text": [
      "description:   0%|                                                           | 0/87 [01:38<?, ?it/s]\n",
      "2025-03-26 02:58:38,769 - ERROR - Error during training: [enforce fail at alloc_cpu.cpp:115] data. DefaultCPUAllocator: not enough memory: you tried to allocate 5619001600 bytes.\n",
      "[I 2025-03-26 02:58:43,295] Trial 76 finished with value: 1000000.0 and parameters: {'n_layers': 2, 'opt': 'Adam', 'steps': 87, 'n_units_0': 2, 'n_units_1': 2}. Best is trial 0 with value: 1000000.0.\n",
      "2025-03-26 02:58:43,621 - INFO - width = [6, 1, 5, 2, 2, 1]\n"
     ]
    },
    {
     "name": "stdout",
     "output_type": "stream",
     "text": [
      "checkpoint directory created: ./model\n",
      "saving model version 0.0\n"
     ]
    },
    {
     "name": "stderr",
     "output_type": "stream",
     "text": [
      "description:   0%|                                                          | 0/108 [01:50<?, ?it/s]\n",
      "2025-03-26 03:00:38,098 - ERROR - Error during training: [enforce fail at alloc_cpu.cpp:115] data. DefaultCPUAllocator: not enough memory: you tried to allocate 5619001600 bytes.\n",
      "[I 2025-03-26 03:00:40,229] Trial 77 finished with value: 1000000.0 and parameters: {'n_layers': 4, 'opt': 'LBFGS', 'steps': 108, 'n_units_0': 1, 'n_units_1': 5, 'n_units_2': 2, 'n_units_3': 2}. Best is trial 0 with value: 1000000.0.\n",
      "2025-03-26 03:00:40,481 - INFO - width = [6, 3, 1]\n"
     ]
    },
    {
     "name": "stdout",
     "output_type": "stream",
     "text": [
      "checkpoint directory created: ./model\n",
      "saving model version 0.0\n"
     ]
    },
    {
     "name": "stderr",
     "output_type": "stream",
     "text": [
      "description:   0%|                                                          | 0/242 [01:47<?, ?it/s]\n",
      "2025-03-26 03:02:30,568 - ERROR - Error during training: [enforce fail at alloc_cpu.cpp:115] data. DefaultCPUAllocator: not enough memory: you tried to allocate 5619001600 bytes.\n",
      "[I 2025-03-26 03:02:33,510] Trial 78 finished with value: 1000000.0 and parameters: {'n_layers': 1, 'opt': 'LBFGS', 'steps': 242, 'n_units_0': 3}. Best is trial 0 with value: 1000000.0.\n",
      "2025-03-26 03:02:34,205 - INFO - width = [6, 1, 3, 1]\n"
     ]
    },
    {
     "name": "stdout",
     "output_type": "stream",
     "text": [
      "checkpoint directory created: ./model\n",
      "saving model version 0.0\n"
     ]
    },
    {
     "name": "stderr",
     "output_type": "stream",
     "text": [
      "description:   0%|                                                          | 0/152 [01:49<?, ?it/s]\n",
      "2025-03-26 03:04:28,344 - ERROR - Error during training: [enforce fail at alloc_cpu.cpp:115] data. DefaultCPUAllocator: not enough memory: you tried to allocate 5619001600 bytes.\n",
      "[I 2025-03-26 03:04:32,467] Trial 79 finished with value: 1000000.0 and parameters: {'n_layers': 2, 'opt': 'Adam', 'steps': 152, 'n_units_0': 1, 'n_units_1': 3}. Best is trial 0 with value: 1000000.0.\n",
      "2025-03-26 03:04:32,740 - INFO - width = [6, 2, 1]\n"
     ]
    },
    {
     "name": "stdout",
     "output_type": "stream",
     "text": [
      "checkpoint directory created: ./model\n",
      "saving model version 0.0\n"
     ]
    },
    {
     "name": "stderr",
     "output_type": "stream",
     "text": [
      "description:   0%|                                                           | 0/63 [01:53<?, ?it/s]\n",
      "2025-03-26 03:06:30,224 - ERROR - Error during training: [enforce fail at alloc_cpu.cpp:115] data. DefaultCPUAllocator: not enough memory: you tried to allocate 5619001600 bytes.\n",
      "[I 2025-03-26 03:06:34,150] Trial 80 finished with value: 1000000.0 and parameters: {'n_layers': 1, 'opt': 'LBFGS', 'steps': 63, 'n_units_0': 2}. Best is trial 0 with value: 1000000.0.\n",
      "2025-03-26 03:06:34,883 - INFO - width = [6, 1, 3, 2, 1, 1]\n"
     ]
    },
    {
     "name": "stdout",
     "output_type": "stream",
     "text": [
      "checkpoint directory created: ./model\n",
      "saving model version 0.0\n"
     ]
    },
    {
     "name": "stderr",
     "output_type": "stream",
     "text": [
      "description:   0%|                                                           | 0/36 [01:48<?, ?it/s]\n",
      "2025-03-26 03:08:27,123 - ERROR - Error during training: [enforce fail at alloc_cpu.cpp:115] data. DefaultCPUAllocator: not enough memory: you tried to allocate 5619001600 bytes.\n",
      "[I 2025-03-26 03:08:30,177] Trial 81 finished with value: 1000000.0 and parameters: {'n_layers': 4, 'opt': 'Adam', 'steps': 36, 'n_units_0': 1, 'n_units_1': 3, 'n_units_2': 2, 'n_units_3': 1}. Best is trial 0 with value: 1000000.0.\n",
      "2025-03-26 03:08:30,637 - INFO - width = [6, 1, 3, 1, 1, 1]\n"
     ]
    },
    {
     "name": "stdout",
     "output_type": "stream",
     "text": [
      "checkpoint directory created: ./model\n",
      "saving model version 0.0\n"
     ]
    },
    {
     "name": "stderr",
     "output_type": "stream",
     "text": [
      "description:   0%|                                                           | 0/51 [01:38<?, ?it/s]\n",
      "2025-03-26 03:10:11,584 - ERROR - Error during training: [enforce fail at alloc_cpu.cpp:115] data. DefaultCPUAllocator: not enough memory: you tried to allocate 5619001600 bytes.\n",
      "[I 2025-03-26 03:10:15,104] Trial 82 finished with value: 1000000.0 and parameters: {'n_layers': 4, 'opt': 'Adam', 'steps': 51, 'n_units_0': 1, 'n_units_1': 3, 'n_units_2': 1, 'n_units_3': 1}. Best is trial 0 with value: 1000000.0.\n",
      "2025-03-26 03:10:15,452 - INFO - width = [6, 1, 3, 2, 1, 1]\n"
     ]
    },
    {
     "name": "stdout",
     "output_type": "stream",
     "text": [
      "checkpoint directory created: ./model\n",
      "saving model version 0.0\n"
     ]
    },
    {
     "name": "stderr",
     "output_type": "stream",
     "text": [
      "description:   0%|                                                           | 0/27 [01:44<?, ?it/s]\n",
      "2025-03-26 03:12:04,036 - ERROR - Error during training: [enforce fail at alloc_cpu.cpp:115] data. DefaultCPUAllocator: not enough memory: you tried to allocate 5619001600 bytes.\n",
      "[I 2025-03-26 03:12:07,920] Trial 83 finished with value: 1000000.0 and parameters: {'n_layers': 4, 'opt': 'Adam', 'steps': 27, 'n_units_0': 1, 'n_units_1': 3, 'n_units_2': 2, 'n_units_3': 1}. Best is trial 0 with value: 1000000.0.\n",
      "2025-03-26 03:12:08,274 - INFO - width = [6, 1, 3, 1, 2, 1]\n"
     ]
    },
    {
     "name": "stdout",
     "output_type": "stream",
     "text": [
      "checkpoint directory created: ./model\n",
      "saving model version 0.0\n"
     ]
    },
    {
     "name": "stderr",
     "output_type": "stream",
     "text": [
      "description:   0%|                                                           | 0/40 [01:45<?, ?it/s]\n",
      "2025-03-26 03:13:56,931 - ERROR - Error during training: [enforce fail at alloc_cpu.cpp:115] data. DefaultCPUAllocator: not enough memory: you tried to allocate 5619001600 bytes.\n",
      "[I 2025-03-26 03:14:00,000] Trial 84 finished with value: 1000000.0 and parameters: {'n_layers': 4, 'opt': 'Adam', 'steps': 40, 'n_units_0': 1, 'n_units_1': 3, 'n_units_2': 1, 'n_units_3': 2}. Best is trial 0 with value: 1000000.0.\n",
      "2025-03-26 03:14:00,583 - INFO - width = [6, 4, 4, 3, 1]\n"
     ]
    },
    {
     "name": "stdout",
     "output_type": "stream",
     "text": [
      "checkpoint directory created: ./model\n",
      "saving model version 0.0\n"
     ]
    },
    {
     "name": "stderr",
     "output_type": "stream",
     "text": [
      "description:   0%|                                                           | 0/13 [01:40<?, ?it/s]\n",
      "2025-03-26 03:15:46,440 - ERROR - Error during training: [enforce fail at alloc_cpu.cpp:115] data. DefaultCPUAllocator: not enough memory: you tried to allocate 5619001600 bytes.\n",
      "[I 2025-03-26 03:15:48,671] Trial 85 finished with value: 1000000.0 and parameters: {'n_layers': 3, 'opt': 'Adam', 'steps': 13, 'n_units_0': 4, 'n_units_1': 4, 'n_units_2': 3}. Best is trial 0 with value: 1000000.0.\n",
      "2025-03-26 03:15:48,928 - INFO - width = [6, 2, 2, 2, 2, 1]\n"
     ]
    },
    {
     "name": "stdout",
     "output_type": "stream",
     "text": [
      "checkpoint directory created: ./model\n",
      "saving model version 0.0\n"
     ]
    },
    {
     "name": "stderr",
     "output_type": "stream",
     "text": [
      "description:   0%|                                                          | 0/299 [01:49<?, ?it/s]\n",
      "2025-03-26 03:17:41,117 - ERROR - Error during training: [enforce fail at alloc_cpu.cpp:115] data. DefaultCPUAllocator: not enough memory: you tried to allocate 5619001600 bytes.\n",
      "[I 2025-03-26 03:17:43,897] Trial 86 finished with value: 1000000.0 and parameters: {'n_layers': 4, 'opt': 'LBFGS', 'steps': 299, 'n_units_0': 2, 'n_units_1': 2, 'n_units_2': 2, 'n_units_3': 2}. Best is trial 0 with value: 1000000.0.\n",
      "2025-03-26 03:17:44,362 - INFO - width = [6, 5, 3, 1]\n"
     ]
    },
    {
     "name": "stdout",
     "output_type": "stream",
     "text": [
      "checkpoint directory created: ./model\n",
      "saving model version 0.0\n"
     ]
    },
    {
     "name": "stderr",
     "output_type": "stream",
     "text": [
      "description:   0%|                                                           | 0/23 [01:34<?, ?it/s]\n",
      "2025-03-26 03:19:24,730 - ERROR - Error during training: [enforce fail at alloc_cpu.cpp:115] data. DefaultCPUAllocator: not enough memory: you tried to allocate 5619001600 bytes.\n",
      "[I 2025-03-26 03:19:28,297] Trial 87 finished with value: 1000000.0 and parameters: {'n_layers': 2, 'opt': 'Adam', 'steps': 23, 'n_units_0': 5, 'n_units_1': 3}. Best is trial 0 with value: 1000000.0.\n",
      "2025-03-26 03:19:28,670 - INFO - width = [6, 1, 4, 4, 3, 1]\n"
     ]
    },
    {
     "name": "stdout",
     "output_type": "stream",
     "text": [
      "checkpoint directory created: ./model\n",
      "saving model version 0.0\n"
     ]
    },
    {
     "name": "stderr",
     "output_type": "stream",
     "text": [
      "description:   0%|                                                           | 0/46 [01:34<?, ?it/s]\n",
      "2025-03-26 03:21:05,460 - ERROR - Error during training: [enforce fail at alloc_cpu.cpp:115] data. DefaultCPUAllocator: not enough memory: you tried to allocate 5619001600 bytes.\n",
      "[I 2025-03-26 03:21:09,501] Trial 88 finished with value: 1000000.0 and parameters: {'n_layers': 4, 'opt': 'LBFGS', 'steps': 46, 'n_units_0': 1, 'n_units_1': 4, 'n_units_2': 4, 'n_units_3': 3}. Best is trial 0 with value: 1000000.0.\n",
      "2025-03-26 03:21:09,882 - INFO - width = [6, 1, 1]\n"
     ]
    },
    {
     "name": "stdout",
     "output_type": "stream",
     "text": [
      "checkpoint directory created: ./model\n",
      "saving model version 0.0\n"
     ]
    },
    {
     "name": "stderr",
     "output_type": "stream",
     "text": [
      "description:   0%|                                                          | 0/167 [01:45<?, ?it/s]\n",
      "2025-03-26 03:22:57,694 - ERROR - Error during training: [enforce fail at alloc_cpu.cpp:115] data. DefaultCPUAllocator: not enough memory: you tried to allocate 5619001600 bytes.\n",
      "[I 2025-03-26 03:23:00,611] Trial 89 finished with value: 1000000.0 and parameters: {'n_layers': 1, 'opt': 'Adam', 'steps': 167, 'n_units_0': 1}. Best is trial 0 with value: 1000000.0.\n",
      "2025-03-26 03:23:00,924 - INFO - width = [6, 4, 2, 1, 1]\n"
     ]
    },
    {
     "name": "stdout",
     "output_type": "stream",
     "text": [
      "checkpoint directory created: ./model\n",
      "saving model version 0.0\n"
     ]
    },
    {
     "name": "stderr",
     "output_type": "stream",
     "text": [
      "description:   0%|                                                          | 0/273 [01:42<?, ?it/s]\n",
      "2025-03-26 03:24:48,148 - ERROR - Error during training: [enforce fail at alloc_cpu.cpp:115] data. DefaultCPUAllocator: not enough memory: you tried to allocate 5619001600 bytes.\n",
      "[I 2025-03-26 03:24:50,836] Trial 90 finished with value: 1000000.0 and parameters: {'n_layers': 3, 'opt': 'LBFGS', 'steps': 273, 'n_units_0': 4, 'n_units_1': 2, 'n_units_2': 1}. Best is trial 0 with value: 1000000.0.\n",
      "2025-03-26 03:24:51,286 - INFO - width = [6, 3, 2, 5, 2, 1]\n"
     ]
    },
    {
     "name": "stdout",
     "output_type": "stream",
     "text": [
      "checkpoint directory created: ./model\n",
      "saving model version 0.0\n"
     ]
    },
    {
     "name": "stderr",
     "output_type": "stream",
     "text": [
      "description:   0%|                                                           | 0/54 [01:43<?, ?it/s]\n",
      "2025-03-26 03:26:38,906 - ERROR - Error during training: [enforce fail at alloc_cpu.cpp:115] data. DefaultCPUAllocator: not enough memory: you tried to allocate 5619001600 bytes.\n",
      "[I 2025-03-26 03:26:40,985] Trial 91 finished with value: 1000000.0 and parameters: {'n_layers': 4, 'opt': 'LBFGS', 'steps': 54, 'n_units_0': 3, 'n_units_1': 2, 'n_units_2': 5, 'n_units_3': 2}. Best is trial 0 with value: 1000000.0.\n",
      "2025-03-26 03:26:41,435 - INFO - width = [6, 2, 2, 4, 1, 1]\n"
     ]
    },
    {
     "name": "stdout",
     "output_type": "stream",
     "text": [
      "checkpoint directory created: ./model\n",
      "saving model version 0.0\n"
     ]
    },
    {
     "name": "stderr",
     "output_type": "stream",
     "text": [
      "description:   0%|                                                           | 0/82 [01:43<?, ?it/s]\n",
      "2025-03-26 03:28:27,169 - ERROR - Error during training: [enforce fail at alloc_cpu.cpp:115] data. DefaultCPUAllocator: not enough memory: you tried to allocate 5619001600 bytes.\n",
      "[I 2025-03-26 03:28:30,756] Trial 92 finished with value: 1000000.0 and parameters: {'n_layers': 4, 'opt': 'LBFGS', 'steps': 82, 'n_units_0': 2, 'n_units_1': 2, 'n_units_2': 4, 'n_units_3': 1}. Best is trial 0 with value: 1000000.0.\n",
      "2025-03-26 03:28:31,202 - INFO - width = [6, 1, 1, 4, 3, 1]\n"
     ]
    },
    {
     "name": "stdout",
     "output_type": "stream",
     "text": [
      "checkpoint directory created: ./model\n",
      "saving model version 0.0\n"
     ]
    },
    {
     "name": "stderr",
     "output_type": "stream",
     "text": [
      "description:   0%|                                                           | 0/28 [01:50<?, ?it/s]\n",
      "2025-03-26 03:30:25,435 - ERROR - Error during training: [enforce fail at alloc_cpu.cpp:115] data. DefaultCPUAllocator: not enough memory: you tried to allocate 5619001600 bytes.\n",
      "[I 2025-03-26 03:30:28,623] Trial 93 finished with value: 1000000.0 and parameters: {'n_layers': 4, 'opt': 'LBFGS', 'steps': 28, 'n_units_0': 1, 'n_units_1': 1, 'n_units_2': 4, 'n_units_3': 3}. Best is trial 0 with value: 1000000.0.\n",
      "2025-03-26 03:30:28,969 - INFO - width = [6, 4, 3, 5, 2, 1]\n"
     ]
    },
    {
     "name": "stdout",
     "output_type": "stream",
     "text": [
      "checkpoint directory created: ./model\n",
      "saving model version 0.0\n"
     ]
    },
    {
     "name": "stderr",
     "output_type": "stream",
     "text": [
      "description:   0%|                                                          | 0/207 [02:02<?, ?it/s]\n",
      "2025-03-26 03:32:36,208 - ERROR - Error during training: [enforce fail at alloc_cpu.cpp:115] data. DefaultCPUAllocator: not enough memory: you tried to allocate 5619001600 bytes.\n",
      "[I 2025-03-26 03:32:39,619] Trial 94 finished with value: 1000000.0 and parameters: {'n_layers': 4, 'opt': 'LBFGS', 'steps': 207, 'n_units_0': 4, 'n_units_1': 3, 'n_units_2': 5, 'n_units_3': 2}. Best is trial 0 with value: 1000000.0.\n",
      "2025-03-26 03:32:40,075 - INFO - width = [6, 3, 2, 5, 1, 1]\n"
     ]
    },
    {
     "name": "stdout",
     "output_type": "stream",
     "text": [
      "checkpoint directory created: ./model\n",
      "saving model version 0.0\n"
     ]
    },
    {
     "name": "stderr",
     "output_type": "stream",
     "text": [
      "description:   0%|                                                           | 0/63 [01:51<?, ?it/s]\n",
      "2025-03-26 03:34:36,323 - ERROR - Error during training: [enforce fail at alloc_cpu.cpp:115] data. DefaultCPUAllocator: not enough memory: you tried to allocate 5619001600 bytes.\n",
      "[I 2025-03-26 03:34:38,774] Trial 95 finished with value: 1000000.0 and parameters: {'n_layers': 4, 'opt': 'LBFGS', 'steps': 63, 'n_units_0': 3, 'n_units_1': 2, 'n_units_2': 5, 'n_units_3': 1}. Best is trial 0 with value: 1000000.0.\n",
      "2025-03-26 03:34:39,313 - INFO - width = [6, 1, 5, 1]\n"
     ]
    },
    {
     "name": "stdout",
     "output_type": "stream",
     "text": [
      "checkpoint directory created: ./model\n",
      "saving model version 0.0\n"
     ]
    },
    {
     "name": "stderr",
     "output_type": "stream",
     "text": [
      "description:   0%|                                                          | 0/286 [01:33<?, ?it/s]\n",
      "2025-03-26 03:36:15,318 - ERROR - Error during training: [enforce fail at alloc_cpu.cpp:115] data. DefaultCPUAllocator: not enough memory: you tried to allocate 5619001600 bytes.\n",
      "[I 2025-03-26 03:36:19,637] Trial 96 finished with value: 1000000.0 and parameters: {'n_layers': 2, 'opt': 'LBFGS', 'steps': 286, 'n_units_0': 1, 'n_units_1': 5}. Best is trial 0 with value: 1000000.0.\n",
      "2025-03-26 03:36:20,106 - INFO - width = [6, 2, 3, 4, 2, 1]\n"
     ]
    },
    {
     "name": "stdout",
     "output_type": "stream",
     "text": [
      "checkpoint directory created: ./model\n",
      "saving model version 0.0\n"
     ]
    },
    {
     "name": "stderr",
     "output_type": "stream",
     "text": [
      "description:   0%|                                                          | 0/256 [01:40<?, ?it/s]\n",
      "2025-03-26 03:38:04,580 - ERROR - Error during training: [enforce fail at alloc_cpu.cpp:115] data. DefaultCPUAllocator: not enough memory: you tried to allocate 5619001600 bytes.\n",
      "[I 2025-03-26 03:38:08,162] Trial 97 finished with value: 1000000.0 and parameters: {'n_layers': 4, 'opt': 'Adam', 'steps': 256, 'n_units_0': 2, 'n_units_1': 3, 'n_units_2': 4, 'n_units_3': 2}. Best is trial 0 with value: 1000000.0.\n",
      "2025-03-26 03:38:08,421 - INFO - width = [6, 5, 1]\n"
     ]
    },
    {
     "name": "stdout",
     "output_type": "stream",
     "text": [
      "checkpoint directory created: ./model\n",
      "saving model version 0.0\n"
     ]
    },
    {
     "name": "stderr",
     "output_type": "stream",
     "text": [
      "description:   0%|                                                          | 0/182 [01:49<?, ?it/s]\n",
      "2025-03-26 03:40:02,083 - ERROR - Error during training: [enforce fail at alloc_cpu.cpp:115] data. DefaultCPUAllocator: not enough memory: you tried to allocate 5619001600 bytes.\n",
      "[I 2025-03-26 03:40:04,692] Trial 98 finished with value: 1000000.0 and parameters: {'n_layers': 1, 'opt': 'LBFGS', 'steps': 182, 'n_units_0': 5}. Best is trial 0 with value: 1000000.0.\n",
      "2025-03-26 03:40:04,997 - INFO - width = [6, 1, 3, 1]\n"
     ]
    },
    {
     "name": "stdout",
     "output_type": "stream",
     "text": [
      "checkpoint directory created: ./model\n",
      "saving model version 0.0\n"
     ]
    },
    {
     "name": "stderr",
     "output_type": "stream",
     "text": [
      "description:   0%|                                                           | 0/17 [01:32<?, ?it/s]\n",
      "2025-03-26 03:41:46,866 - ERROR - Error during training: [enforce fail at alloc_cpu.cpp:115] data. DefaultCPUAllocator: not enough memory: you tried to allocate 5619001600 bytes.\n",
      "[I 2025-03-26 03:41:52,656] Trial 99 finished with value: 1000000.0 and parameters: {'n_layers': 2, 'opt': 'Adam', 'steps': 17, 'n_units_0': 1, 'n_units_1': 3}. Best is trial 0 with value: 1000000.0.\n"
     ]
    },
    {
     "data": {
      "text/plain": [
       "{'n_layers': 2, 'opt': 'Adam', 'steps': 158, 'n_units_0': 1, 'n_units_1': 2}"
      ]
     },
     "execution_count": 13,
     "metadata": {},
     "output_type": "execute_result"
    }
   ],
   "source": [
    "kan_model.optimize_hyperparams(n_trials=100, max_n_layers=4, max_n_units=5, max_steps=300)"
   ]
  },
  {
   "cell_type": "code",
   "execution_count": 23,
   "metadata": {},
   "outputs": [
    {
     "data": {
      "text/plain": [
       "(6, 1)"
      ]
     },
     "execution_count": 23,
     "metadata": {},
     "output_type": "execute_result"
    }
   ],
   "source": [
    "(kan_model.input_layer, kan_model.output_layer,)\n"
   ]
  },
  {
   "cell_type": "code",
   "execution_count": 30,
   "metadata": {},
   "outputs": [
    {
     "data": {
      "text/plain": [
       "1"
      ]
     },
     "execution_count": 30,
     "metadata": {},
     "output_type": "execute_result"
    }
   ],
   "source": [
    "len(kan_model.output_layer.shape)"
   ]
  },
  {
   "cell_type": "code",
   "execution_count": null,
   "metadata": {},
   "outputs": [],
   "source": []
  }
 ],
 "metadata": {
  "colab": {
   "provenance": []
  },
  "kernelspec": {
   "display_name": ".venv",
   "language": "python",
   "name": "python3"
  },
  "language_info": {
   "codemirror_mode": {
    "name": "ipython",
    "version": 3
   },
   "file_extension": ".py",
   "mimetype": "text/x-python",
   "name": "python",
   "nbconvert_exporter": "python",
   "pygments_lexer": "ipython3",
   "version": "3.9.5"
  }
 },
 "nbformat": 4,
 "nbformat_minor": 0
}

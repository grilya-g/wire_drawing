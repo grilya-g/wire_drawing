{
 "cells": [
  {
   "cell_type": "code",
   "execution_count": 1,
   "metadata": {
    "collapsed": false
   },
   "outputs": [],
   "source": [
    "import importlib\n",
    "import optuna\n",
    "import numpy as np\n",
    "import pandas as pd\n",
    "import matplotlib.pyplot as plt\n",
    "import seaborn as sns\n",
    "import os"
   ]
  },
  {
   "cell_type": "code",
   "execution_count": 2,
   "metadata": {
    "collapsed": false
   },
   "outputs": [],
   "source": [
    "from analysis_functions import *"
   ]
  },
  {
   "cell_type": "code",
   "execution_count": 3,
   "metadata": {
    "collapsed": false
   },
   "outputs": [],
   "source": [
    "importlib.reload(sys.modules['analysis_functions'])\n",
    "from analysis_functions import *"
   ]
  },
  {
   "cell_type": "code",
   "execution_count": 4,
   "metadata": {
    "colab": {
     "base_uri": "https://localhost:8080/"
    },
    "id": "NJMogF0Hsiyy",
    "outputId": "656acbe6-f02e-4395-b1f7-e0833f801402"
   },
   "outputs": [
    {
     "name": "stdout",
     "output_type": "stream",
     "text": [
      "./resourses//X_stress_components_new.pkl\n",
      "./resourses//X_strain_components_new.pkl\n",
      "./resourses//y_stress_components_new.pkl\n",
      "./resourses//y_strain_components_new.pkl\n"
     ]
    }
   ],
   "source": [
    "X_stress_components_new = opener('X_stress_components_new', path_import='./resourses/')\n",
    "X_strain_components_new = opener('X_strain_components_new', path_import='./resourses/')\n",
    "y_stress_components_new = opener('y_stress_components_new', path_import='./resourses/')\n",
    "y_strain_components_new = opener('y_strain_components_new', path_import='./resourses/')\n",
    "# X_stress_components_other = opener('X_stress_components_other')\n",
    "# X_strain_components_other = opener('X_strain_components_other')\n",
    "# y_stress_components_other = opener('y_stress_components_other')\n",
    "# y_strain_components_other = opener('y_strain_components_other')"
   ]
  },
  {
   "cell_type": "code",
   "execution_count": 5,
   "metadata": {
    "id": "wGPCYJtwyxi_"
   },
   "outputs": [
    {
     "data": {
      "text/plain": [
       "(3, 2678, 5)"
      ]
     },
     "execution_count": 5,
     "metadata": {},
     "output_type": "execute_result"
    }
   ],
   "source": [
    "X_stress_components_new.shape"
   ]
  },
  {
   "cell_type": "code",
   "execution_count": 6,
   "metadata": {
    "collapsed": false
   },
   "outputs": [],
   "source": [
    "component_num = 1\n",
    "n_trials = 200"
   ]
  },
  {
   "cell_type": "code",
   "execution_count": 7,
   "metadata": {},
   "outputs": [],
   "source": [
    "import seaborn as sns\n",
    "import matplotlib.pyplot as plt\n",
    "sns.set_style('whitegrid')"
   ]
  },
  {
   "cell_type": "code",
   "execution_count": 8,
   "metadata": {},
   "outputs": [],
   "source": [
    "import shutil\n",
    "import numpy as np\n",
    "from sklearn.metrics import mean_squared_error\n",
    "\n",
    "def plot_results(x, y, model_name, do_zip=False, dpi=500, delete_and_rewrite=True):\n",
    "    cur_X_test, cur_y_test, *_ = get_train_test(x, y)\n",
    "\n",
    "    model = opener(model_name)\n",
    "    cur_prediction = model.predict(cur_X_test)\n",
    "    print('rmse = ', np.sqrt(mean_squared_error(cur_y_test, cur_prediction)))\n",
    "    \n",
    "    if delete_and_rewrite:\n",
    "        os.makedirs(model_name, exist_ok=True)\n",
    "    \n",
    "    for i, item in enumerate(cur_X_test[::20]):\n",
    "        fig = plt.figure(figsize=(5, 4))\n",
    "        plt.plot(\n",
    "            cur_X_test[i*20:(i+1)*20, -1],\n",
    "            cur_prediction[i*20:(i+1)*20],\n",
    "            '-o',\n",
    "            label='predicted'\n",
    "        )\n",
    "        plt.plot(\n",
    "            cur_X_test[i*20:(i+1)*20, -1],\n",
    "            cur_y_test[i*20:(i+1)*20],\n",
    "            '-o',\n",
    "            label='real'\n",
    "        )\n",
    "        title = f'red {item[0]}, cal {item[1]}, alpha {int(item[2])}, fric {item[3]}'\n",
    "        plt.title(title)\n",
    "        plt.legend(loc='best')\n",
    "        plt.xlabel('r, -')\n",
    "        plt.ylabel('$\\sigma$, MPa')\n",
    "        # plt.show()\n",
    "        plt.savefig(''.join((model_name, '/', title, '.png')), format='png', dpi=dpi)\n",
    "        plt.close()\n",
    "        # break\n",
    "    if do_zip: shutil.make_archive(model_name, 'zip', model_name)"
   ]
  },
  {
   "cell_type": "code",
   "execution_count": 9,
   "metadata": {},
   "outputs": [
    {
     "data": {
      "text/plain": [
       "array([ 0.25,  1.  , 20.  ,  0.1 , 40.  ])"
      ]
     },
     "execution_count": 9,
     "metadata": {},
     "output_type": "execute_result"
    }
   ],
   "source": [
    "X_stress_components_new[0].max(axis=0)"
   ]
  },
  {
   "cell_type": "markdown",
   "metadata": {},
   "source": [
    "# KAN "
   ]
  },
  {
   "cell_type": "code",
   "execution_count": 10,
   "metadata": {},
   "outputs": [],
   "source": [
    "import importlib\n",
    "import sys\n",
    "\n",
    "KANModelTrainTest = importlib.reload(sys.modules[\"analysis_functions\"]).KANModelTrainTest"
   ]
  },
  {
   "cell_type": "code",
   "execution_count": 11,
   "metadata": {},
   "outputs": [],
   "source": [
    "kan_model:KANModelTrainTest = KANModelTrainTest() # type: ignore"
   ]
  },
  {
   "cell_type": "code",
   "execution_count": 12,
   "metadata": {},
   "outputs": [],
   "source": [
    "kan_model.create_train_val_test(X=X_stress_components_new[0], y=y_stress_components_new[0])"
   ]
  },
  {
   "cell_type": "code",
   "execution_count": 13,
   "metadata": {},
   "outputs": [],
   "source": [
    "# kan_model.optimize_hyperparams(n_trials=1)"
   ]
  },
  {
   "cell_type": "code",
   "execution_count": 23,
   "metadata": {},
   "outputs": [
    {
     "data": {
      "text/plain": [
       "(6, 1)"
      ]
     },
     "execution_count": 23,
     "metadata": {},
     "output_type": "execute_result"
    }
   ],
   "source": [
    "(kan_model.input_layer, kan_model.output_layer,)\n"
   ]
  },
  {
   "cell_type": "code",
   "execution_count": 30,
   "metadata": {},
   "outputs": [
    {
     "data": {
      "text/plain": [
       "1"
      ]
     },
     "execution_count": 30,
     "metadata": {},
     "output_type": "execute_result"
    }
   ],
   "source": [
    "len(kan_model.output_layer.shape)"
   ]
  },
  {
   "cell_type": "code",
   "execution_count": null,
   "metadata": {},
   "outputs": [],
   "source": []
  }
 ],
 "metadata": {
  "colab": {
   "provenance": []
  },
  "kernelspec": {
   "display_name": ".venv",
   "language": "python",
   "name": "python3"
  },
  "language_info": {
   "codemirror_mode": {
    "name": "ipython",
    "version": 3
   },
   "file_extension": ".py",
   "mimetype": "text/x-python",
   "name": "python",
   "nbconvert_exporter": "python",
   "pygments_lexer": "ipython3",
   "version": "3.9.13"
  }
 },
 "nbformat": 4,
 "nbformat_minor": 0
}

{
 "cells": [
  {
   "cell_type": "code",
   "execution_count": null,
   "outputs": [],
   "source": [
    "import importlib\n",
    "import optuna"
   ],
   "metadata": {
    "collapsed": false
   }
  },
  {
   "cell_type": "code",
   "execution_count": 0,
   "outputs": [],
   "source": [
    "from analysis_functions import *"
   ],
   "metadata": {
    "collapsed": false
   }
  },
  {
   "cell_type": "code",
   "execution_count": 19,
   "outputs": [],
   "source": [
    "importlib.reload(sys.modules['analysis_functions'])\n",
    "from analysis_functions import *"
   ],
   "metadata": {
    "collapsed": false
   }
  },
  {
   "cell_type": "code",
   "execution_count": 8,
   "metadata": {
    "colab": {
     "base_uri": "https://localhost:8080/"
    },
    "id": "NJMogF0Hsiyy",
    "outputId": "656acbe6-f02e-4395-b1f7-e0833f801402"
   },
   "outputs": [
    {
     "name": "stdout",
     "output_type": "stream",
     "text": [
      "./resourses//X_stress_components_new.pkl\n",
      "./resourses//X_strain_components_new.pkl\n",
      "./resourses//y_stress_components_new.pkl\n",
      "./resourses//y_strain_components_new.pkl\n"
     ]
    }
   ],
   "source": [
    "X_stress_components_new = opener('X_stress_components_new', path_import='./resourses/')\n",
    "X_strain_components_new = opener('X_strain_components_new', path_import='./resourses/')\n",
    "y_stress_components_new = opener('y_stress_components_new', path_import='./resourses/')\n",
    "y_strain_components_new = opener('y_strain_components_new', path_import='./resourses/')\n",
    "# X_stress_components_other = opener('X_stress_components_other')\n",
    "# X_strain_components_other = opener('X_strain_components_other')\n",
    "# y_stress_components_other = opener('y_stress_components_other')\n",
    "# y_strain_components_other = opener('y_strain_components_other')"
   ]
  },
  {
   "cell_type": "code",
   "execution_count": 9,
   "metadata": {
    "id": "wGPCYJtwyxi_"
   },
   "outputs": [
    {
     "data": {
      "text/plain": "(3, 2678, 5)"
     },
     "execution_count": 9,
     "metadata": {},
     "output_type": "execute_result"
    }
   ],
   "source": [
    "X_stress_components_new.shape"
   ]
  },
  {
   "cell_type": "code",
   "execution_count": 30,
   "metadata": {
    "id": "NKzna25r0ssb"
   },
   "outputs": [],
   "source": [
    "df_results = pd.DataFrame(\n",
    "    columns=[\n",
    "            # Constructional\n",
    "             'n_layers', 'n_neurons', 'solver', 'max_iter',\n",
    "             'learning_rate_init', 'learning_rate', 'early_stopping',\n",
    "             'activation', 'n_splits', 'alpha',\n",
    "\n",
    "            # Resultant _val\n",
    "             'explained_variance_score_val', 'median_absolute_error_val',\n",
    "             'mean_squared_error_val', 'mean_absolute_error_val',\n",
    "             'r2_score_val', 'max_error_val', 'AIC_val', 'BIC_val',\n",
    "\n",
    "            # Resultant _test\n",
    "             'explained_variance_score_test', 'median_absolute_error_test',\n",
    "             'mean_squared_error_test', 'mean_absolute_error_test',\n",
    "             'r2_score_test', 'max_error_test', 'AIC_test', 'BIC_test'\n",
    "            ]\n",
    "    )"
   ]
  },
  {
   "cell_type": "code",
   "execution_count": 21,
   "outputs": [],
   "source": [
    "component_num = 1\n",
    "n_trials_list = [10, 50, 100, 200, 500]"
   ],
   "metadata": {
    "collapsed": false
   }
  },
  {
   "cell_type": "code",
   "execution_count": null,
   "outputs": [],
   "source": [
    "best_params_list = []"
   ],
   "metadata": {
    "collapsed": false
   }
  },
  {
   "cell_type": "code",
   "execution_count": 20,
   "metadata": {},
   "outputs": [
    {
     "name": "stderr",
     "output_type": "stream",
     "text": [
      "[I 2024-10-07 23:50:26,060] A new study created in memory with name: no-name-b18ea87f-bf1b-4f66-8951-6fdb6d49709d\n",
      "/Users/i.grebenkin/.local/lib/python3.9/site-packages/sklearn/metrics/_regression.py:492: FutureWarning: 'squared' is deprecated in version 1.4 and will be removed in 1.6. To calculate the root mean squared error, use the function'root_mean_squared_error'.\n",
      "  warnings.warn(\n",
      "/Users/i.grebenkin/.local/lib/python3.9/site-packages/sklearn/metrics/_regression.py:492: FutureWarning: 'squared' is deprecated in version 1.4 and will be removed in 1.6. To calculate the root mean squared error, use the function'root_mean_squared_error'.\n",
      "  warnings.warn(\n"
     ]
    },
    {
     "ename": "KeyboardInterrupt",
     "evalue": "",
     "output_type": "error",
     "traceback": [
      "\u001B[0;31m---------------------------------------------------------------------------\u001B[0m",
      "\u001B[0;31mKeyboardInterrupt\u001B[0m                         Traceback (most recent call last)",
      "Input \u001B[0;32mIn [20]\u001B[0m, in \u001B[0;36m<cell line: 1>\u001B[0;34m()\u001B[0m\n\u001B[1;32m      1\u001B[0m \u001B[38;5;28;01mfor\u001B[39;00m n_trials \u001B[38;5;129;01min\u001B[39;00m [\u001B[38;5;241m2\u001B[39m]:\n\u001B[0;32m----> 2\u001B[0m     best_params, cur_X_test, cur_y_test \u001B[38;5;241m=\u001B[39m \u001B[43mdo_optuna\u001B[49m\u001B[43m(\u001B[49m\u001B[43mX_stress_components\u001B[49m\u001B[43m[\u001B[49m\u001B[43mcomponent_num\u001B[49m\u001B[43m]\u001B[49m\u001B[43m,\u001B[49m\n\u001B[1;32m      3\u001B[0m \u001B[43m                                                    \u001B[49m\u001B[43my_stress_components\u001B[49m\u001B[43m[\u001B[49m\u001B[43mcomponent_num\u001B[49m\u001B[43m]\u001B[49m\u001B[43m,\u001B[49m\n\u001B[1;32m      4\u001B[0m \u001B[43m                                                    \u001B[49m\u001B[43mn_trials\u001B[49m\u001B[43m)\u001B[49m\n",
      "File \u001B[0;32m~/pythonProjects/учеба/wire_drawing/analysis_functions.py:874\u001B[0m, in \u001B[0;36mdo_optuna\u001B[0;34m(X, y, n_trials, **kwargs)\u001B[0m\n\u001B[1;32m    871\u001B[0m \u001B[38;5;66;03m# Create a study object to optimize the objective\u001B[39;00m\n\u001B[1;32m    872\u001B[0m \u001B[38;5;66;03m# study = optuna.create_study(direction='maximize') # evs\u001B[39;00m\n\u001B[1;32m    873\u001B[0m study \u001B[38;5;241m=\u001B[39m optuna\u001B[38;5;241m.\u001B[39mcreate_study(direction\u001B[38;5;241m=\u001B[39m\u001B[38;5;124m'\u001B[39m\u001B[38;5;124mminimize\u001B[39m\u001B[38;5;124m'\u001B[39m)  \u001B[38;5;66;03m# rmse\u001B[39;00m\n\u001B[0;32m--> 874\u001B[0m \u001B[43mstudy\u001B[49m\u001B[38;5;241;43m.\u001B[39;49m\u001B[43moptimize\u001B[49m\u001B[43m(\u001B[49m\u001B[43moptuna_ann_stress_strains_val\u001B[49m\u001B[43m,\u001B[49m\u001B[43m \u001B[49m\u001B[43mn_trials\u001B[49m\u001B[38;5;241;43m=\u001B[39;49m\u001B[43mn_trials\u001B[49m\u001B[43m,\u001B[49m\u001B[43m \u001B[49m\u001B[43mn_jobs\u001B[49m\u001B[38;5;241;43m=\u001B[39;49m\u001B[38;5;241;43m-\u001B[39;49m\u001B[38;5;241;43m1\u001B[39;49m\u001B[43m)\u001B[49m\n\u001B[1;32m    876\u001B[0m \u001B[38;5;66;03m# Print the best hyperparameters found by Optuna\u001B[39;00m\n\u001B[1;32m    877\u001B[0m best_params \u001B[38;5;241m=\u001B[39m study\u001B[38;5;241m.\u001B[39mbest_params\n",
      "File \u001B[0;32m~/.local/lib/python3.9/site-packages/optuna/study/study.py:475\u001B[0m, in \u001B[0;36mStudy.optimize\u001B[0;34m(self, func, n_trials, timeout, n_jobs, catch, callbacks, gc_after_trial, show_progress_bar)\u001B[0m\n\u001B[1;32m    373\u001B[0m \u001B[38;5;28;01mdef\u001B[39;00m \u001B[38;5;21moptimize\u001B[39m(\n\u001B[1;32m    374\u001B[0m     \u001B[38;5;28mself\u001B[39m,\n\u001B[1;32m    375\u001B[0m     func: ObjectiveFuncType,\n\u001B[0;32m   (...)\u001B[0m\n\u001B[1;32m    382\u001B[0m     show_progress_bar: \u001B[38;5;28mbool\u001B[39m \u001B[38;5;241m=\u001B[39m \u001B[38;5;28;01mFalse\u001B[39;00m,\n\u001B[1;32m    383\u001B[0m ) \u001B[38;5;241m-\u001B[39m\u001B[38;5;241m>\u001B[39m \u001B[38;5;28;01mNone\u001B[39;00m:\n\u001B[1;32m    384\u001B[0m     \u001B[38;5;124;03m\"\"\"Optimize an objective function.\u001B[39;00m\n\u001B[1;32m    385\u001B[0m \n\u001B[1;32m    386\u001B[0m \u001B[38;5;124;03m    Optimization is done by choosing a suitable set of hyperparameter values from a given\u001B[39;00m\n\u001B[0;32m   (...)\u001B[0m\n\u001B[1;32m    473\u001B[0m \u001B[38;5;124;03m            If nested invocation of this method occurs.\u001B[39;00m\n\u001B[1;32m    474\u001B[0m \u001B[38;5;124;03m    \"\"\"\u001B[39;00m\n\u001B[0;32m--> 475\u001B[0m     \u001B[43m_optimize\u001B[49m\u001B[43m(\u001B[49m\n\u001B[1;32m    476\u001B[0m \u001B[43m        \u001B[49m\u001B[43mstudy\u001B[49m\u001B[38;5;241;43m=\u001B[39;49m\u001B[38;5;28;43mself\u001B[39;49m\u001B[43m,\u001B[49m\n\u001B[1;32m    477\u001B[0m \u001B[43m        \u001B[49m\u001B[43mfunc\u001B[49m\u001B[38;5;241;43m=\u001B[39;49m\u001B[43mfunc\u001B[49m\u001B[43m,\u001B[49m\n\u001B[1;32m    478\u001B[0m \u001B[43m        \u001B[49m\u001B[43mn_trials\u001B[49m\u001B[38;5;241;43m=\u001B[39;49m\u001B[43mn_trials\u001B[49m\u001B[43m,\u001B[49m\n\u001B[1;32m    479\u001B[0m \u001B[43m        \u001B[49m\u001B[43mtimeout\u001B[49m\u001B[38;5;241;43m=\u001B[39;49m\u001B[43mtimeout\u001B[49m\u001B[43m,\u001B[49m\n\u001B[1;32m    480\u001B[0m \u001B[43m        \u001B[49m\u001B[43mn_jobs\u001B[49m\u001B[38;5;241;43m=\u001B[39;49m\u001B[43mn_jobs\u001B[49m\u001B[43m,\u001B[49m\n\u001B[1;32m    481\u001B[0m \u001B[43m        \u001B[49m\u001B[43mcatch\u001B[49m\u001B[38;5;241;43m=\u001B[39;49m\u001B[38;5;28;43mtuple\u001B[39;49m\u001B[43m(\u001B[49m\u001B[43mcatch\u001B[49m\u001B[43m)\u001B[49m\u001B[43m \u001B[49m\u001B[38;5;28;43;01mif\u001B[39;49;00m\u001B[43m \u001B[49m\u001B[38;5;28;43misinstance\u001B[39;49m\u001B[43m(\u001B[49m\u001B[43mcatch\u001B[49m\u001B[43m,\u001B[49m\u001B[43m \u001B[49m\u001B[43mIterable\u001B[49m\u001B[43m)\u001B[49m\u001B[43m \u001B[49m\u001B[38;5;28;43;01melse\u001B[39;49;00m\u001B[43m \u001B[49m\u001B[43m(\u001B[49m\u001B[43mcatch\u001B[49m\u001B[43m,\u001B[49m\u001B[43m)\u001B[49m\u001B[43m,\u001B[49m\n\u001B[1;32m    482\u001B[0m \u001B[43m        \u001B[49m\u001B[43mcallbacks\u001B[49m\u001B[38;5;241;43m=\u001B[39;49m\u001B[43mcallbacks\u001B[49m\u001B[43m,\u001B[49m\n\u001B[1;32m    483\u001B[0m \u001B[43m        \u001B[49m\u001B[43mgc_after_trial\u001B[49m\u001B[38;5;241;43m=\u001B[39;49m\u001B[43mgc_after_trial\u001B[49m\u001B[43m,\u001B[49m\n\u001B[1;32m    484\u001B[0m \u001B[43m        \u001B[49m\u001B[43mshow_progress_bar\u001B[49m\u001B[38;5;241;43m=\u001B[39;49m\u001B[43mshow_progress_bar\u001B[49m\u001B[43m,\u001B[49m\n\u001B[1;32m    485\u001B[0m \u001B[43m    \u001B[49m\u001B[43m)\u001B[49m\n",
      "File \u001B[0;32m~/.local/lib/python3.9/site-packages/optuna/study/_optimize.py:102\u001B[0m, in \u001B[0;36m_optimize\u001B[0;34m(study, func, n_trials, timeout, n_jobs, catch, callbacks, gc_after_trial, show_progress_bar)\u001B[0m\n\u001B[1;32m     99\u001B[0m                     \u001B[38;5;28;01mfor\u001B[39;00m f \u001B[38;5;129;01min\u001B[39;00m completed:\n\u001B[1;32m    100\u001B[0m                         f\u001B[38;5;241m.\u001B[39mresult()\n\u001B[0;32m--> 102\u001B[0m                 futures\u001B[38;5;241m.\u001B[39madd(\n\u001B[1;32m    103\u001B[0m                     executor\u001B[38;5;241m.\u001B[39msubmit(\n\u001B[1;32m    104\u001B[0m                         _optimize_sequential,\n\u001B[1;32m    105\u001B[0m                         study,\n\u001B[1;32m    106\u001B[0m                         func,\n\u001B[1;32m    107\u001B[0m                         \u001B[38;5;241m1\u001B[39m,\n\u001B[1;32m    108\u001B[0m                         timeout,\n\u001B[1;32m    109\u001B[0m                         catch,\n\u001B[1;32m    110\u001B[0m                         callbacks,\n\u001B[1;32m    111\u001B[0m                         gc_after_trial,\n\u001B[1;32m    112\u001B[0m                         \u001B[38;5;28;01mTrue\u001B[39;00m,\n\u001B[1;32m    113\u001B[0m                         time_start,\n\u001B[1;32m    114\u001B[0m                         progress_bar,\n\u001B[1;32m    115\u001B[0m                     )\n\u001B[1;32m    116\u001B[0m                 )\n\u001B[1;32m    117\u001B[0m \u001B[38;5;28;01mfinally\u001B[39;00m:\n\u001B[1;32m    118\u001B[0m     study\u001B[38;5;241m.\u001B[39m_thread_local\u001B[38;5;241m.\u001B[39min_optimize_loop \u001B[38;5;241m=\u001B[39m \u001B[38;5;28;01mFalse\u001B[39;00m\n",
      "File \u001B[0;32m~/anaconda3/lib/python3.9/concurrent/futures/_base.py:637\u001B[0m, in \u001B[0;36mExecutor.__exit__\u001B[0;34m(self, exc_type, exc_val, exc_tb)\u001B[0m\n\u001B[1;32m    636\u001B[0m \u001B[38;5;28;01mdef\u001B[39;00m \u001B[38;5;21m__exit__\u001B[39m(\u001B[38;5;28mself\u001B[39m, exc_type, exc_val, exc_tb):\n\u001B[0;32m--> 637\u001B[0m     \u001B[38;5;28;43mself\u001B[39;49m\u001B[38;5;241;43m.\u001B[39;49m\u001B[43mshutdown\u001B[49m\u001B[43m(\u001B[49m\u001B[43mwait\u001B[49m\u001B[38;5;241;43m=\u001B[39;49m\u001B[38;5;28;43;01mTrue\u001B[39;49;00m\u001B[43m)\u001B[49m\n\u001B[1;32m    638\u001B[0m     \u001B[38;5;28;01mreturn\u001B[39;00m \u001B[38;5;28;01mFalse\u001B[39;00m\n",
      "File \u001B[0;32m~/anaconda3/lib/python3.9/concurrent/futures/thread.py:235\u001B[0m, in \u001B[0;36mThreadPoolExecutor.shutdown\u001B[0;34m(self, wait, cancel_futures)\u001B[0m\n\u001B[1;32m    233\u001B[0m \u001B[38;5;28;01mif\u001B[39;00m wait:\n\u001B[1;32m    234\u001B[0m     \u001B[38;5;28;01mfor\u001B[39;00m t \u001B[38;5;129;01min\u001B[39;00m \u001B[38;5;28mself\u001B[39m\u001B[38;5;241m.\u001B[39m_threads:\n\u001B[0;32m--> 235\u001B[0m         \u001B[43mt\u001B[49m\u001B[38;5;241;43m.\u001B[39;49m\u001B[43mjoin\u001B[49m\u001B[43m(\u001B[49m\u001B[43m)\u001B[49m\n",
      "File \u001B[0;32m~/anaconda3/lib/python3.9/threading.py:1060\u001B[0m, in \u001B[0;36mThread.join\u001B[0;34m(self, timeout)\u001B[0m\n\u001B[1;32m   1057\u001B[0m     \u001B[38;5;28;01mraise\u001B[39;00m \u001B[38;5;167;01mRuntimeError\u001B[39;00m(\u001B[38;5;124m\"\u001B[39m\u001B[38;5;124mcannot join current thread\u001B[39m\u001B[38;5;124m\"\u001B[39m)\n\u001B[1;32m   1059\u001B[0m \u001B[38;5;28;01mif\u001B[39;00m timeout \u001B[38;5;129;01mis\u001B[39;00m \u001B[38;5;28;01mNone\u001B[39;00m:\n\u001B[0;32m-> 1060\u001B[0m     \u001B[38;5;28;43mself\u001B[39;49m\u001B[38;5;241;43m.\u001B[39;49m\u001B[43m_wait_for_tstate_lock\u001B[49m\u001B[43m(\u001B[49m\u001B[43m)\u001B[49m\n\u001B[1;32m   1061\u001B[0m \u001B[38;5;28;01melse\u001B[39;00m:\n\u001B[1;32m   1062\u001B[0m     \u001B[38;5;66;03m# the behavior of a negative timeout isn't documented, but\u001B[39;00m\n\u001B[1;32m   1063\u001B[0m     \u001B[38;5;66;03m# historically .join(timeout=x) for x<0 has acted as if timeout=0\u001B[39;00m\n\u001B[1;32m   1064\u001B[0m     \u001B[38;5;28mself\u001B[39m\u001B[38;5;241m.\u001B[39m_wait_for_tstate_lock(timeout\u001B[38;5;241m=\u001B[39m\u001B[38;5;28mmax\u001B[39m(timeout, \u001B[38;5;241m0\u001B[39m))\n",
      "File \u001B[0;32m~/anaconda3/lib/python3.9/threading.py:1080\u001B[0m, in \u001B[0;36mThread._wait_for_tstate_lock\u001B[0;34m(self, block, timeout)\u001B[0m\n\u001B[1;32m   1077\u001B[0m     \u001B[38;5;28;01mreturn\u001B[39;00m\n\u001B[1;32m   1079\u001B[0m \u001B[38;5;28;01mtry\u001B[39;00m:\n\u001B[0;32m-> 1080\u001B[0m     \u001B[38;5;28;01mif\u001B[39;00m \u001B[43mlock\u001B[49m\u001B[38;5;241;43m.\u001B[39;49m\u001B[43macquire\u001B[49m\u001B[43m(\u001B[49m\u001B[43mblock\u001B[49m\u001B[43m,\u001B[49m\u001B[43m \u001B[49m\u001B[43mtimeout\u001B[49m\u001B[43m)\u001B[49m:\n\u001B[1;32m   1081\u001B[0m         lock\u001B[38;5;241m.\u001B[39mrelease()\n\u001B[1;32m   1082\u001B[0m         \u001B[38;5;28mself\u001B[39m\u001B[38;5;241m.\u001B[39m_stop()\n",
      "\u001B[0;31mKeyboardInterrupt\u001B[0m: "
     ]
    }
   ],
   "source": [
    "for n_trials in n_trials_list:\n",
    "    best_params, cur_X_test, cur_y_test = do_optuna(X_stress_components_new[component_num],\n",
    "                                                    y_stress_components_new[component_num],\n",
    "                                                    n_trials)\n",
    "    best_params_list.append(best_params)"
   ]
  },
  {
   "cell_type": "code",
   "execution_count": 164,
   "metadata": {},
   "outputs": [
    {
     "name": "stdout",
     "output_type": "stream",
     "text": [
      "saved in d:\\учеба/optuna_200_3cv.pkl\n",
      "test rmse =  4.872450206028714\n"
     ]
    },
    {
     "name": "stderr",
     "output_type": "stream",
     "text": [
      "C:\\Users\\acer\\AppData\\Roaming\\Python\\Python38\\site-packages\\sklearn\\neural_network\\_multilayer_perceptron.py:546: ConvergenceWarning: lbfgs failed to converge (status=1):\n",
      "STOP: TOTAL NO. of ITERATIONS REACHED LIMIT.\n",
      "\n",
      "Increase the number of iterations (max_iter) or scale the data as shown in:\n",
      "    https://scikit-learn.org/stable/modules/preprocessing.html\n",
      "  self.n_iter_ = _check_optimize_result(\"lbfgs\", opt_res, self.max_iter)\n"
     ]
    }
   ],
   "source": [
    "path_to_save_model = './learned_models/'\n",
    "\n",
    "for i, best_params in enumerate(best_params_list):\n",
    "    optuna_200_3cv, cur_prediction, cur_y_test, cur_X_test = test_after_opt(\n",
    "        best_params, X_stress_components[component_num], y_stress_components[component_num],\n",
    "        f'optuna_{n_trials_list[i]}_3cv', path_to_save_model)"
   ]
  },
  {
   "cell_type": "code",
   "execution_count": 60,
   "metadata": {},
   "outputs": [],
   "source": [
    "sns.set_style('whitegrid')"
   ]
  },
  {
   "cell_type": "code",
   "execution_count": 96,
   "metadata": {},
   "outputs": [],
   "source": [
    "import shutil\n",
    "\n",
    "def plot_results(x, y, model_name, do_zip=False, dpi=500, delete_and_rewrite=True):\n",
    "    cur_X_test, cur_y_test, *_ = get_train_test(x, y)\n",
    "\n",
    "    model = opener(model_name)\n",
    "    cur_prediction = model.predict(cur_X_test)\n",
    "    print('rmse = ', np.sqrt(mean_squared_error(cur_y_test, cur_prediction)))\n",
    "    \n",
    "    if delete_and_rewrite:\n",
    "        os.makedirs(model_name, exist_ok=True)\n",
    "    \n",
    "    for i, item in enumerate(cur_X_test[::20]):\n",
    "        fig = plt.figure(figsize=(5, 4))\n",
    "        plt.plot(\n",
    "            cur_X_test[i*20:(i+1)*20, -1],\n",
    "            cur_prediction[i*20:(i+1)*20],\n",
    "            '-o',\n",
    "            label='predicted'\n",
    "        )\n",
    "        plt.plot(\n",
    "            cur_X_test[i*20:(i+1)*20, -1],\n",
    "            cur_y_test[i*20:(i+1)*20],\n",
    "            '-o',\n",
    "            label='real'\n",
    "        )\n",
    "        title = f'red {item[0]}, cal {item[1]}, alpha {int(item[2])}, fric {item[3]}'\n",
    "        plt.title(title)\n",
    "        plt.legend(loc='best')\n",
    "        plt.xlabel('r, -')\n",
    "        plt.ylabel('$\\sigma$, MPa')\n",
    "        # plt.show()\n",
    "        plt.savefig(''.join((model_name, '/', title, '.png')), format='png', dpi=dpi)\n",
    "        plt.close()\n",
    "        # break\n",
    "    if do_zip: shutil.make_archive(model_name, 'zip', model_name)"
   ]
  },
  {
   "cell_type": "code",
   "execution_count": 102,
   "metadata": {},
   "outputs": [
    {
     "data": {
      "text/plain": [
       "array([ 0.3,  1. , 20. ,  0.1])"
      ]
     },
     "execution_count": 102,
     "metadata": {},
     "output_type": "execute_result"
    }
   ],
   "source": [
    "X_stress_components[0].max(axis=0)"
   ]
  },
  {
   "cell_type": "code",
   "execution_count": 97,
   "metadata": {},
   "outputs": [
    {
     "name": "stdout",
     "output_type": "stream",
     "text": [
      "d:\\учеба/optuna_200_3cv_no_SS.pkl\n",
      "rmse =  1.376178095536843\n"
     ]
    }
   ],
   "source": [
    "plot_results(\n",
    "    X_stress_components[0],\n",
    "    y_stress_components[0],\n",
    "    'optuna_200_3cv_no_SS',\n",
    "    do_zip=True\n",
    ")"
   ]
  },
  {
   "cell_type": "code",
   "execution_count": 98,
   "metadata": {},
   "outputs": [
    {
     "name": "stdout",
     "output_type": "stream",
     "text": [
      "d:\\учеба/optuna_200_3cv.pkl\n",
      "rmse =  4.872450206028714\n"
     ]
    }
   ],
   "source": [
    "plot_results(\n",
    "    X_stress_components[0],\n",
    "    y_stress_components[0],\n",
    "    'optuna_200_3cv',\n",
    "    do_zip=True\n",
    ")"
   ]
  },
  {
   "cell_type": "code",
   "execution_count": 99,
   "metadata": {},
   "outputs": [
    {
     "data": {
      "text/plain": [
       "697"
      ]
     },
     "execution_count": 99,
     "metadata": {},
     "output_type": "execute_result"
    }
   ],
   "source": [
    "-63 + 76 * 10"
   ]
  },
  {
   "cell_type": "code",
   "execution_count": 76,
   "metadata": {},
   "outputs": [
    {
     "data": {
      "text/plain": [
       "'d:\\\\учеба\\\\optuna_200_3cv.zip'"
      ]
     },
     "execution_count": 76,
     "metadata": {},
     "output_type": "execute_result"
    }
   ],
   "source": []
  },
  {
   "cell_type": "code",
   "execution_count": 175,
   "metadata": {},
   "outputs": [
    {
     "data": {
      "text/plain": [
       "<matplotlib.collections.PathCollection at 0x2ae9cba00a0>"
      ]
     },
     "execution_count": 175,
     "metadata": {},
     "output_type": "execute_result"
    },
    {
     "data": {
      "image/png": "[encoded data removed]",
      "text/plain": [
       "<Figure size 432x288 with 1 Axes>"
      ]
     },
     "metadata": {
      "needs_background": "light"
     },
     "output_type": "display_data"
    }
   ],
   "source": [
    "plt.scatter(cur_prediction, cur_y_test)"
   ]
  },
  {
   "cell_type": "code",
   "execution_count": 158,
   "metadata": {},
   "outputs": [
    {
     "name": "stdout",
     "output_type": "stream",
     "text": [
      "saved in d:\\учеба/optuna_200_3cv_no_SS.pkl\n",
      "test rmse =  1.376178095536843\n"
     ]
    }
   ],
   "source": [
    "best_h = {'n_layers': 2, 'n_units_0': 85, 'n_units_1': 91, 'learning_rate_init': 0.003344995003828158, 'early_stopping': False, 'max_iter': 8233, 'learning_rate': 'constant', 'alpha': 0.0001, 'activation': 'tanh', 'solver': 'adam'}\n",
    "\n",
    "test_after_opt(best_h, X_stress_components[0], y_stress_components[0], 'optuna_200_3cv_no_SS')"
   ]
  },
  {
   "cell_type": "code",
   "execution_count": null,
   "metadata": {},
   "outputs": [],
   "source": []
  },
  {
   "cell_type": "code",
   "execution_count": null,
   "metadata": {},
   "outputs": [],
   "source": []
  },
  {
   "cell_type": "code",
   "execution_count": null,
   "metadata": {},
   "outputs": [],
   "source": []
  },
  {
   "cell_type": "code",
   "execution_count": null,
   "metadata": {},
   "outputs": [],
   "source": []
  },
  {
   "cell_type": "code",
   "execution_count": null,
   "metadata": {},
   "outputs": [],
   "source": []
  },
  {
   "cell_type": "code",
   "execution_count": null,
   "metadata": {},
   "outputs": [],
   "source": []
  },
  {
   "cell_type": "code",
   "execution_count": null,
   "metadata": {},
   "outputs": [],
   "source": []
  },
  {
   "cell_type": "code",
   "execution_count": null,
   "metadata": {},
   "outputs": [],
   "source": []
  },
  {
   "cell_type": "code",
   "execution_count": null,
   "metadata": {},
   "outputs": [],
   "source": []
  },
  {
   "cell_type": "code",
   "execution_count": null,
   "metadata": {
    "colab": {
     "base_uri": "https://localhost:8080/",
     "height": 255
    },
    "id": "bXWUMtiwSo9H",
    "outputId": "7a9a0137-8bc4-4019-9502-ff11c1d677e4"
   },
   "outputs": [
    {
     "data": {
      "text/html": [
       "\n",
       "  <div id=\"df-7b511f09-1725-47c7-b0ca-5d2b896fb037\" class=\"colab-df-container\">\n",
       "    <div>\n",
       "<style scoped>\n",
       "    .dataframe tbody tr th:only-of-type {\n",
       "        vertical-align: middle;\n",
       "    }\n",
       "\n",
       "    .dataframe tbody tr th {\n",
       "        vertical-align: top;\n",
       "    }\n",
       "\n",
       "    .dataframe thead th {\n",
       "        text-align: right;\n",
       "    }\n",
       "</style>\n",
       "<table border=\"1\" class=\"dataframe\">\n",
       "  <thead>\n",
       "    <tr style=\"text-align: right;\">\n",
       "      <th></th>\n",
       "      <th>n_layers</th>\n",
       "      <th>n_neurons</th>\n",
       "      <th>solver</th>\n",
       "      <th>max_iter</th>\n",
       "      <th>learning_rate_init</th>\n",
       "      <th>learning_rate</th>\n",
       "      <th>early_stopping</th>\n",
       "      <th>activation</th>\n",
       "      <th>n_splits</th>\n",
       "      <th>alpha</th>\n",
       "      <th>...</th>\n",
       "      <th>AIC_val</th>\n",
       "      <th>BIC_val</th>\n",
       "      <th>explained_variance_score_test</th>\n",
       "      <th>median_absolute_error_test</th>\n",
       "      <th>mean_squared_error_test</th>\n",
       "      <th>mean_absolute_error_test</th>\n",
       "      <th>r2_score_test</th>\n",
       "      <th>max_error_test</th>\n",
       "      <th>AIC_test</th>\n",
       "      <th>BIC_test</th>\n",
       "    </tr>\n",
       "  </thead>\n",
       "  <tbody>\n",
       "    <tr>\n",
       "      <th>0</th>\n",
       "      <td>2</td>\n",
       "      <td>2</td>\n",
       "      <td>adam</td>\n",
       "      <td>200</td>\n",
       "      <td>0.001</td>\n",
       "      <td>constant</td>\n",
       "      <td>True</td>\n",
       "      <td>relu</td>\n",
       "      <td>5</td>\n",
       "      <td>0.0001</td>\n",
       "      <td>...</td>\n",
       "      <td>54543.815746</td>\n",
       "      <td>54644.760511</td>\n",
       "      <td>0.842750</td>\n",
       "      <td>11.762512</td>\n",
       "      <td>251.922608</td>\n",
       "      <td>12.877527</td>\n",
       "      <td>0.842725</td>\n",
       "      <td>56.989996</td>\n",
       "      <td>55319.219291</td>\n",
       "      <td>55420.164057</td>\n",
       "    </tr>\n",
       "    <tr>\n",
       "      <th>1</th>\n",
       "      <td>4</td>\n",
       "      <td>5</td>\n",
       "      <td>adam</td>\n",
       "      <td>200</td>\n",
       "      <td>0.001</td>\n",
       "      <td>constant</td>\n",
       "      <td>True</td>\n",
       "      <td>relu</td>\n",
       "      <td>5</td>\n",
       "      <td>0.0001</td>\n",
       "      <td>...</td>\n",
       "      <td>31544.772304</td>\n",
       "      <td>31905.289322</td>\n",
       "      <td>0.986530</td>\n",
       "      <td>2.352294</td>\n",
       "      <td>21.599641</td>\n",
       "      <td>3.283812</td>\n",
       "      <td>0.986515</td>\n",
       "      <td>36.607462</td>\n",
       "      <td>30826.766749</td>\n",
       "      <td>31187.283768</td>\n",
       "    </tr>\n",
       "    <tr>\n",
       "      <th>2</th>\n",
       "      <td>2</td>\n",
       "      <td>3</td>\n",
       "      <td>adam</td>\n",
       "      <td>200</td>\n",
       "      <td>0.001</td>\n",
       "      <td>constant</td>\n",
       "      <td>True</td>\n",
       "      <td>relu</td>\n",
       "      <td>5</td>\n",
       "      <td>0.0001</td>\n",
       "      <td>...</td>\n",
       "      <td>38493.570540</td>\n",
       "      <td>38666.618709</td>\n",
       "      <td>0.978327</td>\n",
       "      <td>3.262943</td>\n",
       "      <td>34.724939</td>\n",
       "      <td>4.322631</td>\n",
       "      <td>0.978321</td>\n",
       "      <td>42.982646</td>\n",
       "      <td>35522.581314</td>\n",
       "      <td>35695.629483</td>\n",
       "    </tr>\n",
       "    <tr>\n",
       "      <th>3</th>\n",
       "      <td>4</td>\n",
       "      <td>7</td>\n",
       "      <td>adam</td>\n",
       "      <td>200</td>\n",
       "      <td>0.001</td>\n",
       "      <td>constant</td>\n",
       "      <td>True</td>\n",
       "      <td>relu</td>\n",
       "      <td>5</td>\n",
       "      <td>0.0001</td>\n",
       "      <td>...</td>\n",
       "      <td>37931.385421</td>\n",
       "      <td>38537.054013</td>\n",
       "      <td>0.991280</td>\n",
       "      <td>1.944521</td>\n",
       "      <td>13.973688</td>\n",
       "      <td>2.664646</td>\n",
       "      <td>0.991276</td>\n",
       "      <td>26.101130</td>\n",
       "      <td>26539.761304</td>\n",
       "      <td>27145.429895</td>\n",
       "    </tr>\n",
       "    <tr>\n",
       "      <th>4</th>\n",
       "      <td>2</td>\n",
       "      <td>4</td>\n",
       "      <td>adam</td>\n",
       "      <td>200</td>\n",
       "      <td>0.001</td>\n",
       "      <td>constant</td>\n",
       "      <td>True</td>\n",
       "      <td>relu</td>\n",
       "      <td>5</td>\n",
       "      <td>0.0001</td>\n",
       "      <td>...</td>\n",
       "      <td>35205.087055</td>\n",
       "      <td>35464.659309</td>\n",
       "      <td>0.982151</td>\n",
       "      <td>2.557523</td>\n",
       "      <td>28.601269</td>\n",
       "      <td>3.760534</td>\n",
       "      <td>0.982144</td>\n",
       "      <td>39.668001</td>\n",
       "      <td>33606.510869</td>\n",
       "      <td>33866.083122</td>\n",
       "    </tr>\n",
       "  </tbody>\n",
       "</table>\n",
       "<p>5 rows × 26 columns</p>\n",
       "</div>\n",
       "    <div class=\"colab-df-buttons\">\n",
       "\n",
       "  <div class=\"colab-df-container\">\n",
       "    <button class=\"colab-df-convert\" onclick=\"convertToInteractive('df-7b511f09-1725-47c7-b0ca-5d2b896fb037')\"\n",
       "            title=\"Convert this dataframe to an interactive table.\"\n",
       "            style=\"display:none;\">\n",
       "\n",
       "  <svg xmlns=\"http://www.w3.org/2000/svg\" height=\"24px\" viewBox=\"0 -960 960 960\">\n",
       "    <path d=\"M120-120v-720h720v720H120Zm60-500h600v-160H180v160Zm220 220h160v-160H400v160Zm0 220h160v-160H400v160ZM180-400h160v-160H180v160Zm440 0h160v-160H620v160ZM180-180h160v-160H180v160Zm440 0h160v-160H620v160Z\"/>\n",
       "  </svg>\n",
       "    </button>\n",
       "\n",
       "  <style>\n",
       "    .colab-df-container {\n",
       "      display:flex;\n",
       "      gap: 12px;\n",
       "    }\n",
       "\n",
       "    .colab-df-convert {\n",
       "      background-color: #E8F0FE;\n",
       "      border: none;\n",
       "      border-radius: 50%;\n",
       "      cursor: pointer;\n",
       "      display: none;\n",
       "      fill: #1967D2;\n",
       "      height: 32px;\n",
       "      padding: 0 0 0 0;\n",
       "      width: 32px;\n",
       "    }\n",
       "\n",
       "    .colab-df-convert:hover {\n",
       "      background-color: #E2EBFA;\n",
       "      box-shadow: 0px 1px 2px rgba(60, 64, 67, 0.3), 0px 1px 3px 1px rgba(60, 64, 67, 0.15);\n",
       "      fill: #174EA6;\n",
       "    }\n",
       "\n",
       "    .colab-df-buttons div {\n",
       "      margin-bottom: 4px;\n",
       "    }\n",
       "\n",
       "    [theme=dark] .colab-df-convert {\n",
       "      background-color: #3B4455;\n",
       "      fill: #D2E3FC;\n",
       "    }\n",
       "\n",
       "    [theme=dark] .colab-df-convert:hover {\n",
       "      background-color: #434B5C;\n",
       "      box-shadow: 0px 1px 3px 1px rgba(0, 0, 0, 0.15);\n",
       "      filter: drop-shadow(0px 1px 2px rgba(0, 0, 0, 0.3));\n",
       "      fill: #FFFFFF;\n",
       "    }\n",
       "  </style>\n",
       "\n",
       "    <script>\n",
       "      const buttonEl =\n",
       "        document.querySelector('#df-7b511f09-1725-47c7-b0ca-5d2b896fb037 button.colab-df-convert');\n",
       "      buttonEl.style.display =\n",
       "        google.colab.kernel.accessAllowed ? 'block' : 'none';\n",
       "\n",
       "      async function convertToInteractive(key) {\n",
       "        const element = document.querySelector('#df-7b511f09-1725-47c7-b0ca-5d2b896fb037');\n",
       "        const dataTable =\n",
       "          await google.colab.kernel.invokeFunction('convertToInteractive',\n",
       "                                                    [key], {});\n",
       "        if (!dataTable) return;\n",
       "\n",
       "        const docLinkHtml = 'Like what you see? Visit the ' +\n",
       "          '<a target=\"_blank\" href=https://colab.research.google.com/notebooks/data_table.ipynb>data table notebook</a>'\n",
       "          + ' to learn more about interactive tables.';\n",
       "        element.innerHTML = '';\n",
       "        dataTable['output_type'] = 'display_data';\n",
       "        await google.colab.output.renderOutput(dataTable, element);\n",
       "        const docLink = document.createElement('div');\n",
       "        docLink.innerHTML = docLinkHtml;\n",
       "        element.appendChild(docLink);\n",
       "      }\n",
       "    </script>\n",
       "  </div>\n",
       "\n",
       "\n",
       "<div id=\"df-8e138c55-6811-4c95-90a2-5c8b36a1d0a1\">\n",
       "  <button class=\"colab-df-quickchart\" onclick=\"quickchart('df-8e138c55-6811-4c95-90a2-5c8b36a1d0a1')\"\n",
       "            title=\"Suggest charts\"\n",
       "            style=\"display:none;\">\n",
       "\n",
       "<svg xmlns=\"http://www.w3.org/2000/svg\" height=\"24px\"viewBox=\"0 0 24 24\"\n",
       "     width=\"24px\">\n",
       "    <g>\n",
       "        <path d=\"M19 3H5c-1.1 0-2 .9-2 2v14c0 1.1.9 2 2 2h14c1.1 0 2-.9 2-2V5c0-1.1-.9-2-2-2zM9 17H7v-7h2v7zm4 0h-2V7h2v10zm4 0h-2v-4h2v4z\"/>\n",
       "    </g>\n",
       "</svg>\n",
       "  </button>\n",
       "\n",
       "<style>\n",
       "  .colab-df-quickchart {\n",
       "      --bg-color: #E8F0FE;\n",
       "      --fill-color: #1967D2;\n",
       "      --hover-bg-color: #E2EBFA;\n",
       "      --hover-fill-color: #174EA6;\n",
       "      --disabled-fill-color: #AAA;\n",
       "      --disabled-bg-color: #DDD;\n",
       "  }\n",
       "\n",
       "  [theme=dark] .colab-df-quickchart {\n",
       "      --bg-color: #3B4455;\n",
       "      --fill-color: #D2E3FC;\n",
       "      --hover-bg-color: #434B5C;\n",
       "      --hover-fill-color: #FFFFFF;\n",
       "      --disabled-bg-color: #3B4455;\n",
       "      --disabled-fill-color: #666;\n",
       "  }\n",
       "\n",
       "  .colab-df-quickchart {\n",
       "    background-color: var(--bg-color);\n",
       "    border: none;\n",
       "    border-radius: 50%;\n",
       "    cursor: pointer;\n",
       "    display: none;\n",
       "    fill: var(--fill-color);\n",
       "    height: 32px;\n",
       "    padding: 0;\n",
       "    width: 32px;\n",
       "  }\n",
       "\n",
       "  .colab-df-quickchart:hover {\n",
       "    background-color: var(--hover-bg-color);\n",
       "    box-shadow: 0 1px 2px rgba(60, 64, 67, 0.3), 0 1px 3px 1px rgba(60, 64, 67, 0.15);\n",
       "    fill: var(--button-hover-fill-color);\n",
       "  }\n",
       "\n",
       "  .colab-df-quickchart-complete:disabled,\n",
       "  .colab-df-quickchart-complete:disabled:hover {\n",
       "    background-color: var(--disabled-bg-color);\n",
       "    fill: var(--disabled-fill-color);\n",
       "    box-shadow: none;\n",
       "  }\n",
       "\n",
       "  .colab-df-spinner {\n",
       "    border: 2px solid var(--fill-color);\n",
       "    border-color: transparent;\n",
       "    border-bottom-color: var(--fill-color);\n",
       "    animation:\n",
       "      spin 1s steps(1) infinite;\n",
       "  }\n",
       "\n",
       "  @keyframes spin {\n",
       "    0% {\n",
       "      border-color: transparent;\n",
       "      border-bottom-color: var(--fill-color);\n",
       "      border-left-color: var(--fill-color);\n",
       "    }\n",
       "    20% {\n",
       "      border-color: transparent;\n",
       "      border-left-color: var(--fill-color);\n",
       "      border-top-color: var(--fill-color);\n",
       "    }\n",
       "    30% {\n",
       "      border-color: transparent;\n",
       "      border-left-color: var(--fill-color);\n",
       "      border-top-color: var(--fill-color);\n",
       "      border-right-color: var(--fill-color);\n",
       "    }\n",
       "    40% {\n",
       "      border-color: transparent;\n",
       "      border-right-color: var(--fill-color);\n",
       "      border-top-color: var(--fill-color);\n",
       "    }\n",
       "    60% {\n",
       "      border-color: transparent;\n",
       "      border-right-color: var(--fill-color);\n",
       "    }\n",
       "    80% {\n",
       "      border-color: transparent;\n",
       "      border-right-color: var(--fill-color);\n",
       "      border-bottom-color: var(--fill-color);\n",
       "    }\n",
       "    90% {\n",
       "      border-color: transparent;\n",
       "      border-bottom-color: var(--fill-color);\n",
       "    }\n",
       "  }\n",
       "</style>\n",
       "\n",
       "  <script>\n",
       "    async function quickchart(key) {\n",
       "      const quickchartButtonEl =\n",
       "        document.querySelector('#' + key + ' button');\n",
       "      quickchartButtonEl.disabled = true;  // To prevent multiple clicks.\n",
       "      quickchartButtonEl.classList.add('colab-df-spinner');\n",
       "      try {\n",
       "        const charts = await google.colab.kernel.invokeFunction(\n",
       "            'suggestCharts', [key], {});\n",
       "      } catch (error) {\n",
       "        console.error('Error during call to suggestCharts:', error);\n",
       "      }\n",
       "      quickchartButtonEl.classList.remove('colab-df-spinner');\n",
       "      quickchartButtonEl.classList.add('colab-df-quickchart-complete');\n",
       "    }\n",
       "    (() => {\n",
       "      let quickchartButtonEl =\n",
       "        document.querySelector('#df-8e138c55-6811-4c95-90a2-5c8b36a1d0a1 button');\n",
       "      quickchartButtonEl.style.display =\n",
       "        google.colab.kernel.accessAllowed ? 'block' : 'none';\n",
       "    })();\n",
       "  </script>\n",
       "</div>\n",
       "    </div>\n",
       "  </div>\n"
      ],
      "text/plain": [
       "   n_layers  n_neurons solver  max_iter  learning_rate_init learning_rate  \\\n",
       "0         2          2   adam       200               0.001      constant   \n",
       "1         4          5   adam       200               0.001      constant   \n",
       "2         2          3   adam       200               0.001      constant   \n",
       "3         4          7   adam       200               0.001      constant   \n",
       "4         2          4   adam       200               0.001      constant   \n",
       "\n",
       "   early_stopping activation  n_splits   alpha  ...       AIC_val  \\\n",
       "0            True       relu         5  0.0001  ...  54543.815746   \n",
       "1            True       relu         5  0.0001  ...  31544.772304   \n",
       "2            True       relu         5  0.0001  ...  38493.570540   \n",
       "3            True       relu         5  0.0001  ...  37931.385421   \n",
       "4            True       relu         5  0.0001  ...  35205.087055   \n",
       "\n",
       "        BIC_val  explained_variance_score_test  median_absolute_error_test  \\\n",
       "0  54644.760511                       0.842750                   11.762512   \n",
       "1  31905.289322                       0.986530                    2.352294   \n",
       "2  38666.618709                       0.978327                    3.262943   \n",
       "3  38537.054013                       0.991280                    1.944521   \n",
       "4  35464.659309                       0.982151                    2.557523   \n",
       "\n",
       "   mean_squared_error_test  mean_absolute_error_test  r2_score_test  \\\n",
       "0               251.922608                 12.877527       0.842725   \n",
       "1                21.599641                  3.283812       0.986515   \n",
       "2                34.724939                  4.322631       0.978321   \n",
       "3                13.973688                  2.664646       0.991276   \n",
       "4                28.601269                  3.760534       0.982144   \n",
       "\n",
       "   max_error_test      AIC_test      BIC_test  \n",
       "0       56.989996  55319.219291  55420.164057  \n",
       "1       36.607462  30826.766749  31187.283768  \n",
       "2       42.982646  35522.581314  35695.629483  \n",
       "3       26.101130  26539.761304  27145.429895  \n",
       "4       39.668001  33606.510869  33866.083122  \n",
       "\n",
       "[5 rows x 26 columns]"
      ]
     },
     "execution_count": 28,
     "metadata": {},
     "output_type": "execute_result"
    }
   ],
   "source": [
    "results_0_component = pd.read_csv(path_import+'recalculation_results_0_component.csv',\n",
    "                                  names=[\n",
    "            # Constructional\n",
    "            'n_layers', 'n_neurons', 'solver', 'max_iter',\n",
    "            'learning_rate_init', 'learning_rate', 'early_stopping',\n",
    "            'activation', 'n_splits', 'alpha',\n",
    "\n",
    "            # Resultant _val\n",
    "            'explained_variance_score_val', 'median_absolute_error_val',\n",
    "            'mean_squared_error_val', 'mean_absolute_error_val',\n",
    "            'r2_score_val', 'max_error_val', 'AIC_val', 'BIC_val',\n",
    "\n",
    "            # Resultant _test\n",
    "            'explained_variance_score_test', 'median_absolute_error_test',\n",
    "            'mean_squared_error_test', 'mean_absolute_error_test',\n",
    "            'r2_score_test', 'max_error_test', 'AIC_test', 'BIC_test'\n",
    "            ]).drop_duplicates()\n",
    "results_0_component.head()"
   ]
  },
  {
   "cell_type": "code",
   "execution_count": null,
   "metadata": {
    "colab": {
     "base_uri": "https://localhost:8080/",
     "height": 256
    },
    "id": "TwFJkR_Ujx5j",
    "outputId": "c3aed12b-d276-4846-ebd7-137ee5684c46"
   },
   "outputs": [
    {
     "data": {
      "application/vnd.google.colaboratory.intrinsic+json": {
       "type": "dataframe",
       "variable_name": "results_1_component"
      },
      "text/html": [
       "\n",
       "  <div id=\"df-72a0b79c-c435-4fc6-8b31-831cbcf7717d\" class=\"colab-df-container\">\n",
       "    <div>\n",
       "<style scoped>\n",
       "    .dataframe tbody tr th:only-of-type {\n",
       "        vertical-align: middle;\n",
       "    }\n",
       "\n",
       "    .dataframe tbody tr th {\n",
       "        vertical-align: top;\n",
       "    }\n",
       "\n",
       "    .dataframe thead th {\n",
       "        text-align: right;\n",
       "    }\n",
       "</style>\n",
       "<table border=\"1\" class=\"dataframe\">\n",
       "  <thead>\n",
       "    <tr style=\"text-align: right;\">\n",
       "      <th></th>\n",
       "      <th>n_layers</th>\n",
       "      <th>n_neurons</th>\n",
       "      <th>solver</th>\n",
       "      <th>max_iter</th>\n",
       "      <th>learning_rate_init</th>\n",
       "      <th>learning_rate</th>\n",
       "      <th>early_stopping</th>\n",
       "      <th>activation</th>\n",
       "      <th>n_splits</th>\n",
       "      <th>alpha</th>\n",
       "      <th>...</th>\n",
       "      <th>AIC_val</th>\n",
       "      <th>BIC_val</th>\n",
       "      <th>explained_variance_score_test</th>\n",
       "      <th>median_absolute_error_test</th>\n",
       "      <th>mean_squared_error_test</th>\n",
       "      <th>mean_absolute_error_test</th>\n",
       "      <th>r2_score_test</th>\n",
       "      <th>max_error_test</th>\n",
       "      <th>AIC_test</th>\n",
       "      <th>BIC_test</th>\n",
       "    </tr>\n",
       "  </thead>\n",
       "  <tbody>\n",
       "    <tr>\n",
       "      <th>0</th>\n",
       "      <td>7</td>\n",
       "      <td>200</td>\n",
       "      <td>adam</td>\n",
       "      <td>200</td>\n",
       "      <td>0.001</td>\n",
       "      <td>constant</td>\n",
       "      <td>True</td>\n",
       "      <td>relu</td>\n",
       "      <td>5</td>\n",
       "      <td>0.0001</td>\n",
       "      <td>...</td>\n",
       "      <td>145198.005914</td>\n",
       "      <td>440821.961165</td>\n",
       "      <td>0.985385</td>\n",
       "      <td>8.741612</td>\n",
       "      <td>212.613987</td>\n",
       "      <td>11.112629</td>\n",
       "      <td>0.985227</td>\n",
       "      <td>52.399585</td>\n",
       "      <td>135594.782537</td>\n",
       "      <td>431218.737788</td>\n",
       "    </tr>\n",
       "    <tr>\n",
       "      <th>1</th>\n",
       "      <td>7</td>\n",
       "      <td>200</td>\n",
       "      <td>adam</td>\n",
       "      <td>200</td>\n",
       "      <td>0.001</td>\n",
       "      <td>constant</td>\n",
       "      <td>True</td>\n",
       "      <td>relu</td>\n",
       "      <td>5</td>\n",
       "      <td>0.0001</td>\n",
       "      <td>...</td>\n",
       "      <td>130331.071184</td>\n",
       "      <td>425955.026435</td>\n",
       "      <td>0.994822</td>\n",
       "      <td>5.219850</td>\n",
       "      <td>74.987131</td>\n",
       "      <td>6.657077</td>\n",
       "      <td>0.994790</td>\n",
       "      <td>34.996882</td>\n",
       "      <td>125173.165126</td>\n",
       "      <td>420797.120377</td>\n",
       "    </tr>\n",
       "    <tr>\n",
       "      <th>2</th>\n",
       "      <td>2</td>\n",
       "      <td>2</td>\n",
       "      <td>adam</td>\n",
       "      <td>200</td>\n",
       "      <td>0.001</td>\n",
       "      <td>constant</td>\n",
       "      <td>True</td>\n",
       "      <td>relu</td>\n",
       "      <td>5</td>\n",
       "      <td>0.0001</td>\n",
       "      <td>...</td>\n",
       "      <td>90959.220379</td>\n",
       "      <td>91060.165144</td>\n",
       "      <td>0.508401</td>\n",
       "      <td>54.633901</td>\n",
       "      <td>9006.520175</td>\n",
       "      <td>73.566906</td>\n",
       "      <td>0.374214</td>\n",
       "      <td>286.090928</td>\n",
       "      <td>91085.040579</td>\n",
       "      <td>91185.985344</td>\n",
       "    </tr>\n",
       "    <tr>\n",
       "      <th>3</th>\n",
       "      <td>2</td>\n",
       "      <td>3</td>\n",
       "      <td>adam</td>\n",
       "      <td>200</td>\n",
       "      <td>0.001</td>\n",
       "      <td>constant</td>\n",
       "      <td>True</td>\n",
       "      <td>relu</td>\n",
       "      <td>5</td>\n",
       "      <td>0.0001</td>\n",
       "      <td>...</td>\n",
       "      <td>76737.779823</td>\n",
       "      <td>76910.827992</td>\n",
       "      <td>0.839759</td>\n",
       "      <td>29.762105</td>\n",
       "      <td>2326.767951</td>\n",
       "      <td>37.396806</td>\n",
       "      <td>0.838333</td>\n",
       "      <td>183.336829</td>\n",
       "      <td>77570.354381</td>\n",
       "      <td>77743.402550</td>\n",
       "    </tr>\n",
       "    <tr>\n",
       "      <th>4</th>\n",
       "      <td>2</td>\n",
       "      <td>4</td>\n",
       "      <td>adam</td>\n",
       "      <td>200</td>\n",
       "      <td>0.001</td>\n",
       "      <td>constant</td>\n",
       "      <td>True</td>\n",
       "      <td>relu</td>\n",
       "      <td>5</td>\n",
       "      <td>0.0001</td>\n",
       "      <td>...</td>\n",
       "      <td>74948.925772</td>\n",
       "      <td>75208.498026</td>\n",
       "      <td>0.859535</td>\n",
       "      <td>25.850148</td>\n",
       "      <td>2035.391638</td>\n",
       "      <td>34.284135</td>\n",
       "      <td>0.858578</td>\n",
       "      <td>151.143623</td>\n",
       "      <td>76256.435304</td>\n",
       "      <td>76516.007558</td>\n",
       "    </tr>\n",
       "  </tbody>\n",
       "</table>\n",
       "<p>5 rows × 26 columns</p>\n",
       "</div>\n",
       "    <div class=\"colab-df-buttons\">\n",
       "\n",
       "  <div class=\"colab-df-container\">\n",
       "    <button class=\"colab-df-convert\" onclick=\"convertToInteractive('df-72a0b79c-c435-4fc6-8b31-831cbcf7717d')\"\n",
       "            title=\"Convert this dataframe to an interactive table.\"\n",
       "            style=\"display:none;\">\n",
       "\n",
       "  <svg xmlns=\"http://www.w3.org/2000/svg\" height=\"24px\" viewBox=\"0 -960 960 960\">\n",
       "    <path d=\"M120-120v-720h720v720H120Zm60-500h600v-160H180v160Zm220 220h160v-160H400v160Zm0 220h160v-160H400v160ZM180-400h160v-160H180v160Zm440 0h160v-160H620v160ZM180-180h160v-160H180v160Zm440 0h160v-160H620v160Z\"/>\n",
       "  </svg>\n",
       "    </button>\n",
       "\n",
       "  <style>\n",
       "    .colab-df-container {\n",
       "      display:flex;\n",
       "      gap: 12px;\n",
       "    }\n",
       "\n",
       "    .colab-df-convert {\n",
       "      background-color: #E8F0FE;\n",
       "      border: none;\n",
       "      border-radius: 50%;\n",
       "      cursor: pointer;\n",
       "      display: none;\n",
       "      fill: #1967D2;\n",
       "      height: 32px;\n",
       "      padding: 0 0 0 0;\n",
       "      width: 32px;\n",
       "    }\n",
       "\n",
       "    .colab-df-convert:hover {\n",
       "      background-color: #E2EBFA;\n",
       "      box-shadow: 0px 1px 2px rgba(60, 64, 67, 0.3), 0px 1px 3px 1px rgba(60, 64, 67, 0.15);\n",
       "      fill: #174EA6;\n",
       "    }\n",
       "\n",
       "    .colab-df-buttons div {\n",
       "      margin-bottom: 4px;\n",
       "    }\n",
       "\n",
       "    [theme=dark] .colab-df-convert {\n",
       "      background-color: #3B4455;\n",
       "      fill: #D2E3FC;\n",
       "    }\n",
       "\n",
       "    [theme=dark] .colab-df-convert:hover {\n",
       "      background-color: #434B5C;\n",
       "      box-shadow: 0px 1px 3px 1px rgba(0, 0, 0, 0.15);\n",
       "      filter: drop-shadow(0px 1px 2px rgba(0, 0, 0, 0.3));\n",
       "      fill: #FFFFFF;\n",
       "    }\n",
       "  </style>\n",
       "\n",
       "    <script>\n",
       "      const buttonEl =\n",
       "        document.querySelector('#df-72a0b79c-c435-4fc6-8b31-831cbcf7717d button.colab-df-convert');\n",
       "      buttonEl.style.display =\n",
       "        google.colab.kernel.accessAllowed ? 'block' : 'none';\n",
       "\n",
       "      async function convertToInteractive(key) {\n",
       "        const element = document.querySelector('#df-72a0b79c-c435-4fc6-8b31-831cbcf7717d');\n",
       "        const dataTable =\n",
       "          await google.colab.kernel.invokeFunction('convertToInteractive',\n",
       "                                                    [key], {});\n",
       "        if (!dataTable) return;\n",
       "\n",
       "        const docLinkHtml = 'Like what you see? Visit the ' +\n",
       "          '<a target=\"_blank\" href=https://colab.research.google.com/notebooks/data_table.ipynb>data table notebook</a>'\n",
       "          + ' to learn more about interactive tables.';\n",
       "        element.innerHTML = '';\n",
       "        dataTable['output_type'] = 'display_data';\n",
       "        await google.colab.output.renderOutput(dataTable, element);\n",
       "        const docLink = document.createElement('div');\n",
       "        docLink.innerHTML = docLinkHtml;\n",
       "        element.appendChild(docLink);\n",
       "      }\n",
       "    </script>\n",
       "  </div>\n",
       "\n",
       "\n",
       "<div id=\"df-6d847bf7-99a7-4fea-b98e-519bc4a5d027\">\n",
       "  <button class=\"colab-df-quickchart\" onclick=\"quickchart('df-6d847bf7-99a7-4fea-b98e-519bc4a5d027')\"\n",
       "            title=\"Suggest charts\"\n",
       "            style=\"display:none;\">\n",
       "\n",
       "<svg xmlns=\"http://www.w3.org/2000/svg\" height=\"24px\"viewBox=\"0 0 24 24\"\n",
       "     width=\"24px\">\n",
       "    <g>\n",
       "        <path d=\"M19 3H5c-1.1 0-2 .9-2 2v14c0 1.1.9 2 2 2h14c1.1 0 2-.9 2-2V5c0-1.1-.9-2-2-2zM9 17H7v-7h2v7zm4 0h-2V7h2v10zm4 0h-2v-4h2v4z\"/>\n",
       "    </g>\n",
       "</svg>\n",
       "  </button>\n",
       "\n",
       "<style>\n",
       "  .colab-df-quickchart {\n",
       "      --bg-color: #E8F0FE;\n",
       "      --fill-color: #1967D2;\n",
       "      --hover-bg-color: #E2EBFA;\n",
       "      --hover-fill-color: #174EA6;\n",
       "      --disabled-fill-color: #AAA;\n",
       "      --disabled-bg-color: #DDD;\n",
       "  }\n",
       "\n",
       "  [theme=dark] .colab-df-quickchart {\n",
       "      --bg-color: #3B4455;\n",
       "      --fill-color: #D2E3FC;\n",
       "      --hover-bg-color: #434B5C;\n",
       "      --hover-fill-color: #FFFFFF;\n",
       "      --disabled-bg-color: #3B4455;\n",
       "      --disabled-fill-color: #666;\n",
       "  }\n",
       "\n",
       "  .colab-df-quickchart {\n",
       "    background-color: var(--bg-color);\n",
       "    border: none;\n",
       "    border-radius: 50%;\n",
       "    cursor: pointer;\n",
       "    display: none;\n",
       "    fill: var(--fill-color);\n",
       "    height: 32px;\n",
       "    padding: 0;\n",
       "    width: 32px;\n",
       "  }\n",
       "\n",
       "  .colab-df-quickchart:hover {\n",
       "    background-color: var(--hover-bg-color);\n",
       "    box-shadow: 0 1px 2px rgba(60, 64, 67, 0.3), 0 1px 3px 1px rgba(60, 64, 67, 0.15);\n",
       "    fill: var(--button-hover-fill-color);\n",
       "  }\n",
       "\n",
       "  .colab-df-quickchart-complete:disabled,\n",
       "  .colab-df-quickchart-complete:disabled:hover {\n",
       "    background-color: var(--disabled-bg-color);\n",
       "    fill: var(--disabled-fill-color);\n",
       "    box-shadow: none;\n",
       "  }\n",
       "\n",
       "  .colab-df-spinner {\n",
       "    border: 2px solid var(--fill-color);\n",
       "    border-color: transparent;\n",
       "    border-bottom-color: var(--fill-color);\n",
       "    animation:\n",
       "      spin 1s steps(1) infinite;\n",
       "  }\n",
       "\n",
       "  @keyframes spin {\n",
       "    0% {\n",
       "      border-color: transparent;\n",
       "      border-bottom-color: var(--fill-color);\n",
       "      border-left-color: var(--fill-color);\n",
       "    }\n",
       "    20% {\n",
       "      border-color: transparent;\n",
       "      border-left-color: var(--fill-color);\n",
       "      border-top-color: var(--fill-color);\n",
       "    }\n",
       "    30% {\n",
       "      border-color: transparent;\n",
       "      border-left-color: var(--fill-color);\n",
       "      border-top-color: var(--fill-color);\n",
       "      border-right-color: var(--fill-color);\n",
       "    }\n",
       "    40% {\n",
       "      border-color: transparent;\n",
       "      border-right-color: var(--fill-color);\n",
       "      border-top-color: var(--fill-color);\n",
       "    }\n",
       "    60% {\n",
       "      border-color: transparent;\n",
       "      border-right-color: var(--fill-color);\n",
       "    }\n",
       "    80% {\n",
       "      border-color: transparent;\n",
       "      border-right-color: var(--fill-color);\n",
       "      border-bottom-color: var(--fill-color);\n",
       "    }\n",
       "    90% {\n",
       "      border-color: transparent;\n",
       "      border-bottom-color: var(--fill-color);\n",
       "    }\n",
       "  }\n",
       "</style>\n",
       "\n",
       "  <script>\n",
       "    async function quickchart(key) {\n",
       "      const quickchartButtonEl =\n",
       "        document.querySelector('#' + key + ' button');\n",
       "      quickchartButtonEl.disabled = true;  // To prevent multiple clicks.\n",
       "      quickchartButtonEl.classList.add('colab-df-spinner');\n",
       "      try {\n",
       "        const charts = await google.colab.kernel.invokeFunction(\n",
       "            'suggestCharts', [key], {});\n",
       "      } catch (error) {\n",
       "        console.error('Error during call to suggestCharts:', error);\n",
       "      }\n",
       "      quickchartButtonEl.classList.remove('colab-df-spinner');\n",
       "      quickchartButtonEl.classList.add('colab-df-quickchart-complete');\n",
       "    }\n",
       "    (() => {\n",
       "      let quickchartButtonEl =\n",
       "        document.querySelector('#df-6d847bf7-99a7-4fea-b98e-519bc4a5d027 button');\n",
       "      quickchartButtonEl.style.display =\n",
       "        google.colab.kernel.accessAllowed ? 'block' : 'none';\n",
       "    })();\n",
       "  </script>\n",
       "</div>\n",
       "    </div>\n",
       "  </div>\n"
      ],
      "text/plain": [
       "   n_layers  n_neurons solver  max_iter  learning_rate_init learning_rate  \\\n",
       "0         7        200   adam       200               0.001      constant   \n",
       "1         7        200   adam       200               0.001      constant   \n",
       "2         2          2   adam       200               0.001      constant   \n",
       "3         2          3   adam       200               0.001      constant   \n",
       "4         2          4   adam       200               0.001      constant   \n",
       "\n",
       "   early_stopping activation  n_splits   alpha  ...        AIC_val  \\\n",
       "0            True       relu         5  0.0001  ...  145198.005914   \n",
       "1            True       relu         5  0.0001  ...  130331.071184   \n",
       "2            True       relu         5  0.0001  ...   90959.220379   \n",
       "3            True       relu         5  0.0001  ...   76737.779823   \n",
       "4            True       relu         5  0.0001  ...   74948.925772   \n",
       "\n",
       "         BIC_val  explained_variance_score_test  median_absolute_error_test  \\\n",
       "0  440821.961165                       0.985385                    8.741612   \n",
       "1  425955.026435                       0.994822                    5.219850   \n",
       "2   91060.165144                       0.508401                   54.633901   \n",
       "3   76910.827992                       0.839759                   29.762105   \n",
       "4   75208.498026                       0.859535                   25.850148   \n",
       "\n",
       "   mean_squared_error_test  mean_absolute_error_test  r2_score_test  \\\n",
       "0               212.613987                 11.112629       0.985227   \n",
       "1                74.987131                  6.657077       0.994790   \n",
       "2              9006.520175                 73.566906       0.374214   \n",
       "3              2326.767951                 37.396806       0.838333   \n",
       "4              2035.391638                 34.284135       0.858578   \n",
       "\n",
       "   max_error_test       AIC_test       BIC_test  \n",
       "0       52.399585  135594.782537  431218.737788  \n",
       "1       34.996882  125173.165126  420797.120377  \n",
       "2      286.090928   91085.040579   91185.985344  \n",
       "3      183.336829   77570.354381   77743.402550  \n",
       "4      151.143623   76256.435304   76516.007558  \n",
       "\n",
       "[5 rows x 26 columns]"
      ]
     },
     "execution_count": 5,
     "metadata": {},
     "output_type": "execute_result"
    }
   ],
   "source": [
    "results_1_component = pd.read_csv(path_import+'results_1_component.csv',\n",
    "                                  names=[\n",
    "            # Constructional\n",
    "            'n_layers', 'n_neurons', 'solver', 'max_iter',\n",
    "            'learning_rate_init', 'learning_rate', 'early_stopping',\n",
    "            'activation', 'n_splits', 'alpha',\n",
    "\n",
    "            # Resultant _val\n",
    "            'explained_variance_score_val', 'median_absolute_error_val',\n",
    "            'mean_squared_error_val', 'mean_absolute_error_val',\n",
    "            'r2_score_val', 'max_error_val', 'AIC_val', 'BIC_val',\n",
    "\n",
    "            # Resultant _test\n",
    "            'explained_variance_score_test', 'median_absolute_error_test',\n",
    "            'mean_squared_error_test', 'mean_absolute_error_test',\n",
    "            'r2_score_test', 'max_error_test', 'AIC_test', 'BIC_test'\n",
    "            ]).drop_duplicates()\n",
    "results_1_component.head()"
   ]
  },
  {
   "cell_type": "markdown",
   "metadata": {},
   "source": [
    "# KAN "
   ]
  },
  {
   "cell_type": "code",
   "execution_count": null,
   "metadata": {},
   "outputs": [
    {
     "name": "stdout",
     "output_type": "stream",
     "text": [
      "Collecting pykanNote: you may need to restart the kernel to use updated packages.\n",
      "  Downloading pykan-0.2.1-py3-none-any.whl (74 kB)\n",
      "Installing collected packages: pykan\n",
      "\n",
      "Successfully installed pykan-0.2.1\n"
     ]
    }
   ],
   "source": [
    "%pip install pykan"
   ]
  },
  {
   "cell_type": "code",
   "execution_count": null,
   "metadata": {},
   "outputs": [],
   "source": [
    "from kan import *"
   ]
  },
  {
   "cell_type": "code",
   "execution_count": null,
   "metadata": {},
   "outputs": [],
   "source": [
    "cur_X_test, cur_y_test, val_list_X, val_list_y, train_list_X, train_list_y=\\\n",
    "    split_transform_one_comp_cv(X_stress_components[0], y_stress_components[0])"
   ]
  },
  {
   "cell_type": "code",
   "execution_count": null,
   "metadata": {},
   "outputs": [
    {
     "data": {
      "text/plain": [
       "((10000, 5), (10000,))"
      ]
     },
     "execution_count": 79,
     "metadata": {},
     "output_type": "execute_result"
    }
   ],
   "source": [
    "train_list_X[0].shape, train_list_y[0].shape"
   ]
  },
  {
   "cell_type": "code",
   "execution_count": null,
   "metadata": {},
   "outputs": [],
   "source": [
    "import torch\n",
    "import numpy as np\n",
    "from torch.utils.data import TensorDataset, DataLoader\n",
    "\n",
    "# my_x = [np.array([[1.0,2],[3,4]]),np.array([[5.,6],[7,8]])] # a list of numpy arrays\n",
    "my_x = [train_list_X[0], val_list_X[0]] # a list of numpy arrays\n",
    "my_x = train_list_X[0].T # a list of numpy arrays\n",
    "# my_y = [np.array([4.]), np.array([2.])] # another list of numpy arrays (targets)\n",
    "my_y = [train_list_y[0], val_list_y[0]] # another list of numpy arrays (targets)\n",
    "my_y = train_list_y[0] # another list of numpy arrays (targets)\n",
    "\n",
    "tensor_x = torch.Tensor(my_x) # transform to torch tensor\n",
    "tensor_y = torch.Tensor(my_y)\n",
    "\n",
    "test_tensor_x = torch.Tensor(cur_X_test.T)\n",
    "test_tensor_y = torch.Tensor(cur_y_test)\n",
    "\n",
    "# my_dataset = TensorDataset(tensor_x,tensor_y) # create your datset\n",
    "# my_dataloader = DataLoader(my_dataset) # create your dataloader\n",
    "\n",
    "my_dataset = {\n",
    "    'train_input': tensor_x,\n",
    "    'test_input': test_tensor_x,\n",
    "    'train_label': tensor_y,\n",
    "    'test_label': test_tensor_y\n",
    "}"
   ]
  },
  {
   "cell_type": "code",
   "execution_count": null,
   "metadata": {},
   "outputs": [],
   "source": [
    "from kan import *\n",
    "# create a KAN: 2D inputs, 1D output, and 5 hidden neurons. cubic spline (k=3), 5 grid intervals (grid=5).\n",
    "model = KAN(width=[5,5,5,1], seed=0)"
   ]
  },
  {
   "cell_type": "code",
   "execution_count": null,
   "metadata": {},
   "outputs": [
    {
     "name": "stderr",
     "output_type": "stream",
     "text": [
      "description:   0%|                                                          | 0/200 [00:00<?, ?it/s]"
     ]
    },
    {
     "name": "stderr",
     "output_type": "stream",
     "text": [
      "train loss: 1.11e+00 | test loss: 1.18e+02 | reg: 1.66e+02 : 100%|█| 200/200 [01:29<00:00,  2.23it/s\n"
     ]
    }
   ],
   "source": [
    "model.fit(my_dataset, opt=\"LBFGS\", steps=200);"
   ]
  },
  {
   "cell_type": "code",
   "execution_count": null,
   "metadata": {},
   "outputs": [
    {
     "name": "stdout",
     "output_type": "stream",
     "text": [
      "fixing (0,0,0) with sin, r2=0.9999986290931702, c=2\n",
      "fixing (0,0,1) with sin, r2=0.9999995231628418, c=2\n",
      "fixing (0,0,2) with x, r2=0.999941349029541, c=1\n",
      "fixing (0,0,3) with x, r2=0.9998865127563477, c=1\n",
      "fixing (0,0,4) with x, r2=0.9999542832374573, c=1\n",
      "fixing (0,1,0) with x, r2=0.9999576210975647, c=1\n",
      "fixing (0,1,1) with x, r2=0.9999326467514038, c=1\n",
      "fixing (0,1,2) with x, r2=0.9999233484268188, c=1\n",
      "fixing (0,1,3) with sin, r2=0.9999462962150574, c=2\n",
      "fixing (0,1,4) with x, r2=0.9999756217002869, c=1\n",
      "fixing (0,2,0) with x, r2=0.9999236464500427, c=1\n",
      "fixing (0,2,1) with x^2, r2=0.9999963641166687, c=2\n",
      "fixing (0,2,2) with x, r2=0.9999983310699463, c=1\n",
      "fixing (0,2,3) with x^2, r2=0.9999998211860657, c=2\n",
      "fixing (0,2,4) with sin, r2=0.9999967813491821, c=2\n",
      "fixing (0,3,0) with x, r2=0.9999306797981262, c=1\n",
      "fixing (0,3,1) with x, r2=0.9999998807907104, c=1\n",
      "fixing (0,3,2) with x, r2=0.999990701675415, c=1\n",
      "fixing (0,3,3) with x, r2=0.9999019503593445, c=1\n",
      "fixing (0,3,4) with x, r2=0.9999055862426758, c=1\n",
      "fixing (0,4,0) with sin, r2=0.9999898076057434, c=2\n",
      "fixing (0,4,1) with x, r2=0.999894380569458, c=1\n",
      "fixing (0,4,2) with x, r2=0.9998806118965149, c=1\n",
      "fixing (0,4,3) with sin, r2=1.0000001192092896, c=2\n",
      "fixing (0,4,4) with x, r2=0.9998908042907715, c=1\n",
      "fixing (1,0,0) with x, r2=1.0000003576278687, c=1\n",
      "fixing (1,0,1) with x, r2=1.000000238418579, c=1\n",
      "fixing (1,0,2) with x, r2=1.0000001192092896, c=1\n",
      "fixing (1,0,3) with x, r2=1.000000238418579, c=1\n",
      "fixing (1,0,4) with x, r2=1.0, c=1\n",
      "fixing (1,1,0) with x, r2=0.9781033396720886, c=1\n",
      "fixing (1,1,1) with sin, r2=0.9999507069587708, c=2\n",
      "fixing (1,1,2) with x, r2=0.934892475605011, c=1\n",
      "fixing (1,1,3) with sin, r2=0.9977235198020935, c=2\n",
      "fixing (1,1,4) with x^2, r2=0.9999220967292786, c=2\n",
      "fixing (1,2,0) with x^2, r2=0.9993172883987427, c=2\n",
      "fixing (1,2,1) with log, r2=0.9999507069587708, c=2\n",
      "fixing (1,2,2) with sin, r2=0.997469961643219, c=2\n",
      "fixing (1,2,3) with sin, r2=0.9987234473228455, c=2\n",
      "fixing (1,2,4) with x^2, r2=0.9998539090156555, c=2\n",
      "fixing (1,3,0) with x^2, r2=0.9999898672103882, c=2\n",
      "fixing (1,3,1) with x^2, r2=0.9999853372573853, c=2\n",
      "fixing (1,3,2) with exp, r2=0.9999837279319763, c=2\n",
      "fixing (1,3,3) with x^2, r2=0.9999898672103882, c=2\n",
      "fixing (1,3,4) with exp, r2=0.9999659657478333, c=2\n",
      "fixing (1,4,0) with exp, r2=0.9999986886978149, c=2\n",
      "fixing (1,4,1) with x^2, r2=0.9999926090240479, c=2\n",
      "fixing (1,4,2) with exp, r2=0.9999995827674866, c=2\n",
      "fixing (1,4,3) with exp, r2=0.9999970197677612, c=2\n",
      "fixing (1,4,4) with exp, r2=0.9999999403953552, c=2\n",
      "fixing (2,0,0) with x, r2=0.9999988675117493, c=1\n",
      "fixing (2,1,0) with x, r2=0.9995763897895813, c=1\n",
      "fixing (2,2,0) with exp, r2=0.9999995827674866, c=2\n",
      "fixing (2,3,0) with x^2, r2=0.9991556406021118, c=2\n",
      "fixing (2,4,0) with x^2, r2=1.0000003576278687, c=2\n"
     ]
    }
   ],
   "source": [
    "mode = \"auto\" # \"manual\"\n",
    "\n",
    "if mode == \"manual\":\n",
    "    # manual mode\n",
    "    model.fix_symbolic(0,0,0,'sin');\n",
    "    model.fix_symbolic(0,1,0,'x^2');\n",
    "    model.fix_symbolic(1,0,0,'exp');\n",
    "elif mode == \"auto\":\n",
    "    # automatic mode\n",
    "    lib = ['x','x^2','x^3','x^4','exp','log','sqrt','tanh','sin','abs']\n",
    "    model.auto_symbolic(lib=lib)"
   ]
  },
  {
   "cell_type": "code",
   "execution_count": null,
   "metadata": {},
   "outputs": [],
   "source": [
    "# sf = model.symbolic_formula()[0][0]\n",
    "# nsimplify(ex_round(ex_round(sf, 3),3))"
   ]
  },
  {
   "cell_type": "code",
   "execution_count": null,
   "metadata": {},
   "outputs": [],
   "source": [
    "from kan.utils import ex_round\n",
    "\n",
    "# ex_round(model.symbolic_formula()[0][0],4)"
   ]
  },
  {
   "cell_type": "code",
   "execution_count": null,
   "metadata": {},
   "outputs": [],
   "source": [
    "f = model.symbolic_formula()[0][0]"
   ]
  },
  {
   "cell_type": "code",
   "execution_count": null,
   "metadata": {},
   "outputs": [
    {
     "data": {
      "text/latex": [
       "$\\displaystyle - 1.54669166360231 x_{2} - 3.31295539548807 x_{3} + 1.57583195790505 x_{4} - 0.00326144078050742 x_{5} - 0.000146400295347953 \\left(- 0.671414165471708 x_{3} - 1\\right)^{2} - 0.323873020437706 \\left(- 0.15480410876998 x_{1} + 0.146844738480618 x_{2} + 0.0628593881525092 x_{4} + 0.0675009044391977 x_{5} + \\sin{\\left(0.340479671955109 x_{3} - 1.55071949958801 \\right)} - 0.82313756022447\\right)^{2} - 8.82646008066509 \\left(0.0321034967066455 x_{1} - 0.100472280673639 x_{4} - 0.0865586585688791 \\left(- 0.121414796739345 x_{3} - 1\\right)^{2} + 0.0352802637934736 \\sin{\\left(0.875839829444885 x_{2} + 0.756799638271332 \\right)} + \\sin{\\left(0.303839713335037 x_{5} - 1.39951956272125 \\right)} + 0.707137406692046\\right)^{2} - 7.1577256095624 \\left(0.0321034967066455 x_{1} - 0.100472280673639 x_{4} - 0.0865586585688791 \\left(- 0.121414796739345 x_{3} - 1\\right)^{2} + 0.0352802637934736 \\sin{\\left(0.875839829444885 x_{2} + 0.756799638271332 \\right)} + \\sin{\\left(0.303839713335037 x_{5} - 1.39951956272125 \\right)} + 0.727241513967702\\right)^{2} - 0.427360887138883 \\left(0.0349087262562396 x_{1} + 0.117071825441412 x_{2} + 0.0122029407319934 x_{3} - 0.0390767660814758 x_{4} + 0.0617690984929735 x_{5} - 1\\right)^{2} - 3.3820750520948 \\left(0.0592571192997285 x_{2} + 0.127181920835114 x_{3} - 0.0606421757640223 x_{4} - 0.0911067581570596 \\left(0.0398766678429888 x_{1} + 0.133732587738434 x_{2} + 0.0139395694562303 x_{3} - 0.0446378710575457 x_{4} + 0.0705596017879598 x_{5} - 1\\right)^{2} - 0.0119730623220073 \\left(0.0754664705575429 x_{2} + 0.0931311525445324 x_{4} + 0.0792439036282145 x_{5} + 0.00355711836469107 \\left(- 0.671414165471708 x_{3} - 1\\right)^{2} - \\sin{\\left(0.295999705791473 x_{1} + 1.80380010604858 \\right)} - 0.28025964939712\\right)^{2} - 5.39881151667131 \\cdot 10^{-6} e^{- 0.248361322388309 x_{1} + 0.777280703080198 x_{4} + 0.669641164100198 \\left(- 0.121414796739345 x_{3} - 1\\right)^{2} - 0.272937650687181 \\sin{\\left(0.875839829444885 x_{2} + 0.756799638271332 \\right)} - 7.73627012215456 \\sin{\\left(0.303839713335037 x_{5} - 1.39951956272125 \\right)}} + 0.0291609656106013 e^{0.0891920341320075 x_{1} - 0.0846061582650243 x_{2} - 0.0362171052058208 x_{4} - 0.0388913641925879 x_{5} - 0.576160638375146 \\sin{\\left(0.340479671955109 x_{3} - 1.55071949958801 \\right)}} - 0.968225323604045 \\sin{\\left(0.311999708414078 x_{1} - 1.39611971378326 \\right)} + 0.140192345684419 \\sin{\\left(0.831999778747559 x_{5} + 7.57391977310181 \\right)} - 1\\right)^{2} - 2.13668932753381 \\left(0.0611553846968455 x_{2} + 0.131256115502577 x_{3} - 0.062584810593712 x_{4} - 0.797069329050106 \\left(0.0321034967066455 x_{1} - 0.100472280673639 x_{4} - 0.0865586585688791 \\left(- 0.121414796739345 x_{3} - 1\\right)^{2} + 0.0352802637934736 \\sin{\\left(0.875839829444885 x_{2} + 0.756799638271332 \\right)} + \\sin{\\left(0.303839713335037 x_{5} - 1.39951956272125 \\right)} + 0.704630447452408\\right)^{2} - 0.0150599026000609 e^{0.219984363563279 x_{1} - 0.208673701195321 x_{2} - 0.0893263273603006 x_{4} - 0.0959221536236263 x_{5} - 1.4210499017836 \\sin{\\left(0.340479671955109 x_{3} - 1.55071949958801 \\right)}} - 0.999241826770752 \\sin{\\left(0.311999708414078 x_{1} - 1.39611971378326 \\right)} + 0.144683321315673 \\sin{\\left(0.831999778747559 x_{5} + 7.57391977310181 \\right)} - 0.0726547142717071 \\sin{\\left(1.13851912291858 x_{1} + 3.81820038467343 x_{2} + 0.397988780147294 x_{3} - 1.27445628118913 x_{4} + 2.01454786185794 x_{5} + 8.56651266274016 \\right)} - 0.0216786850834987 \\sin{\\left(1.20673624714784 x_{2} + 1.48920092173185 x_{4} + 1.26713877258566 x_{5} + 0.0568796133482213 \\left(- 0.671414165471708 x_{3} - 1\\right)^{2} - 15.9903628489915 \\sin{\\left(0.295999705791473 x_{1} + 1.80380010604858 \\right)} + 11.9701829924901 \\right)} - 1\\right)^{2} + 0.083415063039802 e^{0.170990353801279 x_{1} - 0.162198755486304 x_{2} - 0.0694319363053871 x_{4} - 0.0745587673587834 x_{5} - 1.10455953113848 \\sin{\\left(0.340479671955109 x_{3} - 1.55071949958801 \\right)}} - 0.100071400341152 e^{0.106558271960424 x_{2} + 0.231487046287321 x_{3} - 0.111977102431479 x_{4} - 0.00136204330136454 x_{5} - 6.11397094156177 \\cdot 10^{-5} \\left(- 0.671414165471708 x_{3} - 1\\right)^{2} + 0.000115049772115336 e^{- 0.188848235880651 x_{1} + 0.591026364931599 x_{4} + 0.509179735786994 \\left(- 0.121414796739345 x_{3} - 1\\right)^{2} - 0.207535510529677 \\sin{\\left(0.875839829444885 x_{2} + 0.756799638271332 \\right)} - 5.88248182452844 \\sin{\\left(0.303839713335037 x_{5} - 1.39951956272125 \\right)}} + 0.011278363526758 e^{0.119531785743164 x_{1} - 0.113385968609251 x_{2} - 0.0485367925715492 x_{4} - 0.0521207331704918 x_{5} - 0.772148663836649 \\sin{\\left(0.340479671955109 x_{3} - 1.55071949958801 \\right)}} + 0.017187988463501 \\sin{\\left(0.295999705791473 x_{1} + 1.80380010604858 \\right)} - 1.76229151777211 \\sin{\\left(0.311999708414078 x_{1} - 1.39611971378326 \\right)} + 0.255167651199817 \\sin{\\left(0.831999778747559 x_{5} + 7.57391977310181 \\right)} + 0.115563788429586 \\sin{\\left(1.44932187193953 x_{1} + 4.8605255876329 x_{2} + 0.506635182705891 x_{3} - 1.62236832563963 x_{4} + 2.56449647571579 x_{5} + 4.88129249157721 \\right)}} - 0.337250709631082 \\log{\\left(4.20015465995346 x_{1} + 14.0858698070977 x_{2} + 1.46823570715236 x_{3} - 4.70164565582468 x_{4} + 7.43194595448794 x_{5} - 0.386733554288232 \\right)} + 0.0411569929190893 \\sin{\\left(0.295999705791473 x_{1} + 1.80380010604858 \\right)} + 25.2212522724894 \\sin{\\left(0.311999708414078 x_{1} - 1.39611971378326 \\right)} - 3.65186329150873 \\sin{\\left(0.831999778747559 x_{5} + 7.57391977310181 \\right)} - 0.962447635651036 \\sin{\\left(0.434916396214864 x_{2} + 0.536718690310559 x_{4} + 0.45668589949098 x_{5} + 0.0204998204984494 \\left(- 0.671414165471708 x_{3} - 1\\right)^{2} - 5.7630414275601 \\sin{\\left(0.295999705791473 x_{1} + 1.80380010604858 \\right)} + 9.58329193170482 \\right)} + 18.5069796812144$"
      ],
      "text/plain": [
       "-1.54669166360231*x_2 - 3.31295539548807*x_3 + 1.57583195790505*x_4 - 0.00326144078050742*x_5 - 0.000146400295347953*(-0.671414165471708*x_3 - 1)**2 - 0.323873020437706*(-0.15480410876998*x_1 + 0.146844738480618*x_2 + 0.0628593881525092*x_4 + 0.0675009044391977*x_5 + sin(0.340479671955109*x_3 - 1.55071949958801) - 0.82313756022447)**2 - 8.82646008066509*(0.0321034967066455*x_1 - 0.100472280673639*x_4 - 0.0865586585688791*(-0.121414796739345*x_3 - 1)**2 + 0.0352802637934736*sin(0.875839829444885*x_2 + 0.756799638271332) + sin(0.303839713335037*x_5 - 1.39951956272125) + 0.707137406692046)**2 - 7.1577256095624*(0.0321034967066455*x_1 - 0.100472280673639*x_4 - 0.0865586585688791*(-0.121414796739345*x_3 - 1)**2 + 0.0352802637934736*sin(0.875839829444885*x_2 + 0.756799638271332) + sin(0.303839713335037*x_5 - 1.39951956272125) + 0.727241513967702)**2 - 0.427360887138883*(0.0349087262562396*x_1 + 0.117071825441412*x_2 + 0.0122029407319934*x_3 - 0.0390767660814758*x_4 + 0.0617690984929735*x_5 - 1)**2 - 3.3820750520948*(0.0592571192997285*x_2 + 0.127181920835114*x_3 - 0.0606421757640223*x_4 - 0.0911067581570596*(0.0398766678429888*x_1 + 0.133732587738434*x_2 + 0.0139395694562303*x_3 - 0.0446378710575457*x_4 + 0.0705596017879598*x_5 - 1)**2 - 0.0119730623220073*(0.0754664705575429*x_2 + 0.0931311525445324*x_4 + 0.0792439036282145*x_5 + 0.00355711836469107*(-0.671414165471708*x_3 - 1)**2 - sin(0.295999705791473*x_1 + 1.80380010604858) - 0.28025964939712)**2 - 5.39881151667131e-6*exp(-0.248361322388309*x_1 + 0.777280703080198*x_4 + 0.669641164100198*(-0.121414796739345*x_3 - 1)**2 - 0.272937650687181*sin(0.875839829444885*x_2 + 0.756799638271332) - 7.73627012215456*sin(0.303839713335037*x_5 - 1.39951956272125)) + 0.0291609656106013*exp(0.0891920341320075*x_1 - 0.0846061582650243*x_2 - 0.0362171052058208*x_4 - 0.0388913641925879*x_5 - 0.576160638375146*sin(0.340479671955109*x_3 - 1.55071949958801)) - 0.968225323604045*sin(0.311999708414078*x_1 - 1.39611971378326) + 0.140192345684419*sin(0.831999778747559*x_5 + 7.57391977310181) - 1)**2 - 2.13668932753381*(0.0611553846968455*x_2 + 0.131256115502577*x_3 - 0.062584810593712*x_4 - 0.797069329050106*(0.0321034967066455*x_1 - 0.100472280673639*x_4 - 0.0865586585688791*(-0.121414796739345*x_3 - 1)**2 + 0.0352802637934736*sin(0.875839829444885*x_2 + 0.756799638271332) + sin(0.303839713335037*x_5 - 1.39951956272125) + 0.704630447452408)**2 - 0.0150599026000609*exp(0.219984363563279*x_1 - 0.208673701195321*x_2 - 0.0893263273603006*x_4 - 0.0959221536236263*x_5 - 1.4210499017836*sin(0.340479671955109*x_3 - 1.55071949958801)) - 0.999241826770752*sin(0.311999708414078*x_1 - 1.39611971378326) + 0.144683321315673*sin(0.831999778747559*x_5 + 7.57391977310181) - 0.0726547142717071*sin(1.13851912291858*x_1 + 3.81820038467343*x_2 + 0.397988780147294*x_3 - 1.27445628118913*x_4 + 2.01454786185794*x_5 + 8.56651266274016) - 0.0216786850834987*sin(1.20673624714784*x_2 + 1.48920092173185*x_4 + 1.26713877258566*x_5 + 0.0568796133482213*(-0.671414165471708*x_3 - 1)**2 - 15.9903628489915*sin(0.295999705791473*x_1 + 1.80380010604858) + 11.9701829924901) - 1)**2 + 0.083415063039802*exp(0.170990353801279*x_1 - 0.162198755486304*x_2 - 0.0694319363053871*x_4 - 0.0745587673587834*x_5 - 1.10455953113848*sin(0.340479671955109*x_3 - 1.55071949958801)) - 0.100071400341152*exp(0.106558271960424*x_2 + 0.231487046287321*x_3 - 0.111977102431479*x_4 - 0.00136204330136454*x_5 - 6.11397094156177e-5*(-0.671414165471708*x_3 - 1)**2 + 0.000115049772115336*exp(-0.188848235880651*x_1 + 0.591026364931599*x_4 + 0.509179735786994*(-0.121414796739345*x_3 - 1)**2 - 0.207535510529677*sin(0.875839829444885*x_2 + 0.756799638271332) - 5.88248182452844*sin(0.303839713335037*x_5 - 1.39951956272125)) + 0.011278363526758*exp(0.119531785743164*x_1 - 0.113385968609251*x_2 - 0.0485367925715492*x_4 - 0.0521207331704918*x_5 - 0.772148663836649*sin(0.340479671955109*x_3 - 1.55071949958801)) + 0.017187988463501*sin(0.295999705791473*x_1 + 1.80380010604858) - 1.76229151777211*sin(0.311999708414078*x_1 - 1.39611971378326) + 0.255167651199817*sin(0.831999778747559*x_5 + 7.57391977310181) + 0.115563788429586*sin(1.44932187193953*x_1 + 4.8605255876329*x_2 + 0.506635182705891*x_3 - 1.62236832563963*x_4 + 2.56449647571579*x_5 + 4.88129249157721)) - 0.337250709631082*log(4.20015465995346*x_1 + 14.0858698070977*x_2 + 1.46823570715236*x_3 - 4.70164565582468*x_4 + 7.43194595448794*x_5 - 0.386733554288232) + 0.0411569929190893*sin(0.295999705791473*x_1 + 1.80380010604858) + 25.2212522724894*sin(0.311999708414078*x_1 - 1.39611971378326) - 3.65186329150873*sin(0.831999778747559*x_5 + 7.57391977310181) - 0.962447635651036*sin(0.434916396214864*x_2 + 0.536718690310559*x_4 + 0.45668589949098*x_5 + 0.0204998204984494*(-0.671414165471708*x_3 - 1)**2 - 5.7630414275601*sin(0.295999705791473*x_1 + 1.80380010604858) + 9.58329193170482) + 18.5069796812144"
      ]
     },
     "execution_count": 98,
     "metadata": {},
     "output_type": "execute_result"
    }
   ],
   "source": [
    "f"
   ]
  },
  {
   "cell_type": "code",
   "execution_count": null,
   "metadata": {},
   "outputs": [],
   "source": [
    "# Assuming you have a trained KAN model\n",
    "\n",
    "formula1, formula2 = model.symbolic_formula()"
   ]
  },
  {
   "cell_type": "code",
   "execution_count": null,
   "metadata": {},
   "outputs": [],
   "source": [
    "import numpy as np\n",
    "import sympy as sp\n",
    "from sympy import sin, cos, symbols, lambdify\n",
    "\n",
    "\n",
    "f = lambdify(formula2, formula1, 'numpy')"
   ]
  },
  {
   "cell_type": "code",
   "execution_count": null,
   "metadata": {},
   "outputs": [
    {
     "name": "stderr",
     "output_type": "stream",
     "text": [
      "c:\\ProgramData\\Anaconda3\\lib\\site-packages\\seaborn\\_decorators.py:36: FutureWarning: Pass the following variables as keyword args: x, y. From version 0.12, the only valid positional argument will be `data`, and passing other arguments without an explicit keyword will result in an error or misinterpretation.\n",
      "  warnings.warn(\n"
     ]
    },
    {
     "data": {
      "text/plain": [
       "<Axes: >"
      ]
     },
     "execution_count": 101,
     "metadata": {},
     "output_type": "execute_result"
    },
    {
     "data": {
      "image/png": "[encoded data removed]",
      "text/plain": [
       "<Figure size 432x288 with 1 Axes>"
      ]
     },
     "metadata": {
      "needs_background": "light"
     },
     "output_type": "display_data"
    }
   ],
   "source": [
    "import seaborn as sns\n",
    "\n",
    "preds = np.zeros_like(train_list_y[0])\n",
    "for i, row in enumerate(train_list_X[0]):\n",
    "    preds[i] = np.clip(f(*row)[0], -5000, 5000)\n",
    "\n",
    "sns.scatterplot(train_list_y[0], preds)"
   ]
  },
  {
   "cell_type": "code",
   "execution_count": null,
   "metadata": {},
   "outputs": [],
   "source": [
    "'zeides_2a_8_red_2000_cal_10_vel_10_fric_025',\n",
    "'zeides_2a_8_red_2000_cal_75_vel_10_fric_050',\n",
    "'zeides_2a_8_red_2500_cal_30_vel_10_fric_0100',\n",
    "'zeides_2a_8_red_250_cal_0_vel_10_fric_025',\n",
    "'zeides_2a_8_red_2000_cal_30_vel_10_fric_050'"
   ]
  }
 ],
 "metadata": {
  "colab": {
   "provenance": []
  },
  "kernelspec": {
   "display_name": "Python 3",
   "name": "python3"
  },
  "language_info": {
   "codemirror_mode": {
    "name": "ipython",
    "version": 3
   },
   "file_extension": ".py",
   "mimetype": "text/x-python",
   "name": "python",
   "nbconvert_exporter": "python",
   "pygments_lexer": "ipython3",
   "version": "3.8.5"
  }
 },
 "nbformat": 4,
 "nbformat_minor": 0
}

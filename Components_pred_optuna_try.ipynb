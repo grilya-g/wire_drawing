{
 "cells": [
  {
   "cell_type": "code",
   "execution_count": 1,
   "metadata": {
    "collapsed": false
   },
   "outputs": [],
   "source": [
    "import importlib\n",
    "import sys"
   ]
  },
  {
   "cell_type": "code",
   "execution_count": 2,
   "metadata": {
    "collapsed": false
   },
   "outputs": [],
   "source": [
    "from analysis_functions import *"
   ]
  },
  {
   "cell_type": "code",
   "execution_count": 3,
   "metadata": {
    "collapsed": false
   },
   "outputs": [],
   "source": [
    "importlib.reload(sys.modules['analysis_functions'])\n",
    "from analysis_functions import *"
   ]
  },
  {
   "cell_type": "markdown",
   "metadata": {},
   "source": [
    "# Загрузка данных"
   ]
  },
  {
   "cell_type": "code",
   "execution_count": 4,
   "metadata": {
    "colab": {
     "base_uri": "https://localhost:8080/"
    },
    "id": "NJMogF0Hsiyy",
    "outputId": "656acbe6-f02e-4395-b1f7-e0833f801402"
   },
   "outputs": [
    {
     "name": "stdout",
     "output_type": "stream",
     "text": [
      "./resourses//X_stress_components_new.pkl\n",
      "./resourses//X_strain_components_new.pkl\n",
      "./resourses//y_stress_components_new.pkl\n",
      "./resourses//y_strain_components_new.pkl\n"
     ]
    }
   ],
   "source": [
    "X_stress_components_new = opener('X_stress_components_new', path_import='./resourses/')\n",
    "X_strain_components_new = opener('X_strain_components_new', path_import='./resourses/')\n",
    "y_stress_components_new = opener('y_stress_components_new', path_import='./resourses/')\n",
    "y_strain_components_new = opener('y_strain_components_new', path_import='./resourses/')\n",
    "# X_stress_components_other = opener('X_stress_components_other')\n",
    "# X_strain_components_other = opener('X_strain_components_other')\n",
    "# y_stress_components_other = opener('y_stress_components_other')\n",
    "# y_strain_components_other = opener('y_strain_components_other')"
   ]
  },
  {
   "cell_type": "code",
   "execution_count": 5,
   "metadata": {
    "id": "wGPCYJtwyxi_"
   },
   "outputs": [
    {
     "data": {
      "text/plain": [
       "(3, 2678, 5)"
      ]
     },
     "execution_count": 5,
     "metadata": {},
     "output_type": "execute_result"
    }
   ],
   "source": [
    "X_stress_components_new.shape"
   ]
  },
  {
   "cell_type": "markdown",
   "metadata": {},
   "source": [
    "# Определение макропараметров"
   ]
  },
  {
   "cell_type": "code",
   "execution_count": 6,
   "metadata": {
    "collapsed": false
   },
   "outputs": [],
   "source": [
    "component_num = 0\n",
    "n_trials_list = [10, 50, 100, 200, 500]\n",
    "n_trials_list = [10, 50, 100, ]"
   ]
  },
  {
   "cell_type": "markdown",
   "metadata": {},
   "source": [
    "# Обучение BayesianOptimization"
   ]
  },
  {
   "cell_type": "code",
   "execution_count": null,
   "metadata": {},
   "outputs": [
    {
     "name": "stdout",
     "output_type": "stream",
     "text": [
      "|   iter    |  target   | activa... |   alpha   | early_... | learni... | learni... | max_iter  | n_layers  | n_units_0 |  solver   |\n",
      "-------------------------------------------------------------------------------------------------------------------------------------\n",
      "| \u001b[39m1        \u001b[39m | \u001b[39m-1.204   \u001b[39m | \u001b[39m1.087    \u001b[39m | \u001b[39m1.113    \u001b[39m | \u001b[39m0.4245   \u001b[39m | \u001b[39m1.69     \u001b[39m | \u001b[39m0.0004729\u001b[39m | \u001b[39m1.832e+03\u001b[39m | \u001b[39m3.683    \u001b[39m | \u001b[39m82.76    \u001b[39m | \u001b[39m0.2734   \u001b[39m |\n"
     ]
    }
   ],
   "source": [
    "best_params_list = []\n",
    "best_values = []\n",
    "for n_trials in n_trials_list:\n",
    "    best_params, cur_X_test, cur_y_test, best_value = do_bayes_opt(\n",
    "        X_stress_components_new[component_num],\n",
    "        y_stress_components_new[component_num],\n",
    "        n_trials=n_trials,\n",
    "        n_layers=5,\n",
    "        n_neurons=100,\n",
    "        n_iter=10,\n",
    "    )\n",
    "    best_params_list.append(best_params)\n",
    "    best_values.append(best_value)"
   ]
  },
  {
   "cell_type": "markdown",
   "metadata": {},
   "source": [
    "# Обучение skopt"
   ]
  },
  {
   "cell_type": "code",
   "execution_count": null,
   "metadata": {},
   "outputs": [
    {
     "name": "stderr",
     "output_type": "stream",
     "text": [
      "/Users/i.grebenkin/pythonProjects/учеба/wire_drawing/.venv/lib/python3.9/site-packages/sklearn/neural_network/_multilayer_perceptron.py:691: ConvergenceWarning: Stochastic Optimizer: Maximum iterations (1157) reached and the optimization hasn't converged yet.\n",
      "  warnings.warn(\n",
      "/Users/i.grebenkin/pythonProjects/учеба/wire_drawing/.venv/lib/python3.9/site-packages/sklearn/neural_network/_multilayer_perceptron.py:691: ConvergenceWarning: Stochastic Optimizer: Maximum iterations (1157) reached and the optimization hasn't converged yet.\n",
      "  warnings.warn(\n",
      "/Users/i.grebenkin/pythonProjects/учеба/wire_drawing/.venv/lib/python3.9/site-packages/sklearn/neural_network/_multilayer_perceptron.py:691: ConvergenceWarning: Stochastic Optimizer: Maximum iterations (1157) reached and the optimization hasn't converged yet.\n",
      "  warnings.warn(\n",
      "/Users/i.grebenkin/pythonProjects/учеба/wire_drawing/.venv/lib/python3.9/site-packages/sklearn/neural_network/_multilayer_perceptron.py:546: ConvergenceWarning: lbfgs failed to converge (status=1):\n",
      "STOP: TOTAL NO. of ITERATIONS REACHED LIMIT.\n",
      "\n",
      "Increase the number of iterations (max_iter) or scale the data as shown in:\n",
      "    https://scikit-learn.org/stable/modules/preprocessing.html\n",
      "  self.n_iter_ = _check_optimize_result(\"lbfgs\", opt_res, self.max_iter)\n",
      "/Users/i.grebenkin/pythonProjects/учеба/wire_drawing/.venv/lib/python3.9/site-packages/sklearn/neural_network/_multilayer_perceptron.py:546: ConvergenceWarning: lbfgs failed to converge (status=1):\n",
      "STOP: TOTAL NO. of ITERATIONS REACHED LIMIT.\n",
      "\n",
      "Increase the number of iterations (max_iter) or scale the data as shown in:\n",
      "    https://scikit-learn.org/stable/modules/preprocessing.html\n",
      "  self.n_iter_ = _check_optimize_result(\"lbfgs\", opt_res, self.max_iter)\n",
      "/Users/i.grebenkin/pythonProjects/учеба/wire_drawing/.venv/lib/python3.9/site-packages/sklearn/neural_network/_multilayer_perceptron.py:546: ConvergenceWarning: lbfgs failed to converge (status=1):\n",
      "STOP: TOTAL NO. of ITERATIONS REACHED LIMIT.\n",
      "\n",
      "Increase the number of iterations (max_iter) or scale the data as shown in:\n",
      "    https://scikit-learn.org/stable/modules/preprocessing.html\n",
      "  self.n_iter_ = _check_optimize_result(\"lbfgs\", opt_res, self.max_iter)\n",
      "/Users/i.grebenkin/pythonProjects/учеба/wire_drawing/.venv/lib/python3.9/site-packages/sklearn/neural_network/_multilayer_perceptron.py:691: ConvergenceWarning: Stochastic Optimizer: Maximum iterations (769) reached and the optimization hasn't converged yet.\n",
      "  warnings.warn(\n",
      "/Users/i.grebenkin/pythonProjects/учеба/wire_drawing/.venv/lib/python3.9/site-packages/sklearn/neural_network/_multilayer_perceptron.py:691: ConvergenceWarning: Stochastic Optimizer: Maximum iterations (769) reached and the optimization hasn't converged yet.\n",
      "  warnings.warn(\n",
      "/Users/i.grebenkin/pythonProjects/учеба/wire_drawing/.venv/lib/python3.9/site-packages/sklearn/neural_network/_multilayer_perceptron.py:691: ConvergenceWarning: Stochastic Optimizer: Maximum iterations (769) reached and the optimization hasn't converged yet.\n",
      "  warnings.warn(\n"
     ]
    },
    {
     "name": "stdout",
     "output_type": "stream",
     "text": [
      "Best Hyperparameters: {'n_layers': np.int64(2), 'n_units_0': np.int64(7), 'learning_rate_init': 4.977392799783211e-06, 'early_stopping': True, 'max_iter': np.int64(10392), 'learning_rate': 'adaptive', 'alpha': 0.1, 'activation': 'relu', 'solver': 'lbfgs'}\n"
     ]
    },
    {
     "name": "stderr",
     "output_type": "stream",
     "text": [
      "/Users/i.grebenkin/pythonProjects/учеба/wire_drawing/.venv/lib/python3.9/site-packages/sklearn/neural_network/_multilayer_perceptron.py:546: ConvergenceWarning: lbfgs failed to converge (status=1):\n",
      "STOP: TOTAL NO. of ITERATIONS REACHED LIMIT.\n",
      "\n",
      "Increase the number of iterations (max_iter) or scale the data as shown in:\n",
      "    https://scikit-learn.org/stable/modules/preprocessing.html\n",
      "  self.n_iter_ = _check_optimize_result(\"lbfgs\", opt_res, self.max_iter)\n",
      "/Users/i.grebenkin/pythonProjects/учеба/wire_drawing/.venv/lib/python3.9/site-packages/sklearn/neural_network/_multilayer_perceptron.py:546: ConvergenceWarning: lbfgs failed to converge (status=1):\n",
      "STOP: TOTAL NO. of ITERATIONS REACHED LIMIT.\n",
      "\n",
      "Increase the number of iterations (max_iter) or scale the data as shown in:\n",
      "    https://scikit-learn.org/stable/modules/preprocessing.html\n",
      "  self.n_iter_ = _check_optimize_result(\"lbfgs\", opt_res, self.max_iter)\n",
      "/Users/i.grebenkin/pythonProjects/учеба/wire_drawing/.venv/lib/python3.9/site-packages/sklearn/neural_network/_multilayer_perceptron.py:546: ConvergenceWarning: lbfgs failed to converge (status=1):\n",
      "STOP: TOTAL NO. of ITERATIONS REACHED LIMIT.\n",
      "\n",
      "Increase the number of iterations (max_iter) or scale the data as shown in:\n",
      "    https://scikit-learn.org/stable/modules/preprocessing.html\n",
      "  self.n_iter_ = _check_optimize_result(\"lbfgs\", opt_res, self.max_iter)\n",
      "/Users/i.grebenkin/pythonProjects/учеба/wire_drawing/.venv/lib/python3.9/site-packages/sklearn/neural_network/_multilayer_perceptron.py:691: ConvergenceWarning: Stochastic Optimizer: Maximum iterations (4260) reached and the optimization hasn't converged yet.\n",
      "  warnings.warn(\n",
      "/Users/i.grebenkin/pythonProjects/учеба/wire_drawing/.venv/lib/python3.9/site-packages/sklearn/neural_network/_multilayer_perceptron.py:691: ConvergenceWarning: Stochastic Optimizer: Maximum iterations (4260) reached and the optimization hasn't converged yet.\n",
      "  warnings.warn(\n",
      "/Users/i.grebenkin/pythonProjects/учеба/wire_drawing/.venv/lib/python3.9/site-packages/sklearn/neural_network/_multilayer_perceptron.py:691: ConvergenceWarning: Stochastic Optimizer: Maximum iterations (4260) reached and the optimization hasn't converged yet.\n",
      "  warnings.warn(\n",
      "/Users/i.grebenkin/pythonProjects/учеба/wire_drawing/.venv/lib/python3.9/site-packages/sklearn/neural_network/_multilayer_perceptron.py:691: ConvergenceWarning: Stochastic Optimizer: Maximum iterations (1939) reached and the optimization hasn't converged yet.\n",
      "  warnings.warn(\n",
      "/Users/i.grebenkin/pythonProjects/учеба/wire_drawing/.venv/lib/python3.9/site-packages/sklearn/neural_network/_multilayer_perceptron.py:691: ConvergenceWarning: Stochastic Optimizer: Maximum iterations (1939) reached and the optimization hasn't converged yet.\n",
      "  warnings.warn(\n",
      "/Users/i.grebenkin/pythonProjects/учеба/wire_drawing/.venv/lib/python3.9/site-packages/sklearn/neural_network/_multilayer_perceptron.py:698: UserWarning: Training interrupted by user.\n",
      "  warnings.warn(\"Training interrupted by user.\")\n"
     ]
    }
   ],
   "source": [
    "best_params_list = []\n",
    "best_values = []\n",
    "for n_trials in n_trials_list:\n",
    "    best_params, cur_X_test, cur_y_test, best_value = do_skopt(\n",
    "        X_stress_components_new[component_num],\n",
    "        y_stress_components_new[component_num],\n",
    "        n_trials=n_trials,\n",
    "        n_layers=2,\n",
    "        n_neurons=10,\n",
    "        n_calls=10\n",
    "    )\n",
    "    best_params_list.append(best_params)\n",
    "    best_values.append(best_value)"
   ]
  },
  {
   "cell_type": "markdown",
   "metadata": {},
   "source": [
    "# Обучение optuna"
   ]
  },
  {
   "cell_type": "code",
   "execution_count": null,
   "metadata": {
    "collapsed": false
   },
   "outputs": [
    {
     "name": "stderr",
     "output_type": "stream",
     "text": [
      "[I 2025-01-14 22:06:31,107] A new study created in memory with name: no-name-11e8501d-ec49-400b-8ca5-0f7c03382790\n"
     ]
    }
   ],
   "source": [
    "best_params_list = []\n",
    "best_values = []\n",
    "for n_trials in n_trials_list:\n",
    "    best_params, cur_X_test, cur_y_test, best_value = do_optuna(\n",
    "        X_stress_components_new[component_num],\n",
    "        y_stress_components_new[component_num],\n",
    "        n_trials=n_trials,\n",
    "        n_layers=5,\n",
    "        n_neurons=100,\n",
    "    )\n",
    "    best_params_list.append(best_params)\n",
    "    best_values.append(best_value)"
   ]
  },
  {
   "cell_type": "markdown",
   "metadata": {},
   "source": [
    "# Сохранение моделей"
   ]
  },
  {
   "cell_type": "code",
   "execution_count": null,
   "metadata": {
    "pycharm": {
     "is_executing": true
    }
   },
   "outputs": [],
   "source": [
    "path_to_save_model = './learned_models/'\n",
    "test_metrics = []\n",
    "for i, best_params in enumerate(best_params_list):\n",
    "    optuna_200_3cv, cur_prediction, cur_y_test, cur_X_test, test_metric = test_after_opt(\n",
    "        best_params, X_stress_components[component_num], y_stress_components[component_num],\n",
    "        f'optuna_{n_trials_list[i]}_3cv', path_to_save_model)\n",
    "    test_metrics.append(test_metric)"
   ]
  },
  {
   "cell_type": "code",
   "execution_count": null,
   "metadata": {},
   "outputs": [],
   "source": [
    "sns.set_style('whitegrid')\n",
    "plt.plot(n_trials_list, test_metrics, '-o')"
   ]
  },
  {
   "cell_type": "markdown",
   "metadata": {},
   "source": [
    "## Ячейка для запуска кастомной модели"
   ]
  },
  {
   "cell_type": "code",
   "execution_count": 8,
   "metadata": {},
   "outputs": [
    {
     "name": "stderr",
     "output_type": "stream",
     "text": [
      "/Users/i.grebenkin/.local/lib/python3.9/site-packages/sklearn/neural_network/_multilayer_perceptron.py:545: ConvergenceWarning: lbfgs failed to converge (status=1):\n",
      "STOP: TOTAL NO. of ITERATIONS REACHED LIMIT.\n",
      "\n",
      "Increase the number of iterations (max_iter) or scale the data as shown in:\n",
      "    https://scikit-learn.org/stable/modules/preprocessing.html\n",
      "  self.n_iter_ = _check_optimize_result(\"lbfgs\", opt_res, self.max_iter)\n"
     ]
    },
    {
     "name": "stdout",
     "output_type": "stream",
     "text": [
      "saved in ./learned_models//component_2.pkl\n",
      "test rmse = 1.182551894890011\n"
     ]
    },
    {
     "ename": "ValueError",
     "evalue": "too many values to unpack (expected 5)",
     "output_type": "error",
     "traceback": [
      "\u001b[0;31m---------------------------------------------------------------------------\u001b[0m",
      "\u001b[0;31mValueError\u001b[0m                                Traceback (most recent call last)",
      "Input \u001b[0;32mIn [8]\u001b[0m, in \u001b[0;36m<cell line: 20>\u001b[0;34m()\u001b[0m\n\u001b[1;32m      3\u001b[0m best_params \u001b[38;5;241m=\u001b[39m {\n\u001b[1;32m      4\u001b[0m     \u001b[38;5;124m\"\u001b[39m\u001b[38;5;124mn_layers\u001b[39m\u001b[38;5;124m\"\u001b[39m: \u001b[38;5;241m4\u001b[39m,\n\u001b[1;32m      5\u001b[0m     \u001b[38;5;124m\"\u001b[39m\u001b[38;5;124mn_units_0\u001b[39m\u001b[38;5;124m\"\u001b[39m: \u001b[38;5;241m87\u001b[39m,\n\u001b[0;32m   (...)\u001b[0m\n\u001b[1;32m     15\u001b[0m     \u001b[38;5;124m\"\u001b[39m\u001b[38;5;124msolver\u001b[39m\u001b[38;5;124m\"\u001b[39m: \u001b[38;5;124m\"\u001b[39m\u001b[38;5;124mlbfgs\u001b[39m\u001b[38;5;124m\"\u001b[39m,\n\u001b[1;32m     16\u001b[0m }\n\u001b[1;32m     19\u001b[0m name \u001b[38;5;241m=\u001b[39m \u001b[38;5;124m\"\u001b[39m\u001b[38;5;124mcomponent_2\u001b[39m\u001b[38;5;124m\"\u001b[39m\n\u001b[0;32m---> 20\u001b[0m optuna_200_3cv, cur_prediction, cur_y_test, cur_X_test, test_metric \u001b[38;5;241m=\u001b[39m test_after_opt(\n\u001b[1;32m     21\u001b[0m     best_params,\n\u001b[1;32m     22\u001b[0m     X_stress_components_new[component_num],\n\u001b[1;32m     23\u001b[0m     y_stress_components_new[component_num],\n\u001b[1;32m     24\u001b[0m     name,\n\u001b[1;32m     25\u001b[0m     path_to_save_model,\n\u001b[1;32m     26\u001b[0m )\n",
      "\u001b[0;31mValueError\u001b[0m: too many values to unpack (expected 5)"
     ]
    }
   ],
   "source": [
    "component_num = 2\n",
    "path_to_save_model = \"./learned_models/\"\n",
    "best_params = {\n",
    "    \"n_layers\": 4,\n",
    "    \"n_units_0\": 87,\n",
    "    \"n_units_1\": 73,\n",
    "    \"n_units_2\": 42,\n",
    "    \"n_units_3\": 69,\n",
    "    \"learning_rate_init\": 5.906544120294311e-05,\n",
    "    \"early_stopping\": True,\n",
    "    \"max_iter\": 11240,\n",
    "    \"learning_rate\": \"invscaling\",\n",
    "    \"alpha\": 0.0001,\n",
    "    \"activation\": \"tanh\",\n",
    "    \"solver\": \"lbfgs\",\n",
    "}\n",
    "\n",
    "\n",
    "name = \"component_2\"\n",
    "optuna_200_3cv, cur_prediction, cur_y_test, cur_X_test, test_metric = test_after_opt(\n",
    "    best_params,\n",
    "    X_stress_components_new[component_num],\n",
    "    y_stress_components_new[component_num],\n",
    "    name,\n",
    "    path_to_save_model,\n",
    ")"
   ]
  },
  {
   "cell_type": "code",
   "execution_count": 19,
   "metadata": {},
   "outputs": [
    {
     "name": "stdout",
     "output_type": "stream",
     "text": [
      "saved in ./learned_models//component_1.pkl\n",
      "test rmse = 6.277783867516113\n"
     ]
    }
   ],
   "source": [
    "component_num = 1\n",
    "path_to_save_model = \"./learned_models/\"\n",
    "best_params = {\n",
    "    \"n_layers\": 2,\n",
    "    \"n_units_0\": 65,\n",
    "    \"n_units_1\": 92,\n",
    "    \"learning_rate_init\": 0.003016144421699664,\n",
    "    \"early_stopping\": True,\n",
    "    \"max_iter\": 9546,\n",
    "    \"learning_rate\": \"adaptive\",\n",
    "    \"alpha\": 0.001,\n",
    "    \"activation\": \"tanh\",\n",
    "    \"solver\": \"sgd\",\n",
    "}\n",
    "\n",
    "\n",
    "name = f\"component_{component_num}\"\n",
    "best_regr, cur_prediction, cur_y_test, cur_X_test, test_error, train_error = test_after_opt(\n",
    "    best_params,\n",
    "    X_stress_components_new[component_num],\n",
    "    y_stress_components_new[component_num],\n",
    "    name,\n",
    "    path_to_save_model,\n",
    ")"
   ]
  },
  {
   "cell_type": "code",
   "execution_count": 9,
   "metadata": {},
   "outputs": [
    {
     "name": "stdout",
     "output_type": "stream",
     "text": [
      "saved in ./learned_models//component_0.pkl\n",
      "test rmse = 0.852824487605159\n"
     ]
    },
    {
     "name": "stderr",
     "output_type": "stream",
     "text": [
      "/Users/i.grebenkin/.local/lib/python3.9/site-packages/sklearn/neural_network/_multilayer_perceptron.py:545: ConvergenceWarning: lbfgs failed to converge (status=1):\n",
      "STOP: TOTAL NO. of f AND g EVALUATIONS EXCEEDS LIMIT.\n",
      "\n",
      "Increase the number of iterations (max_iter) or scale the data as shown in:\n",
      "    https://scikit-learn.org/stable/modules/preprocessing.html\n",
      "  self.n_iter_ = _check_optimize_result(\"lbfgs\", opt_res, self.max_iter)\n"
     ]
    }
   ],
   "source": [
    "component_num = 0\n",
    "path_to_save_model = \"./learned_models/\"\n",
    "best_params = {\n",
    "    \"n_layers\": 5,\n",
    "    \"n_units_0\": 39,\n",
    "    \"n_units_1\": 30,\n",
    "    \"n_units_2\": 31,\n",
    "    \"n_units_3\": 32,\n",
    "    \"n_units_4\": 32,\n",
    "    \"learning_rate_init\": 2.1155868863441607e-06,\n",
    "    \"early_stopping\": False,\n",
    "    \"max_iter\": 14151,\n",
    "    \"learning_rate\": \"invscaling\",\n",
    "    \"alpha\": 0.001,\n",
    "    \"activation\": \"relu\",\n",
    "    \"solver\": \"lbfgs\",\n",
    "}\n",
    "\n",
    "\n",
    "name = \"component_0\"\n",
    "best_regr, cur_prediction, cur_y_test, cur_X_test, test_error, train_error = test_after_opt(\n",
    "    best_params,\n",
    "    X_stress_components_new[component_num],\n",
    "    y_stress_components_new[component_num],\n",
    "    name,\n",
    "    path_to_save_model,\n",
    ")"
   ]
  },
  {
   "cell_type": "code",
   "execution_count": 22,
   "metadata": {},
   "outputs": [],
   "source": [
    "import shutil\n",
    "\n",
    "\n",
    "def plot_results(\n",
    "    x,\n",
    "    y,\n",
    "    model_name,\n",
    "    do_zip=False,\n",
    "    dpi=500,\n",
    "    delete_and_rewrite=True,\n",
    "    _path_import=path_to_save_model,\n",
    "):\n",
    "    cur_X_test, cur_y_test, *_ = get_train_test(x, y)\n",
    "\n",
    "    # (best_regr, cur_prediction, cur_y_test, cur_X_test)\n",
    "    model = opener(model_name, path_import=_path_import)[0]\n",
    "    cur_prediction = model.predict(cur_X_test)\n",
    "    print(\"rmse = \", np.sqrt(mean_squared_error(cur_y_test, cur_prediction)))\n",
    "\n",
    "    if delete_and_rewrite:\n",
    "        os.makedirs(model_name, exist_ok=True)\n",
    "\n",
    "    for i, item in enumerate(cur_X_test[::20]):\n",
    "        fig = plt.figure(figsize=(5, 4))\n",
    "        plt.plot(\n",
    "            cur_X_test[i * 20 : (i + 1) * 20, -1],\n",
    "            cur_prediction[i * 20 : (i + 1) * 20],\n",
    "            \"-o\",\n",
    "            label=\"predicted\",\n",
    "        )\n",
    "        plt.plot(\n",
    "            cur_X_test[i * 20 : (i + 1) * 20, -1],\n",
    "            cur_y_test[i * 20 : (i + 1) * 20],\n",
    "            \"-o\",\n",
    "            label=\"real\",\n",
    "        )\n",
    "        title = f\"red {item[0]}, cal {item[1]}, alpha {int(item[2])}, fric {item[3]} vel {item[4]}\"\n",
    "        plt.title(title)\n",
    "        plt.legend(loc=\"best\")\n",
    "        plt.xlabel(\"r, -\")\n",
    "        plt.ylabel(\"$\\sigma$, MPa\")\n",
    "        # plt.show()\n",
    "        plt.savefig(\"\".join((model_name, \"/\", title, \".png\")), format=\"png\", dpi=dpi)\n",
    "        plt.close()\n",
    "        # break\n",
    "    if do_zip:\n",
    "        shutil.make_archive(model_name, \"zip\", model_name)"
   ]
  },
  {
   "cell_type": "code",
   "execution_count": 21,
   "metadata": {},
   "outputs": [
    {
     "data": {
      "text/plain": [
       "array([ 0.25,  1.  , 20.  ,  0.1 , 40.  ])"
      ]
     },
     "execution_count": 21,
     "metadata": {},
     "output_type": "execute_result"
    }
   ],
   "source": [
    "X_stress_components_new[0].max(axis=0)"
   ]
  },
  {
   "cell_type": "code",
   "execution_count": 25,
   "metadata": {},
   "outputs": [
    {
     "name": "stdout",
     "output_type": "stream",
     "text": [
      "./learned_models//component_0.pkl\n",
      "rmse =  0.852824487605159\n"
     ]
    }
   ],
   "source": [
    "plot_results(\n",
    "    X_stress_components_new[0],\n",
    "    y_stress_components_new[0],\n",
    "    'component_0',\n",
    "    do_zip=0,\n",
    "    _path_import=path_to_save_model,\n",
    "    delete_and_rewrite=True\n",
    ")"
   ]
  },
  {
   "cell_type": "code",
   "execution_count": 26,
   "metadata": {},
   "outputs": [
    {
     "name": "stdout",
     "output_type": "stream",
     "text": [
      "./learned_models//component_1.pkl\n",
      "rmse =  6.277783867516113\n"
     ]
    }
   ],
   "source": [
    "component_num = 1\n",
    "plot_results(\n",
    "    X_stress_components_new[1],\n",
    "    y_stress_components_new[1],\n",
    "    f'component_{component_num}',\n",
    "    do_zip=0,\n",
    "    _path_import=path_to_save_model\n",
    ")"
   ]
  },
  {
   "cell_type": "code",
   "execution_count": 27,
   "metadata": {},
   "outputs": [
    {
     "name": "stdout",
     "output_type": "stream",
     "text": [
      "./learned_models//component_2.pkl\n",
      "rmse =  1.182551894890011\n"
     ]
    }
   ],
   "source": [
    "plot_results(\n",
    "    X_stress_components_new[2],\n",
    "    y_stress_components_new[2],\n",
    "    'component_2',\n",
    "    do_zip=0,\n",
    "    _path_import=path_to_save_model\n",
    ")"
   ]
  },
  {
   "cell_type": "code",
   "execution_count": 98,
   "metadata": {},
   "outputs": [
    {
     "name": "stdout",
     "output_type": "stream",
     "text": [
      "d:\\учеба/optuna_200_3cv.pkl\n",
      "rmse =  4.872450206028714\n"
     ]
    }
   ],
   "source": [
    "plot_results(\n",
    "    X_stress_components[0],\n",
    "    y_stress_components[0],\n",
    "    'optuna_200_3cv',\n",
    "    do_zip=True\n",
    ")"
   ]
  }
 ],
 "metadata": {
  "colab": {
   "provenance": []
  },
  "kernelspec": {
   "display_name": ".venv",
   "language": "python",
   "name": "python3"
  },
  "language_info": {
   "codemirror_mode": {
    "name": "ipython",
    "version": 3
   },
   "file_extension": ".py",
   "mimetype": "text/x-python",
   "name": "python",
   "nbconvert_exporter": "python",
   "pygments_lexer": "ipython3",
   "version": "3.9.13"
  }
 },
 "nbformat": 4,
 "nbformat_minor": 0
}

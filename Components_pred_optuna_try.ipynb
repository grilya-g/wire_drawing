{
 "cells": [
  {
   "cell_type": "code",
   "execution_count": 1,
   "metadata": {
    "collapsed": false
   },
   "outputs": [],
   "source": [
    "import importlib\n",
    "import sys"
   ]
  },
  {
   "cell_type": "code",
   "execution_count": 2,
   "metadata": {
    "collapsed": false
   },
   "outputs": [],
   "source": [
    "from analysis_functions import *"
   ]
  },
  {
   "cell_type": "code",
   "execution_count": 3,
   "metadata": {
    "collapsed": false
   },
   "outputs": [],
   "source": [
    "importlib.reload(sys.modules['analysis_functions'])\n",
    "from analysis_functions import *"
   ]
  },
  {
   "cell_type": "markdown",
   "metadata": {},
   "source": [
    "# Загрузка данных"
   ]
  },
  {
   "cell_type": "code",
   "execution_count": 4,
   "metadata": {
    "colab": {
     "base_uri": "https://localhost:8080/"
    },
    "id": "NJMogF0Hsiyy",
    "outputId": "656acbe6-f02e-4395-b1f7-e0833f801402"
   },
   "outputs": [
    {
     "name": "stdout",
     "output_type": "stream",
     "text": [
      "./resourses//X_stress_components_new.pkl\n",
      "./resourses//X_strain_components_new.pkl\n",
      "./resourses//y_stress_components_new.pkl\n",
      "./resourses//y_strain_components_new.pkl\n"
     ]
    }
   ],
   "source": [
    "X_stress_components_new = opener('X_stress_components_new', path_import='./resourses/')\n",
    "X_strain_components_new = opener('X_strain_components_new', path_import='./resourses/')\n",
    "y_stress_components_new = opener('y_stress_components_new', path_import='./resourses/')\n",
    "y_strain_components_new = opener('y_strain_components_new', path_import='./resourses/')\n",
    "# X_stress_components_other = opener('X_stress_components_other')\n",
    "# X_strain_components_other = opener('X_strain_components_other')\n",
    "# y_stress_components_other = opener('y_stress_components_other')\n",
    "# y_strain_components_other = opener('y_strain_components_other')"
   ]
  },
  {
   "cell_type": "code",
   "execution_count": 5,
   "metadata": {
    "id": "wGPCYJtwyxi_"
   },
   "outputs": [
    {
     "data": {
      "text/plain": [
       "(3, 2678, 5)"
      ]
     },
     "execution_count": 5,
     "metadata": {},
     "output_type": "execute_result"
    }
   ],
   "source": [
    "X_stress_components_new.shape"
   ]
  },
  {
   "cell_type": "markdown",
   "metadata": {},
   "source": [
    "# Определение макропараметров"
   ]
  },
  {
   "cell_type": "code",
   "execution_count": 6,
   "metadata": {
    "collapsed": false
   },
   "outputs": [],
   "source": [
    "component_num = 0\n",
    "n_trials_list = [10, 50, 100, 200, 500]\n",
    "n_trials_list = [10, 50, 100, ]"
   ]
  },
  {
   "cell_type": "markdown",
   "metadata": {},
   "source": [
    "# Обучение BayesianOptimization"
   ]
  },
  {
   "cell_type": "code",
   "execution_count": 7,
   "metadata": {},
   "outputs": [
    {
     "name": "stdout",
     "output_type": "stream",
     "text": [
      "|   iter    |  target   | activa... |   alpha   | early_... | learni... | learni... | max_iter  | n_layers  | n_units_0 |  solver   |\n",
      "-------------------------------------------------------------------------------------------------------------------------------------\n",
      "| \u001b[39m1        \u001b[39m | \u001b[39m-1.204   \u001b[39m | \u001b[39m1.087    \u001b[39m | \u001b[39m1.113    \u001b[39m | \u001b[39m0.4245   \u001b[39m | \u001b[39m1.69     \u001b[39m | \u001b[39m0.0004729\u001b[39m | \u001b[39m1.832e+03\u001b[39m | \u001b[39m3.683    \u001b[39m | \u001b[39m82.76    \u001b[39m | \u001b[39m0.2734   \u001b[39m |\n",
      "| \u001b[35m2        \u001b[39m | \u001b[35m-1.095   \u001b[39m | \u001b[35m1.15     \u001b[39m | \u001b[35m3.565    \u001b[39m | \u001b[35m0.2092   \u001b[39m | \u001b[35m0.3707   \u001b[39m | \u001b[35m0.01084  \u001b[39m | \u001b[35m3.303e+03\u001b[39m | \u001b[35m4.914    \u001b[39m | \u001b[35m81.36    \u001b[39m | \u001b[35m0.3439   \u001b[39m |\n",
      "| \u001b[39m3        \u001b[39m | \u001b[39m-3.144   \u001b[39m | \u001b[39m1.632    \u001b[39m | \u001b[39m1.096    \u001b[39m | \u001b[39m0.4317   \u001b[39m | \u001b[39m1.88     \u001b[39m | \u001b[39m0.08177  \u001b[39m | \u001b[39m5.048e+03\u001b[39m | \u001b[39m1.702    \u001b[39m | \u001b[39m37.91    \u001b[39m | \u001b[39m0.01138  \u001b[39m |\n",
      "| \u001b[39m4        \u001b[39m | \u001b[39m-5.831   \u001b[39m | \u001b[39m0.5049   \u001b[39m | \u001b[39m3.183    \u001b[39m | \u001b[39m0.01525  \u001b[39m | \u001b[39m1.198    \u001b[39m | \u001b[39m0.06038  \u001b[39m | \u001b[39m1.586e+03\u001b[39m | \u001b[39m2.528    \u001b[39m | \u001b[39m4.611    \u001b[39m | \u001b[39m1.781    \u001b[39m |\n",
      "| \u001b[39m5        \u001b[39m | \u001b[39m-7.647   \u001b[39m | \u001b[39m1.962    \u001b[39m | \u001b[39m0.2398   \u001b[39m | \u001b[39m0.8905   \u001b[39m | \u001b[39m1.154    \u001b[39m | \u001b[39m0.07425  \u001b[39m | \u001b[39m9.456e+03\u001b[39m | \u001b[39m3.327    \u001b[39m | \u001b[39m3.023    \u001b[39m | \u001b[39m0.4201   \u001b[39m |\n",
      "| \u001b[39m6        \u001b[39m | \u001b[39m-2.239   \u001b[39m | \u001b[39m1.089    \u001b[39m | \u001b[39m3.076    \u001b[39m | \u001b[39m0.2507   \u001b[39m | \u001b[39m0.5718   \u001b[39m | \u001b[39m0.08524  \u001b[39m | \u001b[39m1.463e+04\u001b[39m | \u001b[39m4.539    \u001b[39m | \u001b[39m36.59    \u001b[39m | \u001b[39m1.198    \u001b[39m |\n",
      "| \u001b[39m7        \u001b[39m | \u001b[39m-1.861   \u001b[39m | \u001b[39m0.7096   \u001b[39m | \u001b[39m1.361    \u001b[39m | \u001b[39m0.1781   \u001b[39m | \u001b[39m0.4754   \u001b[39m | \u001b[39m0.004487 \u001b[39m | \u001b[39m7.586e+03\u001b[39m | \u001b[39m2.505    \u001b[39m | \u001b[39m59.69    \u001b[39m | \u001b[39m1.26     \u001b[39m |\n",
      "| \u001b[39m8        \u001b[39m | \u001b[39m-2.548   \u001b[39m | \u001b[39m0.2852   \u001b[39m | \u001b[39m3.735    \u001b[39m | \u001b[39m0.9464   \u001b[39m | \u001b[39m1.205    \u001b[39m | \u001b[39m0.03878  \u001b[39m | \u001b[39m5.454e+03\u001b[39m | \u001b[39m1.817    \u001b[39m | \u001b[39m28.4     \u001b[39m | \u001b[39m0.4931   \u001b[39m |\n",
      "| \u001b[39m9        \u001b[39m | \u001b[39m-2.925   \u001b[39m | \u001b[39m0.3472   \u001b[39m | \u001b[39m3.866    \u001b[39m | \u001b[39m0.957    \u001b[39m | \u001b[39m1.196    \u001b[39m | \u001b[39m0.07313  \u001b[39m | \u001b[39m5.112e+03\u001b[39m | \u001b[39m1.368    \u001b[39m | \u001b[39m46.89    \u001b[39m | \u001b[39m1.017    \u001b[39m |\n",
      "| \u001b[39m10       \u001b[39m | \u001b[39m-38.46   \u001b[39m | \u001b[39m0.1769   \u001b[39m | \u001b[39m2.112    \u001b[39m | \u001b[39m0.9922   \u001b[39m | \u001b[39m0.7901   \u001b[39m | \u001b[39m0.03356  \u001b[39m | \u001b[39m1.208e+04\u001b[39m | \u001b[39m4.017    \u001b[39m | \u001b[39m31.99    \u001b[39m | \u001b[39m1.268    \u001b[39m |\n",
      "| \u001b[39m11       \u001b[39m | \u001b[39m-1.943   \u001b[39m | \u001b[39m0.3776   \u001b[39m | \u001b[39m1.797    \u001b[39m | \u001b[39m0.5107   \u001b[39m | \u001b[39m1.463    \u001b[39m | \u001b[39m0.003351 \u001b[39m | \u001b[39m1.833e+03\u001b[39m | \u001b[39m4.671    \u001b[39m | \u001b[39m81.82    \u001b[39m | \u001b[39m1.929    \u001b[39m |\n",
      "| \u001b[39m12       \u001b[39m | \u001b[39m-5.685   \u001b[39m | \u001b[39m0.9913   \u001b[39m | \u001b[39m2.063    \u001b[39m | \u001b[39m0.2189   \u001b[39m | \u001b[39m0.8988   \u001b[39m | \u001b[39m0.06113  \u001b[39m | \u001b[39m1.752e+03\u001b[39m | \u001b[39m3.539    \u001b[39m | \u001b[39m97.87    \u001b[39m | \u001b[39m0.8737   \u001b[39m |\n",
      "| \u001b[39m13       \u001b[39m | \u001b[39m-1.681   \u001b[39m | \u001b[39m1.317    \u001b[39m | \u001b[39m3.764    \u001b[39m | \u001b[39m0.311    \u001b[39m | \u001b[39m0.3802   \u001b[39m | \u001b[39m0.08154  \u001b[39m | \u001b[39m3.229e+03\u001b[39m | \u001b[39m2.046    \u001b[39m | \u001b[39m26.9     \u001b[39m | \u001b[39m0.7776   \u001b[39m |\n",
      "| \u001b[39m14       \u001b[39m | \u001b[39m-5.765   \u001b[39m | \u001b[39m0.6481   \u001b[39m | \u001b[39m3.978    \u001b[39m | \u001b[39m0.0932   \u001b[39m | \u001b[39m1.116    \u001b[39m | \u001b[39m0.05568  \u001b[39m | \u001b[39m3.333e+03\u001b[39m | \u001b[39m4.238    \u001b[39m | \u001b[39m5.645    \u001b[39m | \u001b[39m1.223    \u001b[39m |\n",
      "| \u001b[39m15       \u001b[39m | \u001b[39m-1.663   \u001b[39m | \u001b[39m0.1636   \u001b[39m | \u001b[39m0.4891   \u001b[39m | \u001b[39m0.3263   \u001b[39m | \u001b[39m1.469    \u001b[39m | \u001b[39m0.08477  \u001b[39m | \u001b[39m3.172e+03\u001b[39m | \u001b[39m3.678    \u001b[39m | \u001b[39m99.93    \u001b[39m | \u001b[39m0.7557   \u001b[39m |\n",
      "| \u001b[39m16       \u001b[39m | \u001b[39m-3.45    \u001b[39m | \u001b[39m0.8906   \u001b[39m | \u001b[39m0.6316   \u001b[39m | \u001b[39m0.8775   \u001b[39m | \u001b[39m0.06209  \u001b[39m | \u001b[39m0.0437   \u001b[39m | \u001b[39m3.12e+03 \u001b[39m | \u001b[39m3.465    \u001b[39m | \u001b[39m11.66    \u001b[39m | \u001b[39m0.56     \u001b[39m |\n",
      "| \u001b[39m17       \u001b[39m | \u001b[39m-4.849   \u001b[39m | \u001b[39m1.148    \u001b[39m | \u001b[39m3.702    \u001b[39m | \u001b[39m0.4192   \u001b[39m | \u001b[39m0.06516  \u001b[39m | \u001b[39m0.08515  \u001b[39m | \u001b[39m7.485e+03\u001b[39m | \u001b[39m1.45     \u001b[39m | \u001b[39m32.94    \u001b[39m | \u001b[39m0.7523   \u001b[39m |\n",
      "| \u001b[39m18       \u001b[39m | \u001b[39m-1.701   \u001b[39m | \u001b[39m1.645    \u001b[39m | \u001b[39m2.188    \u001b[39m | \u001b[39m0.567    \u001b[39m | \u001b[39m1.739    \u001b[39m | \u001b[39m0.05759  \u001b[39m | \u001b[39m7.685e+03\u001b[39m | \u001b[39m3.666    \u001b[39m | \u001b[39m57.83    \u001b[39m | \u001b[39m1.948    \u001b[39m |\n",
      "| \u001b[39m19       \u001b[39m | \u001b[39m-4.91    \u001b[39m | \u001b[39m1.394    \u001b[39m | \u001b[39m2.541    \u001b[39m | \u001b[39m0.01001  \u001b[39m | \u001b[39m1.183    \u001b[39m | \u001b[39m0.05816  \u001b[39m | \u001b[39m7.775e+03\u001b[39m | \u001b[39m1.471    \u001b[39m | \u001b[39m9.648    \u001b[39m | \u001b[39m0.2989   \u001b[39m |\n",
      "| \u001b[39m20       \u001b[39m | \u001b[39m-1.958   \u001b[39m | \u001b[39m1.793    \u001b[39m | \u001b[39m0.9499   \u001b[39m | \u001b[39m0.389    \u001b[39m | \u001b[39m0.1052   \u001b[39m | \u001b[39m0.06953  \u001b[39m | \u001b[39m1.452e+04\u001b[39m | \u001b[39m2.551    \u001b[39m | \u001b[39m16.52    \u001b[39m | \u001b[39m0.3099   \u001b[39m |\n",
      "=====================================================================================================================================\n",
      "Best Hyperparameters: {'activation': 'relu', 'alpha': 0.001, 'early_stopping': True, 'learning_rate': 'constant', 'learning_rate_init': np.float64(0.01083858066953505), 'max_iter': 3303, 'n_layers': 4, 'n_units_0': 81, 'solver': 'lbfgs'}\n",
      "|   iter    |  target   | activa... |   alpha   | early_... | learni... | learni... | max_iter  | n_layers  | n_units_0 |  solver   |\n",
      "-------------------------------------------------------------------------------------------------------------------------------------\n",
      "| \u001b[39m1        \u001b[39m | \u001b[39m-1.204   \u001b[39m | \u001b[39m1.087    \u001b[39m | \u001b[39m1.113    \u001b[39m | \u001b[39m0.4245   \u001b[39m | \u001b[39m1.69     \u001b[39m | \u001b[39m0.0004729\u001b[39m | \u001b[39m1.832e+03\u001b[39m | \u001b[39m3.683    \u001b[39m | \u001b[39m82.76    \u001b[39m | \u001b[39m0.2734   \u001b[39m |\n",
      "| \u001b[35m2        \u001b[39m | \u001b[35m-1.095   \u001b[39m | \u001b[35m1.15     \u001b[39m | \u001b[35m3.565    \u001b[39m | \u001b[35m0.2092   \u001b[39m | \u001b[35m0.3707   \u001b[39m | \u001b[35m0.01084  \u001b[39m | \u001b[35m3.303e+03\u001b[39m | \u001b[35m4.914    \u001b[39m | \u001b[35m81.36    \u001b[39m | \u001b[35m0.3439   \u001b[39m |\n",
      "| \u001b[39m3        \u001b[39m | \u001b[39m-3.144   \u001b[39m | \u001b[39m1.632    \u001b[39m | \u001b[39m1.096    \u001b[39m | \u001b[39m0.4317   \u001b[39m | \u001b[39m1.88     \u001b[39m | \u001b[39m0.08177  \u001b[39m | \u001b[39m5.048e+03\u001b[39m | \u001b[39m1.702    \u001b[39m | \u001b[39m37.91    \u001b[39m | \u001b[39m0.01138  \u001b[39m |\n",
      "| \u001b[39m4        \u001b[39m | \u001b[39m-5.831   \u001b[39m | \u001b[39m0.5049   \u001b[39m | \u001b[39m3.183    \u001b[39m | \u001b[39m0.01525  \u001b[39m | \u001b[39m1.198    \u001b[39m | \u001b[39m0.06038  \u001b[39m | \u001b[39m1.586e+03\u001b[39m | \u001b[39m2.528    \u001b[39m | \u001b[39m4.611    \u001b[39m | \u001b[39m1.781    \u001b[39m |\n",
      "| \u001b[39m5        \u001b[39m | \u001b[39m-7.647   \u001b[39m | \u001b[39m1.962    \u001b[39m | \u001b[39m0.2398   \u001b[39m | \u001b[39m0.8905   \u001b[39m | \u001b[39m1.154    \u001b[39m | \u001b[39m0.07425  \u001b[39m | \u001b[39m9.456e+03\u001b[39m | \u001b[39m3.327    \u001b[39m | \u001b[39m3.023    \u001b[39m | \u001b[39m0.4201   \u001b[39m |\n",
      "| \u001b[39m6        \u001b[39m | \u001b[39m-2.239   \u001b[39m | \u001b[39m1.089    \u001b[39m | \u001b[39m3.076    \u001b[39m | \u001b[39m0.2507   \u001b[39m | \u001b[39m0.5718   \u001b[39m | \u001b[39m0.08524  \u001b[39m | \u001b[39m1.463e+04\u001b[39m | \u001b[39m4.539    \u001b[39m | \u001b[39m36.59    \u001b[39m | \u001b[39m1.198    \u001b[39m |\n",
      "| \u001b[39m7        \u001b[39m | \u001b[39m-1.861   \u001b[39m | \u001b[39m0.7096   \u001b[39m | \u001b[39m1.361    \u001b[39m | \u001b[39m0.1781   \u001b[39m | \u001b[39m0.4754   \u001b[39m | \u001b[39m0.004487 \u001b[39m | \u001b[39m7.586e+03\u001b[39m | \u001b[39m2.505    \u001b[39m | \u001b[39m59.69    \u001b[39m | \u001b[39m1.26     \u001b[39m |\n",
      "| \u001b[39m8        \u001b[39m | \u001b[39m-2.548   \u001b[39m | \u001b[39m0.2852   \u001b[39m | \u001b[39m3.735    \u001b[39m | \u001b[39m0.9464   \u001b[39m | \u001b[39m1.205    \u001b[39m | \u001b[39m0.03878  \u001b[39m | \u001b[39m5.454e+03\u001b[39m | \u001b[39m1.817    \u001b[39m | \u001b[39m28.4     \u001b[39m | \u001b[39m0.4931   \u001b[39m |\n",
      "| \u001b[39m9        \u001b[39m | \u001b[39m-2.925   \u001b[39m | \u001b[39m0.3472   \u001b[39m | \u001b[39m3.866    \u001b[39m | \u001b[39m0.957    \u001b[39m | \u001b[39m1.196    \u001b[39m | \u001b[39m0.07313  \u001b[39m | \u001b[39m5.112e+03\u001b[39m | \u001b[39m1.368    \u001b[39m | \u001b[39m46.89    \u001b[39m | \u001b[39m1.017    \u001b[39m |\n",
      "| \u001b[39m10       \u001b[39m | \u001b[39m-38.46   \u001b[39m | \u001b[39m0.1769   \u001b[39m | \u001b[39m2.112    \u001b[39m | \u001b[39m0.9922   \u001b[39m | \u001b[39m0.7901   \u001b[39m | \u001b[39m0.03356  \u001b[39m | \u001b[39m1.208e+04\u001b[39m | \u001b[39m4.017    \u001b[39m | \u001b[39m31.99    \u001b[39m | \u001b[39m1.268    \u001b[39m |\n",
      "| \u001b[39m11       \u001b[39m | \u001b[39m-1.943   \u001b[39m | \u001b[39m0.3776   \u001b[39m | \u001b[39m1.797    \u001b[39m | \u001b[39m0.5107   \u001b[39m | \u001b[39m1.463    \u001b[39m | \u001b[39m0.003351 \u001b[39m | \u001b[39m1.833e+03\u001b[39m | \u001b[39m4.671    \u001b[39m | \u001b[39m81.82    \u001b[39m | \u001b[39m1.929    \u001b[39m |\n",
      "| \u001b[39m12       \u001b[39m | \u001b[39m-5.685   \u001b[39m | \u001b[39m0.9913   \u001b[39m | \u001b[39m2.063    \u001b[39m | \u001b[39m0.2189   \u001b[39m | \u001b[39m0.8988   \u001b[39m | \u001b[39m0.06113  \u001b[39m | \u001b[39m1.752e+03\u001b[39m | \u001b[39m3.539    \u001b[39m | \u001b[39m97.87    \u001b[39m | \u001b[39m0.8737   \u001b[39m |\n",
      "| \u001b[39m13       \u001b[39m | \u001b[39m-1.681   \u001b[39m | \u001b[39m1.317    \u001b[39m | \u001b[39m3.764    \u001b[39m | \u001b[39m0.311    \u001b[39m | \u001b[39m0.3802   \u001b[39m | \u001b[39m0.08154  \u001b[39m | \u001b[39m3.229e+03\u001b[39m | \u001b[39m2.046    \u001b[39m | \u001b[39m26.9     \u001b[39m | \u001b[39m0.7776   \u001b[39m |\n",
      "| \u001b[39m14       \u001b[39m | \u001b[39m-5.765   \u001b[39m | \u001b[39m0.6481   \u001b[39m | \u001b[39m3.978    \u001b[39m | \u001b[39m0.0932   \u001b[39m | \u001b[39m1.116    \u001b[39m | \u001b[39m0.05568  \u001b[39m | \u001b[39m3.333e+03\u001b[39m | \u001b[39m4.238    \u001b[39m | \u001b[39m5.645    \u001b[39m | \u001b[39m1.223    \u001b[39m |\n",
      "| \u001b[39m15       \u001b[39m | \u001b[39m-1.663   \u001b[39m | \u001b[39m0.1636   \u001b[39m | \u001b[39m0.4891   \u001b[39m | \u001b[39m0.3263   \u001b[39m | \u001b[39m1.469    \u001b[39m | \u001b[39m0.08477  \u001b[39m | \u001b[39m3.172e+03\u001b[39m | \u001b[39m3.678    \u001b[39m | \u001b[39m99.93    \u001b[39m | \u001b[39m0.7557   \u001b[39m |\n",
      "| \u001b[39m16       \u001b[39m | \u001b[39m-3.45    \u001b[39m | \u001b[39m0.8906   \u001b[39m | \u001b[39m0.6316   \u001b[39m | \u001b[39m0.8775   \u001b[39m | \u001b[39m0.06209  \u001b[39m | \u001b[39m0.0437   \u001b[39m | \u001b[39m3.12e+03 \u001b[39m | \u001b[39m3.465    \u001b[39m | \u001b[39m11.66    \u001b[39m | \u001b[39m0.56     \u001b[39m |\n",
      "| \u001b[39m17       \u001b[39m | \u001b[39m-4.849   \u001b[39m | \u001b[39m1.148    \u001b[39m | \u001b[39m3.702    \u001b[39m | \u001b[39m0.4192   \u001b[39m | \u001b[39m0.06516  \u001b[39m | \u001b[39m0.08515  \u001b[39m | \u001b[39m7.485e+03\u001b[39m | \u001b[39m1.45     \u001b[39m | \u001b[39m32.94    \u001b[39m | \u001b[39m0.7523   \u001b[39m |\n",
      "| \u001b[39m18       \u001b[39m | \u001b[39m-1.701   \u001b[39m | \u001b[39m1.645    \u001b[39m | \u001b[39m2.188    \u001b[39m | \u001b[39m0.567    \u001b[39m | \u001b[39m1.739    \u001b[39m | \u001b[39m0.05759  \u001b[39m | \u001b[39m7.685e+03\u001b[39m | \u001b[39m3.666    \u001b[39m | \u001b[39m57.83    \u001b[39m | \u001b[39m1.948    \u001b[39m |\n",
      "| \u001b[39m19       \u001b[39m | \u001b[39m-4.91    \u001b[39m | \u001b[39m1.394    \u001b[39m | \u001b[39m2.541    \u001b[39m | \u001b[39m0.01001  \u001b[39m | \u001b[39m1.183    \u001b[39m | \u001b[39m0.05816  \u001b[39m | \u001b[39m7.775e+03\u001b[39m | \u001b[39m1.471    \u001b[39m | \u001b[39m9.648    \u001b[39m | \u001b[39m0.2989   \u001b[39m |\n",
      "| \u001b[39m20       \u001b[39m | \u001b[39m-1.958   \u001b[39m | \u001b[39m1.793    \u001b[39m | \u001b[39m0.9499   \u001b[39m | \u001b[39m0.389    \u001b[39m | \u001b[39m0.1052   \u001b[39m | \u001b[39m0.06953  \u001b[39m | \u001b[39m1.452e+04\u001b[39m | \u001b[39m2.551    \u001b[39m | \u001b[39m16.52    \u001b[39m | \u001b[39m0.3099   \u001b[39m |\n",
      "=====================================================================================================================================\n",
      "Best Hyperparameters: {'activation': 'relu', 'alpha': 0.001, 'early_stopping': True, 'learning_rate': 'constant', 'learning_rate_init': np.float64(0.01083858066953505), 'max_iter': 3303, 'n_layers': 4, 'n_units_0': 81, 'solver': 'lbfgs'}\n",
      "|   iter    |  target   | activa... |   alpha   | early_... | learni... | learni... | max_iter  | n_layers  | n_units_0 |  solver   |\n",
      "-------------------------------------------------------------------------------------------------------------------------------------\n"
     ]
    },
    {
     "ename": "KeyboardInterrupt",
     "evalue": "",
     "output_type": "error",
     "traceback": [
      "\u001b[0;31m---------------------------------------------------------------------------\u001b[0m",
      "\u001b[0;31mKeyboardInterrupt\u001b[0m                         Traceback (most recent call last)",
      "Cell \u001b[0;32mIn[7], line 4\u001b[0m\n\u001b[1;32m      2\u001b[0m best_values \u001b[38;5;241m=\u001b[39m []\n\u001b[1;32m      3\u001b[0m \u001b[38;5;28;01mfor\u001b[39;00m n_trials \u001b[38;5;129;01min\u001b[39;00m n_trials_list:\n\u001b[0;32m----> 4\u001b[0m     best_params, cur_X_test, cur_y_test, best_value \u001b[38;5;241m=\u001b[39m \u001b[43mdo_bayes_opt\u001b[49m\u001b[43m(\u001b[49m\n\u001b[1;32m      5\u001b[0m \u001b[43m        \u001b[49m\u001b[43mX_stress_components_new\u001b[49m\u001b[43m[\u001b[49m\u001b[43mcomponent_num\u001b[49m\u001b[43m]\u001b[49m\u001b[43m,\u001b[49m\n\u001b[1;32m      6\u001b[0m \u001b[43m        \u001b[49m\u001b[43my_stress_components_new\u001b[49m\u001b[43m[\u001b[49m\u001b[43mcomponent_num\u001b[49m\u001b[43m]\u001b[49m\u001b[43m,\u001b[49m\n\u001b[1;32m      7\u001b[0m \u001b[43m        \u001b[49m\u001b[43mn_trials\u001b[49m\u001b[38;5;241;43m=\u001b[39;49m\u001b[43mn_trials\u001b[49m\u001b[43m,\u001b[49m\n\u001b[1;32m      8\u001b[0m \u001b[43m        \u001b[49m\u001b[43mn_layers\u001b[49m\u001b[38;5;241;43m=\u001b[39;49m\u001b[38;5;241;43m5\u001b[39;49m\u001b[43m,\u001b[49m\n\u001b[1;32m      9\u001b[0m \u001b[43m        \u001b[49m\u001b[43mn_neurons\u001b[49m\u001b[38;5;241;43m=\u001b[39;49m\u001b[38;5;241;43m100\u001b[39;49m\u001b[43m,\u001b[49m\n\u001b[1;32m     10\u001b[0m \u001b[43m        \u001b[49m\u001b[43mn_iter\u001b[49m\u001b[38;5;241;43m=\u001b[39;49m\u001b[38;5;241;43m10\u001b[39;49m\u001b[43m,\u001b[49m\n\u001b[1;32m     11\u001b[0m \u001b[43m    \u001b[49m\u001b[43m)\u001b[49m\n\u001b[1;32m     12\u001b[0m     best_params_list\u001b[38;5;241m.\u001b[39mappend(best_params)\n\u001b[1;32m     13\u001b[0m     best_values\u001b[38;5;241m.\u001b[39mappend(best_value)\n",
      "File \u001b[0;32m~/pythonProjects/учеба/wire_drawing/.venv/lib/python3.9/site-packages/sklearn/utils/_testing.py:147\u001b[0m, in \u001b[0;36m_IgnoreWarnings.__call__.<locals>.wrapper\u001b[0;34m(*args, **kwargs)\u001b[0m\n\u001b[1;32m    145\u001b[0m \u001b[38;5;28;01mwith\u001b[39;00m warnings\u001b[38;5;241m.\u001b[39mcatch_warnings():\n\u001b[1;32m    146\u001b[0m     warnings\u001b[38;5;241m.\u001b[39msimplefilter(\u001b[38;5;124m\"\u001b[39m\u001b[38;5;124mignore\u001b[39m\u001b[38;5;124m\"\u001b[39m, \u001b[38;5;28mself\u001b[39m\u001b[38;5;241m.\u001b[39mcategory)\n\u001b[0;32m--> 147\u001b[0m     \u001b[38;5;28;01mreturn\u001b[39;00m \u001b[43mfn\u001b[49m\u001b[43m(\u001b[49m\u001b[38;5;241;43m*\u001b[39;49m\u001b[43margs\u001b[49m\u001b[43m,\u001b[49m\u001b[43m \u001b[49m\u001b[38;5;241;43m*\u001b[39;49m\u001b[38;5;241;43m*\u001b[39;49m\u001b[43mkwargs\u001b[49m\u001b[43m)\u001b[49m\n",
      "File \u001b[0;32m~/pythonProjects/учеба/wire_drawing/analysis_functions.py:1103\u001b[0m, in \u001b[0;36mdo_bayes_opt\u001b[0;34m(X, y, n_iter, **kwargs)\u001b[0m\n\u001b[1;32m   1097\u001b[0m \u001b[38;5;66;03m# Perform the optimization\u001b[39;00m\n\u001b[1;32m   1098\u001b[0m optimizer \u001b[38;5;241m=\u001b[39m BayesianOptimization(\n\u001b[1;32m   1099\u001b[0m     f\u001b[38;5;241m=\u001b[39mobjective,\n\u001b[1;32m   1100\u001b[0m     pbounds\u001b[38;5;241m=\u001b[39mpbounds,\n\u001b[1;32m   1101\u001b[0m     random_state\u001b[38;5;241m=\u001b[39m\u001b[38;5;241m100\u001b[39m,\n\u001b[1;32m   1102\u001b[0m )\n\u001b[0;32m-> 1103\u001b[0m \u001b[43moptimizer\u001b[49m\u001b[38;5;241;43m.\u001b[39;49m\u001b[43mmaximize\u001b[49m\u001b[43m(\u001b[49m\u001b[43minit_points\u001b[49m\u001b[38;5;241;43m=\u001b[39;49m\u001b[38;5;241;43m10\u001b[39;49m\u001b[43m,\u001b[49m\u001b[43m \u001b[49m\u001b[43mn_iter\u001b[49m\u001b[38;5;241;43m=\u001b[39;49m\u001b[43mn_iter\u001b[49m\u001b[43m)\u001b[49m\n\u001b[1;32m   1105\u001b[0m \u001b[38;5;66;03m# Extract the best parameters\u001b[39;00m\n\u001b[1;32m   1106\u001b[0m best_params \u001b[38;5;241m=\u001b[39m optimizer\u001b[38;5;241m.\u001b[39mmax[\u001b[38;5;124m\"\u001b[39m\u001b[38;5;124mparams\u001b[39m\u001b[38;5;124m\"\u001b[39m]\n",
      "File \u001b[0;32m~/pythonProjects/учеба/wire_drawing/.venv/lib/python3.9/site-packages/bayes_opt/bayesian_optimization.py:338\u001b[0m, in \u001b[0;36mBayesianOptimization.maximize\u001b[0;34m(self, init_points, n_iter)\u001b[0m\n\u001b[1;32m    336\u001b[0m     x_probe \u001b[38;5;241m=\u001b[39m \u001b[38;5;28mself\u001b[39m\u001b[38;5;241m.\u001b[39msuggest()\n\u001b[1;32m    337\u001b[0m     iteration \u001b[38;5;241m+\u001b[39m\u001b[38;5;241m=\u001b[39m \u001b[38;5;241m1\u001b[39m\n\u001b[0;32m--> 338\u001b[0m \u001b[38;5;28;43mself\u001b[39;49m\u001b[38;5;241;43m.\u001b[39;49m\u001b[43mprobe\u001b[49m\u001b[43m(\u001b[49m\u001b[43mx_probe\u001b[49m\u001b[43m,\u001b[49m\u001b[43m \u001b[49m\u001b[43mlazy\u001b[49m\u001b[38;5;241;43m=\u001b[39;49m\u001b[38;5;28;43;01mFalse\u001b[39;49;00m\u001b[43m)\u001b[49m\n\u001b[1;32m    340\u001b[0m \u001b[38;5;28;01mif\u001b[39;00m \u001b[38;5;28mself\u001b[39m\u001b[38;5;241m.\u001b[39m_bounds_transformer \u001b[38;5;129;01mand\u001b[39;00m iteration \u001b[38;5;241m>\u001b[39m \u001b[38;5;241m0\u001b[39m:\n\u001b[1;32m    341\u001b[0m     \u001b[38;5;66;03m# The bounds transformer should only modify the bounds after\u001b[39;00m\n\u001b[1;32m    342\u001b[0m     \u001b[38;5;66;03m# the init_points points (only for the true iterations)\u001b[39;00m\n\u001b[1;32m    343\u001b[0m     \u001b[38;5;28mself\u001b[39m\u001b[38;5;241m.\u001b[39mset_bounds(\u001b[38;5;28mself\u001b[39m\u001b[38;5;241m.\u001b[39m_bounds_transformer\u001b[38;5;241m.\u001b[39mtransform(\u001b[38;5;28mself\u001b[39m\u001b[38;5;241m.\u001b[39m_space))\n",
      "File \u001b[0;32m~/pythonProjects/учеба/wire_drawing/.venv/lib/python3.9/site-packages/bayes_opt/bayesian_optimization.py:270\u001b[0m, in \u001b[0;36mBayesianOptimization.probe\u001b[0;34m(self, params, lazy)\u001b[0m\n\u001b[1;32m    268\u001b[0m     \u001b[38;5;28mself\u001b[39m\u001b[38;5;241m.\u001b[39m_queue\u001b[38;5;241m.\u001b[39mappend(params)\n\u001b[1;32m    269\u001b[0m \u001b[38;5;28;01melse\u001b[39;00m:\n\u001b[0;32m--> 270\u001b[0m     \u001b[38;5;28;43mself\u001b[39;49m\u001b[38;5;241;43m.\u001b[39;49m\u001b[43m_space\u001b[49m\u001b[38;5;241;43m.\u001b[39;49m\u001b[43mprobe\u001b[49m\u001b[43m(\u001b[49m\u001b[43mparams\u001b[49m\u001b[43m)\u001b[49m\n\u001b[1;32m    271\u001b[0m     \u001b[38;5;28mself\u001b[39m\u001b[38;5;241m.\u001b[39mdispatch(Events\u001b[38;5;241m.\u001b[39mOPTIMIZATION_STEP)\n",
      "File \u001b[0;32m~/pythonProjects/учеба/wire_drawing/.venv/lib/python3.9/site-packages/bayes_opt/target_space.py:418\u001b[0m, in \u001b[0;36mTargetSpace.probe\u001b[0;34m(self, params)\u001b[0m\n\u001b[1;32m    416\u001b[0m     error_msg \u001b[38;5;241m=\u001b[39m \u001b[38;5;124m\"\u001b[39m\u001b[38;5;124mNo target function has been provided.\u001b[39m\u001b[38;5;124m\"\u001b[39m\n\u001b[1;32m    417\u001b[0m     \u001b[38;5;28;01mraise\u001b[39;00m \u001b[38;5;167;01mValueError\u001b[39;00m(error_msg)\n\u001b[0;32m--> 418\u001b[0m target \u001b[38;5;241m=\u001b[39m \u001b[38;5;28;43mself\u001b[39;49m\u001b[38;5;241;43m.\u001b[39;49m\u001b[43mtarget_func\u001b[49m\u001b[43m(\u001b[49m\u001b[38;5;241;43m*\u001b[39;49m\u001b[38;5;241;43m*\u001b[39;49m\u001b[43mdict_params\u001b[49m\u001b[43m)\u001b[49m\n\u001b[1;32m    420\u001b[0m \u001b[38;5;28;01mif\u001b[39;00m \u001b[38;5;28mself\u001b[39m\u001b[38;5;241m.\u001b[39m_constraint \u001b[38;5;129;01mis\u001b[39;00m \u001b[38;5;28;01mNone\u001b[39;00m:\n\u001b[1;32m    421\u001b[0m     \u001b[38;5;28mself\u001b[39m\u001b[38;5;241m.\u001b[39mregister(x, target)\n",
      "File \u001b[0;32m~/pythonProjects/учеба/wire_drawing/analysis_functions.py:1083\u001b[0m, in \u001b[0;36mdo_bayes_opt.<locals>.objective\u001b[0;34m(n_layers, n_units_0, learning_rate_init, early_stopping, max_iter, learning_rate, alpha, activation, solver)\u001b[0m\n\u001b[1;32m   1080\u001b[0m cur_X_train, cur_y_train \u001b[38;5;241m=\u001b[39m clean_input_array(cur_X_train, cur_y_train)\n\u001b[1;32m   1081\u001b[0m cur_X_val, cur_y_val \u001b[38;5;241m=\u001b[39m clean_input_array(cur_X_val, cur_y_val)\n\u001b[0;32m-> 1083\u001b[0m \u001b[43mregr\u001b[49m\u001b[38;5;241;43m.\u001b[39;49m\u001b[43mfit\u001b[49m\u001b[43m(\u001b[49m\u001b[43mcur_X_train\u001b[49m\u001b[43m,\u001b[49m\u001b[43m \u001b[49m\u001b[43mcur_y_train\u001b[49m\u001b[43m)\u001b[49m\n\u001b[1;32m   1085\u001b[0m \u001b[38;5;66;03m#######  Validation  ########\u001b[39;00m\n\u001b[1;32m   1086\u001b[0m \u001b[38;5;66;03m#  Prediction\u001b[39;00m\n\u001b[1;32m   1087\u001b[0m cur_prediction \u001b[38;5;241m=\u001b[39m regr\u001b[38;5;241m.\u001b[39mpredict(cur_X_val)\n",
      "File \u001b[0;32m~/pythonProjects/учеба/wire_drawing/.venv/lib/python3.9/site-packages/sklearn/base.py:1389\u001b[0m, in \u001b[0;36m_fit_context.<locals>.decorator.<locals>.wrapper\u001b[0;34m(estimator, *args, **kwargs)\u001b[0m\n\u001b[1;32m   1382\u001b[0m     estimator\u001b[38;5;241m.\u001b[39m_validate_params()\n\u001b[1;32m   1384\u001b[0m \u001b[38;5;28;01mwith\u001b[39;00m config_context(\n\u001b[1;32m   1385\u001b[0m     skip_parameter_validation\u001b[38;5;241m=\u001b[39m(\n\u001b[1;32m   1386\u001b[0m         prefer_skip_nested_validation \u001b[38;5;129;01mor\u001b[39;00m global_skip_validation\n\u001b[1;32m   1387\u001b[0m     )\n\u001b[1;32m   1388\u001b[0m ):\n\u001b[0;32m-> 1389\u001b[0m     \u001b[38;5;28;01mreturn\u001b[39;00m \u001b[43mfit_method\u001b[49m\u001b[43m(\u001b[49m\u001b[43mestimator\u001b[49m\u001b[43m,\u001b[49m\u001b[43m \u001b[49m\u001b[38;5;241;43m*\u001b[39;49m\u001b[43margs\u001b[49m\u001b[43m,\u001b[49m\u001b[43m \u001b[49m\u001b[38;5;241;43m*\u001b[39;49m\u001b[38;5;241;43m*\u001b[39;49m\u001b[43mkwargs\u001b[49m\u001b[43m)\u001b[49m\n",
      "File \u001b[0;32m~/pythonProjects/учеба/wire_drawing/.venv/lib/python3.9/site-packages/sklearn/pipeline.py:660\u001b[0m, in \u001b[0;36mPipeline.fit\u001b[0;34m(self, X, y, **params)\u001b[0m\n\u001b[1;32m    654\u001b[0m     \u001b[38;5;28;01mif\u001b[39;00m \u001b[38;5;28mself\u001b[39m\u001b[38;5;241m.\u001b[39m_final_estimator \u001b[38;5;241m!=\u001b[39m \u001b[38;5;124m\"\u001b[39m\u001b[38;5;124mpassthrough\u001b[39m\u001b[38;5;124m\"\u001b[39m:\n\u001b[1;32m    655\u001b[0m         last_step_params \u001b[38;5;241m=\u001b[39m \u001b[38;5;28mself\u001b[39m\u001b[38;5;241m.\u001b[39m_get_metadata_for_step(\n\u001b[1;32m    656\u001b[0m             step_idx\u001b[38;5;241m=\u001b[39m\u001b[38;5;28mlen\u001b[39m(\u001b[38;5;28mself\u001b[39m) \u001b[38;5;241m-\u001b[39m \u001b[38;5;241m1\u001b[39m,\n\u001b[1;32m    657\u001b[0m             step_params\u001b[38;5;241m=\u001b[39mrouted_params[\u001b[38;5;28mself\u001b[39m\u001b[38;5;241m.\u001b[39msteps[\u001b[38;5;241m-\u001b[39m\u001b[38;5;241m1\u001b[39m][\u001b[38;5;241m0\u001b[39m]],\n\u001b[1;32m    658\u001b[0m             all_params\u001b[38;5;241m=\u001b[39mparams,\n\u001b[1;32m    659\u001b[0m         )\n\u001b[0;32m--> 660\u001b[0m         \u001b[38;5;28;43mself\u001b[39;49m\u001b[38;5;241;43m.\u001b[39;49m\u001b[43m_final_estimator\u001b[49m\u001b[38;5;241;43m.\u001b[39;49m\u001b[43mfit\u001b[49m\u001b[43m(\u001b[49m\u001b[43mXt\u001b[49m\u001b[43m,\u001b[49m\u001b[43m \u001b[49m\u001b[43my\u001b[49m\u001b[43m,\u001b[49m\u001b[43m \u001b[49m\u001b[38;5;241;43m*\u001b[39;49m\u001b[38;5;241;43m*\u001b[39;49m\u001b[43mlast_step_params\u001b[49m\u001b[43m[\u001b[49m\u001b[38;5;124;43m\"\u001b[39;49m\u001b[38;5;124;43mfit\u001b[39;49m\u001b[38;5;124;43m\"\u001b[39;49m\u001b[43m]\u001b[49m\u001b[43m)\u001b[49m\n\u001b[1;32m    662\u001b[0m \u001b[38;5;28;01mreturn\u001b[39;00m \u001b[38;5;28mself\u001b[39m\n",
      "File \u001b[0;32m~/pythonProjects/учеба/wire_drawing/.venv/lib/python3.9/site-packages/sklearn/base.py:1389\u001b[0m, in \u001b[0;36m_fit_context.<locals>.decorator.<locals>.wrapper\u001b[0;34m(estimator, *args, **kwargs)\u001b[0m\n\u001b[1;32m   1382\u001b[0m     estimator\u001b[38;5;241m.\u001b[39m_validate_params()\n\u001b[1;32m   1384\u001b[0m \u001b[38;5;28;01mwith\u001b[39;00m config_context(\n\u001b[1;32m   1385\u001b[0m     skip_parameter_validation\u001b[38;5;241m=\u001b[39m(\n\u001b[1;32m   1386\u001b[0m         prefer_skip_nested_validation \u001b[38;5;129;01mor\u001b[39;00m global_skip_validation\n\u001b[1;32m   1387\u001b[0m     )\n\u001b[1;32m   1388\u001b[0m ):\n\u001b[0;32m-> 1389\u001b[0m     \u001b[38;5;28;01mreturn\u001b[39;00m \u001b[43mfit_method\u001b[49m\u001b[43m(\u001b[49m\u001b[43mestimator\u001b[49m\u001b[43m,\u001b[49m\u001b[43m \u001b[49m\u001b[38;5;241;43m*\u001b[39;49m\u001b[43margs\u001b[49m\u001b[43m,\u001b[49m\u001b[43m \u001b[49m\u001b[38;5;241;43m*\u001b[39;49m\u001b[38;5;241;43m*\u001b[39;49m\u001b[43mkwargs\u001b[49m\u001b[43m)\u001b[49m\n",
      "File \u001b[0;32m~/pythonProjects/учеба/wire_drawing/.venv/lib/python3.9/site-packages/sklearn/neural_network/_multilayer_perceptron.py:754\u001b[0m, in \u001b[0;36mBaseMultilayerPerceptron.fit\u001b[0;34m(self, X, y)\u001b[0m\n\u001b[1;32m    736\u001b[0m \u001b[38;5;129m@_fit_context\u001b[39m(prefer_skip_nested_validation\u001b[38;5;241m=\u001b[39m\u001b[38;5;28;01mTrue\u001b[39;00m)\n\u001b[1;32m    737\u001b[0m \u001b[38;5;28;01mdef\u001b[39;00m\u001b[38;5;250m \u001b[39m\u001b[38;5;21mfit\u001b[39m(\u001b[38;5;28mself\u001b[39m, X, y):\n\u001b[1;32m    738\u001b[0m \u001b[38;5;250m    \u001b[39m\u001b[38;5;124;03m\"\"\"Fit the model to data matrix X and target(s) y.\u001b[39;00m\n\u001b[1;32m    739\u001b[0m \n\u001b[1;32m    740\u001b[0m \u001b[38;5;124;03m    Parameters\u001b[39;00m\n\u001b[0;32m   (...)\u001b[0m\n\u001b[1;32m    752\u001b[0m \u001b[38;5;124;03m        Returns a trained MLP model.\u001b[39;00m\n\u001b[1;32m    753\u001b[0m \u001b[38;5;124;03m    \"\"\"\u001b[39;00m\n\u001b[0;32m--> 754\u001b[0m     \u001b[38;5;28;01mreturn\u001b[39;00m \u001b[38;5;28;43mself\u001b[39;49m\u001b[38;5;241;43m.\u001b[39;49m\u001b[43m_fit\u001b[49m\u001b[43m(\u001b[49m\u001b[43mX\u001b[49m\u001b[43m,\u001b[49m\u001b[43m \u001b[49m\u001b[43my\u001b[49m\u001b[43m,\u001b[49m\u001b[43m \u001b[49m\u001b[43mincremental\u001b[49m\u001b[38;5;241;43m=\u001b[39;49m\u001b[38;5;28;43;01mFalse\u001b[39;49;00m\u001b[43m)\u001b[49m\n",
      "File \u001b[0;32m~/pythonProjects/учеба/wire_drawing/.venv/lib/python3.9/site-packages/sklearn/neural_network/_multilayer_perceptron.py:489\u001b[0m, in \u001b[0;36mBaseMultilayerPerceptron._fit\u001b[0;34m(self, X, y, incremental)\u001b[0m\n\u001b[1;32m    487\u001b[0m \u001b[38;5;66;03m# Run the LBFGS solver\u001b[39;00m\n\u001b[1;32m    488\u001b[0m \u001b[38;5;28;01melif\u001b[39;00m \u001b[38;5;28mself\u001b[39m\u001b[38;5;241m.\u001b[39msolver \u001b[38;5;241m==\u001b[39m \u001b[38;5;124m\"\u001b[39m\u001b[38;5;124mlbfgs\u001b[39m\u001b[38;5;124m\"\u001b[39m:\n\u001b[0;32m--> 489\u001b[0m     \u001b[38;5;28;43mself\u001b[39;49m\u001b[38;5;241;43m.\u001b[39;49m\u001b[43m_fit_lbfgs\u001b[49m\u001b[43m(\u001b[49m\n\u001b[1;32m    490\u001b[0m \u001b[43m        \u001b[49m\u001b[43mX\u001b[49m\u001b[43m,\u001b[49m\u001b[43m \u001b[49m\u001b[43my\u001b[49m\u001b[43m,\u001b[49m\u001b[43m \u001b[49m\u001b[43mactivations\u001b[49m\u001b[43m,\u001b[49m\u001b[43m \u001b[49m\u001b[43mdeltas\u001b[49m\u001b[43m,\u001b[49m\u001b[43m \u001b[49m\u001b[43mcoef_grads\u001b[49m\u001b[43m,\u001b[49m\u001b[43m \u001b[49m\u001b[43mintercept_grads\u001b[49m\u001b[43m,\u001b[49m\u001b[43m \u001b[49m\u001b[43mlayer_units\u001b[49m\n\u001b[1;32m    491\u001b[0m \u001b[43m    \u001b[49m\u001b[43m)\u001b[49m\n\u001b[1;32m    493\u001b[0m \u001b[38;5;66;03m# validate parameter weights\u001b[39;00m\n\u001b[1;32m    494\u001b[0m weights \u001b[38;5;241m=\u001b[39m chain(\u001b[38;5;28mself\u001b[39m\u001b[38;5;241m.\u001b[39mcoefs_, \u001b[38;5;28mself\u001b[39m\u001b[38;5;241m.\u001b[39mintercepts_)\n",
      "File \u001b[0;32m~/pythonProjects/учеба/wire_drawing/.venv/lib/python3.9/site-packages/sklearn/neural_network/_multilayer_perceptron.py:533\u001b[0m, in \u001b[0;36mBaseMultilayerPerceptron._fit_lbfgs\u001b[0;34m(self, X, y, activations, deltas, coef_grads, intercept_grads, layer_units)\u001b[0m\n\u001b[1;32m    530\u001b[0m \u001b[38;5;28;01melse\u001b[39;00m:\n\u001b[1;32m    531\u001b[0m     iprint \u001b[38;5;241m=\u001b[39m \u001b[38;5;241m-\u001b[39m\u001b[38;5;241m1\u001b[39m\n\u001b[0;32m--> 533\u001b[0m opt_res \u001b[38;5;241m=\u001b[39m \u001b[43mscipy\u001b[49m\u001b[38;5;241;43m.\u001b[39;49m\u001b[43moptimize\u001b[49m\u001b[38;5;241;43m.\u001b[39;49m\u001b[43mminimize\u001b[49m\u001b[43m(\u001b[49m\n\u001b[1;32m    534\u001b[0m \u001b[43m    \u001b[49m\u001b[38;5;28;43mself\u001b[39;49m\u001b[38;5;241;43m.\u001b[39;49m\u001b[43m_loss_grad_lbfgs\u001b[49m\u001b[43m,\u001b[49m\n\u001b[1;32m    535\u001b[0m \u001b[43m    \u001b[49m\u001b[43mpacked_coef_inter\u001b[49m\u001b[43m,\u001b[49m\n\u001b[1;32m    536\u001b[0m \u001b[43m    \u001b[49m\u001b[43mmethod\u001b[49m\u001b[38;5;241;43m=\u001b[39;49m\u001b[38;5;124;43m\"\u001b[39;49m\u001b[38;5;124;43mL-BFGS-B\u001b[39;49m\u001b[38;5;124;43m\"\u001b[39;49m\u001b[43m,\u001b[49m\n\u001b[1;32m    537\u001b[0m \u001b[43m    \u001b[49m\u001b[43mjac\u001b[49m\u001b[38;5;241;43m=\u001b[39;49m\u001b[38;5;28;43;01mTrue\u001b[39;49;00m\u001b[43m,\u001b[49m\n\u001b[1;32m    538\u001b[0m \u001b[43m    \u001b[49m\u001b[43moptions\u001b[49m\u001b[38;5;241;43m=\u001b[39;49m\u001b[43m{\u001b[49m\n\u001b[1;32m    539\u001b[0m \u001b[43m        \u001b[49m\u001b[38;5;124;43m\"\u001b[39;49m\u001b[38;5;124;43mmaxfun\u001b[39;49m\u001b[38;5;124;43m\"\u001b[39;49m\u001b[43m:\u001b[49m\u001b[43m \u001b[49m\u001b[38;5;28;43mself\u001b[39;49m\u001b[38;5;241;43m.\u001b[39;49m\u001b[43mmax_fun\u001b[49m\u001b[43m,\u001b[49m\n\u001b[1;32m    540\u001b[0m \u001b[43m        \u001b[49m\u001b[38;5;124;43m\"\u001b[39;49m\u001b[38;5;124;43mmaxiter\u001b[39;49m\u001b[38;5;124;43m\"\u001b[39;49m\u001b[43m:\u001b[49m\u001b[43m \u001b[49m\u001b[38;5;28;43mself\u001b[39;49m\u001b[38;5;241;43m.\u001b[39;49m\u001b[43mmax_iter\u001b[49m\u001b[43m,\u001b[49m\n\u001b[1;32m    541\u001b[0m \u001b[43m        \u001b[49m\u001b[38;5;124;43m\"\u001b[39;49m\u001b[38;5;124;43miprint\u001b[39;49m\u001b[38;5;124;43m\"\u001b[39;49m\u001b[43m:\u001b[49m\u001b[43m \u001b[49m\u001b[43miprint\u001b[49m\u001b[43m,\u001b[49m\n\u001b[1;32m    542\u001b[0m \u001b[43m        \u001b[49m\u001b[38;5;124;43m\"\u001b[39;49m\u001b[38;5;124;43mgtol\u001b[39;49m\u001b[38;5;124;43m\"\u001b[39;49m\u001b[43m:\u001b[49m\u001b[43m \u001b[49m\u001b[38;5;28;43mself\u001b[39;49m\u001b[38;5;241;43m.\u001b[39;49m\u001b[43mtol\u001b[49m\u001b[43m,\u001b[49m\n\u001b[1;32m    543\u001b[0m \u001b[43m    \u001b[49m\u001b[43m}\u001b[49m\u001b[43m,\u001b[49m\n\u001b[1;32m    544\u001b[0m \u001b[43m    \u001b[49m\u001b[43margs\u001b[49m\u001b[38;5;241;43m=\u001b[39;49m\u001b[43m(\u001b[49m\u001b[43mX\u001b[49m\u001b[43m,\u001b[49m\u001b[43m \u001b[49m\u001b[43my\u001b[49m\u001b[43m,\u001b[49m\u001b[43m \u001b[49m\u001b[43mactivations\u001b[49m\u001b[43m,\u001b[49m\u001b[43m \u001b[49m\u001b[43mdeltas\u001b[49m\u001b[43m,\u001b[49m\u001b[43m \u001b[49m\u001b[43mcoef_grads\u001b[49m\u001b[43m,\u001b[49m\u001b[43m \u001b[49m\u001b[43mintercept_grads\u001b[49m\u001b[43m)\u001b[49m\u001b[43m,\u001b[49m\n\u001b[1;32m    545\u001b[0m \u001b[43m\u001b[49m\u001b[43m)\u001b[49m\n\u001b[1;32m    546\u001b[0m \u001b[38;5;28mself\u001b[39m\u001b[38;5;241m.\u001b[39mn_iter_ \u001b[38;5;241m=\u001b[39m _check_optimize_result(\u001b[38;5;124m\"\u001b[39m\u001b[38;5;124mlbfgs\u001b[39m\u001b[38;5;124m\"\u001b[39m, opt_res, \u001b[38;5;28mself\u001b[39m\u001b[38;5;241m.\u001b[39mmax_iter)\n\u001b[1;32m    547\u001b[0m \u001b[38;5;28mself\u001b[39m\u001b[38;5;241m.\u001b[39mloss_ \u001b[38;5;241m=\u001b[39m opt_res\u001b[38;5;241m.\u001b[39mfun\n",
      "File \u001b[0;32m~/pythonProjects/учеба/wire_drawing/.venv/lib/python3.9/site-packages/scipy/optimize/_minimize.py:713\u001b[0m, in \u001b[0;36mminimize\u001b[0;34m(fun, x0, args, method, jac, hess, hessp, bounds, constraints, tol, callback, options)\u001b[0m\n\u001b[1;32m    710\u001b[0m     res \u001b[38;5;241m=\u001b[39m _minimize_newtoncg(fun, x0, args, jac, hess, hessp, callback,\n\u001b[1;32m    711\u001b[0m                              \u001b[38;5;241m*\u001b[39m\u001b[38;5;241m*\u001b[39moptions)\n\u001b[1;32m    712\u001b[0m \u001b[38;5;28;01melif\u001b[39;00m meth \u001b[38;5;241m==\u001b[39m \u001b[38;5;124m'\u001b[39m\u001b[38;5;124ml-bfgs-b\u001b[39m\u001b[38;5;124m'\u001b[39m:\n\u001b[0;32m--> 713\u001b[0m     res \u001b[38;5;241m=\u001b[39m \u001b[43m_minimize_lbfgsb\u001b[49m\u001b[43m(\u001b[49m\u001b[43mfun\u001b[49m\u001b[43m,\u001b[49m\u001b[43m \u001b[49m\u001b[43mx0\u001b[49m\u001b[43m,\u001b[49m\u001b[43m \u001b[49m\u001b[43margs\u001b[49m\u001b[43m,\u001b[49m\u001b[43m \u001b[49m\u001b[43mjac\u001b[49m\u001b[43m,\u001b[49m\u001b[43m \u001b[49m\u001b[43mbounds\u001b[49m\u001b[43m,\u001b[49m\n\u001b[1;32m    714\u001b[0m \u001b[43m                           \u001b[49m\u001b[43mcallback\u001b[49m\u001b[38;5;241;43m=\u001b[39;49m\u001b[43mcallback\u001b[49m\u001b[43m,\u001b[49m\u001b[43m \u001b[49m\u001b[38;5;241;43m*\u001b[39;49m\u001b[38;5;241;43m*\u001b[39;49m\u001b[43moptions\u001b[49m\u001b[43m)\u001b[49m\n\u001b[1;32m    715\u001b[0m \u001b[38;5;28;01melif\u001b[39;00m meth \u001b[38;5;241m==\u001b[39m \u001b[38;5;124m'\u001b[39m\u001b[38;5;124mtnc\u001b[39m\u001b[38;5;124m'\u001b[39m:\n\u001b[1;32m    716\u001b[0m     res \u001b[38;5;241m=\u001b[39m _minimize_tnc(fun, x0, args, jac, bounds, callback\u001b[38;5;241m=\u001b[39mcallback,\n\u001b[1;32m    717\u001b[0m                         \u001b[38;5;241m*\u001b[39m\u001b[38;5;241m*\u001b[39moptions)\n",
      "File \u001b[0;32m~/pythonProjects/учеба/wire_drawing/.venv/lib/python3.9/site-packages/scipy/optimize/_lbfgsb_py.py:407\u001b[0m, in \u001b[0;36m_minimize_lbfgsb\u001b[0;34m(fun, x0, args, jac, bounds, disp, maxcor, ftol, gtol, eps, maxfun, maxiter, iprint, callback, maxls, finite_diff_rel_step, **unknown_options)\u001b[0m\n\u001b[1;32m    401\u001b[0m task_str \u001b[38;5;241m=\u001b[39m task\u001b[38;5;241m.\u001b[39mtobytes()\n\u001b[1;32m    402\u001b[0m \u001b[38;5;28;01mif\u001b[39;00m task_str\u001b[38;5;241m.\u001b[39mstartswith(\u001b[38;5;124mb\u001b[39m\u001b[38;5;124m'\u001b[39m\u001b[38;5;124mFG\u001b[39m\u001b[38;5;124m'\u001b[39m):\n\u001b[1;32m    403\u001b[0m     \u001b[38;5;66;03m# The minimization routine wants f and g at the current x.\u001b[39;00m\n\u001b[1;32m    404\u001b[0m     \u001b[38;5;66;03m# Note that interruptions due to maxfun are postponed\u001b[39;00m\n\u001b[1;32m    405\u001b[0m     \u001b[38;5;66;03m# until the completion of the current minimization iteration.\u001b[39;00m\n\u001b[1;32m    406\u001b[0m     \u001b[38;5;66;03m# Overwrite f and g:\u001b[39;00m\n\u001b[0;32m--> 407\u001b[0m     f, g \u001b[38;5;241m=\u001b[39m \u001b[43mfunc_and_grad\u001b[49m\u001b[43m(\u001b[49m\u001b[43mx\u001b[49m\u001b[43m)\u001b[49m\n\u001b[1;32m    408\u001b[0m \u001b[38;5;28;01melif\u001b[39;00m task_str\u001b[38;5;241m.\u001b[39mstartswith(\u001b[38;5;124mb\u001b[39m\u001b[38;5;124m'\u001b[39m\u001b[38;5;124mNEW_X\u001b[39m\u001b[38;5;124m'\u001b[39m):\n\u001b[1;32m    409\u001b[0m     \u001b[38;5;66;03m# new iteration\u001b[39;00m\n\u001b[1;32m    410\u001b[0m     n_iterations \u001b[38;5;241m+\u001b[39m\u001b[38;5;241m=\u001b[39m \u001b[38;5;241m1\u001b[39m\n",
      "File \u001b[0;32m~/pythonProjects/учеба/wire_drawing/.venv/lib/python3.9/site-packages/scipy/optimize/_differentiable_functions.py:296\u001b[0m, in \u001b[0;36mScalarFunction.fun_and_grad\u001b[0;34m(self, x)\u001b[0m\n\u001b[1;32m    294\u001b[0m \u001b[38;5;28;01mif\u001b[39;00m \u001b[38;5;129;01mnot\u001b[39;00m np\u001b[38;5;241m.\u001b[39marray_equal(x, \u001b[38;5;28mself\u001b[39m\u001b[38;5;241m.\u001b[39mx):\n\u001b[1;32m    295\u001b[0m     \u001b[38;5;28mself\u001b[39m\u001b[38;5;241m.\u001b[39m_update_x_impl(x)\n\u001b[0;32m--> 296\u001b[0m \u001b[38;5;28;43mself\u001b[39;49m\u001b[38;5;241;43m.\u001b[39;49m\u001b[43m_update_fun\u001b[49m\u001b[43m(\u001b[49m\u001b[43m)\u001b[49m\n\u001b[1;32m    297\u001b[0m \u001b[38;5;28mself\u001b[39m\u001b[38;5;241m.\u001b[39m_update_grad()\n\u001b[1;32m    298\u001b[0m \u001b[38;5;28;01mreturn\u001b[39;00m \u001b[38;5;28mself\u001b[39m\u001b[38;5;241m.\u001b[39mf, \u001b[38;5;28mself\u001b[39m\u001b[38;5;241m.\u001b[39mg\n",
      "File \u001b[0;32m~/pythonProjects/учеба/wire_drawing/.venv/lib/python3.9/site-packages/scipy/optimize/_differentiable_functions.py:262\u001b[0m, in \u001b[0;36mScalarFunction._update_fun\u001b[0;34m(self)\u001b[0m\n\u001b[1;32m    260\u001b[0m \u001b[38;5;28;01mdef\u001b[39;00m\u001b[38;5;250m \u001b[39m\u001b[38;5;21m_update_fun\u001b[39m(\u001b[38;5;28mself\u001b[39m):\n\u001b[1;32m    261\u001b[0m     \u001b[38;5;28;01mif\u001b[39;00m \u001b[38;5;129;01mnot\u001b[39;00m \u001b[38;5;28mself\u001b[39m\u001b[38;5;241m.\u001b[39mf_updated:\n\u001b[0;32m--> 262\u001b[0m         \u001b[38;5;28;43mself\u001b[39;49m\u001b[38;5;241;43m.\u001b[39;49m\u001b[43m_update_fun_impl\u001b[49m\u001b[43m(\u001b[49m\u001b[43m)\u001b[49m\n\u001b[1;32m    263\u001b[0m         \u001b[38;5;28mself\u001b[39m\u001b[38;5;241m.\u001b[39mf_updated \u001b[38;5;241m=\u001b[39m \u001b[38;5;28;01mTrue\u001b[39;00m\n",
      "File \u001b[0;32m~/pythonProjects/учеба/wire_drawing/.venv/lib/python3.9/site-packages/scipy/optimize/_differentiable_functions.py:163\u001b[0m, in \u001b[0;36mScalarFunction.__init__.<locals>.update_fun\u001b[0;34m()\u001b[0m\n\u001b[1;32m    162\u001b[0m \u001b[38;5;28;01mdef\u001b[39;00m\u001b[38;5;250m \u001b[39m\u001b[38;5;21mupdate_fun\u001b[39m():\n\u001b[0;32m--> 163\u001b[0m     \u001b[38;5;28mself\u001b[39m\u001b[38;5;241m.\u001b[39mf \u001b[38;5;241m=\u001b[39m \u001b[43mfun_wrapped\u001b[49m\u001b[43m(\u001b[49m\u001b[38;5;28;43mself\u001b[39;49m\u001b[38;5;241;43m.\u001b[39;49m\u001b[43mx\u001b[49m\u001b[43m)\u001b[49m\n",
      "File \u001b[0;32m~/pythonProjects/учеба/wire_drawing/.venv/lib/python3.9/site-packages/scipy/optimize/_differentiable_functions.py:145\u001b[0m, in \u001b[0;36mScalarFunction.__init__.<locals>.fun_wrapped\u001b[0;34m(x)\u001b[0m\n\u001b[1;32m    141\u001b[0m \u001b[38;5;28mself\u001b[39m\u001b[38;5;241m.\u001b[39mnfev \u001b[38;5;241m+\u001b[39m\u001b[38;5;241m=\u001b[39m \u001b[38;5;241m1\u001b[39m\n\u001b[1;32m    142\u001b[0m \u001b[38;5;66;03m# Send a copy because the user may overwrite it.\u001b[39;00m\n\u001b[1;32m    143\u001b[0m \u001b[38;5;66;03m# Overwriting results in undefined behaviour because\u001b[39;00m\n\u001b[1;32m    144\u001b[0m \u001b[38;5;66;03m# fun(self.x) will change self.x, with the two no longer linked.\u001b[39;00m\n\u001b[0;32m--> 145\u001b[0m fx \u001b[38;5;241m=\u001b[39m \u001b[43mfun\u001b[49m\u001b[43m(\u001b[49m\u001b[43mnp\u001b[49m\u001b[38;5;241;43m.\u001b[39;49m\u001b[43mcopy\u001b[49m\u001b[43m(\u001b[49m\u001b[43mx\u001b[49m\u001b[43m)\u001b[49m\u001b[43m,\u001b[49m\u001b[43m \u001b[49m\u001b[38;5;241;43m*\u001b[39;49m\u001b[43margs\u001b[49m\u001b[43m)\u001b[49m\n\u001b[1;32m    146\u001b[0m \u001b[38;5;66;03m# Make sure the function returns a true scalar\u001b[39;00m\n\u001b[1;32m    147\u001b[0m \u001b[38;5;28;01mif\u001b[39;00m \u001b[38;5;129;01mnot\u001b[39;00m np\u001b[38;5;241m.\u001b[39misscalar(fx):\n",
      "File \u001b[0;32m~/pythonProjects/учеба/wire_drawing/.venv/lib/python3.9/site-packages/scipy/optimize/_optimize.py:79\u001b[0m, in \u001b[0;36mMemoizeJac.__call__\u001b[0;34m(self, x, *args)\u001b[0m\n\u001b[1;32m     77\u001b[0m \u001b[38;5;28;01mdef\u001b[39;00m\u001b[38;5;250m \u001b[39m\u001b[38;5;21m__call__\u001b[39m(\u001b[38;5;28mself\u001b[39m, x, \u001b[38;5;241m*\u001b[39margs):\n\u001b[1;32m     78\u001b[0m \u001b[38;5;250m    \u001b[39m\u001b[38;5;124;03m\"\"\" returns the function value \"\"\"\u001b[39;00m\n\u001b[0;32m---> 79\u001b[0m     \u001b[38;5;28;43mself\u001b[39;49m\u001b[38;5;241;43m.\u001b[39;49m\u001b[43m_compute_if_needed\u001b[49m\u001b[43m(\u001b[49m\u001b[43mx\u001b[49m\u001b[43m,\u001b[49m\u001b[43m \u001b[49m\u001b[38;5;241;43m*\u001b[39;49m\u001b[43margs\u001b[49m\u001b[43m)\u001b[49m\n\u001b[1;32m     80\u001b[0m     \u001b[38;5;28;01mreturn\u001b[39;00m \u001b[38;5;28mself\u001b[39m\u001b[38;5;241m.\u001b[39m_value\n",
      "File \u001b[0;32m~/pythonProjects/учеба/wire_drawing/.venv/lib/python3.9/site-packages/scipy/optimize/_optimize.py:73\u001b[0m, in \u001b[0;36mMemoizeJac._compute_if_needed\u001b[0;34m(self, x, *args)\u001b[0m\n\u001b[1;32m     71\u001b[0m \u001b[38;5;28;01mif\u001b[39;00m \u001b[38;5;129;01mnot\u001b[39;00m np\u001b[38;5;241m.\u001b[39mall(x \u001b[38;5;241m==\u001b[39m \u001b[38;5;28mself\u001b[39m\u001b[38;5;241m.\u001b[39mx) \u001b[38;5;129;01mor\u001b[39;00m \u001b[38;5;28mself\u001b[39m\u001b[38;5;241m.\u001b[39m_value \u001b[38;5;129;01mis\u001b[39;00m \u001b[38;5;28;01mNone\u001b[39;00m \u001b[38;5;129;01mor\u001b[39;00m \u001b[38;5;28mself\u001b[39m\u001b[38;5;241m.\u001b[39mjac \u001b[38;5;129;01mis\u001b[39;00m \u001b[38;5;28;01mNone\u001b[39;00m:\n\u001b[1;32m     72\u001b[0m     \u001b[38;5;28mself\u001b[39m\u001b[38;5;241m.\u001b[39mx \u001b[38;5;241m=\u001b[39m np\u001b[38;5;241m.\u001b[39masarray(x)\u001b[38;5;241m.\u001b[39mcopy()\n\u001b[0;32m---> 73\u001b[0m     fg \u001b[38;5;241m=\u001b[39m \u001b[38;5;28;43mself\u001b[39;49m\u001b[38;5;241;43m.\u001b[39;49m\u001b[43mfun\u001b[49m\u001b[43m(\u001b[49m\u001b[43mx\u001b[49m\u001b[43m,\u001b[49m\u001b[43m \u001b[49m\u001b[38;5;241;43m*\u001b[39;49m\u001b[43margs\u001b[49m\u001b[43m)\u001b[49m\n\u001b[1;32m     74\u001b[0m     \u001b[38;5;28mself\u001b[39m\u001b[38;5;241m.\u001b[39mjac \u001b[38;5;241m=\u001b[39m fg[\u001b[38;5;241m1\u001b[39m]\n\u001b[1;32m     75\u001b[0m     \u001b[38;5;28mself\u001b[39m\u001b[38;5;241m.\u001b[39m_value \u001b[38;5;241m=\u001b[39m fg[\u001b[38;5;241m0\u001b[39m]\n",
      "File \u001b[0;32m~/pythonProjects/учеба/wire_drawing/.venv/lib/python3.9/site-packages/sklearn/neural_network/_multilayer_perceptron.py:279\u001b[0m, in \u001b[0;36mBaseMultilayerPerceptron._loss_grad_lbfgs\u001b[0;34m(self, packed_coef_inter, X, y, activations, deltas, coef_grads, intercept_grads)\u001b[0m\n\u001b[1;32m    238\u001b[0m \u001b[38;5;250m\u001b[39m\u001b[38;5;124;03m\"\"\"Compute the MLP loss function and its corresponding derivatives\u001b[39;00m\n\u001b[1;32m    239\u001b[0m \u001b[38;5;124;03mwith respect to the different parameters given in the initialization.\u001b[39;00m\n\u001b[1;32m    240\u001b[0m \n\u001b[0;32m   (...)\u001b[0m\n\u001b[1;32m    276\u001b[0m \u001b[38;5;124;03mgrad : array-like, shape (number of nodes of all layers,)\u001b[39;00m\n\u001b[1;32m    277\u001b[0m \u001b[38;5;124;03m\"\"\"\u001b[39;00m\n\u001b[1;32m    278\u001b[0m \u001b[38;5;28mself\u001b[39m\u001b[38;5;241m.\u001b[39m_unpack(packed_coef_inter)\n\u001b[0;32m--> 279\u001b[0m loss, coef_grads, intercept_grads \u001b[38;5;241m=\u001b[39m \u001b[38;5;28;43mself\u001b[39;49m\u001b[38;5;241;43m.\u001b[39;49m\u001b[43m_backprop\u001b[49m\u001b[43m(\u001b[49m\n\u001b[1;32m    280\u001b[0m \u001b[43m    \u001b[49m\u001b[43mX\u001b[49m\u001b[43m,\u001b[49m\u001b[43m \u001b[49m\u001b[43my\u001b[49m\u001b[43m,\u001b[49m\u001b[43m \u001b[49m\u001b[43mactivations\u001b[49m\u001b[43m,\u001b[49m\u001b[43m \u001b[49m\u001b[43mdeltas\u001b[49m\u001b[43m,\u001b[49m\u001b[43m \u001b[49m\u001b[43mcoef_grads\u001b[49m\u001b[43m,\u001b[49m\u001b[43m \u001b[49m\u001b[43mintercept_grads\u001b[49m\n\u001b[1;32m    281\u001b[0m \u001b[43m\u001b[49m\u001b[43m)\u001b[49m\n\u001b[1;32m    282\u001b[0m grad \u001b[38;5;241m=\u001b[39m _pack(coef_grads, intercept_grads)\n\u001b[1;32m    283\u001b[0m \u001b[38;5;28;01mreturn\u001b[39;00m loss, grad\n",
      "File \u001b[0;32m~/pythonProjects/учеба/wire_drawing/.venv/lib/python3.9/site-packages/sklearn/neural_network/_multilayer_perceptron.py:324\u001b[0m, in \u001b[0;36mBaseMultilayerPerceptron._backprop\u001b[0;34m(self, X, y, activations, deltas, coef_grads, intercept_grads)\u001b[0m\n\u001b[1;32m    321\u001b[0m n_samples \u001b[38;5;241m=\u001b[39m X\u001b[38;5;241m.\u001b[39mshape[\u001b[38;5;241m0\u001b[39m]\n\u001b[1;32m    323\u001b[0m \u001b[38;5;66;03m# Forward propagate\u001b[39;00m\n\u001b[0;32m--> 324\u001b[0m activations \u001b[38;5;241m=\u001b[39m \u001b[38;5;28;43mself\u001b[39;49m\u001b[38;5;241;43m.\u001b[39;49m\u001b[43m_forward_pass\u001b[49m\u001b[43m(\u001b[49m\u001b[43mactivations\u001b[49m\u001b[43m)\u001b[49m\n\u001b[1;32m    326\u001b[0m \u001b[38;5;66;03m# Get loss\u001b[39;00m\n\u001b[1;32m    327\u001b[0m loss_func_name \u001b[38;5;241m=\u001b[39m \u001b[38;5;28mself\u001b[39m\u001b[38;5;241m.\u001b[39mloss\n",
      "File \u001b[0;32m~/pythonProjects/учеба/wire_drawing/.venv/lib/python3.9/site-packages/sklearn/neural_network/_multilayer_perceptron.py:176\u001b[0m, in \u001b[0;36mBaseMultilayerPerceptron._forward_pass\u001b[0;34m(self, activations)\u001b[0m\n\u001b[1;32m    174\u001b[0m     \u001b[38;5;66;03m# For the hidden layers\u001b[39;00m\n\u001b[1;32m    175\u001b[0m     \u001b[38;5;28;01mif\u001b[39;00m (i \u001b[38;5;241m+\u001b[39m \u001b[38;5;241m1\u001b[39m) \u001b[38;5;241m!=\u001b[39m (\u001b[38;5;28mself\u001b[39m\u001b[38;5;241m.\u001b[39mn_layers_ \u001b[38;5;241m-\u001b[39m \u001b[38;5;241m1\u001b[39m):\n\u001b[0;32m--> 176\u001b[0m         \u001b[43mhidden_activation\u001b[49m\u001b[43m(\u001b[49m\u001b[43mactivations\u001b[49m\u001b[43m[\u001b[49m\u001b[43mi\u001b[49m\u001b[43m \u001b[49m\u001b[38;5;241;43m+\u001b[39;49m\u001b[43m \u001b[49m\u001b[38;5;241;43m1\u001b[39;49m\u001b[43m]\u001b[49m\u001b[43m)\u001b[49m\n\u001b[1;32m    178\u001b[0m \u001b[38;5;66;03m# For the last layer\u001b[39;00m\n\u001b[1;32m    179\u001b[0m output_activation \u001b[38;5;241m=\u001b[39m ACTIVATIONS[\u001b[38;5;28mself\u001b[39m\u001b[38;5;241m.\u001b[39mout_activation_]\n",
      "File \u001b[0;32m~/pythonProjects/учеба/wire_drawing/.venv/lib/python3.9/site-packages/sklearn/neural_network/_base.py:53\u001b[0m, in \u001b[0;36minplace_relu\u001b[0;34m(X)\u001b[0m\n\u001b[1;32m     45\u001b[0m \u001b[38;5;28;01mdef\u001b[39;00m\u001b[38;5;250m \u001b[39m\u001b[38;5;21minplace_relu\u001b[39m(X):\n\u001b[1;32m     46\u001b[0m \u001b[38;5;250m    \u001b[39m\u001b[38;5;124;03m\"\"\"Compute the rectified linear unit function inplace.\u001b[39;00m\n\u001b[1;32m     47\u001b[0m \n\u001b[1;32m     48\u001b[0m \u001b[38;5;124;03m    Parameters\u001b[39;00m\n\u001b[0;32m   (...)\u001b[0m\n\u001b[1;32m     51\u001b[0m \u001b[38;5;124;03m        The input data.\u001b[39;00m\n\u001b[1;32m     52\u001b[0m \u001b[38;5;124;03m    \"\"\"\u001b[39;00m\n\u001b[0;32m---> 53\u001b[0m     \u001b[43mnp\u001b[49m\u001b[38;5;241;43m.\u001b[39;49m\u001b[43mmaximum\u001b[49m\u001b[43m(\u001b[49m\u001b[43mX\u001b[49m\u001b[43m,\u001b[49m\u001b[43m \u001b[49m\u001b[38;5;241;43m0\u001b[39;49m\u001b[43m,\u001b[49m\u001b[43m \u001b[49m\u001b[43mout\u001b[49m\u001b[38;5;241;43m=\u001b[39;49m\u001b[43mX\u001b[49m\u001b[43m)\u001b[49m\n",
      "\u001b[0;31mKeyboardInterrupt\u001b[0m: "
     ]
    }
   ],
   "source": [
    "best_params_list = []\n",
    "best_values = []\n",
    "for n_trials in n_trials_list:\n",
    "    best_params, cur_X_test, cur_y_test, best_value = do_bayes_opt(\n",
    "        X_stress_components_new[component_num],\n",
    "        y_stress_components_new[component_num],\n",
    "        n_trials=n_trials,\n",
    "        n_layers=5,\n",
    "        n_neurons=100,\n",
    "        n_iter=10,\n",
    "    )\n",
    "    best_params_list.append(best_params)\n",
    "    best_values.append(best_value)"
   ]
  },
  {
   "cell_type": "markdown",
   "metadata": {},
   "source": [
    "# Обучение skopt"
   ]
  },
  {
   "cell_type": "code",
   "execution_count": null,
   "metadata": {},
   "outputs": [
    {
     "name": "stderr",
     "output_type": "stream",
     "text": [
      "/Users/i.grebenkin/pythonProjects/учеба/wire_drawing/.venv/lib/python3.9/site-packages/sklearn/neural_network/_multilayer_perceptron.py:691: ConvergenceWarning: Stochastic Optimizer: Maximum iterations (1157) reached and the optimization hasn't converged yet.\n",
      "  warnings.warn(\n",
      "/Users/i.grebenkin/pythonProjects/учеба/wire_drawing/.venv/lib/python3.9/site-packages/sklearn/neural_network/_multilayer_perceptron.py:691: ConvergenceWarning: Stochastic Optimizer: Maximum iterations (1157) reached and the optimization hasn't converged yet.\n",
      "  warnings.warn(\n",
      "/Users/i.grebenkin/pythonProjects/учеба/wire_drawing/.venv/lib/python3.9/site-packages/sklearn/neural_network/_multilayer_perceptron.py:691: ConvergenceWarning: Stochastic Optimizer: Maximum iterations (1157) reached and the optimization hasn't converged yet.\n",
      "  warnings.warn(\n",
      "/Users/i.grebenkin/pythonProjects/учеба/wire_drawing/.venv/lib/python3.9/site-packages/sklearn/neural_network/_multilayer_perceptron.py:546: ConvergenceWarning: lbfgs failed to converge (status=1):\n",
      "STOP: TOTAL NO. of ITERATIONS REACHED LIMIT.\n",
      "\n",
      "Increase the number of iterations (max_iter) or scale the data as shown in:\n",
      "    https://scikit-learn.org/stable/modules/preprocessing.html\n",
      "  self.n_iter_ = _check_optimize_result(\"lbfgs\", opt_res, self.max_iter)\n",
      "/Users/i.grebenkin/pythonProjects/учеба/wire_drawing/.venv/lib/python3.9/site-packages/sklearn/neural_network/_multilayer_perceptron.py:546: ConvergenceWarning: lbfgs failed to converge (status=1):\n",
      "STOP: TOTAL NO. of ITERATIONS REACHED LIMIT.\n",
      "\n",
      "Increase the number of iterations (max_iter) or scale the data as shown in:\n",
      "    https://scikit-learn.org/stable/modules/preprocessing.html\n",
      "  self.n_iter_ = _check_optimize_result(\"lbfgs\", opt_res, self.max_iter)\n",
      "/Users/i.grebenkin/pythonProjects/учеба/wire_drawing/.venv/lib/python3.9/site-packages/sklearn/neural_network/_multilayer_perceptron.py:546: ConvergenceWarning: lbfgs failed to converge (status=1):\n",
      "STOP: TOTAL NO. of ITERATIONS REACHED LIMIT.\n",
      "\n",
      "Increase the number of iterations (max_iter) or scale the data as shown in:\n",
      "    https://scikit-learn.org/stable/modules/preprocessing.html\n",
      "  self.n_iter_ = _check_optimize_result(\"lbfgs\", opt_res, self.max_iter)\n",
      "/Users/i.grebenkin/pythonProjects/учеба/wire_drawing/.venv/lib/python3.9/site-packages/sklearn/neural_network/_multilayer_perceptron.py:691: ConvergenceWarning: Stochastic Optimizer: Maximum iterations (769) reached and the optimization hasn't converged yet.\n",
      "  warnings.warn(\n",
      "/Users/i.grebenkin/pythonProjects/учеба/wire_drawing/.venv/lib/python3.9/site-packages/sklearn/neural_network/_multilayer_perceptron.py:691: ConvergenceWarning: Stochastic Optimizer: Maximum iterations (769) reached and the optimization hasn't converged yet.\n",
      "  warnings.warn(\n",
      "/Users/i.grebenkin/pythonProjects/учеба/wire_drawing/.venv/lib/python3.9/site-packages/sklearn/neural_network/_multilayer_perceptron.py:691: ConvergenceWarning: Stochastic Optimizer: Maximum iterations (769) reached and the optimization hasn't converged yet.\n",
      "  warnings.warn(\n"
     ]
    },
    {
     "name": "stdout",
     "output_type": "stream",
     "text": [
      "Best Hyperparameters: {'n_layers': np.int64(2), 'n_units_0': np.int64(7), 'learning_rate_init': 4.977392799783211e-06, 'early_stopping': True, 'max_iter': np.int64(10392), 'learning_rate': 'adaptive', 'alpha': 0.1, 'activation': 'relu', 'solver': 'lbfgs'}\n"
     ]
    },
    {
     "name": "stderr",
     "output_type": "stream",
     "text": [
      "/Users/i.grebenkin/pythonProjects/учеба/wire_drawing/.venv/lib/python3.9/site-packages/sklearn/neural_network/_multilayer_perceptron.py:546: ConvergenceWarning: lbfgs failed to converge (status=1):\n",
      "STOP: TOTAL NO. of ITERATIONS REACHED LIMIT.\n",
      "\n",
      "Increase the number of iterations (max_iter) or scale the data as shown in:\n",
      "    https://scikit-learn.org/stable/modules/preprocessing.html\n",
      "  self.n_iter_ = _check_optimize_result(\"lbfgs\", opt_res, self.max_iter)\n",
      "/Users/i.grebenkin/pythonProjects/учеба/wire_drawing/.venv/lib/python3.9/site-packages/sklearn/neural_network/_multilayer_perceptron.py:546: ConvergenceWarning: lbfgs failed to converge (status=1):\n",
      "STOP: TOTAL NO. of ITERATIONS REACHED LIMIT.\n",
      "\n",
      "Increase the number of iterations (max_iter) or scale the data as shown in:\n",
      "    https://scikit-learn.org/stable/modules/preprocessing.html\n",
      "  self.n_iter_ = _check_optimize_result(\"lbfgs\", opt_res, self.max_iter)\n",
      "/Users/i.grebenkin/pythonProjects/учеба/wire_drawing/.venv/lib/python3.9/site-packages/sklearn/neural_network/_multilayer_perceptron.py:546: ConvergenceWarning: lbfgs failed to converge (status=1):\n",
      "STOP: TOTAL NO. of ITERATIONS REACHED LIMIT.\n",
      "\n",
      "Increase the number of iterations (max_iter) or scale the data as shown in:\n",
      "    https://scikit-learn.org/stable/modules/preprocessing.html\n",
      "  self.n_iter_ = _check_optimize_result(\"lbfgs\", opt_res, self.max_iter)\n",
      "/Users/i.grebenkin/pythonProjects/учеба/wire_drawing/.venv/lib/python3.9/site-packages/sklearn/neural_network/_multilayer_perceptron.py:691: ConvergenceWarning: Stochastic Optimizer: Maximum iterations (4260) reached and the optimization hasn't converged yet.\n",
      "  warnings.warn(\n",
      "/Users/i.grebenkin/pythonProjects/учеба/wire_drawing/.venv/lib/python3.9/site-packages/sklearn/neural_network/_multilayer_perceptron.py:691: ConvergenceWarning: Stochastic Optimizer: Maximum iterations (4260) reached and the optimization hasn't converged yet.\n",
      "  warnings.warn(\n",
      "/Users/i.grebenkin/pythonProjects/учеба/wire_drawing/.venv/lib/python3.9/site-packages/sklearn/neural_network/_multilayer_perceptron.py:691: ConvergenceWarning: Stochastic Optimizer: Maximum iterations (4260) reached and the optimization hasn't converged yet.\n",
      "  warnings.warn(\n",
      "/Users/i.grebenkin/pythonProjects/учеба/wire_drawing/.venv/lib/python3.9/site-packages/sklearn/neural_network/_multilayer_perceptron.py:691: ConvergenceWarning: Stochastic Optimizer: Maximum iterations (1939) reached and the optimization hasn't converged yet.\n",
      "  warnings.warn(\n",
      "/Users/i.grebenkin/pythonProjects/учеба/wire_drawing/.venv/lib/python3.9/site-packages/sklearn/neural_network/_multilayer_perceptron.py:691: ConvergenceWarning: Stochastic Optimizer: Maximum iterations (1939) reached and the optimization hasn't converged yet.\n",
      "  warnings.warn(\n",
      "/Users/i.grebenkin/pythonProjects/учеба/wire_drawing/.venv/lib/python3.9/site-packages/sklearn/neural_network/_multilayer_perceptron.py:698: UserWarning: Training interrupted by user.\n",
      "  warnings.warn(\"Training interrupted by user.\")\n"
     ]
    }
   ],
   "source": [
    "best_params_list = []\n",
    "best_values = []\n",
    "for n_trials in n_trials_list:\n",
    "    best_params, cur_X_test, cur_y_test, best_value = do_skopt(\n",
    "        X_stress_components_new[component_num],\n",
    "        y_stress_components_new[component_num],\n",
    "        n_trials=n_trials,\n",
    "        n_layers=2,\n",
    "        n_neurons=10,\n",
    "        n_calls=10\n",
    "    )\n",
    "    best_params_list.append(best_params)\n",
    "    best_values.append(best_value)"
   ]
  },
  {
   "cell_type": "markdown",
   "metadata": {},
   "source": [
    "# Обучение optuna"
   ]
  },
  {
   "cell_type": "code",
   "execution_count": null,
   "metadata": {
    "collapsed": false
   },
   "outputs": [
    {
     "name": "stderr",
     "output_type": "stream",
     "text": [
      "[I 2025-01-14 22:06:31,107] A new study created in memory with name: no-name-11e8501d-ec49-400b-8ca5-0f7c03382790\n"
     ]
    }
   ],
   "source": [
    "best_params_list = []\n",
    "best_values = []\n",
    "for n_trials in n_trials_list:\n",
    "    best_params, cur_X_test, cur_y_test, best_value = do_optuna(\n",
    "        X_stress_components_new[component_num],\n",
    "        y_stress_components_new[component_num],\n",
    "        n_trials=n_trials,\n",
    "        n_layers=5,\n",
    "        n_neurons=100,\n",
    "    )\n",
    "    best_params_list.append(best_params)\n",
    "    best_values.append(best_value)"
   ]
  },
  {
   "cell_type": "markdown",
   "metadata": {},
   "source": [
    "# Сохранение моделей"
   ]
  },
  {
   "cell_type": "code",
   "execution_count": null,
   "metadata": {
    "pycharm": {
     "is_executing": true
    }
   },
   "outputs": [],
   "source": [
    "path_to_save_model = './learned_models/'\n",
    "test_metrics = []\n",
    "for i, best_params in enumerate(best_params_list):\n",
    "    optuna_200_3cv, cur_prediction, cur_y_test, cur_X_test, test_metric = test_after_opt(\n",
    "        best_params, X_stress_components[component_num], y_stress_components[component_num],\n",
    "        f'optuna_{n_trials_list[i]}_3cv', path_to_save_model)\n",
    "    test_metrics.append(test_metric)"
   ]
  },
  {
   "cell_type": "code",
   "execution_count": null,
   "metadata": {},
   "outputs": [],
   "source": [
    "sns.set_style('whitegrid')\n",
    "plt.plot(n_trials_list, test_metrics, '-o')"
   ]
  },
  {
   "cell_type": "markdown",
   "metadata": {},
   "source": [
    "## Ячейка для запуска кастомной модели"
   ]
  },
  {
   "cell_type": "code",
   "execution_count": 8,
   "metadata": {},
   "outputs": [
    {
     "name": "stderr",
     "output_type": "stream",
     "text": [
      "/Users/i.grebenkin/.local/lib/python3.9/site-packages/sklearn/neural_network/_multilayer_perceptron.py:545: ConvergenceWarning: lbfgs failed to converge (status=1):\n",
      "STOP: TOTAL NO. of ITERATIONS REACHED LIMIT.\n",
      "\n",
      "Increase the number of iterations (max_iter) or scale the data as shown in:\n",
      "    https://scikit-learn.org/stable/modules/preprocessing.html\n",
      "  self.n_iter_ = _check_optimize_result(\"lbfgs\", opt_res, self.max_iter)\n"
     ]
    },
    {
     "name": "stdout",
     "output_type": "stream",
     "text": [
      "saved in ./learned_models//component_2.pkl\n",
      "test rmse = 1.182551894890011\n"
     ]
    },
    {
     "ename": "ValueError",
     "evalue": "too many values to unpack (expected 5)",
     "output_type": "error",
     "traceback": [
      "\u001b[0;31m---------------------------------------------------------------------------\u001b[0m",
      "\u001b[0;31mValueError\u001b[0m                                Traceback (most recent call last)",
      "Input \u001b[0;32mIn [8]\u001b[0m, in \u001b[0;36m<cell line: 20>\u001b[0;34m()\u001b[0m\n\u001b[1;32m      3\u001b[0m best_params \u001b[38;5;241m=\u001b[39m {\n\u001b[1;32m      4\u001b[0m     \u001b[38;5;124m\"\u001b[39m\u001b[38;5;124mn_layers\u001b[39m\u001b[38;5;124m\"\u001b[39m: \u001b[38;5;241m4\u001b[39m,\n\u001b[1;32m      5\u001b[0m     \u001b[38;5;124m\"\u001b[39m\u001b[38;5;124mn_units_0\u001b[39m\u001b[38;5;124m\"\u001b[39m: \u001b[38;5;241m87\u001b[39m,\n\u001b[0;32m   (...)\u001b[0m\n\u001b[1;32m     15\u001b[0m     \u001b[38;5;124m\"\u001b[39m\u001b[38;5;124msolver\u001b[39m\u001b[38;5;124m\"\u001b[39m: \u001b[38;5;124m\"\u001b[39m\u001b[38;5;124mlbfgs\u001b[39m\u001b[38;5;124m\"\u001b[39m,\n\u001b[1;32m     16\u001b[0m }\n\u001b[1;32m     19\u001b[0m name \u001b[38;5;241m=\u001b[39m \u001b[38;5;124m\"\u001b[39m\u001b[38;5;124mcomponent_2\u001b[39m\u001b[38;5;124m\"\u001b[39m\n\u001b[0;32m---> 20\u001b[0m optuna_200_3cv, cur_prediction, cur_y_test, cur_X_test, test_metric \u001b[38;5;241m=\u001b[39m test_after_opt(\n\u001b[1;32m     21\u001b[0m     best_params,\n\u001b[1;32m     22\u001b[0m     X_stress_components_new[component_num],\n\u001b[1;32m     23\u001b[0m     y_stress_components_new[component_num],\n\u001b[1;32m     24\u001b[0m     name,\n\u001b[1;32m     25\u001b[0m     path_to_save_model,\n\u001b[1;32m     26\u001b[0m )\n",
      "\u001b[0;31mValueError\u001b[0m: too many values to unpack (expected 5)"
     ]
    }
   ],
   "source": [
    "component_num = 2\n",
    "path_to_save_model = \"./learned_models/\"\n",
    "best_params = {\n",
    "    \"n_layers\": 4,\n",
    "    \"n_units_0\": 87,\n",
    "    \"n_units_1\": 73,\n",
    "    \"n_units_2\": 42,\n",
    "    \"n_units_3\": 69,\n",
    "    \"learning_rate_init\": 5.906544120294311e-05,\n",
    "    \"early_stopping\": True,\n",
    "    \"max_iter\": 11240,\n",
    "    \"learning_rate\": \"invscaling\",\n",
    "    \"alpha\": 0.0001,\n",
    "    \"activation\": \"tanh\",\n",
    "    \"solver\": \"lbfgs\",\n",
    "}\n",
    "\n",
    "\n",
    "name = \"component_2\"\n",
    "optuna_200_3cv, cur_prediction, cur_y_test, cur_X_test, test_metric = test_after_opt(\n",
    "    best_params,\n",
    "    X_stress_components_new[component_num],\n",
    "    y_stress_components_new[component_num],\n",
    "    name,\n",
    "    path_to_save_model,\n",
    ")"
   ]
  },
  {
   "cell_type": "code",
   "execution_count": 19,
   "metadata": {},
   "outputs": [
    {
     "name": "stdout",
     "output_type": "stream",
     "text": [
      "saved in ./learned_models//component_1.pkl\n",
      "test rmse = 6.277783867516113\n"
     ]
    }
   ],
   "source": [
    "component_num = 1\n",
    "path_to_save_model = \"./learned_models/\"\n",
    "best_params = {\n",
    "    \"n_layers\": 2,\n",
    "    \"n_units_0\": 65,\n",
    "    \"n_units_1\": 92,\n",
    "    \"learning_rate_init\": 0.003016144421699664,\n",
    "    \"early_stopping\": True,\n",
    "    \"max_iter\": 9546,\n",
    "    \"learning_rate\": \"adaptive\",\n",
    "    \"alpha\": 0.001,\n",
    "    \"activation\": \"tanh\",\n",
    "    \"solver\": \"sgd\",\n",
    "}\n",
    "\n",
    "\n",
    "name = f\"component_{component_num}\"\n",
    "best_regr, cur_prediction, cur_y_test, cur_X_test, test_error, train_error = test_after_opt(\n",
    "    best_params,\n",
    "    X_stress_components_new[component_num],\n",
    "    y_stress_components_new[component_num],\n",
    "    name,\n",
    "    path_to_save_model,\n",
    ")"
   ]
  },
  {
   "cell_type": "code",
   "execution_count": 9,
   "metadata": {},
   "outputs": [
    {
     "name": "stdout",
     "output_type": "stream",
     "text": [
      "saved in ./learned_models//component_0.pkl\n",
      "test rmse = 0.852824487605159\n"
     ]
    },
    {
     "name": "stderr",
     "output_type": "stream",
     "text": [
      "/Users/i.grebenkin/.local/lib/python3.9/site-packages/sklearn/neural_network/_multilayer_perceptron.py:545: ConvergenceWarning: lbfgs failed to converge (status=1):\n",
      "STOP: TOTAL NO. of f AND g EVALUATIONS EXCEEDS LIMIT.\n",
      "\n",
      "Increase the number of iterations (max_iter) or scale the data as shown in:\n",
      "    https://scikit-learn.org/stable/modules/preprocessing.html\n",
      "  self.n_iter_ = _check_optimize_result(\"lbfgs\", opt_res, self.max_iter)\n"
     ]
    }
   ],
   "source": [
    "component_num = 0\n",
    "path_to_save_model = \"./learned_models/\"\n",
    "best_params = {\n",
    "    \"n_layers\": 5,\n",
    "    \"n_units_0\": 39,\n",
    "    \"n_units_1\": 30,\n",
    "    \"n_units_2\": 31,\n",
    "    \"n_units_3\": 32,\n",
    "    \"n_units_4\": 32,\n",
    "    \"learning_rate_init\": 2.1155868863441607e-06,\n",
    "    \"early_stopping\": False,\n",
    "    \"max_iter\": 14151,\n",
    "    \"learning_rate\": \"invscaling\",\n",
    "    \"alpha\": 0.001,\n",
    "    \"activation\": \"relu\",\n",
    "    \"solver\": \"lbfgs\",\n",
    "}\n",
    "\n",
    "\n",
    "name = \"component_0\"\n",
    "best_regr, cur_prediction, cur_y_test, cur_X_test, test_error, train_error = test_after_opt(\n",
    "    best_params,\n",
    "    X_stress_components_new[component_num],\n",
    "    y_stress_components_new[component_num],\n",
    "    name,\n",
    "    path_to_save_model,\n",
    ")"
   ]
  },
  {
   "cell_type": "code",
   "execution_count": 22,
   "metadata": {},
   "outputs": [],
   "source": [
    "import shutil\n",
    "\n",
    "\n",
    "def plot_results(\n",
    "    x,\n",
    "    y,\n",
    "    model_name,\n",
    "    do_zip=False,\n",
    "    dpi=500,\n",
    "    delete_and_rewrite=True,\n",
    "    _path_import=path_to_save_model,\n",
    "):\n",
    "    cur_X_test, cur_y_test, *_ = get_train_test(x, y)\n",
    "\n",
    "    # (best_regr, cur_prediction, cur_y_test, cur_X_test)\n",
    "    model = opener(model_name, path_import=_path_import)[0]\n",
    "    cur_prediction = model.predict(cur_X_test)\n",
    "    print(\"rmse = \", np.sqrt(mean_squared_error(cur_y_test, cur_prediction)))\n",
    "\n",
    "    if delete_and_rewrite:\n",
    "        os.makedirs(model_name, exist_ok=True)\n",
    "\n",
    "    for i, item in enumerate(cur_X_test[::20]):\n",
    "        fig = plt.figure(figsize=(5, 4))\n",
    "        plt.plot(\n",
    "            cur_X_test[i * 20 : (i + 1) * 20, -1],\n",
    "            cur_prediction[i * 20 : (i + 1) * 20],\n",
    "            \"-o\",\n",
    "            label=\"predicted\",\n",
    "        )\n",
    "        plt.plot(\n",
    "            cur_X_test[i * 20 : (i + 1) * 20, -1],\n",
    "            cur_y_test[i * 20 : (i + 1) * 20],\n",
    "            \"-o\",\n",
    "            label=\"real\",\n",
    "        )\n",
    "        title = f\"red {item[0]}, cal {item[1]}, alpha {int(item[2])}, fric {item[3]} vel {item[4]}\"\n",
    "        plt.title(title)\n",
    "        plt.legend(loc=\"best\")\n",
    "        plt.xlabel(\"r, -\")\n",
    "        plt.ylabel(\"$\\sigma$, MPa\")\n",
    "        # plt.show()\n",
    "        plt.savefig(\"\".join((model_name, \"/\", title, \".png\")), format=\"png\", dpi=dpi)\n",
    "        plt.close()\n",
    "        # break\n",
    "    if do_zip:\n",
    "        shutil.make_archive(model_name, \"zip\", model_name)"
   ]
  },
  {
   "cell_type": "code",
   "execution_count": 21,
   "metadata": {},
   "outputs": [
    {
     "data": {
      "text/plain": [
       "array([ 0.25,  1.  , 20.  ,  0.1 , 40.  ])"
      ]
     },
     "execution_count": 21,
     "metadata": {},
     "output_type": "execute_result"
    }
   ],
   "source": [
    "X_stress_components_new[0].max(axis=0)"
   ]
  },
  {
   "cell_type": "code",
   "execution_count": 25,
   "metadata": {},
   "outputs": [
    {
     "name": "stdout",
     "output_type": "stream",
     "text": [
      "./learned_models//component_0.pkl\n",
      "rmse =  0.852824487605159\n"
     ]
    }
   ],
   "source": [
    "plot_results(\n",
    "    X_stress_components_new[0],\n",
    "    y_stress_components_new[0],\n",
    "    'component_0',\n",
    "    do_zip=0,\n",
    "    _path_import=path_to_save_model,\n",
    "    delete_and_rewrite=True\n",
    ")"
   ]
  },
  {
   "cell_type": "code",
   "execution_count": 26,
   "metadata": {},
   "outputs": [
    {
     "name": "stdout",
     "output_type": "stream",
     "text": [
      "./learned_models//component_1.pkl\n",
      "rmse =  6.277783867516113\n"
     ]
    }
   ],
   "source": [
    "component_num = 1\n",
    "plot_results(\n",
    "    X_stress_components_new[1],\n",
    "    y_stress_components_new[1],\n",
    "    f'component_{component_num}',\n",
    "    do_zip=0,\n",
    "    _path_import=path_to_save_model\n",
    ")"
   ]
  },
  {
   "cell_type": "code",
   "execution_count": 27,
   "metadata": {},
   "outputs": [
    {
     "name": "stdout",
     "output_type": "stream",
     "text": [
      "./learned_models//component_2.pkl\n",
      "rmse =  1.182551894890011\n"
     ]
    }
   ],
   "source": [
    "plot_results(\n",
    "    X_stress_components_new[2],\n",
    "    y_stress_components_new[2],\n",
    "    'component_2',\n",
    "    do_zip=0,\n",
    "    _path_import=path_to_save_model\n",
    ")"
   ]
  },
  {
   "cell_type": "code",
   "execution_count": 98,
   "metadata": {},
   "outputs": [
    {
     "name": "stdout",
     "output_type": "stream",
     "text": [
      "d:\\учеба/optuna_200_3cv.pkl\n",
      "rmse =  4.872450206028714\n"
     ]
    }
   ],
   "source": [
    "plot_results(\n",
    "    X_stress_components[0],\n",
    "    y_stress_components[0],\n",
    "    'optuna_200_3cv',\n",
    "    do_zip=True\n",
    ")"
   ]
  }
 ],
 "metadata": {
  "colab": {
   "provenance": []
  },
  "kernelspec": {
   "display_name": ".venv",
   "language": "python",
   "name": "python3"
  },
  "language_info": {
   "codemirror_mode": {
    "name": "ipython",
    "version": 3
   },
   "file_extension": ".py",
   "mimetype": "text/x-python",
   "name": "python",
   "nbconvert_exporter": "python",
   "pygments_lexer": "ipython3",
   "version": "3.9.13"
  }
 },
 "nbformat": 4,
 "nbformat_minor": 0
}

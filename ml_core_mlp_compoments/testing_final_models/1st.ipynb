{
 "cells": [
  {
   "cell_type": "code",
   "execution_count": 1,
   "id": "9e3905f3",
   "metadata": {},
   "outputs": [],
   "source": [
    "import sys\n",
    "\n",
    "sys.path.append('../../')"
   ]
  },
  {
   "cell_type": "code",
   "execution_count": 2,
   "id": "aed9236a",
   "metadata": {},
   "outputs": [],
   "source": [
    "from analysis_functions import test_after_opt, split_transform_one_comp_cv, opener"
   ]
  },
  {
   "cell_type": "code",
   "execution_count": 3,
   "id": "d9c42371",
   "metadata": {},
   "outputs": [
    {
     "name": "stdout",
     "output_type": "stream",
     "text": [
      "../../new_components_resources//X_stress_components_new_components.pkl\n",
      "../../new_components_resources//y_stress_components_new_components.pkl\n",
      "(3, 1597, 5)\n"
     ]
    }
   ],
   "source": [
    "# Load data\n",
    "X_stress_components_new = opener(\n",
    "    \"X_stress_components_new_components\", path_import=\"../../new_components_resources/\"\n",
    ")\n",
    "y_stress_components_new = opener(\n",
    "    \"y_stress_components_new_components\", path_import=\"../../new_components_resources/\"\n",
    ")\n",
    "\n",
    "print(X_stress_components_new.shape)\n",
    "\n",
    "component_num = 1\n",
    "n_trials = 200\n",
    "\n",
    "# Проверяем доступность GPU\n",
    "# use_gpu = torch.cuda.is_available()\n",
    "# device = \"cuda\" if use_gpu else \"cpu\"\n",
    "# print(f\"Используется устройство: {device}\")\n",
    "\n",
    "# Данные для текущего компонента\n",
    "X_current = X_stress_components_new[component_num]\n",
    "y_current = y_stress_components_new[component_num]"
   ]
  },
  {
   "cell_type": "code",
   "execution_count": 5,
   "id": "381afb16",
   "metadata": {},
   "outputs": [
    {
     "name": "stdout",
     "output_type": "stream",
     "text": [
      "Using device: cpu\n",
      "Epoch 0/186, Train Loss: 1679.792480, Test Loss: 1669.784180\n",
      "Epoch 20/186, Train Loss: 45.275387, Test Loss: 73.648888\n",
      "Epoch 40/186, Train Loss: 17.254814, Test Loss: 46.521580\n",
      "Early stopping at epoch 52, Train Loss: 12.795544, Test Loss: 46.526024\n",
      "\n",
      "Test Metrics:\n",
      "Explained Variance Score: 0.989986\n",
      "Median Absolute Error: 2.587023\n",
      "Mean Squared Error: 46.526024\n",
      "Mean Absolute Error: 4.245982\n",
      "R² Score: 0.989980\n",
      "Max Error: 61.563568\n",
      "AIC: 87785.863814\n",
      "BIC: 95799.997887\n",
      "RMSE: 6.820999\n"
     ]
    }
   ],
   "source": [
    "# Example usage:\n",
    "import sys\n",
    "\n",
    "sys.path.append('../../')\n",
    "import torch\n",
    "from gpu_optuna import do_optuna_pytorch, test_best_model_pytorch, predict_with_model\n",
    "# Step 1: Run hyperparameter optimization\n",
    "# best_params, X_test, y_test, best_value = do_optuna_pytorch(\n",
    "#     X_current, y_current, n_trials=50\n",
    "# )\n",
    "\n",
    "\n",
    "torch.manual_seed(42)  # Set a fixed seed for reproducibility\n",
    "\n",
    "best_mlp_params = {\n",
    "    \"n_layers\": 2,\n",
    "    \"n_units_0\": 76,\n",
    "    \"n_units_1\": 90,\n",
    "    \"activation\": \"tanh\",\n",
    "    \"learning_rate\": 0.015056225554015165,\n",
    "    \"batch_size\": 128,\n",
    "    \"optimizer\": \"LBFGS\",\n",
    "    \"max_epochs\": 186,\n",
    "}\n",
    "\n",
    "# Step 2: Train and evaluate a model with the best hyperparameters\n",
    "model, test_metrics, mean, std, errors = test_best_model_pytorch(\n",
    "    X_current, y_current, best_mlp_params\n",
    ")\n",
    "\n",
    "# Step 3: Make predictions with the trained model\n",
    "# new_data = ...  # Some new data to predict\n",
    "# predictions = predict_with_model(model, new_data, mean, std)"
   ]
  },
  {
   "cell_type": "code",
   "execution_count": null,
   "id": "b954d14a",
   "metadata": {},
   "outputs": [],
   "source": []
  },
  {
   "cell_type": "code",
   "execution_count": null,
   "id": "a11c6c12",
   "metadata": {},
   "outputs": [],
   "source": []
  }
 ],
 "metadata": {
  "kernelspec": {
   "display_name": ".venv",
   "language": "python",
   "name": "python3"
  },
  "language_info": {
   "codemirror_mode": {
    "name": "ipython",
    "version": 3
   },
   "file_extension": ".py",
   "mimetype": "text/x-python",
   "name": "python",
   "nbconvert_exporter": "python",
   "pygments_lexer": "ipython3",
   "version": "3.9.13"
  }
 },
 "nbformat": 4,
 "nbformat_minor": 5
}

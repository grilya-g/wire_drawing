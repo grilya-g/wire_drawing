{
 "cells": [
  {
   "cell_type": "code",
   "execution_count": 2,
   "metadata": {
    "collapsed": false
   },
   "outputs": [],
   "source": [
    "import importlib\n",
    "import optuna"
   ]
  },
  {
   "cell_type": "code",
   "execution_count": 3,
   "metadata": {
    "collapsed": false
   },
   "outputs": [
    {
     "name": "stderr",
     "output_type": "stream",
     "text": [
      "/Users/i.grebenkin/.local/lib/python3.9/site-packages/pandas/core/computation/expressions.py:21: UserWarning: Pandas requires version '2.8.4' or newer of 'numexpr' (version '2.8.3' currently installed).\n",
      "  from pandas.core.computation.check import NUMEXPR_INSTALLED\n",
      "/Users/i.grebenkin/.local/lib/python3.9/site-packages/pandas/core/arrays/masked.py:60: UserWarning: Pandas requires version '1.3.6' or newer of 'bottleneck' (version '1.3.5' currently installed).\n",
      "  from pandas.core import (\n"
     ]
    }
   ],
   "source": [
    "from analysis_functions import *"
   ]
  },
  {
   "cell_type": "code",
   "execution_count": 4,
   "metadata": {
    "collapsed": false
   },
   "outputs": [],
   "source": [
    "importlib.reload(sys.modules['analysis_functions'])\n",
    "from analysis_functions import *"
   ]
  },
  {
   "cell_type": "markdown",
   "metadata": {},
   "source": [
    "# Загрузка данных"
   ]
  },
  {
   "cell_type": "code",
   "execution_count": 5,
   "metadata": {
    "colab": {
     "base_uri": "https://localhost:8080/"
    },
    "id": "NJMogF0Hsiyy",
    "outputId": "656acbe6-f02e-4395-b1f7-e0833f801402"
   },
   "outputs": [
    {
     "name": "stdout",
     "output_type": "stream",
     "text": [
      "./resourses//X_stress_components_new.pkl\n",
      "./resourses//X_strain_components_new.pkl\n",
      "./resourses//y_stress_components_new.pkl\n",
      "./resourses//y_strain_components_new.pkl\n"
     ]
    }
   ],
   "source": [
    "X_stress_components_new = opener('X_stress_components_new', path_import='./resourses/')\n",
    "X_strain_components_new = opener('X_strain_components_new', path_import='./resourses/')\n",
    "y_stress_components_new = opener('y_stress_components_new', path_import='./resourses/')\n",
    "y_strain_components_new = opener('y_strain_components_new', path_import='./resourses/')\n",
    "# X_stress_components_other = opener('X_stress_components_other')\n",
    "# X_strain_components_other = opener('X_strain_components_other')\n",
    "# y_stress_components_other = opener('y_stress_components_other')\n",
    "# y_strain_components_other = opener('y_strain_components_other')"
   ]
  },
  {
   "cell_type": "code",
   "execution_count": 6,
   "metadata": {
    "id": "wGPCYJtwyxi_"
   },
   "outputs": [
    {
     "data": {
      "text/plain": [
       "(3, 2678, 5)"
      ]
     },
     "execution_count": 6,
     "metadata": {},
     "output_type": "execute_result"
    }
   ],
   "source": [
    "X_stress_components_new.shape"
   ]
  },
  {
   "cell_type": "markdown",
   "metadata": {},
   "source": [
    "# Определение макропараметров"
   ]
  },
  {
   "cell_type": "code",
   "execution_count": 7,
   "metadata": {
    "collapsed": false
   },
   "outputs": [],
   "source": [
    "component_num = 0\n",
    "n_trials_list = [10, 50, 100, 200, 500]\n",
    "n_trials_list = [10, 50, 100, ]"
   ]
  },
  {
   "cell_type": "markdown",
   "metadata": {},
   "source": [
    "## Ячейка для запуска кастомной модели"
   ]
  },
  {
   "cell_type": "code",
   "execution_count": 9,
   "metadata": {},
   "outputs": [
    {
     "name": "stdout",
     "output_type": "stream",
     "text": [
      "saved in ./learned_models/experiments//component_0_adam_logistic.pkl\n",
      "test rmse = 37.90547823027498\n",
      "saved in ./learned_models/experiments//component_0_adam_tanh.pkl\n",
      "test rmse = 1.6226093902322372\n"
     ]
    },
    {
     "name": "stderr",
     "output_type": "stream",
     "text": [
      "/Users/i.grebenkin/.local/lib/python3.9/site-packages/sklearn/neural_network/_multilayer_perceptron.py:690: ConvergenceWarning: Stochastic Optimizer: Maximum iterations (14151) reached and the optimization hasn't converged yet.\n",
      "  warnings.warn(\n"
     ]
    },
    {
     "name": "stdout",
     "output_type": "stream",
     "text": [
      "saved in ./learned_models/experiments//component_0_sgd_logistic.pkl\n",
      "test rmse = 52.81114649450883\n",
      "saved in ./learned_models/experiments//component_0_sgd_tanh.pkl\n",
      "test rmse = 50.47719231855073\n"
     ]
    },
    {
     "name": "stderr",
     "output_type": "stream",
     "text": [
      "/Users/i.grebenkin/.local/lib/python3.9/site-packages/sklearn/neural_network/_multilayer_perceptron.py:690: ConvergenceWarning: Stochastic Optimizer: Maximum iterations (14151) reached and the optimization hasn't converged yet.\n",
      "  warnings.warn(\n"
     ]
    }
   ],
   "source": [
    "component_num = 0\n",
    "path_to_save_model = \"./learned_models/experiments/\"\n",
    "best_params = {\n",
    "    \"n_layers\": 5,\n",
    "    \"n_units_0\": 39,\n",
    "    \"n_units_1\": 30,\n",
    "    \"n_units_2\": 31,\n",
    "    \"n_units_3\": 32,\n",
    "    \"n_units_4\": 32,\n",
    "    \"learning_rate_init\": 2.1155868863441607e-06,\n",
    "    \"early_stopping\": False,\n",
    "    \"max_iter\": 14151,\n",
    "    \"learning_rate\": \"invscaling\",\n",
    "    \"alpha\": 0.001,\n",
    "    # \"activation\": \"relu\",\n",
    "    # \"solver\": \"lbfgs\",\n",
    "}\n",
    "\n",
    "\n",
    "for solver in ['adam', 'sgd']:\n",
    "    for activation in [\"logistic\", \"tanh\"]:\n",
    "        \n",
    "        best_params['activation'] = activation\n",
    "        best_params['solver'] = solver        \n",
    "        name = f\"component_0_{solver}_{activation}\" \n",
    "        best_regr, cur_prediction, cur_y_test, cur_X_test, test_error, train_error = test_after_opt(\n",
    "            best_params,\n",
    "            X_stress_components_new[component_num],\n",
    "            y_stress_components_new[component_num],\n",
    "            name,\n",
    "            path_to_save_model,\n",
    "        )"
   ]
  },
  {
   "cell_type": "code",
   "execution_count": 10,
   "metadata": {},
   "outputs": [
    {
     "name": "stdout",
     "output_type": "stream",
     "text": [
      "saved in ./learned_models/experiments//component_1_adam_relu.pkl\n",
      "test rmse = 7.724405020131151\n",
      "saved in ./learned_models/experiments//component_1_adam_tanh.pkl\n",
      "test rmse = 6.632873416019425\n"
     ]
    },
    {
     "name": "stderr",
     "output_type": "stream",
     "text": [
      "/Users/i.grebenkin/.local/lib/python3.9/site-packages/sklearn/neural_network/_multilayer_perceptron.py:545: ConvergenceWarning: lbfgs failed to converge (status=1):\n",
      "STOP: TOTAL NO. of ITERATIONS REACHED LIMIT.\n",
      "\n",
      "Increase the number of iterations (max_iter) or scale the data as shown in:\n",
      "    https://scikit-learn.org/stable/modules/preprocessing.html\n",
      "  self.n_iter_ = _check_optimize_result(\"lbfgs\", opt_res, self.max_iter)\n"
     ]
    },
    {
     "name": "stdout",
     "output_type": "stream",
     "text": [
      "saved in ./learned_models/experiments//component_1_lbfgs_relu.pkl\n",
      "test rmse = 6.254490914762645\n",
      "saved in ./learned_models/experiments//component_1_lbfgs_tanh.pkl\n",
      "test rmse = 6.090933537763936\n"
     ]
    },
    {
     "name": "stderr",
     "output_type": "stream",
     "text": [
      "/Users/i.grebenkin/.local/lib/python3.9/site-packages/sklearn/neural_network/_multilayer_perceptron.py:545: ConvergenceWarning: lbfgs failed to converge (status=1):\n",
      "STOP: TOTAL NO. of ITERATIONS REACHED LIMIT.\n",
      "\n",
      "Increase the number of iterations (max_iter) or scale the data as shown in:\n",
      "    https://scikit-learn.org/stable/modules/preprocessing.html\n",
      "  self.n_iter_ = _check_optimize_result(\"lbfgs\", opt_res, self.max_iter)\n"
     ]
    }
   ],
   "source": [
    "component_num = 1\n",
    "path_to_save_model = \"./learned_models/experiments/\"\n",
    "best_params = {\n",
    "    \"n_layers\": 2,\n",
    "    \"n_units_0\": 65,\n",
    "    \"n_units_1\": 92,\n",
    "    \"learning_rate_init\": 0.003016144421699664,\n",
    "    \"early_stopping\": True,\n",
    "    \"max_iter\": 9546,\n",
    "    \"learning_rate\": \"adaptive\",\n",
    "    \"alpha\": 0.001,\n",
    "    # \"activation\": \"tanh\",\n",
    "    # \"solver\": \"sgd\",\n",
    "}\n",
    "\n",
    "\n",
    "for solver in ['adam', 'lbfgs']:\n",
    "    for activation in [\"relu\", \"tanh\"]:\n",
    "        \n",
    "        best_params['activation'] = activation\n",
    "        best_params['solver'] = solver        \n",
    "        name = f\"component_{component_num}_{solver}_{activation}\" \n",
    "        best_regr, cur_prediction, cur_y_test, cur_X_test, test_error, train_error = test_after_opt(\n",
    "            best_params,\n",
    "            X_stress_components_new[component_num],\n",
    "            y_stress_components_new[component_num],\n",
    "            name,\n",
    "            path_to_save_model,\n",
    "        )"
   ]
  },
  {
   "cell_type": "code",
   "execution_count": 12,
   "metadata": {},
   "outputs": [
    {
     "name": "stdout",
     "output_type": "stream",
     "text": [
      "saved in ./learned_models//component_2_adam_logistic.pkl\n",
      "test rmse = 6.260225909592739\n",
      "saved in ./learned_models//component_2_adam_relu.pkl\n",
      "test rmse = 4.013750847136733\n",
      "saved in ./learned_models//component_2_sgd_logistic.pkl\n",
      "test rmse = 57.97177039586308\n",
      "saved in ./learned_models//component_2_sgd_relu.pkl\n",
      "test rmse = 13.655137548409886\n"
     ]
    }
   ],
   "source": [
    "component_num = 2\n",
    "path_to_save_model = \"./learned_models/\"\n",
    "best_params = {\n",
    "    \"n_layers\": 4,\n",
    "    \"n_units_0\": 87,\n",
    "    \"n_units_1\": 73,\n",
    "    \"n_units_2\": 42,\n",
    "    \"n_units_3\": 69,\n",
    "    \"learning_rate_init\": 5.906544120294311e-05,\n",
    "    \"early_stopping\": True,\n",
    "    \"max_iter\": 11240,\n",
    "    \"learning_rate\": \"invscaling\",\n",
    "    \"alpha\": 0.0001,\n",
    "#     \"activation\": \"tanh\",\n",
    "#     \"solver\": \"lbfgs\",\n",
    "}\n",
    "\n",
    "for solver in ['adam', 'sgd']:\n",
    "    for activation in [\"logistic\", \"relu\"]:\n",
    "        \n",
    "        best_params['activation'] = activation\n",
    "        best_params['solver'] = solver        \n",
    "        name = f\"component_{component_num}_{solver}_{activation}\" \n",
    "        best_regr, cur_prediction, cur_y_test, cur_X_test, test_error, train_error = test_after_opt(\n",
    "            best_params,\n",
    "            X_stress_components_new[component_num],\n",
    "            y_stress_components_new[component_num],\n",
    "            name,\n",
    "            path_to_save_model,\n",
    "        )"
   ]
  },
  {
   "cell_type": "code",
   "execution_count": 22,
   "metadata": {},
   "outputs": [],
   "source": [
    "import shutil\n",
    "\n",
    "\n",
    "def plot_results(\n",
    "    x,\n",
    "    y,\n",
    "    model_name,\n",
    "    do_zip=False,\n",
    "    dpi=500,\n",
    "    delete_and_rewrite=True,\n",
    "    _path_import=path_to_save_model,\n",
    "):\n",
    "    cur_X_test, cur_y_test, *_ = get_train_test(x, y)\n",
    "\n",
    "    # (best_regr, cur_prediction, cur_y_test, cur_X_test)\n",
    "    model = opener(model_name, path_import=_path_import)[0]\n",
    "    cur_prediction = model.predict(cur_X_test)\n",
    "    print(\"rmse = \", np.sqrt(mean_squared_error(cur_y_test, cur_prediction)))\n",
    "\n",
    "    if delete_and_rewrite:\n",
    "        os.makedirs(model_name, exist_ok=True)\n",
    "\n",
    "    for i, item in enumerate(cur_X_test[::20]):\n",
    "        fig = plt.figure(figsize=(5, 4))\n",
    "        plt.plot(\n",
    "            cur_X_test[i * 20 : (i + 1) * 20, -1],\n",
    "            cur_prediction[i * 20 : (i + 1) * 20],\n",
    "            \"-o\",\n",
    "            label=\"predicted\",\n",
    "        )\n",
    "        plt.plot(\n",
    "            cur_X_test[i * 20 : (i + 1) * 20, -1],\n",
    "            cur_y_test[i * 20 : (i + 1) * 20],\n",
    "            \"-o\",\n",
    "            label=\"real\",\n",
    "        )\n",
    "        title = f\"red {item[0]}, cal {item[1]}, alpha {int(item[2])}, fric {item[3]} vel {item[4]}\"\n",
    "        plt.title(title)\n",
    "        plt.legend(loc=\"best\")\n",
    "        plt.xlabel(\"r, -\")\n",
    "        plt.ylabel(\"$\\sigma$, MPa\")\n",
    "        # plt.show()\n",
    "        plt.savefig(\"\".join((model_name, \"/\", title, \".png\")), format=\"png\", dpi=dpi)\n",
    "        plt.close()\n",
    "        # break\n",
    "    if do_zip:\n",
    "        shutil.make_archive(model_name, \"zip\", model_name)"
   ]
  },
  {
   "cell_type": "code",
   "execution_count": 21,
   "metadata": {},
   "outputs": [
    {
     "data": {
      "text/plain": [
       "array([ 0.25,  1.  , 20.  ,  0.1 , 40.  ])"
      ]
     },
     "execution_count": 21,
     "metadata": {},
     "output_type": "execute_result"
    }
   ],
   "source": [
    "X_stress_components_new[0].max(axis=0)"
   ]
  },
  {
   "cell_type": "code",
   "execution_count": 25,
   "metadata": {},
   "outputs": [
    {
     "name": "stdout",
     "output_type": "stream",
     "text": [
      "./learned_models//component_0.pkl\n",
      "rmse =  0.852824487605159\n"
     ]
    }
   ],
   "source": [
    "plot_results(\n",
    "    X_stress_components_new[0],\n",
    "    y_stress_components_new[0],\n",
    "    'component_0',\n",
    "    do_zip=0,\n",
    "    _path_import=path_to_save_model,\n",
    "    delete_and_rewrite=True\n",
    ")"
   ]
  },
  {
   "cell_type": "code",
   "execution_count": 26,
   "metadata": {},
   "outputs": [
    {
     "name": "stdout",
     "output_type": "stream",
     "text": [
      "./learned_models//component_1.pkl\n",
      "rmse =  6.277783867516113\n"
     ]
    }
   ],
   "source": [
    "component_num = 1\n",
    "plot_results(\n",
    "    X_stress_components_new[1],\n",
    "    y_stress_components_new[1],\n",
    "    f'component_{component_num}',\n",
    "    do_zip=0,\n",
    "    _path_import=path_to_save_model\n",
    ")"
   ]
  },
  {
   "cell_type": "code",
   "execution_count": 27,
   "metadata": {},
   "outputs": [
    {
     "name": "stdout",
     "output_type": "stream",
     "text": [
      "./learned_models//component_2.pkl\n",
      "rmse =  1.182551894890011\n"
     ]
    }
   ],
   "source": [
    "plot_results(\n",
    "    X_stress_components_new[2],\n",
    "    y_stress_components_new[2],\n",
    "    'component_2',\n",
    "    do_zip=0,\n",
    "    _path_import=path_to_save_model\n",
    ")"
   ]
  },
  {
   "cell_type": "code",
   "execution_count": 98,
   "metadata": {},
   "outputs": [
    {
     "name": "stdout",
     "output_type": "stream",
     "text": [
      "d:\\учеба/optuna_200_3cv.pkl\n",
      "rmse =  4.872450206028714\n"
     ]
    }
   ],
   "source": [
    "plot_results(\n",
    "    X_stress_components[0],\n",
    "    y_stress_components[0],\n",
    "    'optuna_200_3cv',\n",
    "    do_zip=True\n",
    ")"
   ]
  }
 ],
 "metadata": {
  "colab": {
   "provenance": []
  },
  "kernelspec": {
   "display_name": ".venv",
   "language": "python",
   "name": "python3"
  },
  "language_info": {
   "codemirror_mode": {
    "name": "ipython",
    "version": 3
   },
   "file_extension": ".py",
   "mimetype": "text/x-python",
   "name": "python",
   "nbconvert_exporter": "python",
   "pygments_lexer": "ipython3",
   "version": "3.9.13"
  }
 },
 "nbformat": 4,
 "nbformat_minor": 0
}

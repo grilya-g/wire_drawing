{
 "cells": [
  {
   "cell_type": "code",
   "execution_count": 1,
   "id": "f3021d65",
   "metadata": {},
   "outputs": [],
   "source": [
    "from analysis_functions import do_rep_list, do_preprocessing, data_preparer, saver"
   ]
  },
  {
   "cell_type": "code",
   "execution_count": 2,
   "id": "7f7b0190",
   "metadata": {},
   "outputs": [],
   "source": [
    "def make_X_y(path_import, path_export, posfix):\n",
    "    \"\"\"\n",
    "    Function to load data from the 'path_import' folder,\n",
    "    prepare it for learning and save it in the 'path_export' folder\n",
    "    with 'postfix' in the end of the names.\n",
    "\n",
    "    Parameters\n",
    "    ----------\n",
    "\n",
    "    path_import : str\n",
    "        Path to the folder with the data.\n",
    "    path_export : str\n",
    "        Path to the folder where the data will be saved.\n",
    "    posfix : str\n",
    "        Postfix for the data names.\n",
    "    \"\"\"\n",
    "    files = do_rep_list(path_import)\n",
    "    print(f'Count of files: {len(files)}')\n",
    "    arrays = do_preprocessing(files, path_import)\n",
    "    (\n",
    "        X_stress_components_new,\n",
    "        X_strain_components_new,\n",
    "        y_stress_components_new,\n",
    "        y_strain_components_new,\n",
    "    ) = data_preparer(files, arrays)\n",
    "    print(f\"Arrays shapes: {X_stress_components_new.shape}, \" \\\n",
    "    f\"{X_strain_components_new.shape}, \" \\\n",
    "    f\"{y_stress_components_new.shape}, \" \\\n",
    "    f\"{y_strain_components_new.shape}\")\n",
    "    saver(X_stress_components_new, f'X_stress_components_{posfix}', path_import=path_export)\n",
    "    saver(X_strain_components_new, f'X_strain_components_{posfix}', path_import=path_export)\n",
    "    saver(y_stress_components_new, f'y_stress_components_{posfix}', path_import=path_export)\n",
    "    saver(y_strain_components_new, f'y_strain_components_{posfix}', path_import=path_export)\n",
    "    "
   ]
  },
  {
   "cell_type": "code",
   "execution_count": 3,
   "id": "58511ef5",
   "metadata": {},
   "outputs": [
    {
     "name": "stdout",
     "output_type": "stream",
     "text": [
      "Count of files: 50\n",
      "..................................................\n",
      "Arrays shapes: (3, 50, 5), (3, 50, 5), (3, 50, 20), (3, 50, 20)\n",
      "saved in resourses/X_stress_components_aisi.pkl\n",
      "saved in resourses/X_strain_components_aisi.pkl\n",
      "saved in resourses/y_stress_components_aisi.pkl\n",
      "saved in resourses/y_strain_components_aisi.pkl\n"
     ]
    }
   ],
   "source": [
    "make_X_y(\"aisi_files\", \"resourses\", \"aisi\")"
   ]
  },
  {
   "cell_type": "code",
   "execution_count": 4,
   "id": "21ffbb00",
   "metadata": {},
   "outputs": [],
   "source": [
    "def make_X_y_from_list(path_import_list, path_export, posfix):\n",
    "    files_list = []\n",
    "    arrays_list = []\n",
    "    for path_import in path_import_list:\n",
    "        print(f\"Processing {path_import}\")\n",
    "        files = do_rep_list(path_import)\n",
    "        files_list += files\n",
    "        print(f\"Count of files: {len(files)}\")\n",
    "        arrays = do_preprocessing(files, path_import)\n",
    "        arrays_list += arrays\n",
    "\n",
    "    (\n",
    "        X_stress_components_new,\n",
    "        X_strain_components_new,\n",
    "        y_stress_components_new,\n",
    "        y_strain_components_new,\n",
    "    ) = data_preparer(files_list, arrays_list)\n",
    "    print(\n",
    "        f\"Arrays shapes: {X_stress_components_new.shape}, \"\n",
    "        f\"{X_strain_components_new.shape}, \"\n",
    "        f\"{y_stress_components_new.shape}, \"\n",
    "        f\"{y_strain_components_new.shape}\"\n",
    "    )\n",
    "\n",
    "    saver(\n",
    "        X_stress_components_new,\n",
    "        f\"X_stress_components_{posfix}\",\n",
    "        path_import=path_export,\n",
    "    )\n",
    "    saver(\n",
    "        X_strain_components_new,\n",
    "        f\"X_strain_components_{posfix}\",\n",
    "        path_import=path_export,\n",
    "    )\n",
    "    saver(\n",
    "        y_stress_components_new,\n",
    "        f\"y_stress_components_{posfix}\",\n",
    "        path_import=path_export,\n",
    "    )\n",
    "    saver(\n",
    "        y_strain_components_new,\n",
    "        f\"y_strain_components_{posfix}\",\n",
    "        path_import=path_export,\n",
    "    )"
   ]
  },
  {
   "cell_type": "code",
   "execution_count": 5,
   "id": "9fa58994",
   "metadata": {},
   "outputs": [],
   "source": [
    "from pathlib import Path\n",
    "from os import listdir\n",
    "from os.path import abspath, dirname, join"
   ]
  },
  {
   "cell_type": "code",
   "execution_count": 6,
   "id": "8b49b571",
   "metadata": {},
   "outputs": [
    {
     "name": "stdout",
     "output_type": "stream",
     "text": [
      "Processing Data_set_J-C_full/Vel_40\n",
      "Count of files: 463\n",
      "...............................................................................................................................................................................................................................................................................................................................................................................................................................................................................\n",
      "Processing Data_set_J-C_full/Vel_20\n",
      "Count of files: 423\n",
      ".......................................................................................................................................................................................................................................................................................................................................................................................................................................\n",
      "Arrays shapes: (3, 886, 5), (3, 886, 5), (3, 886, 20), (3, 886, 20)\n",
      "saved in resources_J-C_full/X_stress_components_J-C_full.pkl\n",
      "saved in resources_J-C_full/X_strain_components_J-C_full.pkl\n",
      "saved in resources_J-C_full/y_stress_components_J-C_full.pkl\n",
      "saved in resources_J-C_full/y_strain_components_J-C_full.pkl\n"
     ]
    }
   ],
   "source": [
    "make_X_y_from_list(\n",
    "    path_import_list=[Path(\"Data_set_J-C_full\") / r for r in listdir(Path(\"Data_set_J-C_full\"))],\n",
    "    path_export=\"resources_J-C_full\",\n",
    "    posfix=\"J-C_full\",\n",
    ")"
   ]
  },
  {
   "cell_type": "code",
   "execution_count": null,
   "id": "c66205f8",
   "metadata": {},
   "outputs": [],
   "source": []
  }
 ],
 "metadata": {
  "kernelspec": {
   "display_name": ".venv",
   "language": "python",
   "name": "python3"
  },
  "language_info": {
   "codemirror_mode": {
    "name": "ipython",
    "version": 3
   },
   "file_extension": ".py",
   "mimetype": "text/x-python",
   "name": "python",
   "nbconvert_exporter": "python",
   "pygments_lexer": "ipython3",
   "version": "3.9.13"
  }
 },
 "nbformat": 4,
 "nbformat_minor": 5
}

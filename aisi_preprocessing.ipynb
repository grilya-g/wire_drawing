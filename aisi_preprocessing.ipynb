{
 "cells": [
  {
   "cell_type": "code",
   "execution_count": 7,
   "id": "f3021d65",
   "metadata": {},
   "outputs": [],
   "source": [
    "from analysis_functions import do_rep_list, do_preprocessing, data_preparer, saver"
   ]
  },
  {
   "cell_type": "code",
   "execution_count": null,
   "id": "7f7b0190",
   "metadata": {},
   "outputs": [],
   "source": [
    "def make_X_y(path_import, path_export, posfix):\n",
    "    \"\"\"\n",
    "    Function to load data from the 'path_import' folder,\n",
    "    prepare it for learning and save it in the 'path_export' folder\n",
    "    with 'postfix' in the end of the names.\n",
    "\n",
    "    Parameters\n",
    "    ----------\n",
    "\n",
    "    path_import : str\n",
    "        Path to the folder with the data.\n",
    "    path_export : str\n",
    "        Path to the folder where the data will be saved.\n",
    "    posfix : str\n",
    "        Postfix for the data names.\n",
    "    \"\"\"\n",
    "    files = do_rep_list(path_import)\n",
    "    arrays = do_preprocessing(files, path_import)\n",
    "    (\n",
    "        X_stress_components_new,\n",
    "        X_strain_components_new,\n",
    "        y_stress_components_new,\n",
    "        y_strain_components_new,\n",
    "    ) = data_preparer(files, arrays)\n",
    "    saver(X_stress_components_new, f'X_stress_components_{posfix}', path_import=path_export)\n",
    "    saver(X_strain_components_new, f'X_strain_components_{posfix}', path_import=path_export)\n",
    "    saver(y_stress_components_new, f'y_stress_components_{posfix}', path_import=path_export)\n",
    "    saver(y_strain_components_new, f'y_strain_components_{posfix}', path_import=path_export)\n",
    "    "
   ]
  },
  {
   "cell_type": "code",
   "execution_count": 10,
   "id": "58511ef5",
   "metadata": {},
   "outputs": [
    {
     "name": "stdout",
     "output_type": "stream",
     "text": [
      "..................................................\n",
      "saved in resourses/X_stress_components_aisi.pkl\n",
      "saved in resourses/X_strain_components_aisi.pkl\n",
      "saved in resourses/y_stress_components_aisi.pkl\n",
      "saved in resourses/y_strain_components_aisi.pkl\n"
     ]
    }
   ],
   "source": [
    "make_X_y(\"aisi_files\", \"resourses\", \"aisi\")"
   ]
  },
  {
   "cell_type": "code",
   "execution_count": 11,
   "id": "21ffbb00",
   "metadata": {},
   "outputs": [],
   "source": [
    "def make_X_y_from_list(path_import_list, path_export, posfix):\n",
    "    for path_import in path_import_list:\n",
    "        make_X_y(path_import, path_export, posfix)"
   ]
  },
  {
   "cell_type": "code",
   "execution_count": null,
   "id": "8b49b571",
   "metadata": {},
   "outputs": [],
   "source": []
  }
 ],
 "metadata": {
  "kernelspec": {
   "display_name": ".venv",
   "language": "python",
   "name": "python3"
  },
  "language_info": {
   "codemirror_mode": {
    "name": "ipython",
    "version": 3
   },
   "file_extension": ".py",
   "mimetype": "text/x-python",
   "name": "python",
   "nbconvert_exporter": "python",
   "pygments_lexer": "ipython3",
   "version": "3.9.13"
  }
 },
 "nbformat": 4,
 "nbformat_minor": 5
}

{
 "cells": [
  {
   "cell_type": "code",
   "execution_count": 1,
   "id": "f3021d65",
   "metadata": {},
   "outputs": [],
   "source": [
    "from analysis_functions import do_rep_list, do_preprocessing, data_preparer, saver, opener"
   ]
  },
  {
   "cell_type": "code",
   "execution_count": 2,
   "id": "7f7b0190",
   "metadata": {},
   "outputs": [],
   "source": [
    "def make_X_y(path_import, path_export, posfix):\n",
    "    \"\"\"\n",
    "    Function to load data from the 'path_import' folder,\n",
    "    prepare it for learning and save it in the 'path_export' folder\n",
    "    with 'postfix' in the end of the names.\n",
    "\n",
    "    Parameters\n",
    "    ----------\n",
    "\n",
    "    path_import : str\n",
    "        Path to the folder with the data.\n",
    "    path_export : str\n",
    "        Path to the folder where the data will be saved.\n",
    "    posfix : str\n",
    "        Postfix for the data names.\n",
    "    \"\"\"\n",
    "    files = do_rep_list(path_import)\n",
    "    print(f'Count of files: {len(files)}')\n",
    "    arrays = do_preprocessing(files, path_import)\n",
    "    (\n",
    "        X_stress_components_new,\n",
    "        X_strain_components_new,\n",
    "        y_stress_components_new,\n",
    "        y_strain_components_new,\n",
    "    ) = data_preparer(files, arrays)\n",
    "    print(f\"Arrays shapes: {X_stress_components_new.shape}, \" \\\n",
    "    f\"{X_strain_components_new.shape}, \" \\\n",
    "    f\"{y_stress_components_new.shape}, \" \\\n",
    "    f\"{y_strain_components_new.shape}\")\n",
    "    saver(X_stress_components_new, f'X_stress_components_{posfix}', path_import=path_export)\n",
    "    saver(X_strain_components_new, f'X_strain_components_{posfix}', path_import=path_export)\n",
    "    saver(y_stress_components_new, f'y_stress_components_{posfix}', path_import=path_export)\n",
    "    saver(y_strain_components_new, f'y_strain_components_{posfix}', path_import=path_export)\n",
    "    "
   ]
  },
  {
   "cell_type": "code",
   "execution_count": 3,
   "id": "58511ef5",
   "metadata": {},
   "outputs": [
    {
     "name": "stdout",
     "output_type": "stream",
     "text": [
      "Count of files: 50\n",
      "..................................................\n",
      "Arrays shapes: (3, 50, 5), (3, 50, 5), (3, 50, 20), (3, 50, 20)\n",
      "saved in resourses/X_stress_components_aisi.pkl\n",
      "saved in resourses/X_strain_components_aisi.pkl\n",
      "saved in resourses/y_stress_components_aisi.pkl\n",
      "saved in resourses/y_strain_components_aisi.pkl\n"
     ]
    }
   ],
   "source": [
    "make_X_y(\"aisi_files\", \"resourses\", \"aisi\")"
   ]
  },
  {
   "cell_type": "code",
   "execution_count": 3,
   "id": "21ffbb00",
   "metadata": {},
   "outputs": [],
   "source": [
    "def make_X_y_from_list(path_import_list, path_export, postfix):\n",
    "    files_list = []\n",
    "    arrays_list = []\n",
    "    for path_import in path_import_list:\n",
    "        print(f\"Processing {path_import}\")\n",
    "        files = do_rep_list(path_import)\n",
    "        files_list += files\n",
    "        print(f\"Count of files: {len(files)}\")\n",
    "        arrays = do_preprocessing(files, path_import)\n",
    "        arrays_list += arrays\n",
    "\n",
    "    (\n",
    "        X_stress_components_new,\n",
    "        X_strain_components_new,\n",
    "        y_stress_components_new,\n",
    "        y_strain_components_new,\n",
    "    ) = data_preparer(files_list, arrays_list)\n",
    "    print(\n",
    "        f\"Arrays shapes: {X_stress_components_new.shape}, \"\n",
    "        f\"{X_strain_components_new.shape}, \"\n",
    "        f\"{y_stress_components_new.shape}, \"\n",
    "        f\"{y_strain_components_new.shape}\"\n",
    "    )\n",
    "\n",
    "    saver(\n",
    "        X_stress_components_new,\n",
    "        f\"X_stress_components_{postfix}\",\n",
    "        path_import=path_export,\n",
    "    )\n",
    "    saver(\n",
    "        X_strain_components_new,\n",
    "        f\"X_strain_components_{postfix}\",\n",
    "        path_import=path_export,\n",
    "    )\n",
    "    saver(\n",
    "        y_stress_components_new,\n",
    "        f\"y_stress_components_{postfix}\",\n",
    "        path_import=path_export,\n",
    "    )\n",
    "    saver(\n",
    "        y_strain_components_new,\n",
    "        f\"y_strain_components_{postfix}\",\n",
    "        path_import=path_export,\n",
    "    )"
   ]
  },
  {
   "cell_type": "code",
   "execution_count": 4,
   "id": "9fa58994",
   "metadata": {},
   "outputs": [],
   "source": [
    "from pathlib import Path\n",
    "from os import listdir\n",
    "from os.path import abspath, dirname, join"
   ]
  },
  {
   "cell_type": "code",
   "execution_count": 5,
   "id": "6b944fe2",
   "metadata": {},
   "outputs": [
    {
     "name": "stdout",
     "output_type": "stream",
     "text": [
      "Processing new_components_reports/Vel_40\n",
      "Count of files: 524\n",
      "............................................................................................................................................................................................................................................................................................................................................................................................................................................................................................................................................\n",
      "Processing new_components_reports/Vel_5\n",
      "Count of files: 97\n",
      ".................................................................................................\n",
      "Processing new_components_reports/Vel_10\n",
      "Count of files: 406\n",
      "......................................................................................................................................................................................................................................................................................................................................................................................................................\n",
      "Processing new_components_reports/Vel_20\n",
      "Count of files: 570\n",
      "..........................................................................................................................................................................................................................................................................................................................................................................................................................................................................................................................................................................................\n",
      "Arrays shapes: (3, 1597, 5), (3, 1597, 5), (3, 1597, 20), (3, 1597, 20)\n",
      "saved in new_components_resources/X_stress_components_new_components.pkl\n",
      "saved in new_components_resources/X_strain_components_new_components.pkl\n",
      "saved in new_components_resources/y_stress_components_new_components.pkl\n",
      "saved in new_components_resources/y_strain_components_new_components.pkl\n"
     ]
    }
   ],
   "source": [
    "make_X_y_from_list(\n",
    "    path_import_list=[\n",
    "        Path(\"new_components_reports\") / d for d in listdir(\"new_components_reports\")\n",
    "    ],\n",
    "    path_export=\"new_components_resources\",\n",
    "    postfix=\"new_components\",\n",
    ")"
   ]
  },
  {
   "cell_type": "code",
   "execution_count": 6,
   "id": "48cb33ac",
   "metadata": {},
   "outputs": [
    {
     "name": "stdout",
     "output_type": "stream",
     "text": [
      "new_components_resources/y_stress_components_new_components.pkl\n"
     ]
    },
    {
     "data": {
      "text/plain": [
       "(3, 1597, 20)"
      ]
     },
     "execution_count": 6,
     "metadata": {},
     "output_type": "execute_result"
    }
   ],
   "source": [
    "y_stress_components_new_components = opener(\n",
    "    \"y_stress_components_new_components\", \"new_components_resources\"\n",
    ")\n",
    "\n",
    "y_stress_components_new_components.shape"
   ]
  },
  {
   "cell_type": "code",
   "execution_count": 7,
   "id": "54505434",
   "metadata": {},
   "outputs": [
    {
     "name": "stdout",
     "output_type": "stream",
     "text": [
      "new_components_resources/X_stress_components_new_components.pkl\n"
     ]
    },
    {
     "data": {
      "text/plain": [
       "(3, 1597, 5)"
      ]
     },
     "execution_count": 7,
     "metadata": {},
     "output_type": "execute_result"
    }
   ],
   "source": [
    "X_stress_components_new_components = opener(\n",
    "    \"X_stress_components_new_components\", \"new_components_resources\"\n",
    ")\n",
    "\n",
    "X_stress_components_new_components.shape"
   ]
  },
  {
   "cell_type": "code",
   "execution_count": 8,
   "id": "5868ebe0",
   "metadata": {},
   "outputs": [
    {
     "data": {
      "text/plain": [
       "[array([[ 0.025     ,  0.1       ,  4.        ,  0.05      , 20.        ,\n",
       "          0.        ],\n",
       "        [ 0.025     ,  0.1       ,  4.        ,  0.05      , 20.        ,\n",
       "          0.05263158],\n",
       "        [ 0.025     ,  0.1       ,  4.        ,  0.05      , 20.        ,\n",
       "          0.10526316],\n",
       "        ...,\n",
       "        [ 0.05      ,  0.3       , 20.        ,  0.025     , 20.        ,\n",
       "          0.89473684],\n",
       "        [ 0.05      ,  0.3       , 20.        ,  0.025     , 20.        ,\n",
       "          0.94736842],\n",
       "        [ 0.05      ,  0.3       , 20.        ,  0.025     , 20.        ,\n",
       "          1.        ]])]"
      ]
     },
     "execution_count": 8,
     "metadata": {},
     "output_type": "execute_result"
    }
   ],
   "source": [
    "from analysis_functions import split_transform_one_comp_cv\n",
    "\n",
    "\n",
    "cur_X_test, cur_y_test, val_list_X, val_list_y, train_list_X, train_list_y = (\n",
    "    split_transform_one_comp_cv(\n",
    "        X_stress_components_new_components[1],\n",
    "        y_stress_components_new_components[1],\n",
    "        n_splits=1,\n",
    "    )\n",
    ")\n",
    "\n",
    "val_list_X"
   ]
  },
  {
   "cell_type": "code",
   "execution_count": null,
   "id": "8b49b571",
   "metadata": {},
   "outputs": [
    {
     "name": "stdout",
     "output_type": "stream",
     "text": [
      "Processing Data_set_J-C_full/Vel_40\n",
      "Count of files: 463\n",
      "...............................................................................................................................................................................................................................................................................................................................................................................................................................................................................\n",
      "Processing Data_set_J-C_full/Vel_20\n",
      "Count of files: 423\n",
      ".......................................................................................................................................................................................................................................................................................................................................................................................................................................\n",
      "Arrays shapes: (3, 886, 5), (3, 886, 5), (3, 886, 20), (3, 886, 20)\n",
      "saved in resources_J-C_full/X_stress_components_J-C_full.pkl\n",
      "saved in resources_J-C_full/X_strain_components_J-C_full.pkl\n",
      "saved in resources_J-C_full/y_stress_components_J-C_full.pkl\n",
      "saved in resources_J-C_full/y_strain_components_J-C_full.pkl\n"
     ]
    }
   ],
   "source": [
    "make_X_y_from_list(\n",
    "    path_import_list=[\n",
    "        Path(\"Data_set_J-C_full\") / r for r in listdir(Path(\"Data_set_J-C_full\"))\n",
    "    ],\n",
    "    path_export=\"resources_J-C_full\",\n",
    "    postfix=\"J-C_full\",\n",
    ")"
   ]
  },
  {
   "cell_type": "code",
   "execution_count": 5,
   "id": "c66205f8",
   "metadata": {},
   "outputs": [
    {
     "name": "stdout",
     "output_type": "stream",
     "text": [
      "resources_J-C_full/y_stress_components_J-C_full.pkl\n"
     ]
    },
    {
     "data": {
      "text/plain": [
       "(3, 886, 20)"
      ]
     },
     "execution_count": 5,
     "metadata": {},
     "output_type": "execute_result"
    }
   ],
   "source": [
    "opener(\"y_stress_components_J-C_full\", \"resources_J-C_full\").shape\n"
   ]
  },
  {
   "cell_type": "code",
   "execution_count": 6,
   "id": "c2e66e6e",
   "metadata": {},
   "outputs": [
    {
     "name": "stdout",
     "output_type": "stream",
     "text": [
      "resources_J-C_full/X_stress_components_J-C_full.pkl\n"
     ]
    },
    {
     "data": {
      "text/plain": [
       "(3, 886, 5)"
      ]
     },
     "execution_count": 6,
     "metadata": {},
     "output_type": "execute_result"
    }
   ],
   "source": [
    "opener(\"X_stress_components_J-C_full\", \"resources_J-C_full\").shape\n"
   ]
  },
  {
   "cell_type": "code",
   "execution_count": null,
   "id": "8d19a147",
   "metadata": {},
   "outputs": [],
   "source": []
  }
 ],
 "metadata": {
  "kernelspec": {
   "display_name": ".venv",
   "language": "python",
   "name": "python3"
  },
  "language_info": {
   "codemirror_mode": {
    "name": "ipython",
    "version": 3
   },
   "file_extension": ".py",
   "mimetype": "text/x-python",
   "name": "python",
   "nbconvert_exporter": "python",
   "pygments_lexer": "ipython3",
   "version": "3.9.13"
  }
 },
 "nbformat": 4,
 "nbformat_minor": 5
}

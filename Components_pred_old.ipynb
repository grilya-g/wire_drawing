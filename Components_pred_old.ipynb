{
 "cells": [
  {
   "cell_type": "code",
   "execution_count": 1,
   "metadata": {
    "collapsed": false
   },
   "outputs": [],
   "source": [
    "import importlib\n",
    "import optuna"
   ]
  },
  {
   "cell_type": "code",
   "execution_count": 2,
   "metadata": {
    "collapsed": false
   },
   "outputs": [
    {
     "name": "stderr",
     "output_type": "stream",
     "text": [
      "/Users/i.grebenkin/.local/lib/python3.9/site-packages/pandas/core/computation/expressions.py:21: UserWarning: Pandas requires version '2.8.4' or newer of 'numexpr' (version '2.8.3' currently installed).\n",
      "  from pandas.core.computation.check import NUMEXPR_INSTALLED\n",
      "/Users/i.grebenkin/.local/lib/python3.9/site-packages/pandas/core/arrays/masked.py:60: UserWarning: Pandas requires version '1.3.6' or newer of 'bottleneck' (version '1.3.5' currently installed).\n",
      "  from pandas.core import (\n"
     ]
    }
   ],
   "source": [
    "from analysis_functions import *"
   ]
  },
  {
   "cell_type": "code",
   "execution_count": 3,
   "metadata": {
    "collapsed": false
   },
   "outputs": [],
   "source": [
    "importlib.reload(sys.modules['analysis_functions'])\n",
    "from analysis_functions import *"
   ]
  },
  {
   "cell_type": "markdown",
   "metadata": {},
   "source": [
    "# Загрузка данных"
   ]
  },
  {
   "cell_type": "code",
   "execution_count": 4,
   "metadata": {
    "colab": {
     "base_uri": "https://localhost:8080/"
    },
    "id": "NJMogF0Hsiyy",
    "outputId": "656acbe6-f02e-4395-b1f7-e0833f801402"
   },
   "outputs": [
    {
     "name": "stdout",
     "output_type": "stream",
     "text": [
      "./resourses//X_stress_components.pkl\n",
      "./resourses//X_strain_components.pkl\n",
      "./resourses//y_stress_components.pkl\n",
      "./resourses//y_strain_components.pkl\n"
     ]
    }
   ],
   "source": [
    "# X_stress_components_new = opener('X_stress_components_new', path_import='./resourses/')\n",
    "# X_strain_components_new = opener('X_strain_components_new', path_import='./resourses/')\n",
    "# y_stress_components_new = opener('y_stress_components_new', path_import='./resourses/')\n",
    "# y_strain_components_new = opener('y_strain_components_new', path_import='./resourses/')\n",
    "\n",
    "X_stress_components = opener('X_stress_components', path_import='./resourses/')\n",
    "X_strain_components = opener('X_strain_components', path_import='./resourses/')\n",
    "y_stress_components = opener('y_stress_components', path_import='./resourses/')\n",
    "y_strain_components = opener('y_strain_components', path_import='./resourses/')\n",
    "\n",
    "# X_stress_components_other = opener('X_stress_components_other')\n",
    "# X_strain_components_other = opener('X_strain_components_other')\n",
    "# y_stress_components_other = opener('y_stress_components_other')\n",
    "# y_strain_components_other = opener('y_strain_components_other')"
   ]
  },
  {
   "cell_type": "code",
   "execution_count": 5,
   "metadata": {
    "id": "wGPCYJtwyxi_"
   },
   "outputs": [
    {
     "data": {
      "text/plain": [
       "(3, 716, 4)"
      ]
     },
     "execution_count": 5,
     "metadata": {},
     "output_type": "execute_result"
    }
   ],
   "source": [
    "X_stress_components.shape"
   ]
  },
  {
   "cell_type": "code",
   "execution_count": 9,
   "metadata": {},
   "outputs": [],
   "source": [
    "import shutil\n",
    "\n",
    "path_to_save_model = 'old_models'\n",
    "def plot_results(\n",
    "    x,\n",
    "    y,\n",
    "    model_name,\n",
    "    do_zip=False,\n",
    "    dpi=500,\n",
    "    delete_and_rewrite=True,\n",
    "    _path_import=path_to_save_model,\n",
    "):\n",
    "    cur_X_test, cur_y_test, *_ = get_train_test(x, y)\n",
    "\n",
    "    # (best_regr, cur_prediction, cur_y_test, cur_X_test)\n",
    "    model = opener(model_name, path_import=_path_import)[0]\n",
    "    cur_prediction = model.predict(cur_X_test)\n",
    "    print(\"rmse = \", np.sqrt(mean_squared_error(cur_y_test, cur_prediction)))\n",
    "\n",
    "    if delete_and_rewrite:\n",
    "        os.makedirs(model_name, exist_ok=True)\n",
    "\n",
    "    for i, item in enumerate(cur_X_test[::20]):\n",
    "        fig = plt.figure(figsize=(5, 4))\n",
    "        plt.plot(\n",
    "            cur_X_test[i * 20 : (i + 1) * 20, -1],\n",
    "            cur_prediction[i * 20 : (i + 1) * 20],\n",
    "            \"-o\",\n",
    "            label=\"predicted\",\n",
    "        )\n",
    "        plt.plot(\n",
    "            cur_X_test[i * 20 : (i + 1) * 20, -1],\n",
    "            cur_y_test[i * 20 : (i + 1) * 20],\n",
    "            \"-o\",\n",
    "            label=\"real\",\n",
    "        )\n",
    "        if len(item) > 3:\n",
    "            title = f\"red {item[0]}, cal {item[1]}, alpha {int(item[2])}, fric {item[3]} vel {item[4]}\"\n",
    "        else:\n",
    "            title = f\"red {item[0]}, cal {item[1]}, alpha {int(item[2])}, fric {item[3]}\"\n",
    "            \n",
    "        plt.title(title)\n",
    "        plt.legend(loc=\"best\")\n",
    "        plt.xlabel(\"r, -\")\n",
    "        plt.ylabel(\"$\\sigma$, MPa\")\n",
    "        plt.savefig(\"\".join((model_name, \"/\", title, \".png\")), format=\"png\", dpi=dpi)\n",
    "        plt.close()\n",
    "    if do_zip:\n",
    "        shutil.make_archive(model_name, \"zip\", model_name)"
   ]
  },
  {
   "cell_type": "code",
   "execution_count": 8,
   "metadata": {},
   "outputs": [
    {
     "data": {
      "text/plain": [
       "array([ 0.3,  1. , 20. ,  0.1])"
      ]
     },
     "execution_count": 8,
     "metadata": {},
     "output_type": "execute_result"
    }
   ],
   "source": [
    "X_stress_components[0].max(axis=0)"
   ]
  },
  {
   "cell_type": "code",
   "execution_count": null,
   "metadata": {},
   "outputs": [],
   "source": []
  },
  {
   "cell_type": "code",
   "execution_count": 10,
   "metadata": {},
   "outputs": [
    {
     "name": "stdout",
     "output_type": "stream",
     "text": [
      "old_models/0//9_neurons_9_layers_adam_solver_relu_activation_5_n_splits.pkl\n",
      "rmse =  3.1426138391486016\n"
     ]
    },
    {
     "name": "stderr",
     "output_type": "stream",
     "text": [
      "/Users/i.grebenkin/.local/lib/python3.9/site-packages/sklearn/base.py:376: InconsistentVersionWarning: Trying to unpickle estimator StandardScaler from version 1.2.2 when using version 1.5.1. This might lead to breaking code or invalid results. Use at your own risk. For more info please refer to:\n",
      "https://scikit-learn.org/stable/model_persistence.html#security-maintainability-limitations\n",
      "  warnings.warn(\n",
      "/Users/i.grebenkin/.local/lib/python3.9/site-packages/sklearn/base.py:376: InconsistentVersionWarning: Trying to unpickle estimator MLPRegressor from version 1.2.2 when using version 1.5.1. This might lead to breaking code or invalid results. Use at your own risk. For more info please refer to:\n",
      "https://scikit-learn.org/stable/model_persistence.html#security-maintainability-limitations\n",
      "  warnings.warn(\n",
      "/Users/i.grebenkin/.local/lib/python3.9/site-packages/sklearn/base.py:376: InconsistentVersionWarning: Trying to unpickle estimator Pipeline from version 1.2.2 when using version 1.5.1. This might lead to breaking code or invalid results. Use at your own risk. For more info please refer to:\n",
      "https://scikit-learn.org/stable/model_persistence.html#security-maintainability-limitations\n",
      "  warnings.warn(\n"
     ]
    }
   ],
   "source": [
    "plot_results(\n",
    "    X_stress_components[0],\n",
    "    y_stress_components[0],\n",
    "    '9_neurons_9_layers_adam_solver_relu_activation_5_n_splits',\n",
    "    do_zip=0,\n",
    "    _path_import='old_models/0/',\n",
    "    delete_and_rewrite=True\n",
    ")"
   ]
  },
  {
   "cell_type": "code",
   "execution_count": 11,
   "metadata": {},
   "outputs": [
    {
     "name": "stdout",
     "output_type": "stream",
     "text": [
      "old_models/1//30_neurons_9_layers_adam_solver_relu_activation_5_n_splits.pkl\n",
      "rmse =  10.837385562734136\n"
     ]
    },
    {
     "name": "stderr",
     "output_type": "stream",
     "text": [
      "/Users/i.grebenkin/.local/lib/python3.9/site-packages/sklearn/base.py:376: InconsistentVersionWarning: Trying to unpickle estimator StandardScaler from version 1.2.2 when using version 1.5.1. This might lead to breaking code or invalid results. Use at your own risk. For more info please refer to:\n",
      "https://scikit-learn.org/stable/model_persistence.html#security-maintainability-limitations\n",
      "  warnings.warn(\n",
      "/Users/i.grebenkin/.local/lib/python3.9/site-packages/sklearn/base.py:376: InconsistentVersionWarning: Trying to unpickle estimator MLPRegressor from version 1.2.2 when using version 1.5.1. This might lead to breaking code or invalid results. Use at your own risk. For more info please refer to:\n",
      "https://scikit-learn.org/stable/model_persistence.html#security-maintainability-limitations\n",
      "  warnings.warn(\n",
      "/Users/i.grebenkin/.local/lib/python3.9/site-packages/sklearn/base.py:376: InconsistentVersionWarning: Trying to unpickle estimator Pipeline from version 1.2.2 when using version 1.5.1. This might lead to breaking code or invalid results. Use at your own risk. For more info please refer to:\n",
      "https://scikit-learn.org/stable/model_persistence.html#security-maintainability-limitations\n",
      "  warnings.warn(\n"
     ]
    }
   ],
   "source": [
    "plot_results(\n",
    "    X_stress_components[1],\n",
    "    y_stress_components[1],\n",
    "    '30_neurons_9_layers_adam_solver_relu_activation_5_n_splits',\n",
    "    do_zip=0,\n",
    "    _path_import='old_models/1/',\n",
    "    delete_and_rewrite=True\n",
    ")"
   ]
  },
  {
   "cell_type": "code",
   "execution_count": 12,
   "metadata": {},
   "outputs": [
    {
     "name": "stdout",
     "output_type": "stream",
     "text": [
      "old_models/2//20_neurons_11_layers_adam_solver_relu_activation_5_n_splits.pkl\n",
      "rmse =  4.217883531878295\n"
     ]
    },
    {
     "name": "stderr",
     "output_type": "stream",
     "text": [
      "/Users/i.grebenkin/.local/lib/python3.9/site-packages/sklearn/base.py:376: InconsistentVersionWarning: Trying to unpickle estimator StandardScaler from version 1.2.2 when using version 1.5.1. This might lead to breaking code or invalid results. Use at your own risk. For more info please refer to:\n",
      "https://scikit-learn.org/stable/model_persistence.html#security-maintainability-limitations\n",
      "  warnings.warn(\n",
      "/Users/i.grebenkin/.local/lib/python3.9/site-packages/sklearn/base.py:376: InconsistentVersionWarning: Trying to unpickle estimator MLPRegressor from version 1.2.2 when using version 1.5.1. This might lead to breaking code or invalid results. Use at your own risk. For more info please refer to:\n",
      "https://scikit-learn.org/stable/model_persistence.html#security-maintainability-limitations\n",
      "  warnings.warn(\n",
      "/Users/i.grebenkin/.local/lib/python3.9/site-packages/sklearn/base.py:376: InconsistentVersionWarning: Trying to unpickle estimator Pipeline from version 1.2.2 when using version 1.5.1. This might lead to breaking code or invalid results. Use at your own risk. For more info please refer to:\n",
      "https://scikit-learn.org/stable/model_persistence.html#security-maintainability-limitations\n",
      "  warnings.warn(\n"
     ]
    }
   ],
   "source": [
    "plot_results(\n",
    "    X_stress_components[2],\n",
    "    y_stress_components[2],\n",
    "    '20_neurons_11_layers_adam_solver_relu_activation_5_n_splits',\n",
    "    do_zip=0,\n",
    "    _path_import='old_models/2/',\n",
    "    delete_and_rewrite=True\n",
    ")"
   ]
  },
  {
   "cell_type": "code",
   "execution_count": null,
   "metadata": {},
   "outputs": [
    {
     "name": "stdout",
     "output_type": "stream",
     "text": [
      "old_models/1//30_neurons_9_layers_adam_solver_relu_activation_5_n_splits.pkl\n",
      "rmse =  10.837385562734136\n"
     ]
    },
    {
     "name": "stderr",
     "output_type": "stream",
     "text": [
      "/Users/i.grebenkin/.local/lib/python3.9/site-packages/sklearn/base.py:376: InconsistentVersionWarning: Trying to unpickle estimator StandardScaler from version 1.2.2 when using version 1.5.1. This might lead to breaking code or invalid results. Use at your own risk. For more info please refer to:\n",
      "https://scikit-learn.org/stable/model_persistence.html#security-maintainability-limitations\n",
      "  warnings.warn(\n",
      "/Users/i.grebenkin/.local/lib/python3.9/site-packages/sklearn/base.py:376: InconsistentVersionWarning: Trying to unpickle estimator MLPRegressor from version 1.2.2 when using version 1.5.1. This might lead to breaking code or invalid results. Use at your own risk. For more info please refer to:\n",
      "https://scikit-learn.org/stable/model_persistence.html#security-maintainability-limitations\n",
      "  warnings.warn(\n",
      "/Users/i.grebenkin/.local/lib/python3.9/site-packages/sklearn/base.py:376: InconsistentVersionWarning: Trying to unpickle estimator Pipeline from version 1.2.2 when using version 1.5.1. This might lead to breaking code or invalid results. Use at your own risk. For more info please refer to:\n",
      "https://scikit-learn.org/stable/model_persistence.html#security-maintainability-limitations\n",
      "  warnings.warn(\n"
     ]
    }
   ],
   "source": [
    "plot_results(\n",
    "    X_stress_components[1],\n",
    "    y_stress_components[1],\n",
    "    '30_neurons_9_layers_adam_solver_relu_activation_5_n_splits',\n",
    "    do_zip=0,\n",
    "    _path_import='old_models/1/',\n",
    "    delete_and_rewrite=True\n",
    ")"
   ]
  },
  {
   "cell_type": "code",
   "execution_count": null,
   "metadata": {},
   "outputs": [
    {
     "name": "stdout",
     "output_type": "stream",
     "text": [
      "./learned_models//component_0.pkl\n",
      "rmse =  0.852824487605159\n"
     ]
    }
   ],
   "source": [
    "plot_results(\n",
    "    X_stress_components_new[0],\n",
    "    y_stress_components_new[0],\n",
    "    'component_0',\n",
    "    do_zip=0,\n",
    "    _path_import=path_to_save_model,\n",
    "    delete_and_rewrite=True\n",
    ")"
   ]
  },
  {
   "cell_type": "code",
   "execution_count": 26,
   "metadata": {},
   "outputs": [
    {
     "name": "stdout",
     "output_type": "stream",
     "text": [
      "./learned_models//component_1.pkl\n",
      "rmse =  6.277783867516113\n"
     ]
    }
   ],
   "source": [
    "component_num = 1\n",
    "plot_results(\n",
    "    X_stress_components_new[1],\n",
    "    y_stress_components_new[1],\n",
    "    f'component_{component_num}',\n",
    "    do_zip=0,\n",
    "    _path_import=path_to_save_model\n",
    ")"
   ]
  },
  {
   "cell_type": "code",
   "execution_count": 27,
   "metadata": {},
   "outputs": [
    {
     "name": "stdout",
     "output_type": "stream",
     "text": [
      "./learned_models//component_2.pkl\n",
      "rmse =  1.182551894890011\n"
     ]
    }
   ],
   "source": [
    "plot_results(\n",
    "    X_stress_components_new[2],\n",
    "    y_stress_components_new[2],\n",
    "    'component_2',\n",
    "    do_zip=0,\n",
    "    _path_import=path_to_save_model\n",
    ")"
   ]
  },
  {
   "cell_type": "code",
   "execution_count": 98,
   "metadata": {},
   "outputs": [
    {
     "name": "stdout",
     "output_type": "stream",
     "text": [
      "d:\\учеба/optuna_200_3cv.pkl\n",
      "rmse =  4.872450206028714\n"
     ]
    }
   ],
   "source": [
    "plot_results(\n",
    "    X_stress_components[0],\n",
    "    y_stress_components[0],\n",
    "    'optuna_200_3cv',\n",
    "    do_zip=True\n",
    ")"
   ]
  }
 ],
 "metadata": {
  "colab": {
   "provenance": []
  },
  "kernelspec": {
   "display_name": "base",
   "language": "python",
   "name": "python3"
  },
  "language_info": {
   "codemirror_mode": {
    "name": "ipython",
    "version": 3
   },
   "file_extension": ".py",
   "mimetype": "text/x-python",
   "name": "python",
   "nbconvert_exporter": "python",
   "pygments_lexer": "ipython3",
   "version": "3.9.13"
  }
 },
 "nbformat": 4,
 "nbformat_minor": 0
}

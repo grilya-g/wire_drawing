{
 "cells": [
  {
   "cell_type": "markdown",
   "id": "2e28a579",
   "metadata": {},
   "source": [
    "# Testing KAN (Kolmogorov-Arnold Networks) Model\n",
    "\n",
    "This notebook demonstrates the use of Kolmogorov-Arnold Networks (KAN) for regression on wire drawing data.\n",
    "\n",
    "KAN is a neural network architecture that leverages the Kolmogorov-Arnold representation theorem to approximate functions. This architecture can be particularly effective for regression tasks.\n",
    "\n",
    "In this notebook, we will:\n",
    "1. Load the wire drawing data\n",
    "2. Create and configure a KAN model\n",
    "3. Train and evaluate the model\n",
    "4. Visualize the results\n",
    "5. Analyze errors and save the model"
   ]
  },
  {
   "cell_type": "code",
   "execution_count": 13,
   "id": "1a9aacda",
   "metadata": {},
   "outputs": [],
   "source": [
    "import sys\n",
    "import os\n",
    "import pickle\n",
    "import torch\n",
    "sys.path.append('../../')"
   ]
  },
  {
   "cell_type": "code",
   "execution_count": 3,
   "id": "012f35be",
   "metadata": {},
   "outputs": [],
   "source": [
    "from analysis_functions import test_after_opt, split_transform_one_comp_cv, opener"
   ]
  },
  {
   "cell_type": "code",
   "execution_count": 4,
   "id": "99aead29",
   "metadata": {},
   "outputs": [
    {
     "name": "stdout",
     "output_type": "stream",
     "text": [
      "../../new_components_resources//X_stress_components_new_components.pkl\n",
      "../../new_components_resources//y_stress_components_new_components.pkl\n",
      "(3, 1597, 5)\n"
     ]
    }
   ],
   "source": [
    "# Load data\n",
    "X_stress_components_new = opener(\n",
    "    \"X_stress_components_new_components\", path_import=\"../../new_components_resources/\"\n",
    ")\n",
    "y_stress_components_new = opener(\n",
    "    \"y_stress_components_new_components\", path_import=\"../../new_components_resources/\"\n",
    ")\n",
    "\n",
    "print(X_stress_components_new.shape)\n",
    "\n",
    "component_num = 2\n",
    "X_current = X_stress_components_new[component_num]\n",
    "y_current = y_stress_components_new[component_num]"
   ]
  },
  {
   "cell_type": "code",
   "execution_count": 5,
   "id": "53533385",
   "metadata": {},
   "outputs": [],
   "source": [
    "from analysis_functions import KANModelTrainTest"
   ]
  },
  {
   "cell_type": "code",
   "execution_count": 6,
   "id": "fc152b57",
   "metadata": {},
   "outputs": [
    {
     "name": "stderr",
     "output_type": "stream",
     "text": [
      "2025-05-11 16:24:31,533 - INFO - Using device: cpu\n"
     ]
    }
   ],
   "source": [
    "kan_model = KANModelTrainTest(False)"
   ]
  },
  {
   "cell_type": "code",
   "execution_count": 7,
   "id": "8b49eb5b",
   "metadata": {},
   "outputs": [],
   "source": [
    "kan_model.best_params = {\n",
    "    \"n_layers\": 1,\n",
    "    \"opt\": \"LBFGS\",\n",
    "    \"steps\": 958,\n",
    "    \"grid\": 1,\n",
    "    \"k\": 2,\n",
    "    \"n_units_0\": 57,\n",
    "    \"lr\": 0.0403604924674922,\n",
    "}"
   ]
  },
  {
   "cell_type": "code",
   "execution_count": 8,
   "id": "0bb129f8",
   "metadata": {},
   "outputs": [
    {
     "data": {
      "text/plain": [
       "'kan_model.create_train_val_test(\\n    X_current,\\n    y_current,\\n)\\nkan_model.calc_test_metric()'"
      ]
     },
     "execution_count": 8,
     "metadata": {},
     "output_type": "execute_result"
    }
   ],
   "source": [
    "\"\"\"kan_model.create_train_val_test(\n",
    "    X_current,\n",
    "    y_current,\n",
    ")\n",
    "kan_model.calc_test_metric()\"\"\""
   ]
  },
  {
   "cell_type": "code",
   "execution_count": 9,
   "id": "24dd95c0",
   "metadata": {},
   "outputs": [
    {
     "data": {
      "text/plain": [
       "'# Create directory for saving model if it doesn\\'t exist\\nos.makedirs(\\'saved_models\\', exist_ok=True)\\n\\n# Save the entire KAN model object using pickle\\nmodel_file_path = f\\'saved_models/kan_model_component_{component_num}.pkl\\'\\n\\nwith open(model_file_path, \\'wb\\') as f:\\n    pickle.dump(kan_model, f)\\n\\nprint(f\"KAN model saved to {model_file_path}\")\\n\\n# To demonstrate how to load the model\\nprint(\"\\nExample of loading the model:\")\\nprint(\"with open(\\'saved_models/kan_model_component_0.pkl\\', \\'rb\\') as f:\")\\nprint(\"    loaded_model = pickle.load(f)\")'"
      ]
     },
     "execution_count": 9,
     "metadata": {},
     "output_type": "execute_result"
    }
   ],
   "source": [
    "\"\"\"# 2. Save model state and parameters separately\n",
    "torch.save(kan_model.final_model.state_dict(), f\"{model_file_path}_state.pt\")\n",
    "\n",
    "# Save other necessary information\n",
    "model_info = {\n",
    "    \"best_params\": kan_model.best_params,\n",
    "    \"X_shape\": X_current.shape,\n",
    "    \"y_shape\": y_current.shape,\n",
    "    \"X_scaler\": kan_model.scaler_X,\n",
    "    \"y_scaler\": kan_model.scaler_y,\n",
    "}\n",
    "\n",
    "with open(f\"{model_file_path}_info.pkl\", \"wb\") as f:\n",
    "    pickle.dump(model_info, f, protocol=4)\n",
    "\n",
    "print(f\"Model saved to {model_file_path}_state.pt and {model_file_path}_info.pkl\")\n",
    "\"\"\""
   ]
  },
  {
   "cell_type": "code",
   "execution_count": 19,
   "id": "3a789d80",
   "metadata": {},
   "outputs": [
    {
     "name": "stderr",
     "output_type": "stream",
     "text": [
      "2025-05-11 16:39:37,440 - INFO - Using device: cpu\n"
     ]
    },
    {
     "ename": "AttributeError",
     "evalue": "'NoneType' object has no attribute 'load_state_dict'",
     "output_type": "error",
     "traceback": [
      "\u001b[0;31m---------------------------------------------------------------------------\u001b[0m",
      "\u001b[0;31mAttributeError\u001b[0m                            Traceback (most recent call last)",
      "Cell \u001b[0;32mIn[19], line 21\u001b[0m\n\u001b[1;32m     15\u001b[0m loaded_kan_model\u001b[38;5;241m.\u001b[39mcreate_train_val_test(\n\u001b[1;32m     16\u001b[0m     X_current,\n\u001b[1;32m     17\u001b[0m     y_current,\n\u001b[1;32m     18\u001b[0m )\n\u001b[1;32m     20\u001b[0m \u001b[38;5;66;03m# Load the state dictionary\u001b[39;00m\n\u001b[0;32m---> 21\u001b[0m \u001b[43mloaded_kan_model\u001b[49m\u001b[38;5;241;43m.\u001b[39;49m\u001b[43mmodel\u001b[49m\u001b[38;5;241;43m.\u001b[39;49m\u001b[43mload_state_dict\u001b[49m(torch\u001b[38;5;241m.\u001b[39mload(\u001b[38;5;124mf\u001b[39m\u001b[38;5;124m\"\u001b[39m\u001b[38;5;132;01m{\u001b[39;00mmodel_file_path\u001b[38;5;132;01m}\u001b[39;00m\u001b[38;5;124m_state.pt\u001b[39m\u001b[38;5;124m\"\u001b[39m))\n\u001b[1;32m     23\u001b[0m \u001b[38;5;28mprint\u001b[39m(\u001b[38;5;124m\"\u001b[39m\u001b[38;5;124mModel loaded successfully!\u001b[39m\u001b[38;5;124m\"\u001b[39m)\n\u001b[1;32m     25\u001b[0m \u001b[38;5;66;03m# Test the model if needed\u001b[39;00m\n",
      "\u001b[0;31mAttributeError\u001b[0m: 'NoneType' object has no attribute 'load_state_dict'"
     ]
    }
   ],
   "source": [
    "# Load model state and info\n",
    "model_file_path = f'saved_models/kan_model_component_{component_num}'\n",
    "\n",
    "# Check if files exist\n",
    "if os.path.exists(f\"{model_file_path}_state.pt\") and os.path.exists(f\"{model_file_path}.pkl_info.pkl\"):\n",
    "    # Load model info\n",
    "    with open(f\"{model_file_path}.pkl_info.pkl\", \"rb\") as f:\n",
    "        model_info = pickle.load(f)\n",
    "    \n",
    "    # Create a new KAN model with the same parameters\n",
    "    loaded_kan_model = KANModelTrainTest(False)\n",
    "    loaded_kan_model.best_params = model_info['best_params']\n",
    "    \n",
    "    # Create model architecture\n",
    "    loaded_kan_model.create_train_val_test(\n",
    "        X_current,\n",
    "        y_current,\n",
    "    )\n",
    "    \n",
    "    # Load the state dictionary\n",
    "    loaded_kan_model.model.load_state_dict(torch.load(f\"{model_file_path}_state.pt\"))\n",
    "    \n",
    "    print(\"Model loaded successfully!\")\n",
    "    \n",
    "    # Test the model if needed\n",
    "    import torch\n",
    "    import numpy as np\n",
    "    \n",
    "    # Get test data\n",
    "    X_test = loaded_kan_model.cur_X_test\n",
    "    y_test = loaded_kan_model.cur_y_test\n",
    "    \n",
    "    # Convert test data to tensor and move to device\n",
    "    test_tensor = torch.tensor(X_test, dtype=torch.float32).to(loaded_kan_model.device)\n",
    "    \n",
    "    # Generate predictions with loaded model\n",
    "    with torch.no_grad():\n",
    "        loaded_predictions = loaded_kan_model.final_model(test_tensor).cpu().numpy().flatten()\n",
    "    \n",
    "    # Calculate RMSE\n",
    "    rmse = np.sqrt(np.mean(np.square(loaded_predictions - y_test.flatten())))\n",
    "    print(f\"RMSE from loaded model: {rmse:.6f}\")\n",
    "else:\n",
    "    print(f\"Model files don't exist or are empty\")"
   ]
  },
  {
   "cell_type": "code",
   "execution_count": 11,
   "id": "2435d0c6",
   "metadata": {},
   "outputs": [
    {
     "ename": "EOFError",
     "evalue": "Ran out of input",
     "output_type": "error",
     "traceback": [
      "\u001b[0;31m---------------------------------------------------------------------------\u001b[0m",
      "\u001b[0;31mEOFError\u001b[0m                                  Traceback (most recent call last)",
      "Cell \u001b[0;32mIn[11], line 4\u001b[0m\n\u001b[1;32m      2\u001b[0m model_file_path \u001b[38;5;241m=\u001b[39m \u001b[38;5;124mf\u001b[39m\u001b[38;5;124m'\u001b[39m\u001b[38;5;124msaved_models/kan_model_component_\u001b[39m\u001b[38;5;132;01m{\u001b[39;00mcomponent_num\u001b[38;5;132;01m}\u001b[39;00m\u001b[38;5;124m.pkl\u001b[39m\u001b[38;5;124m'\u001b[39m\n\u001b[1;32m      3\u001b[0m \u001b[38;5;28;01mwith\u001b[39;00m \u001b[38;5;28mopen\u001b[39m(model_file_path, \u001b[38;5;124m'\u001b[39m\u001b[38;5;124mrb\u001b[39m\u001b[38;5;124m'\u001b[39m) \u001b[38;5;28;01mas\u001b[39;00m f:\n\u001b[0;32m----> 4\u001b[0m     loaded_kan_model \u001b[38;5;241m=\u001b[39m \u001b[43mpickle\u001b[49m\u001b[38;5;241;43m.\u001b[39;49m\u001b[43mload\u001b[49m\u001b[43m(\u001b[49m\u001b[43mf\u001b[49m\u001b[43m)\u001b[49m\n\u001b[1;32m      6\u001b[0m \u001b[38;5;66;03m# Test the loaded model (make predictions on test data)\u001b[39;00m\n\u001b[1;32m      7\u001b[0m \u001b[38;5;28;01mimport\u001b[39;00m\u001b[38;5;250m \u001b[39m\u001b[38;5;21;01mtorch\u001b[39;00m\n",
      "\u001b[0;31mEOFError\u001b[0m: Ran out of input"
     ]
    }
   ],
   "source": [
    "# Load the pickled KAN model (demonstration - commented out to avoid duplication)\n",
    "with open(model_file_path, 'rb') as f:\n",
    "    loaded_kan_model = pickle.load(f)\n",
    "\n",
    "# Test the loaded model (make predictions on test data)\n",
    "import torch\n",
    "import numpy as np\n",
    "\n",
    "# Get test data\n",
    "X_test = loaded_kan_model.cur_X_test\n",
    "y_test = loaded_kan_model.cur_y_test\n",
    "\n",
    "# Convert test data to tensor and move to device\n",
    "test_tensor = torch.tensor(X_test, dtype=torch.float32).to(loaded_kan_model.device)\n",
    "\n",
    "# Generate predictions with loaded model\n",
    "with torch.no_grad():\n",
    "    loaded_predictions = loaded_kan_model.final_model(test_tensor).cpu().numpy().flatten()\n",
    "\n",
    "# Calculate RMSE\n",
    "rmse = np.sqrt(np.mean(np.square(loaded_predictions - y_test.flatten())))\n",
    "print(f\"RMSE from loaded model: {rmse:.6f}\")\n",
    "\n",
    "\n",
    "# Note: In production, you can use the saved model as follows:\n",
    "\"\"\"\n",
    "from analysis_functions import opener\n",
    "\n",
    "# Load the saved model\n",
    "with open('saved_models/kan_model_component_0.pkl', 'rb') as f:\n",
    "    model = pickle.load(f)\n",
    "\n",
    "# Make predictions\n",
    "def predict(input_features):\n",
    "    # Convert input to tensor\n",
    "    tensor_input = torch.tensor(input_features, dtype=torch.float32).to(model.device)\n",
    "    \n",
    "    # Generate predictions\n",
    "    with torch.no_grad():\n",
    "        predictions = model.final_model(tensor_input).cpu().numpy()\n",
    "    \n",
    "    return predictions\n",
    "\"\"\""
   ]
  },
  {
   "cell_type": "markdown",
   "id": "bb9f5b5d",
   "metadata": {},
   "source": [
    "## Model Saving Options\n",
    "\n",
    "In this notebook, we've demonstrated saving the KAN model using pickle. There are several ways to save machine learning models:\n",
    "\n",
    "1. **Pickle (used above)**: \n",
    "n   - Pros: Saves the entire object including all methods and attributes\n",
    "   - Cons: Can be fragile across Python versions and requires the same dependencies\n",
    "\n",
    "2. **PyTorch's save/load**:\n",
    "   - Pros: More portable across PyTorch versions\n",
    "   - Cons: Only saves model parameters, not the entire object structure\n",
    "\n",
    "3. **ONNX format**:\n",
    "   - Pros: Framework-agnostic, allows deployment across platforms\n",
    "   - Cons: More complex to set up, may not preserve all KAN-specific features\n",
    "\n",
    "Choose the method that best fits your deployment needs. For research and development within the same environment, pickle is often the simplest option."
   ]
  }
 ],
 "metadata": {
  "kernelspec": {
   "display_name": ".venv",
   "language": "python",
   "name": "python3"
  },
  "language_info": {
   "codemirror_mode": {
    "name": "ipython",
    "version": 3
   },
   "file_extension": ".py",
   "mimetype": "text/x-python",
   "name": "python",
   "nbconvert_exporter": "python",
   "pygments_lexer": "ipython3",
   "version": "3.9.13"
  }
 },
 "nbformat": 4,
 "nbformat_minor": 5
}

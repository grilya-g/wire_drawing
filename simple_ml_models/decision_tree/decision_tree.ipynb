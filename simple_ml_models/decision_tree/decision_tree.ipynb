{
 "cells": [
  {
   "cell_type": "code",
   "execution_count": 13,
   "metadata": {},
   "outputs": [],
   "source": [
    "import pandas as pd\n",
    "import numpy as np\n",
    "import os\n",
    "import sys\n",
    "\n",
    "sys.path.append(\"../..\")\n",
    "from analysis_functions import RANDOM_STATE, opener, split_transform_one_comp_train_test"
   ]
  },
  {
   "cell_type": "code",
   "execution_count": 6,
   "metadata": {},
   "outputs": [
    {
     "name": "stdout",
     "output_type": "stream",
     "text": [
      "../../resourses/X_stress_components_new.pkl\n",
      "../../resourses/X_strain_components_new.pkl\n",
      "../../resourses/y_stress_components_new.pkl\n",
      "../../resourses/y_strain_components_new.pkl\n"
     ]
    }
   ],
   "source": [
    "# Загрузка данных\n",
    "X_stress_components_new = opener(\"X_stress_components_new\", path_import=\"../../resourses\")\n",
    "X_strain_components_new = opener(\"X_strain_components_new\", path_import=\"../../resourses\")\n",
    "y_stress_components_new = opener(\"y_stress_components_new\", path_import=\"../../resourses\")\n",
    "y_strain_components_new = opener(\"y_strain_components_new\", path_import=\"../../resourses\")\n",
    "# X_stress_components_other = opener('X_stress_components_other')\n",
    "# X_strain_components_other = opener('X_strain_components_other')\n",
    "# y_stress_components_other = opener('y_stress_components_other')\n",
    "# y_strain_components_other = opener('y_strain_components_other')\n"
   ]
  },
  {
   "cell_type": "code",
   "execution_count": 15,
   "metadata": {},
   "outputs": [],
   "source": [
    "component_num = 2\n",
    "\n",
    "X, y = (X_stress_components_new[component_num], \n",
    "        y_stress_components_new[component_num])"
   ]
  },
  {
   "cell_type": "code",
   "execution_count": 37,
   "metadata": {},
   "outputs": [
    {
     "name": "stdout",
     "output_type": "stream",
     "text": [
      "RMSE test: 3.63\n",
      "RMSE train: 3.41\n"
     ]
    }
   ],
   "source": [
    "from sklearn.tree import DecisionTreeRegressor\n",
    "from sklearn.metrics import root_mean_squared_error\n",
    "\n",
    "\n",
    "# Разделение данных на обучающую, валидационную и тестовую выборки\n",
    "cur_X_train, cur_X_test, cur_y_train, cur_y_test = split_transform_one_comp_train_test(\n",
    "    X, y\n",
    ")\n",
    "\n",
    "# Обучение модели\n",
    "model = DecisionTreeRegressor(\n",
    "    random_state=RANDOM_STATE, max_depth=10, min_samples_split=2\n",
    ")\n",
    "model.fit(cur_X_train, cur_y_train)\n",
    "\n",
    "# Предсказание\n",
    "cur_y_pred = model.predict(cur_X_test)\n",
    "\n",
    "# Оценка качества\n",
    "rmse = root_mean_squared_error(cur_y_test, cur_y_pred)\n",
    "print(f\"RMSE test: {rmse:.2f}\")\n",
    "\n",
    "# На трейне\n",
    "cur_y_pred_train = model.predict(cur_X_train)\n",
    "rmse_train = root_mean_squared_error(cur_y_train, cur_y_pred_train)\n",
    "print(f\"RMSE train: {rmse_train:.2f}\")"
   ]
  },
  {
   "cell_type": "code",
   "execution_count": null,
   "metadata": {},
   "outputs": [],
   "source": []
  },
  {
   "cell_type": "code",
   "execution_count": null,
   "metadata": {},
   "outputs": [],
   "source": []
  },
  {
   "cell_type": "code",
   "execution_count": null,
   "metadata": {},
   "outputs": [],
   "source": []
  }
 ],
 "metadata": {
  "kernelspec": {
   "display_name": ".venv",
   "language": "python",
   "name": "python3"
  },
  "language_info": {
   "codemirror_mode": {
    "name": "ipython",
    "version": 3
   },
   "file_extension": ".py",
   "mimetype": "text/x-python",
   "name": "python",
   "nbconvert_exporter": "python",
   "pygments_lexer": "ipython3",
   "version": "3.9.13"
  }
 },
 "nbformat": 4,
 "nbformat_minor": 2
}

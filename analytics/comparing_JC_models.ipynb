{
 "cells": [
  {
   "cell_type": "code",
   "execution_count": 1,
   "metadata": {},
   "outputs": [],
   "source": [
    "import os\n",
    "import sys\n",
    "\n",
    "sys.path.append('..')"
   ]
  },
  {
   "cell_type": "code",
   "execution_count": 3,
   "metadata": {},
   "outputs": [],
   "source": [
    "from analysis_functions import *"
   ]
  },
  {
   "cell_type": "code",
   "execution_count": 8,
   "metadata": {},
   "outputs": [
    {
     "name": "stdout",
     "output_type": "stream",
     "text": [
      "Test_J-C_2_1.txt\n",
      "Test_J-C_3_1.txt\n"
     ]
    }
   ],
   "source": [
    "example_dir = '../JC_models_files'\n",
    "data_list = []\n",
    "\n",
    "for file in os.listdir(example_dir):\n",
    "    if file.endswith('.txt'):\n",
    "        print(file)\n",
    "        data_list.append(read_data_txt_np(file, example_dir))"
   ]
  },
  {
   "cell_type": "code",
   "execution_count": 9,
   "metadata": {},
   "outputs": [
    {
     "data": {
      "text/plain": [
       "array([[ 1.00000e+00,  7.38035e-07,  1.80163e-02, ...,  2.03488e-01,\n",
       "        -9.89736e-02, -1.37316e-02],\n",
       "       [ 2.00000e+00, -2.68091e-07,  1.78924e-02, ...,  1.79483e-01,\n",
       "        -8.89627e-02, -6.61708e-03],\n",
       "       [ 3.00000e+00,  5.98404e-08,  1.77752e-02, ...,  1.43081e-01,\n",
       "        -7.20476e-02,  5.47977e-03],\n",
       "       ...,\n",
       "       [ 1.96100e+03,  1.11605e-03,  2.38049e-04, ...,  1.86186e-01,\n",
       "        -9.36166e-02,  1.37912e-02],\n",
       "       [ 1.96200e+03,  1.11417e-03,  1.19643e-04, ...,  1.76501e-01,\n",
       "        -9.60200e-02,  4.20564e-02],\n",
       "       [ 1.96300e+03,  1.10997e-03, -7.11237e-17, ...,  1.72191e-01,\n",
       "        -9.77071e-02,  5.74909e-02]])"
      ]
     },
     "execution_count": 9,
     "metadata": {},
     "output_type": "execute_result"
    }
   ],
   "source": [
    "data_list[0]"
   ]
  },
  {
   "cell_type": "code",
   "execution_count": null,
   "metadata": {},
   "outputs": [],
   "source": []
  }
 ],
 "metadata": {
  "kernelspec": {
   "display_name": ".venv",
   "language": "python",
   "name": "python3"
  },
  "language_info": {
   "codemirror_mode": {
    "name": "ipython",
    "version": 3
   },
   "file_extension": ".py",
   "mimetype": "text/x-python",
   "name": "python",
   "nbconvert_exporter": "python",
   "pygments_lexer": "ipython3",
   "version": "3.9.13"
  }
 },
 "nbformat": 4,
 "nbformat_minor": 2
}

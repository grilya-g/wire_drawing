{
 "cells": [
  {
   "cell_type": "code",
   "execution_count": 6,
   "id": "60027051",
   "metadata": {},
   "outputs": [],
   "source": [
    "import sys\n",
    "import os\n",
    "import pickle\n",
    "import torch\n",
    "import matplotlib.pyplot as plt\n",
    "import numpy as np\n",
    "import scipy.stats as stats\n",
    "from scikit_posthocs import posthoc_nemenyi\n",
    "import pandas as pd\n",
    "\n",
    "import seaborn as sns\n",
    "import joblib\n",
    "\n",
    "from kan import KAN\n",
    "from sklearn.metrics import mean_squared_error\n",
    "\n",
    "\n",
    "sys.path.append(\"../../\")\n",
    "\n",
    "from analysis_functions import (\n",
    "    test_after_opt,\n",
    "    split_transform_one_comp_cv,\n",
    "    opener,\n",
    "    KANModelTrainTest,\n",
    "    clean_input_array,\n",
    ")\n"
   ]
  },
  {
   "cell_type": "code",
   "execution_count": 7,
   "id": "2269a492",
   "metadata": {},
   "outputs": [
    {
     "name": "stdout",
     "output_type": "stream",
     "text": [
      "../../new_components_resources//X_stress_components_new_components.pkl\n",
      "../../new_components_resources//y_stress_components_new_components.pkl\n",
      "(3, 1597, 5)\n"
     ]
    }
   ],
   "source": [
    "# Load data\n",
    "X_stress_components_new = opener(\n",
    "    \"X_stress_components_new_components\", path_import=\"../../new_components_resources/\"\n",
    ")\n",
    "y_stress_components_new = opener(\n",
    "    \"y_stress_components_new_components\", path_import=\"../../new_components_resources/\"\n",
    ")\n",
    "\n",
    "print(X_stress_components_new.shape)\n",
    "\n",
    "component_num = 1\n",
    "X_current = X_stress_components_new[component_num]\n",
    "y_current = y_stress_components_new[component_num]"
   ]
  },
  {
   "cell_type": "markdown",
   "id": "eea588e4",
   "metadata": {},
   "source": [
    "Загрузка KAN"
   ]
  },
  {
   "cell_type": "code",
   "execution_count": 8,
   "id": "155ccc94",
   "metadata": {},
   "outputs": [
    {
     "name": "stderr",
     "output_type": "stream",
     "text": [
      "2025-05-11 22:07:10,599 - INFO - Using device: cpu\n"
     ]
    }
   ],
   "source": [
    "model = KAN.loadckpt(\n",
    "    \"/Users/i.grebenkin/pythonProjects/учеба/wire_drawing/ml_core_kan_components/testing_final_models/saved_models/1/model/\"\n",
    "    + \"0.1\"\n",
    ")\n",
    "kan_model = KANModelTrainTest(False)\n",
    "kan_model.model = model\n",
    "kan_model.create_train_val_test(\n",
    "    X_current,\n",
    "    y_current,\n",
    ")\n",
    "\n",
    "X_test, y_test, _, _, train_list_X, train_list_y = split_transform_one_comp_cv(\n",
    "    X_current, y_current, n_splits=1\n",
    ")\n",
    "X_test, y_test = clean_input_array(X_test, y_test)\n",
    "my_dataset = kan_model.create_dataset(\n",
    "    kan_model.train_set_X[0],\n",
    "    kan_model.train_set_y[0],\n",
    "    kan_model.cur_X_test,\n",
    "    kan_model.cur_y_test,\n",
    ")\n",
    "\n",
    "# Получаем предсказания\n",
    "\n",
    "predictions = model(my_dataset[\"test_input\"]).detach().numpy()\n",
    "truth = my_dataset[\"test_label\"].detach().numpy()\n",
    "kan_errors = np.sqrt(np.mean((truth - predictions) ** 2, axis=1))\n",
    "kan_errors = (y_test - predictions.ravel()) ** 2\n"
   ]
  },
  {
   "cell_type": "code",
   "execution_count": 9,
   "id": "51d7d243",
   "metadata": {},
   "outputs": [
    {
     "data": {
      "text/plain": [
       "array([891.30964865, 913.74030262, 744.6688412 , ..., 205.22048046,\n",
       "       234.70512739, 306.74099645])"
      ]
     },
     "execution_count": 9,
     "metadata": {},
     "output_type": "execute_result"
    }
   ],
   "source": [
    "kan_errors"
   ]
  },
  {
   "cell_type": "markdown",
   "id": "ead0c6a0",
   "metadata": {},
   "source": [
    "Загрузка MLP"
   ]
  },
  {
   "cell_type": "code",
   "execution_count": 10,
   "id": "b34c94e3",
   "metadata": {},
   "outputs": [
    {
     "name": "stdout",
     "output_type": "stream",
     "text": [
      "Model loaded from /Users/i.grebenkin/pythonProjects/учеба/wire_drawing/ml_core_mlp_compoments/testing_final_models/models/mlp_regressor_model_1.pth and set to evaluation mode.\n"
     ]
    }
   ],
   "source": [
    "input_size = 6\n",
    "output_size = 1\n",
    "\n",
    "best_mlp_params = {\n",
    "    \"n_layers\": 2,\n",
    "    \"n_units_0\": 76,\n",
    "    \"n_units_1\": 90,\n",
    "    \"activation\": \"tanh\",\n",
    "    \"learning_rate\": 0.015056225554015165,\n",
    "    \"batch_size\": 128,\n",
    "    \"optimizer\": \"LBFGS\",\n",
    "    \"max_epochs\": 186,\n",
    "}\n",
    "\n",
    "# Instantiate the model with the same architecture\n",
    "# You'll need to import your model class, e.g., from gpu_optuna import MLPNetwork\n",
    "# This assumes MLPNetwork is defined in gpu_optuna and takes these params\n",
    "# You might need to adjust this based on your actual MLPNetwork class definition\n",
    "from gpu_optuna import (\n",
    "    MLPNetwork,\n",
    "    predict_with_model,\n",
    ")\n",
    "\n",
    "mlp_model = MLPNetwork(\n",
    "    layer_sizes=[input_size]\n",
    "    + [best_mlp_params[f\"n_units_{i}\"] for i in range(best_mlp_params[\"n_layers\"])]\n",
    "    + [output_size],\n",
    "    activation=best_mlp_params[\"activation\"],\n",
    ")\n",
    "model_path = \"/Users/i.grebenkin/pythonProjects/учеба/wire_drawing/ml_core_mlp_compoments/testing_final_models/models/mlp_regressor_model_1.pth\"\n",
    "# Load the saved state dictionary\n",
    "mlp_model.load_state_dict(torch.load(model_path))\n",
    "\n",
    "# Set the model to evaluation mode (important for inference)\n",
    "mlp_model.eval()\n",
    "\n",
    "print(f\"Model loaded from {model_path} and set to evaluation mode.\")\n",
    "\n",
    "# Получаем предсказания\n",
    "\n",
    "\n",
    "# Get training data\n",
    "X_train = train_list_X[0]\n",
    "y_train = train_list_y[0]\n",
    "\n",
    "# Clean input arrays (handle NaNs, etc.)\n",
    "X_train, y_train = clean_input_array(X_train, y_train)\n",
    "X_test, y_test = clean_input_array(X_test, y_test)\n",
    "\n",
    "# Convert to PyTorch tensors\n",
    "device = \"cpu\"\n",
    "X_train_tensor = torch.FloatTensor(X_train).to(device)\n",
    "y_train_tensor = torch.FloatTensor(y_train.reshape(-1, 1)).to(device)\n",
    "X_test_tensor = torch.FloatTensor(X_test).to(device)\n",
    "y_test_tensor = torch.FloatTensor(y_test.reshape(-1, 1)).to(device)\n",
    "\n",
    "# Create standardization parameters\n",
    "mean = X_train_tensor.mean(0, keepdim=True)\n",
    "std = X_train_tensor.std(0, unbiased=False, keepdim=True)\n",
    "std[std == 0] = 1  # prevent division by zero\n",
    "\n",
    "predictions = predict_with_model(mlp_model, X_test, mean, std)\n",
    "\n",
    "mlp_errors = np.sqrt(\n",
    "    np.mean((y_test.reshape(-1, 1) - predictions) ** 2, axis=1)\n",
    ")\n",
    "\n",
    "mlp_errors = (y_test - predictions.ravel()) ** 2\n",
    "\n",
    "# mlp_errors = mean_squared_error(\n",
    "#     y_test.reshape(1, -1), predictions, multioutput=\"raw_values\"\n",
    "# )\n"
   ]
  },
  {
   "cell_type": "code",
   "execution_count": 11,
   "id": "f07e5598",
   "metadata": {},
   "outputs": [
    {
     "data": {
      "text/plain": [
       "array([23.33743724,  3.14341525, 10.09011095, ..., 10.38228586,\n",
       "       57.01426375, 92.88487729])"
      ]
     },
     "execution_count": 11,
     "metadata": {},
     "output_type": "execute_result"
    }
   ],
   "source": [
    "mlp_errors"
   ]
  },
  {
   "cell_type": "markdown",
   "id": "84ebc47f",
   "metadata": {},
   "source": [
    "Загрузка Decision Tree"
   ]
  },
  {
   "cell_type": "code",
   "execution_count": 12,
   "id": "4dab508b",
   "metadata": {},
   "outputs": [],
   "source": [
    "decision_tree_model = joblib.load(\n",
    "    \"/Users/i.grebenkin/pythonProjects/учеба/wire_drawing/simple_ml_models/new_components/1/decision_tree/best_decision_tree_model.pkl\"\n",
    ")\n",
    "\n",
    "# Predict using the best model\n",
    "cur_y_pred_best = decision_tree_model.predict(X_test)\n",
    "\n",
    "# Evaluate the best model\n",
    "dt_errors = mean_squared_error(\n",
    "    y_test.reshape(1, -1), cur_y_pred_best.reshape(1, -1), multioutput=\"raw_values\"\n",
    ")"
   ]
  },
  {
   "cell_type": "code",
   "execution_count": 13,
   "id": "23ae20d6",
   "metadata": {},
   "outputs": [
    {
     "data": {
      "text/plain": [
       "array([2.96115264e-02, 4.40630440e-01, 9.30067360e-03, ...,\n",
       "       8.36623822e+01, 6.33392989e+02, 2.49655800e+00])"
      ]
     },
     "execution_count": 13,
     "metadata": {},
     "output_type": "execute_result"
    }
   ],
   "source": [
    "dt_errors"
   ]
  },
  {
   "cell_type": "markdown",
   "id": "e7a3ebc6",
   "metadata": {},
   "source": [
    "Загрузка Gradient Boosting"
   ]
  },
  {
   "cell_type": "code",
   "execution_count": 14,
   "id": "39a78e79",
   "metadata": {},
   "outputs": [],
   "source": [
    "from sklearn.ensemble import GradientBoostingRegressor\n",
    "import pickle\n",
    "\n",
    "# Load the best model\n",
    "gradient_boosting_model = joblib.load(\n",
    "    \"/Users/i.grebenkin/pythonProjects/учеба/wire_drawing/simple_ml_models/new_components/1/gradient_boosting/best_gradient_boosting_model.pkl\"\n",
    ")\n",
    "\n",
    "# Predict using the best model\n",
    "cur_y_pred_best = gradient_boosting_model.predict(X_test)\n",
    "# Evaluate the best model\n",
    "# gb_errors = np.sqrt(\n",
    "#     np.mean((y_test.reshape(1, -1) - cur_y_pred_best.reshape(1, -1)) ** 2, axis=0)\n",
    "# )\n",
    "gb_errors = mean_squared_error(\n",
    "    y_test.reshape(1, -1), cur_y_pred_best.reshape(1, -1), multioutput=\"raw_values\"\n",
    ")\n",
    "\n"
   ]
  },
  {
   "cell_type": "code",
   "execution_count": 15,
   "id": "958e5406",
   "metadata": {},
   "outputs": [
    {
     "data": {
      "text/plain": [
       "array([  0.99881786,  10.78787981,   5.32834014, ...,  81.98836791,\n",
       "       147.75078227, 101.98626628])"
      ]
     },
     "execution_count": 15,
     "metadata": {},
     "output_type": "execute_result"
    }
   ],
   "source": [
    "gb_errors"
   ]
  },
  {
   "cell_type": "code",
   "execution_count": 16,
   "id": "b1baedb5",
   "metadata": {},
   "outputs": [
    {
     "name": "stdout",
     "output_type": "stream",
     "text": [
      "Статистика Фридмана: 3635.2750\n",
      "p-значение: 0.000000\n"
     ]
    }
   ],
   "source": [
    "# Соберите ошибки всех доступных моделей в DataFrame\n",
    "errors_df = pd.DataFrame({\n",
    "    'KAN': kan_errors,\n",
    "    'MLP': mlp_errors,\n",
    "    'Decision Tree': dt_errors,\n",
    "    'Gradient Boosting': gb_errors\n",
    "})\n",
    "\n",
    "# Проведение теста Фридмана\n",
    "friedman_stat, p_value = stats.friedmanchisquare(\n",
    "    errors_df['KAN'], \n",
    "    errors_df['MLP'], \n",
    "    errors_df['Decision Tree'],\n",
    "    errors_df['Gradient Boosting']\n",
    ")\n",
    "\n",
    "print(f\"Статистика Фридмана: {friedman_stat:.4f}\")\n",
    "print(f\"p-значение: {p_value:.6f}\")"
   ]
  },
  {
   "cell_type": "code",
   "execution_count": 17,
   "id": "040ae5c7",
   "metadata": {},
   "outputs": [],
   "source": [
    "# save errors_df\n",
    "errors_df.to_csv(\n",
    "    \"errors_df_2.csv\",\n",
    "    index=False,\n",
    ")"
   ]
  },
  {
   "cell_type": "markdown",
   "id": "379a669c",
   "metadata": {},
   "source": [
    "## Тест Неменьи (Post-hoc анализ)\n",
    "\n",
    "Если тест Фридмана показывает статистически значимую разницу между моделями (p-значение < 0.05), необходимо выполнить post-hoc анализ для определения, какие конкретные пары моделей отличаются друг от друга. Для этого используется тест Неменьи."
   ]
  },
  {
   "cell_type": "code",
   "execution_count": 18,
   "id": "849fe143",
   "metadata": {},
   "outputs": [
    {
     "name": "stdout",
     "output_type": "stream",
     "text": [
      "Результаты теста Неменьи (p-значения для попарных сравнений):\n",
      "     0    1         2         3\n",
      "0  1.0  0.0  0.000000  0.000000\n",
      "1  0.0  1.0  0.000000  0.000000\n",
      "2  0.0  0.0  1.000000  0.655777\n",
      "3  0.0  0.0  0.655777  1.000000\n"
     ]
    },
    {
     "data": {
      "image/png": "[encoded data removed]",
      "text/plain": [
       "<Figure size 1000x800 with 2 Axes>"
      ]
     },
     "metadata": {},
     "output_type": "display_data"
    }
   ],
   "source": [
    "from scikit_posthocs import posthoc_nemenyi_friedman\n",
    "\n",
    "# Преобразуем DataFrame в массив numpy для использования с posthoc_nemenyi_friedman\n",
    "# Данные должны иметь форму: строки - блоки (тестовые образцы), столбцы - группы (модели)\n",
    "errors_array = errors_df.values\n",
    "\n",
    "# Проведение теста Неменьи\n",
    "nemenyi_result = posthoc_nemenyi_friedman(errors_array)\n",
    "\n",
    "print(\"Результаты теста Неменьи (p-значения для попарных сравнений):\")\n",
    "print(nemenyi_result)\n",
    "\n",
    "# Визуализация результатов теста Неменьи с помощью тепловой карты\n",
    "plt.figure(figsize=(10, 8))\n",
    "sns.heatmap(nemenyi_result, annot=True, cmap='coolwarm', fmt='.4f', \n",
    "            xticklabels=errors_df.columns, yticklabels=errors_df.columns)\n",
    "plt.title('Результаты теста Неменьи (p-значения)')\n",
    "plt.tight_layout()\n",
    "plt.show()"
   ]
  },
  {
   "cell_type": "code",
   "execution_count": 19,
   "id": "53a82c15",
   "metadata": {},
   "outputs": [
    {
     "name": "stdout",
     "output_type": "stream",
     "text": [
      "Интерпретация попарных сравнений (уровень значимости α=0.05):\n"
     ]
    },
    {
     "data": {
      "text/html": [
       "<div>\n",
       "<style scoped>\n",
       "    .dataframe tbody tr th:only-of-type {\n",
       "        vertical-align: middle;\n",
       "    }\n",
       "\n",
       "    .dataframe tbody tr th {\n",
       "        vertical-align: top;\n",
       "    }\n",
       "\n",
       "    .dataframe thead th {\n",
       "        text-align: right;\n",
       "    }\n",
       "</style>\n",
       "<table border=\"1\" class=\"dataframe\">\n",
       "  <thead>\n",
       "    <tr style=\"text-align: right;\">\n",
       "      <th></th>\n",
       "      <th>KAN</th>\n",
       "      <th>MLP</th>\n",
       "      <th>Decision Tree</th>\n",
       "      <th>Gradient Boosting</th>\n",
       "    </tr>\n",
       "  </thead>\n",
       "  <tbody>\n",
       "    <tr>\n",
       "      <th>KAN</th>\n",
       "      <td>-</td>\n",
       "      <td>Значимо (p=0.0000)</td>\n",
       "      <td>Значимо (p=0.0000)</td>\n",
       "      <td>Значимо (p=0.0000)</td>\n",
       "    </tr>\n",
       "    <tr>\n",
       "      <th>MLP</th>\n",
       "      <td>Значимо (p=0.0000)</td>\n",
       "      <td>-</td>\n",
       "      <td>Значимо (p=0.0000)</td>\n",
       "      <td>Значимо (p=0.0000)</td>\n",
       "    </tr>\n",
       "    <tr>\n",
       "      <th>Decision Tree</th>\n",
       "      <td>Значимо (p=0.0000)</td>\n",
       "      <td>Значимо (p=0.0000)</td>\n",
       "      <td>-</td>\n",
       "      <td>Не значимо (p=0.6558)</td>\n",
       "    </tr>\n",
       "    <tr>\n",
       "      <th>Gradient Boosting</th>\n",
       "      <td>Значимо (p=0.0000)</td>\n",
       "      <td>Значимо (p=0.0000)</td>\n",
       "      <td>Не значимо (p=0.6558)</td>\n",
       "      <td>-</td>\n",
       "    </tr>\n",
       "  </tbody>\n",
       "</table>\n",
       "</div>"
      ],
      "text/plain": [
       "                                  KAN                 MLP  \\\n",
       "KAN                                 -  Значимо (p=0.0000)   \n",
       "MLP                Значимо (p=0.0000)                   -   \n",
       "Decision Tree      Значимо (p=0.0000)  Значимо (p=0.0000)   \n",
       "Gradient Boosting  Значимо (p=0.0000)  Значимо (p=0.0000)   \n",
       "\n",
       "                           Decision Tree      Gradient Boosting  \n",
       "KAN                   Значимо (p=0.0000)     Значимо (p=0.0000)  \n",
       "MLP                   Значимо (p=0.0000)     Значимо (p=0.0000)  \n",
       "Decision Tree                          -  Не значимо (p=0.6558)  \n",
       "Gradient Boosting  Не значимо (p=0.6558)                      -  "
      ]
     },
     "execution_count": 19,
     "metadata": {},
     "output_type": "execute_result"
    }
   ],
   "source": [
    "# Интерпретация результатов\n",
    "alpha = 0.05  # Уровень значимости\n",
    "\n",
    "# Создаем DataFrame для хранения результатов сравнения\n",
    "comparison_results = pd.DataFrame(index=errors_df.columns, columns=errors_df.columns)\n",
    "\n",
    "# Заполняем DataFrame результатами\n",
    "for i in range(len(errors_df.columns)):\n",
    "    for j in range(len(errors_df.columns)):\n",
    "        model_i = errors_df.columns[i]\n",
    "        model_j = errors_df.columns[j]\n",
    "        p_value = nemenyi_result.iloc[i, j]\n",
    "        \n",
    "        if i == j:  # Диагональ - сравнение модели с самой собой\n",
    "            comparison_results.loc[model_i, model_j] = '-'\n",
    "        else:\n",
    "            if p_value < alpha:\n",
    "                comparison_results.loc[model_i, model_j] = f'Значимо (p={p_value:.4f})'\n",
    "            else:\n",
    "                comparison_results.loc[model_i, model_j] = f'Не значимо (p={p_value:.4f})'\n",
    "\n",
    "print(\"Интерпретация попарных сравнений (уровень значимости α=0.05):\")\n",
    "comparison_results"
   ]
  },
  {
   "cell_type": "markdown",
   "id": "4d4a5134",
   "metadata": {},
   "source": [
    "## Интерпретация результатов\n",
    "\n",
    "При интерпретации результатов теста Неменьи:\n",
    "\n",
    "1. **p-значение < 0.05** означает, что между двумя моделями существует статистически значимое различие в точности (ошибке предсказания).\n",
    "\n",
    "2. **p-значение ≥ 0.05** означает, что нет статистически значимых доказательств различия в точности моделей.\n",
    "\n",
    "Тепловая карта выше позволяет визуально интерпретировать эти результаты, где более тёмные цвета соответствуют более низким p-значениям (т.е. более значимым различиям)."
   ]
  },
  {
   "cell_type": "code",
   "execution_count": null,
   "id": "7832feef",
   "metadata": {},
   "outputs": [],
   "source": []
  },
  {
   "cell_type": "code",
   "execution_count": 20,
   "id": "04a1bcd2",
   "metadata": {},
   "outputs": [
    {
     "name": "stdout",
     "output_type": "stream",
     "text": [
      "Средние ошибки моделей (по возрастанию):\n",
      "MLP: 46.526022\n",
      "Gradient Boosting: 46.528393\n",
      "Decision Tree: 51.071616\n",
      "KAN: 247.590812\n"
     ]
    },
    {
     "data": {
      "image/png": "[encoded data removed]",
      "text/plain": [
       "<Figure size 1000x600 with 1 Axes>"
      ]
     },
     "metadata": {},
     "output_type": "display_data"
    }
   ],
   "source": [
    "# Рассчитаем средние ошибки для каждой модели и ранжируем их\n",
    "mean_errors = errors_df.mean().sort_values()\n",
    "print(\"Средние ошибки моделей (по возрастанию):\")\n",
    "for model, error in mean_errors.items():\n",
    "    print(f\"{model}: {error:.6f}\")\n",
    "\n",
    "# Визуализация средних ошибок\n",
    "plt.figure(figsize=(10, 6))\n",
    "sns.barplot(x=mean_errors.index, y=mean_errors.values)\n",
    "plt.title('Сравнение средних ошибок моделей')\n",
    "plt.ylabel('MSE')\n",
    "plt.xticks(rotation=45)\n",
    "plt.tight_layout()\n",
    "plt.show()"
   ]
  },
  {
   "cell_type": "markdown",
   "id": "7727325d",
   "metadata": {},
   "source": [
    "## Выводы\n",
    "\n",
    "1. Тест Фридмана показывает, есть ли статистически значимые различия между всеми моделями в целом.\n",
    "\n",
    "2. Тест Неменьи (post-hoc) определяет, между какими конкретно парами моделей существуют значимые различия.\n",
    "\n",
    "3. Сравнение средних ошибок позволяет ранжировать модели по точности и выбрать лучшую для данной задачи.\n",
    "\n",
    "Эти статистические тесты помогают обосновать выбор модели не только на основе средних показателей ошибок, но и с учетом статистической значимости различий между моделями."
   ]
  },
  {
   "cell_type": "markdown",
   "id": "697d46aa",
   "metadata": {},
   "source": []
  }
 ],
 "metadata": {
  "kernelspec": {
   "display_name": ".venv",
   "language": "python",
   "name": "python3"
  },
  "language_info": {
   "codemirror_mode": {
    "name": "ipython",
    "version": 3
   },
   "file_extension": ".py",
   "mimetype": "text/x-python",
   "name": "python",
   "nbconvert_exporter": "python",
   "pygments_lexer": "ipython3",
   "version": "3.9.13"
  }
 },
 "nbformat": 4,
 "nbformat_minor": 5
}

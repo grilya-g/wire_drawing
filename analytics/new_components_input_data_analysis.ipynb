{
 "cells": [
  {
   "cell_type": "code",
   "execution_count": 1,
   "id": "2484f96f",
   "metadata": {},
   "outputs": [],
   "source": [
    "import sys\n",
    "\n",
    "sys.path.append('..')\n",
    "\n",
    "from analysis_functions import opener, plot_result_stress_avr_v"
   ]
  },
  {
   "cell_type": "code",
   "execution_count": 2,
   "id": "cbc6c2af",
   "metadata": {},
   "outputs": [
    {
     "name": "stdout",
     "output_type": "stream",
     "text": [
      "../new_components_resources/y_stress_components_new_components.pkl\n",
      "../new_components_resources/X_stress_components_new_components.pkl\n"
     ]
    },
    {
     "data": {
      "text/plain": [
       "array([[[-4.4838900e+00, -4.6648200e+00, -3.9275800e+00, ...,\n",
       "          1.0062235e+01,  1.6692000e+01,  1.9983250e+01],\n",
       "        [ 3.1049580e-01,  2.6944550e+00,  3.6652100e+00, ...,\n",
       "          1.4536800e+02,  2.0171400e+02,  2.1994700e+02],\n",
       "        [-1.6233100e+02, -1.5641400e+02, -1.3972000e+02, ...,\n",
       "          1.0349400e+02,  1.4705400e+02,  1.7695800e+02],\n",
       "        ...,\n",
       "        [-1.1338300e+02, -1.1034900e+02, -1.0201600e+02, ...,\n",
       "          7.0313400e+01,  8.6579450e+01,  9.4609850e+01],\n",
       "        [-3.1758900e+01, -2.9374800e+01, -2.6376000e+01, ...,\n",
       "          1.5223350e+02,  1.8898550e+02,  2.0262600e+02],\n",
       "        [-1.5728000e+02, -1.5189800e+02, -1.3622100e+02, ...,\n",
       "          1.1810800e+02,  1.4867300e+02,  1.6416700e+02]],\n",
       "\n",
       "       [[-8.6263400e+00, -7.0654100e+00, -5.1181900e+00, ...,\n",
       "         -7.1217650e-01, -3.3451800e-01,  9.0443250e-02],\n",
       "        [-2.0439050e+00, -4.6523100e-01,  9.7061350e-01, ...,\n",
       "          3.2932800e+01,  1.1185900e+02,  1.4207500e+02],\n",
       "        [-1.6483100e+02, -1.6210100e+02, -1.5527100e+02, ...,\n",
       "          9.6663300e+01,  1.2949000e+02,  1.4710300e+02],\n",
       "        ...,\n",
       "        [-1.1857700e+02, -1.1597700e+02, -1.1142800e+02, ...,\n",
       "          4.2605650e+01,  5.3163050e+01,  5.5607800e+01],\n",
       "        [-3.5046100e+01, -3.2813300e+01, -3.0504800e+01, ...,\n",
       "          1.0708350e+02,  1.6632900e+02,  1.8905600e+02],\n",
       "        [-1.6119700e+02, -1.5784500e+02, -1.5110200e+02, ...,\n",
       "          1.0465300e+02,  1.2920900e+02,  1.3901200e+02]],\n",
       "\n",
       "       [[-2.7368000e+01, -2.5870600e+01, -2.3752700e+01, ...,\n",
       "         -8.2469950e+00, -4.4684500e+00, -4.6123450e+00],\n",
       "        [-1.9379100e+02, -1.9325250e+02, -1.9157200e+02, ...,\n",
       "         -1.5854300e+01, -7.4650700e+00, -3.8097800e+00],\n",
       "        [-3.7478700e+02, -3.7127500e+02, -3.6018000e+02, ...,\n",
       "         -1.7992000e+01, -9.6545600e+00, -5.0724000e+00],\n",
       "        ...,\n",
       "        [-2.8149900e+02, -2.7830600e+02, -2.6342600e+02, ...,\n",
       "         -1.0320000e+01, -5.3294350e+00, -2.6707800e+00],\n",
       "        [-2.1819600e+02, -2.1903200e+02, -2.1954000e+02, ...,\n",
       "         -1.9553350e+01, -1.0528650e+01, -5.6029200e+00],\n",
       "        [-3.7330900e+02, -3.7009900e+02, -3.6012500e+02, ...,\n",
       "         -1.8280200e+01, -9.3142700e+00, -4.6949600e+00]]])"
      ]
     },
     "execution_count": 2,
     "metadata": {},
     "output_type": "execute_result"
    }
   ],
   "source": [
    "y_stress_components_new_components = opener(\n",
    "    \"y_stress_components_new_components\", \"../new_components_resources\"\n",
    ")\n",
    "\n",
    "X_stress_components_new_components = opener(\n",
    "    \"X_stress_components_new_components\", \"../new_components_resources\"\n",
    ")\n",
    "\n",
    "y_stress_components_new_components"
   ]
  },
  {
   "cell_type": "code",
   "execution_count": 3,
   "id": "fcb27a74",
   "metadata": {},
   "outputs": [
    {
     "name": "stdout",
     "output_type": "stream",
     "text": [
      "Type of y_stress_components_new_components: <class 'numpy.ndarray'>\n",
      "All values are finite numbers: True\n",
      "Total values checked: 95820\n"
     ]
    }
   ],
   "source": [
    "# Check if all values in y_stress_components_new_components are finite numbers\n",
    "import numpy as np\n",
    "import pandas as pd\n",
    "\n",
    "# First, understand the data structure\n",
    "print(\n",
    "    f\"Type of y_stress_components_new_components: {type(y_stress_components_new_components)}\"\n",
    ")\n",
    "\n",
    "\n",
    "# Function to check if a value is a finite number\n",
    "def is_finite_number(val):\n",
    "    if pd.isna(val):  # Check for NaN/None values\n",
    "        return False\n",
    "    try:\n",
    "        float_val = float(val)\n",
    "        return np.isfinite(float_val)  # Check if the value is finite (not inf or -inf)\n",
    "    except (ValueError, TypeError):\n",
    "        return False\n",
    "\n",
    "\n",
    "# Initialize variables to store results\n",
    "all_finite = True\n",
    "non_finite_values = []\n",
    "total_values = 0\n",
    "\n",
    "# Check all values based on data structure type\n",
    "if isinstance(y_stress_components_new_components, (list, tuple, np.ndarray)):\n",
    "    flat_data = np.array(y_stress_components_new_components).flatten()\n",
    "    all_finite = all(is_finite_number(val) for val in flat_data)\n",
    "    non_finite_values = [\n",
    "        (i, val) for i, val in enumerate(flat_data) if not is_finite_number(val)\n",
    "    ]\n",
    "    total_values = len(flat_data)\n",
    "\n",
    "elif isinstance(y_stress_components_new_components, pd.DataFrame):\n",
    "    total_values = y_stress_components_new_components.size\n",
    "    for col in y_stress_components_new_components.columns:\n",
    "        for idx, val in y_stress_components_new_components[col].items():\n",
    "            if not is_finite_number(val):\n",
    "                all_finite = False\n",
    "                non_finite_values.append((col, idx, val))\n",
    "                if len(non_finite_values) >= 5:  # Limit examples\n",
    "                    break\n",
    "\n",
    "elif isinstance(y_stress_components_new_components, dict):\n",
    "    total_values = len(y_stress_components_new_components)\n",
    "    non_finite_values = [\n",
    "        (k, v)\n",
    "        for k, v in y_stress_components_new_components.items()\n",
    "        if not is_finite_number(v)\n",
    "    ]\n",
    "    all_finite = len(non_finite_values) == 0\n",
    "\n",
    "print(f\"All values are finite numbers: {all_finite}\")\n",
    "print(f\"Total values checked: {total_values}\")\n",
    "\n",
    "# Show examples of non-finite values if any\n",
    "if not all_finite:\n",
    "    print(f\"Examples of non-finite values (up to 5): {non_finite_values[:5]}\")\n",
    "    print(f\"Total non-finite values: {len(non_finite_values)}\")"
   ]
  },
  {
   "cell_type": "code",
   "execution_count": null,
   "id": "f868df5f",
   "metadata": {},
   "outputs": [],
   "source": []
  },
  {
   "cell_type": "code",
   "execution_count": null,
   "id": "0d455b19",
   "metadata": {},
   "outputs": [],
   "source": []
  }
 ],
 "metadata": {
  "kernelspec": {
   "display_name": ".venv",
   "language": "python",
   "name": "python3"
  },
  "language_info": {
   "codemirror_mode": {
    "name": "ipython",
    "version": 3
   },
   "file_extension": ".py",
   "mimetype": "text/x-python",
   "name": "python",
   "nbconvert_exporter": "python",
   "pygments_lexer": "ipython3",
   "version": "3.9.13"
  }
 },
 "nbformat": 4,
 "nbformat_minor": 5
}
